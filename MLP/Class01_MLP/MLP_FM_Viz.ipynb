{
 "cells": [
  {
   "cell_type": "code",
   "execution_count": 31,
   "id": "ac70d6ec-3389-43e6-bb93-78af240f8cc4",
   "metadata": {},
   "outputs": [],
   "source": [
    "# Cell 1: Load and convert Fashion MNIST dataset to a DataFrame\n",
    "import torch\n",
    "import torch.nn as nn\n",
    "from torchvision import datasets, transforms\n",
    "import pandas as pd\n",
    "import matplotlib.pyplot as plt\n",
    "import numpy as np\n",
    "from sklearn.model_selection import train_test_split\n",
    "from torch.utils.data import Dataset, DataLoader\n",
    "from sklearn.metrics import confusion_matrix, ConfusionMatrixDisplay\n",
    "from torch.utils.data import DataLoader, TensorDataset\n",
    "from torch.utils.tensorboard import SummaryWriter\n",
    "from torchvision.utils import make_grid\n",
    "from sklearn.manifold import TSNE"
   ]
  },
  {
   "cell_type": "markdown",
   "id": "cbe74fb9-6c45-4390-aa03-a4e82f2bb697",
   "metadata": {},
   "source": [
    "### Pretend we are NOT doing this - imagine it being you donwloading data from the internet"
   ]
  },
  {
   "cell_type": "code",
   "execution_count": 2,
   "id": "60335a3c-850c-4e7e-bca7-bb09d0784006",
   "metadata": {},
   "outputs": [],
   "source": [
    "# Download and load the Fashion MNIST dataset\n",
    "transform = transforms.ToTensor()  # Transform the data into tensors\n",
    "full_dataset = datasets.FashionMNIST(root=\"./data\", train=True, download=True, transform=transform)"
   ]
  },
  {
   "cell_type": "code",
   "execution_count": 3,
   "id": "e8c049b7-046a-46c1-af9a-f14eef3ba87a",
   "metadata": {},
   "outputs": [
    {
     "name": "stdout",
     "output_type": "stream",
     "text": [
      "Train DataFrame:\n",
      "       pixel_0  pixel_1  pixel_2  pixel_3  pixel_4  pixel_5  pixel_6  \\\n",
      "48572      0.0      0.0      0.0      0.0      0.0      0.0      0.0   \n",
      "38696      0.0      0.0      0.0      0.0      0.0      0.0      0.0   \n",
      "13611      0.0      0.0      0.0      0.0      0.0      0.0      0.0   \n",
      "35213      0.0      0.0      0.0      0.0      0.0      0.0      0.0   \n",
      "31766      0.0      0.0      0.0      0.0      0.0      0.0      0.0   \n",
      "\n",
      "        pixel_7   pixel_8   pixel_9  ...  pixel_775  pixel_776  pixel_777  \\\n",
      "48572  0.000000  0.000000  0.000000  ...   0.000000   0.000000   0.000000   \n",
      "38696  0.000000  0.000000  0.000000  ...   0.003922   0.000000   0.000000   \n",
      "13611  0.000000  0.000000  0.000000  ...   0.000000   0.000000   0.000000   \n",
      "35213  0.000000  0.000000  0.011765  ...   0.501961   0.576471   0.658824   \n",
      "31766  0.011765  0.223529  0.368627  ...   0.000000   0.000000   0.000000   \n",
      "\n",
      "       pixel_778  pixel_779  pixel_780  pixel_781  pixel_782  pixel_783  label  \n",
      "48572   0.000000   0.000000   0.000000        0.0        0.0        0.0      7  \n",
      "38696   0.000000   0.000000   0.000000        0.0        0.0        0.0      3  \n",
      "13611   0.000000   0.000000   0.000000        0.0        0.0        0.0      5  \n",
      "35213   0.505882   0.000000   0.000000        0.0        0.0        0.0      8  \n",
      "31766   0.470588   0.419608   0.109804        0.0        0.0        0.0      6  \n",
      "\n",
      "[5 rows x 785 columns]\n",
      "\n",
      "Test DataFrame:\n",
      "       pixel_0  pixel_1  pixel_2  pixel_3  pixel_4  pixel_5  pixel_6  \\\n",
      "12628      0.0      0.0      0.0      0.0      0.0      0.0      0.0   \n",
      "37730      0.0      0.0      0.0      0.0      0.0      0.0      0.0   \n",
      "39991      0.0      0.0      0.0      0.0      0.0      0.0      0.0   \n",
      "8525       0.0      0.0      0.0      0.0      0.0      0.0      0.0   \n",
      "8279       0.0      0.0      0.0      0.0      0.0      0.0      0.0   \n",
      "\n",
      "        pixel_7  pixel_8   pixel_9  ...  pixel_775  pixel_776  pixel_777  \\\n",
      "12628  0.000000      0.0  0.000000  ...        0.0   0.000000   0.000000   \n",
      "37730  0.000000      0.0  0.000000  ...        0.0   0.000000   0.000000   \n",
      "39991  0.000000      0.0  0.000000  ...        0.0   0.000000   0.000000   \n",
      "8525   0.003922      0.0  0.003922  ...        0.0   0.113725   0.533333   \n",
      "8279   0.000000      0.0  0.000000  ...        0.0   0.000000   0.000000   \n",
      "\n",
      "       pixel_778  pixel_779  pixel_780  pixel_781  pixel_782  pixel_783  label  \n",
      "12628   0.000000        0.0        0.0        0.0        0.0        0.0      8  \n",
      "37730   0.000000        0.0        0.0        0.0        0.0        0.0      8  \n",
      "39991   0.000000        0.0        0.0        0.0        0.0        0.0      7  \n",
      "8525    0.411765        0.0        0.0        0.0        0.0        0.0      4  \n",
      "8279    0.000000        0.0        0.0        0.0        0.0        0.0      8  \n",
      "\n",
      "[5 rows x 785 columns]\n"
     ]
    }
   ],
   "source": [
    "# Convert the dataset to a DataFrame\n",
    "# Each image is a 28x28 array, flatten it into a single row\n",
    "data_list = []\n",
    "for image, label in full_dataset:\n",
    "    flat_image = image.view(-1).numpy()  # Flatten the 28x28 image into a 1D array\n",
    "    data_list.append([*flat_image, label])\n",
    "\n",
    "# Create a DataFrame\n",
    "columns = [f\"pixel_{i}\" for i in range(28 * 28)] + [\"label\"]\n",
    "full_df = pd.DataFrame(data_list, columns=columns)\n",
    "\n",
    "# Split the DataFrame into train and test sets\n",
    "train_df, test_df = train_test_split(full_df, test_size=0.2, random_state=42)\n",
    "\n",
    "# Display the first few rows of each DataFrame\n",
    "print(\"Train DataFrame:\")\n",
    "print(train_df.head())\n",
    "print(\"\\nTest DataFrame:\")\n",
    "print(test_df.head())"
   ]
  },
  {
   "cell_type": "markdown",
   "id": "af516a95-6008-4f17-a255-73435ea77347",
   "metadata": {},
   "source": [
    "### Let's start here by examining the data"
   ]
  },
  {
   "cell_type": "code",
   "execution_count": 4,
   "id": "25bf2cf1-bc6a-46d6-a288-671e7b535b21",
   "metadata": {},
   "outputs": [
    {
     "data": {
      "text/html": [
       "<div>\n",
       "<style scoped>\n",
       "    .dataframe tbody tr th:only-of-type {\n",
       "        vertical-align: middle;\n",
       "    }\n",
       "\n",
       "    .dataframe tbody tr th {\n",
       "        vertical-align: top;\n",
       "    }\n",
       "\n",
       "    .dataframe thead th {\n",
       "        text-align: right;\n",
       "    }\n",
       "</style>\n",
       "<table border=\"1\" class=\"dataframe\">\n",
       "  <thead>\n",
       "    <tr style=\"text-align: right;\">\n",
       "      <th></th>\n",
       "      <th>pixel_0</th>\n",
       "      <th>pixel_1</th>\n",
       "      <th>pixel_2</th>\n",
       "      <th>pixel_3</th>\n",
       "      <th>pixel_4</th>\n",
       "      <th>pixel_5</th>\n",
       "      <th>pixel_6</th>\n",
       "      <th>pixel_7</th>\n",
       "      <th>pixel_8</th>\n",
       "      <th>pixel_9</th>\n",
       "      <th>...</th>\n",
       "      <th>pixel_775</th>\n",
       "      <th>pixel_776</th>\n",
       "      <th>pixel_777</th>\n",
       "      <th>pixel_778</th>\n",
       "      <th>pixel_779</th>\n",
       "      <th>pixel_780</th>\n",
       "      <th>pixel_781</th>\n",
       "      <th>pixel_782</th>\n",
       "      <th>pixel_783</th>\n",
       "      <th>label</th>\n",
       "    </tr>\n",
       "  </thead>\n",
       "  <tbody>\n",
       "    <tr>\n",
       "      <th>0</th>\n",
       "      <td>0.0</td>\n",
       "      <td>0.0</td>\n",
       "      <td>0.0</td>\n",
       "      <td>0.0</td>\n",
       "      <td>0.0</td>\n",
       "      <td>0.000000</td>\n",
       "      <td>0.0</td>\n",
       "      <td>0.0</td>\n",
       "      <td>0.000000</td>\n",
       "      <td>0.000000</td>\n",
       "      <td>...</td>\n",
       "      <td>0.000000</td>\n",
       "      <td>0.000000</td>\n",
       "      <td>0.000000</td>\n",
       "      <td>0.0</td>\n",
       "      <td>0.0</td>\n",
       "      <td>0.0</td>\n",
       "      <td>0.0</td>\n",
       "      <td>0.0</td>\n",
       "      <td>0.0</td>\n",
       "      <td>9</td>\n",
       "    </tr>\n",
       "    <tr>\n",
       "      <th>1</th>\n",
       "      <td>0.0</td>\n",
       "      <td>0.0</td>\n",
       "      <td>0.0</td>\n",
       "      <td>0.0</td>\n",
       "      <td>0.0</td>\n",
       "      <td>0.003922</td>\n",
       "      <td>0.0</td>\n",
       "      <td>0.0</td>\n",
       "      <td>0.000000</td>\n",
       "      <td>0.000000</td>\n",
       "      <td>...</td>\n",
       "      <td>0.447059</td>\n",
       "      <td>0.509804</td>\n",
       "      <td>0.298039</td>\n",
       "      <td>0.0</td>\n",
       "      <td>0.0</td>\n",
       "      <td>0.0</td>\n",
       "      <td>0.0</td>\n",
       "      <td>0.0</td>\n",
       "      <td>0.0</td>\n",
       "      <td>0</td>\n",
       "    </tr>\n",
       "    <tr>\n",
       "      <th>2</th>\n",
       "      <td>0.0</td>\n",
       "      <td>0.0</td>\n",
       "      <td>0.0</td>\n",
       "      <td>0.0</td>\n",
       "      <td>0.0</td>\n",
       "      <td>0.000000</td>\n",
       "      <td>0.0</td>\n",
       "      <td>0.0</td>\n",
       "      <td>0.000000</td>\n",
       "      <td>0.086275</td>\n",
       "      <td>...</td>\n",
       "      <td>0.000000</td>\n",
       "      <td>0.003922</td>\n",
       "      <td>0.000000</td>\n",
       "      <td>0.0</td>\n",
       "      <td>0.0</td>\n",
       "      <td>0.0</td>\n",
       "      <td>0.0</td>\n",
       "      <td>0.0</td>\n",
       "      <td>0.0</td>\n",
       "      <td>0</td>\n",
       "    </tr>\n",
       "    <tr>\n",
       "      <th>3</th>\n",
       "      <td>0.0</td>\n",
       "      <td>0.0</td>\n",
       "      <td>0.0</td>\n",
       "      <td>0.0</td>\n",
       "      <td>0.0</td>\n",
       "      <td>0.000000</td>\n",
       "      <td>0.0</td>\n",
       "      <td>0.0</td>\n",
       "      <td>0.129412</td>\n",
       "      <td>0.376471</td>\n",
       "      <td>...</td>\n",
       "      <td>0.000000</td>\n",
       "      <td>0.000000</td>\n",
       "      <td>0.000000</td>\n",
       "      <td>0.0</td>\n",
       "      <td>0.0</td>\n",
       "      <td>0.0</td>\n",
       "      <td>0.0</td>\n",
       "      <td>0.0</td>\n",
       "      <td>0.0</td>\n",
       "      <td>3</td>\n",
       "    </tr>\n",
       "    <tr>\n",
       "      <th>4</th>\n",
       "      <td>0.0</td>\n",
       "      <td>0.0</td>\n",
       "      <td>0.0</td>\n",
       "      <td>0.0</td>\n",
       "      <td>0.0</td>\n",
       "      <td>0.000000</td>\n",
       "      <td>0.0</td>\n",
       "      <td>0.0</td>\n",
       "      <td>0.000000</td>\n",
       "      <td>0.000000</td>\n",
       "      <td>...</td>\n",
       "      <td>0.000000</td>\n",
       "      <td>0.000000</td>\n",
       "      <td>0.000000</td>\n",
       "      <td>0.0</td>\n",
       "      <td>0.0</td>\n",
       "      <td>0.0</td>\n",
       "      <td>0.0</td>\n",
       "      <td>0.0</td>\n",
       "      <td>0.0</td>\n",
       "      <td>0</td>\n",
       "    </tr>\n",
       "  </tbody>\n",
       "</table>\n",
       "<p>5 rows × 785 columns</p>\n",
       "</div>"
      ],
      "text/plain": [
       "   pixel_0  pixel_1  pixel_2  pixel_3  pixel_4   pixel_5  pixel_6  pixel_7  \\\n",
       "0      0.0      0.0      0.0      0.0      0.0  0.000000      0.0      0.0   \n",
       "1      0.0      0.0      0.0      0.0      0.0  0.003922      0.0      0.0   \n",
       "2      0.0      0.0      0.0      0.0      0.0  0.000000      0.0      0.0   \n",
       "3      0.0      0.0      0.0      0.0      0.0  0.000000      0.0      0.0   \n",
       "4      0.0      0.0      0.0      0.0      0.0  0.000000      0.0      0.0   \n",
       "\n",
       "    pixel_8   pixel_9  ...  pixel_775  pixel_776  pixel_777  pixel_778  \\\n",
       "0  0.000000  0.000000  ...   0.000000   0.000000   0.000000        0.0   \n",
       "1  0.000000  0.000000  ...   0.447059   0.509804   0.298039        0.0   \n",
       "2  0.000000  0.086275  ...   0.000000   0.003922   0.000000        0.0   \n",
       "3  0.129412  0.376471  ...   0.000000   0.000000   0.000000        0.0   \n",
       "4  0.000000  0.000000  ...   0.000000   0.000000   0.000000        0.0   \n",
       "\n",
       "   pixel_779  pixel_780  pixel_781  pixel_782  pixel_783  label  \n",
       "0        0.0        0.0        0.0        0.0        0.0      9  \n",
       "1        0.0        0.0        0.0        0.0        0.0      0  \n",
       "2        0.0        0.0        0.0        0.0        0.0      0  \n",
       "3        0.0        0.0        0.0        0.0        0.0      3  \n",
       "4        0.0        0.0        0.0        0.0        0.0      0  \n",
       "\n",
       "[5 rows x 785 columns]"
      ]
     },
     "execution_count": 4,
     "metadata": {},
     "output_type": "execute_result"
    }
   ],
   "source": [
    "train_df = pd.DataFrame(data_list, columns=columns)\n",
    "\n",
    "# Display the first few rows of the DataFrame\n",
    "train_df.head()"
   ]
  },
  {
   "cell_type": "code",
   "execution_count": 5,
   "id": "61327d7e-6cd6-4f4e-b6a0-81d46910271d",
   "metadata": {},
   "outputs": [
    {
     "data": {
      "text/plain": [
       "((60000, 785), (12000, 785))"
      ]
     },
     "execution_count": 5,
     "metadata": {},
     "output_type": "execute_result"
    }
   ],
   "source": [
    "train_df.shape, test_df.shape"
   ]
  },
  {
   "cell_type": "code",
   "execution_count": 6,
   "id": "5309bd9e-66ba-4429-9365-5ffa30d78716",
   "metadata": {},
   "outputs": [
    {
     "data": {
      "text/plain": [
       "pixel_0      0.062745\n",
       "pixel_1      0.141176\n",
       "pixel_2      0.466667\n",
       "pixel_3      0.643137\n",
       "pixel_4      0.878431\n",
       "               ...   \n",
       "pixel_780    1.000000\n",
       "pixel_781    1.000000\n",
       "pixel_782    1.000000\n",
       "pixel_783    0.666667\n",
       "label        9.000000\n",
       "Length: 785, dtype: float64"
      ]
     },
     "execution_count": 6,
     "metadata": {},
     "output_type": "execute_result"
    }
   ],
   "source": [
    "train_df.max()"
   ]
  },
  {
   "cell_type": "markdown",
   "id": "7bc22474-77b2-463e-a431-e0698f020315",
   "metadata": {},
   "source": [
    "## Helper to visualize a row of data - nice for images"
   ]
  },
  {
   "cell_type": "code",
   "execution_count": 7,
   "id": "7a04db97-235a-49bb-b0c2-90b87fe298b4",
   "metadata": {},
   "outputs": [
    {
     "data": {
      "image/png": "[encoded data removed]",
      "text/plain": [
       "<Figure size 640x480 with 1 Axes>"
      ]
     },
     "metadata": {},
     "output_type": "display_data"
    }
   ],
   "source": [
    "# Cell 8: Function to display a greyscale image from a row\n",
    "def show_image_from_row(row, label):\n",
    "    # Reshape the row back to a 28x28 image\n",
    "    image = np.array(row).reshape(28, 28)\n",
    "    \n",
    "    # Plot the image\n",
    "    plt.imshow(image, cmap=\"gray\")\n",
    "    plt.title(f\"Label: {label}\")\n",
    "    plt.axis(\"off\")\n",
    "    plt.show()\n",
    "\n",
    "# Example: Display an image from the DataFrame\n",
    "example_row = train_df.iloc[1, :-1]  # First row (pixels only)\n",
    "example_label = train_df.iloc[1, -1]  # Corresponding label\n",
    "show_image_from_row(example_row, example_label)\n"
   ]
  },
  {
   "cell_type": "code",
   "execution_count": 8,
   "id": "00e18af8-8056-449e-99ac-83926c181296",
   "metadata": {},
   "outputs": [],
   "source": [
    "# Labels\n",
    "\n",
    "# Each training and test example is assigned to one of the following labels:\n",
    "\n",
    "# 0 T-shirt/top\n",
    "# 1 Trouser\n",
    "# 2 Pullover\n",
    "# 3 Dress\n",
    "# 4 Coat\n",
    "# 5 Sandal\n",
    "# 6 Shirt\n",
    "# 7 Sneaker\n",
    "# 8 Bag\n",
    "# 9 Ankle boot"
   ]
  },
  {
   "cell_type": "markdown",
   "id": "95f91906-d2e8-4c3c-8f6b-f9d26e8786b7",
   "metadata": {},
   "source": [
    "## Example Dataloader"
   ]
  },
  {
   "cell_type": "code",
   "execution_count": 9,
   "id": "37cc7cc7-b993-4577-8e90-46ac0404097c",
   "metadata": {},
   "outputs": [],
   "source": [
    "\n",
    "# Define a custom Dataset class\n",
    "class CustomDataset(Dataset):\n",
    "    def __init__(self, dataframe):\n",
    "        \"\"\"\n",
    "        Initialize the dataset by passing a DataFrame.\n",
    "        Args:\n",
    "            dataframe (pd.DataFrame): DataFrame with pixel data and labels.\n",
    "        \"\"\"\n",
    "        self.data = dataframe.iloc[:, :-1].values  # Features (all columns except the last)\n",
    "        self.labels = dataframe.iloc[:, -1].values  # Labels (last column)\n",
    "\n",
    "    def __len__(self):\n",
    "        \"\"\"\n",
    "        Return the total number of samples in the dataset.\n",
    "        \"\"\"\n",
    "        return len(self.labels)\n",
    "\n",
    "    def __getitem__(self, idx):\n",
    "        \"\"\"\n",
    "        Retrieve a single sample from the dataset.\n",
    "        Args:\n",
    "            idx (int): Index of the sample to retrieve.\n",
    "        Returns:\n",
    "            (torch.Tensor, torch.Tensor): Tuple of features and label.\n",
    "        \"\"\"\n",
    "        # Convert the features and label to tensors\n",
    "        features = torch.tensor(self.data[idx], dtype=torch.float32)\n",
    "        label = torch.tensor(self.labels[idx], dtype=torch.long)\n",
    "        return features, label\n",
    "\n"
   ]
  },
  {
   "cell_type": "code",
   "execution_count": 10,
   "id": "10d4ea93-1ac5-4072-a741-ed35f7344dd7",
   "metadata": {},
   "outputs": [],
   "source": [
    "# Function to split the DataFrame and create DataLoaders\n",
    "def create_train_test_dataloaders(dataframe, test_size=0.2, batch_size=64, shuffle=True):\n",
    "    \"\"\"\n",
    "    Split the DataFrame into train and test sets and create DataLoaders.\n",
    "    Args:\n",
    "        dataframe (pd.DataFrame): DataFrame containing the data.\n",
    "        test_size (float): Proportion of the data to be used as test data.\n",
    "        batch_size (int): Number of samples per batch.\n",
    "        shuffle (bool): Whether to shuffle the data.\n",
    "    Returns:\n",
    "        tuple: (train_loader, test_loader)\n",
    "    \"\"\"\n",
    "    # Split the data into train and test sets\n",
    "    train_df, test_df = train_test_split(dataframe, test_size=test_size, random_state=42)\n",
    "    \n",
    "    # Create train and test datasets\n",
    "    train_dataset = CustomDataset(train_df)\n",
    "    test_dataset = CustomDataset(test_df)\n",
    "    \n",
    "    # Create DataLoaders for train and test sets\n",
    "    train_loader = DataLoader(train_dataset, batch_size=batch_size, shuffle=shuffle)\n",
    "    test_loader = DataLoader(test_dataset, batch_size=batch_size, shuffle=False)\n",
    "    \n",
    "    return train_loader, test_loader"
   ]
  },
  {
   "cell_type": "code",
   "execution_count": 11,
   "id": "6bd4ddcf-2c38-4aef-8c48-e371c48c666b",
   "metadata": {},
   "outputs": [],
   "source": [
    "# ## command + /\n",
    "\n",
    "# # Example usage: Creating train and test DataLoaders\n",
    "# train_loader, test_loader = create_train_test_dataloaders(train_df, test_size=0.2, batch_size=32)\n",
    "\n",
    "# # Example: Check the first batch from the train DataLoader\n",
    "# for batch_idx, (features, labels) in enumerate(train_loader):\n",
    "#     print(f\"Train Batch {batch_idx + 1}\")\n",
    "#     print(\"Features shape:\", features.shape)\n",
    "#     print(\"Labels shape:\", labels.shape)\n",
    "#     break  # Display only the first batch\n",
    "\n",
    "# # Example: Check the first batch from the test DataLoader\n",
    "# for batch_idx, (features, labels) in enumerate(test_loader):\n",
    "#     print(f\"Test Batch {batch_idx + 1}\")\n",
    "#     print(\"Features shape:\", features.shape)\n",
    "#     print(\"Labels shape:\", labels.shape)\n",
    "#     break  # Display only the first batch"
   ]
  },
  {
   "cell_type": "markdown",
   "id": "3cd6666c-094c-46f6-94e3-202970a58c6c",
   "metadata": {},
   "source": [
    "## Manually Build dataloaders"
   ]
  },
  {
   "cell_type": "code",
   "execution_count": 54,
   "id": "3919e8ab-f84f-4f2b-90f0-5f148fdd7fed",
   "metadata": {},
   "outputs": [],
   "source": [
    "# Cell 2: Create a DataLoader\n",
    "\n",
    "\n",
    "# Convert the DataFrame back to PyTorch tensors\n",
    "X_train = torch.tensor(train_df.iloc[:, :-1].values, dtype=torch.float32)  # All pixels\n",
    "y_train = torch.tensor(train_df[\"label\"].values, dtype=torch.long)  # Labels\n",
    "# Convert the DataFrame back to PyTorch tensors\n",
    "X_test = torch.tensor(test_df.iloc[:, :-1].values, dtype=torch.float32)  # All pixels\n",
    "y_test = torch.tensor(test_df[\"label\"].values, dtype=torch.long)  # Labels\n",
    "\n",
    "# Create a TensorDataset\n",
    "train_dataset = TensorDataset(X_train, y_train)\n",
    "test_dataset = TensorDataset(X_test, y_test)\n",
    "\n",
    "# Create a DataLoader for batching and shuffling\n",
    "batch_size = 32  # Number of samples per batch\n",
    "train_loader = DataLoader(train_dataset, batch_size=batch_size, shuffle=True)\n",
    "test_loader = DataLoader(test_dataset, batch_size=batch_size, shuffle=True)\n",
    "\n"
   ]
  },
  {
   "cell_type": "code",
   "execution_count": 55,
   "id": "5e0ed4f6-35b7-46f4-b2b0-910b04caaaf2",
   "metadata": {},
   "outputs": [
    {
     "name": "stdout",
     "output_type": "stream",
     "text": [
      "Batch size: torch.Size([32, 784]), Labels: torch.Size([32])\n",
      "Batch size: torch.Size([32, 784]), Labels: torch.Size([32])\n"
     ]
    }
   ],
   "source": [
    "# Example: Check the first batch\n",
    "for batch in train_loader:\n",
    "    images, labels = batch\n",
    "    print(f\"Batch size: {images.shape}, Labels: {labels.shape}\")\n",
    "    break\n",
    "# Example: Check the first batch\n",
    "for batch in test_loader:\n",
    "    images, labels = batch\n",
    "    print(f\"Batch size: {images.shape}, Labels: {labels.shape}\")\n",
    "    break"
   ]
  },
  {
   "cell_type": "code",
   "execution_count": null,
   "id": "977c7cbc-e0f7-42eb-895a-e5ae019453a8",
   "metadata": {},
   "outputs": [],
   "source": []
  },
  {
   "cell_type": "code",
   "execution_count": 56,
   "id": "fed96bbf-bdec-4491-b486-1567c3743339",
   "metadata": {},
   "outputs": [],
   "source": [
    "# Cell 3: Define the neural network\n",
    "\n",
    "# Define a feedforward network for classification\n",
    "class SimpleNN(nn.Module):\n",
    "    def __init__(self, input_size, hidden_size, num_classes):\n",
    "        super(SimpleNN, self).__init__()\n",
    "        self.fc1 = nn.Linear(input_size, hidden_size)  # First fully connected layer\n",
    "        self.relu = nn.ReLU()\n",
    "        self.fc2 = nn.Linear(hidden_size, num_classes)\n",
    "\n",
    "    def forward(self, x):\n",
    "        x = self.fc1(x)  # First layer\n",
    "        x = self.relu(x)\n",
    "        x = self.fc2(x)  # Output layer\n",
    "        return x\n",
    "\n",
    "# Initialize the model\n",
    "input_size = 784  # 784 input features (flattened image)\n",
    "hidden_size = 256  # Number of neurons in the hidden layer\n",
    "num_classes = 10  # 10 classes for Fashion MNIST"
   ]
  },
  {
   "cell_type": "code",
   "execution_count": 57,
   "id": "3b4bb09e-03e2-4005-be42-c5e2d81c97f3",
   "metadata": {},
   "outputs": [
    {
     "name": "stdout",
     "output_type": "stream",
     "text": [
      "SimpleNN(\n",
      "  (fc1): Linear(in_features=784, out_features=256, bias=True)\n",
      "  (relu): ReLU()\n",
      "  (fc2): Linear(in_features=256, out_features=10, bias=True)\n",
      ")\n"
     ]
    }
   ],
   "source": [
    "model = SimpleNN(input_size, hidden_size, num_classes)\n",
    "\n",
    "# Print the model architecture\n",
    "print(model)"
   ]
  },
  {
   "cell_type": "code",
   "execution_count": 58,
   "id": "e91b48df-879a-4318-b7ab-4772d77a47fb",
   "metadata": {},
   "outputs": [],
   "source": [
    "# Cell 4: Define hyperparameters\n",
    "learning_rate = 0.005\n",
    "num_epochs = 100\n",
    "#batch_size = 64\n",
    "\n",
    "# Define the loss function and optimizer\n",
    "criterion = nn.CrossEntropyLoss()  # Cross-entropy loss for multi-class classification\n",
    "optimizer = torch.optim.SGD(model.parameters(), lr=learning_rate)\n"
   ]
  },
  {
   "cell_type": "markdown",
   "id": "4f7c6c8b-58c8-45bd-8d61-cde8ccf9fa0a",
   "metadata": {},
   "source": [
    "### for later!"
   ]
  },
  {
   "cell_type": "code",
   "execution_count": 59,
   "id": "1832696a-d277-4eac-9397-67deeb7e8ec6",
   "metadata": {},
   "outputs": [],
   "source": [
    "# device = (\n",
    "#     \"cuda\"\n",
    "#     if torch.cuda.is_available()\n",
    "#     else \"mps\"\n",
    "#     if torch.backends.mps.is_available()\n",
    "#     else \"cpu\"\n",
    "# )\n",
    "# model.to(\"cpu\")\n",
    "# print(f\"Using {device} device\")\n"
   ]
  },
  {
   "cell_type": "markdown",
   "id": "34623666-a418-4165-99db-f899cb05ad8d",
   "metadata": {},
   "source": [
    "## Model Training"
   ]
  },
  {
   "cell_type": "code",
   "execution_count": 60,
   "id": "a7f4d01e-598e-48af-a60d-fd467cacfe41",
   "metadata": {},
   "outputs": [
    {
     "name": "stdout",
     "output_type": "stream",
     "text": [
      "Epoch [1/100], Loss: 1.1290\n",
      "Epoch [2/100], Loss: 0.6620\n",
      "Epoch [3/100], Loss: 0.5695\n",
      "Epoch [4/100], Loss: 0.5235\n",
      "Epoch [5/100], Loss: 0.4959\n",
      "Epoch [6/100], Loss: 0.4767\n",
      "Epoch [7/100], Loss: 0.4620\n",
      "Epoch [8/100], Loss: 0.4506\n",
      "Epoch [9/100], Loss: 0.4413\n",
      "Epoch [10/100], Loss: 0.4324\n",
      "Epoch [11/100], Loss: 0.4249\n",
      "Epoch [12/100], Loss: 0.4184\n",
      "Epoch [13/100], Loss: 0.4123\n",
      "Epoch [14/100], Loss: 0.4064\n",
      "Epoch [15/100], Loss: 0.4006\n",
      "Epoch [16/100], Loss: 0.3957\n",
      "Epoch [17/100], Loss: 0.3905\n",
      "Epoch [18/100], Loss: 0.3860\n",
      "Epoch [19/100], Loss: 0.3820\n",
      "Epoch [20/100], Loss: 0.3773\n",
      "Epoch [21/100], Loss: 0.3737\n",
      "Epoch [22/100], Loss: 0.3698\n",
      "Epoch [23/100], Loss: 0.3665\n",
      "Epoch [24/100], Loss: 0.3625\n",
      "Epoch [25/100], Loss: 0.3592\n",
      "Epoch [26/100], Loss: 0.3563\n",
      "Epoch [27/100], Loss: 0.3530\n",
      "Epoch [28/100], Loss: 0.3493\n",
      "Epoch [29/100], Loss: 0.3468\n",
      "Epoch [30/100], Loss: 0.3445\n",
      "Epoch [31/100], Loss: 0.3414\n",
      "Epoch [32/100], Loss: 0.3387\n",
      "Epoch [33/100], Loss: 0.3365\n",
      "Epoch [34/100], Loss: 0.3340\n",
      "Epoch [35/100], Loss: 0.3313\n",
      "Epoch [36/100], Loss: 0.3291\n",
      "Epoch [37/100], Loss: 0.3264\n",
      "Epoch [38/100], Loss: 0.3241\n",
      "Epoch [39/100], Loss: 0.3221\n",
      "Epoch [40/100], Loss: 0.3201\n",
      "Epoch [41/100], Loss: 0.3179\n",
      "Epoch [42/100], Loss: 0.3158\n",
      "Epoch [43/100], Loss: 0.3138\n",
      "Epoch [44/100], Loss: 0.3121\n",
      "Epoch [45/100], Loss: 0.3100\n",
      "Epoch [46/100], Loss: 0.3077\n",
      "Epoch [47/100], Loss: 0.3063\n",
      "Epoch [48/100], Loss: 0.3041\n",
      "Epoch [49/100], Loss: 0.3028\n",
      "Epoch [50/100], Loss: 0.3008\n",
      "Epoch [51/100], Loss: 0.2989\n",
      "Epoch [52/100], Loss: 0.2969\n",
      "Epoch [53/100], Loss: 0.2952\n",
      "Epoch [54/100], Loss: 0.2937\n",
      "Epoch [55/100], Loss: 0.2918\n",
      "Epoch [56/100], Loss: 0.2899\n",
      "Epoch [57/100], Loss: 0.2886\n",
      "Epoch [58/100], Loss: 0.2870\n",
      "Epoch [59/100], Loss: 0.2855\n",
      "Epoch [60/100], Loss: 0.2841\n",
      "Epoch [61/100], Loss: 0.2824\n",
      "Epoch [62/100], Loss: 0.2812\n",
      "Epoch [63/100], Loss: 0.2793\n",
      "Epoch [64/100], Loss: 0.2776\n",
      "Epoch [65/100], Loss: 0.2764\n",
      "Epoch [66/100], Loss: 0.2748\n",
      "Epoch [67/100], Loss: 0.2728\n",
      "Epoch [68/100], Loss: 0.2717\n",
      "Epoch [69/100], Loss: 0.2708\n",
      "Epoch [70/100], Loss: 0.2692\n",
      "Epoch [71/100], Loss: 0.2674\n",
      "Epoch [72/100], Loss: 0.2669\n",
      "Epoch [73/100], Loss: 0.2647\n",
      "Epoch [74/100], Loss: 0.2638\n",
      "Epoch [75/100], Loss: 0.2627\n",
      "Epoch [76/100], Loss: 0.2611\n",
      "Epoch [77/100], Loss: 0.2598\n",
      "Epoch [78/100], Loss: 0.2583\n",
      "Epoch [79/100], Loss: 0.2574\n",
      "Epoch [80/100], Loss: 0.2556\n",
      "Epoch [81/100], Loss: 0.2546\n",
      "Epoch [82/100], Loss: 0.2535\n",
      "Epoch [83/100], Loss: 0.2521\n",
      "Epoch [84/100], Loss: 0.2511\n",
      "Epoch [85/100], Loss: 0.2494\n",
      "Epoch [86/100], Loss: 0.2483\n",
      "Epoch [87/100], Loss: 0.2468\n",
      "Epoch [88/100], Loss: 0.2460\n",
      "Epoch [89/100], Loss: 0.2450\n",
      "Epoch [90/100], Loss: 0.2437\n",
      "Epoch [91/100], Loss: 0.2426\n",
      "Epoch [92/100], Loss: 0.2414\n",
      "Epoch [93/100], Loss: 0.2403\n",
      "Epoch [94/100], Loss: 0.2393\n",
      "Epoch [95/100], Loss: 0.2379\n",
      "Epoch [96/100], Loss: 0.2371\n",
      "Epoch [97/100], Loss: 0.2358\n",
      "Epoch [98/100], Loss: 0.2344\n",
      "Epoch [99/100], Loss: 0.2337\n",
      "Epoch [100/100], Loss: 0.2324\n"
     ]
    }
   ],
   "source": [
    "# Training the model\n",
    "for epoch in range(num_epochs):\n",
    "    model.train()  # Set the model to training mode\n",
    "    total_loss = 0\n",
    "\n",
    "    for rows, labels in train_loader:\n",
    "        # Forward pass\n",
    "        outputs = model(rows)\n",
    "        loss = criterion(outputs, labels)\n",
    "\n",
    "        # Backward pass\n",
    "        optimizer.zero_grad()  # Clear previous gradients\n",
    "        loss.backward()  # Compute gradients\n",
    "        optimizer.step()  # Update weights\n",
    "\n",
    "        total_loss += loss.item()\n",
    "\n",
    "    print(f\"Epoch [{epoch+1}/{num_epochs}], Loss: {total_loss/len(train_loader):.4f}\")\n"
   ]
  },
  {
   "cell_type": "markdown",
   "id": "23975eea-fb46-4886-bd99-40a1d87806b1",
   "metadata": {},
   "source": [
    "## Saving and loading a model"
   ]
  },
  {
   "cell_type": "code",
   "execution_count": 63,
   "id": "b476dab9-c164-4b55-af0a-0c1781d4468c",
   "metadata": {},
   "outputs": [
    {
     "name": "stdout",
     "output_type": "stream",
     "text": [
      "Model saved as 'fashion_mnist_model.pth'\n"
     ]
    }
   ],
   "source": [
    "# Save the model after training\n",
    "torch.save(model.state_dict(), \"fashion_mnist_model.pth\")\n",
    "print(\"Model saved as 'fashion_mnist_model.pth'\")\n"
   ]
  },
  {
   "cell_type": "code",
   "execution_count": 64,
   "id": "49c6f1ff-1597-4c6d-aa9b-ae2f591f7dc9",
   "metadata": {},
   "outputs": [
    {
     "name": "stdout",
     "output_type": "stream",
     "text": [
      "Model loaded and ready for inference.\n"
     ]
    }
   ],
   "source": [
    "# Load the saved model for inference\n",
    "model = SimpleNN(input_size, hidden_size, num_classes)  # Reinitialize the model structure\n",
    "model.load_state_dict(torch.load(\"fashion_mnist_model.pth\"))\n",
    "model.eval()  # Set the model to evaluation mode\n",
    "print(\"Model loaded and ready for inference.\")\n"
   ]
  },
  {
   "cell_type": "code",
   "execution_count": null,
   "id": "f560b056-d02f-4806-83d7-c1758ec17cb6",
   "metadata": {},
   "outputs": [],
   "source": []
  },
  {
   "cell_type": "code",
   "execution_count": 65,
   "id": "5b93f4aa-dd26-40a1-b787-bde14fdeae74",
   "metadata": {},
   "outputs": [
    {
     "name": "stdout",
     "output_type": "stream",
     "text": [
      "Accuracy: 91.29%\n"
     ]
    }
   ],
   "source": [
    "# Cell 6: Inference loop\n",
    "# Running inference\n",
    "model.eval()  # Set the model to evaluation mode (disables dropout, etc.)\n",
    "correct = 0\n",
    "total = 0\n",
    "\n",
    "with torch.no_grad():  # Disable gradient computation for efficiency\n",
    "    for images, labels in test_loader:\n",
    "        outputs = model(images)\n",
    "        _, predicted = torch.max(outputs, 1)  # Get the predicted class\n",
    "        total += labels.size(0)\n",
    "        correct += (predicted == labels).sum().item()\n",
    "\n",
    "accuracy = correct / total * 100\n",
    "print(f\"Accuracy: {accuracy:.2f}%\")\n"
   ]
  },
  {
   "cell_type": "code",
   "execution_count": null,
   "id": "ee62328d-402a-4070-9291-755c2a73909b",
   "metadata": {},
   "outputs": [],
   "source": []
  },
  {
   "cell_type": "code",
   "execution_count": 66,
   "id": "19e6d898-a518-4a8c-aec7-ba27404a59a4",
   "metadata": {},
   "outputs": [
    {
     "data": {
      "image/png": "[encoded data removed]",
      "text/plain": [
       "<Figure size 640x480 with 2 Axes>"
      ]
     },
     "metadata": {},
     "output_type": "display_data"
    }
   ],
   "source": [
    "\n",
    "# Generate predictions for the entire dataset\n",
    "all_labels = []\n",
    "all_predictions = []\n",
    "\n",
    "model.eval()\n",
    "with torch.no_grad():\n",
    "    for images, labels in test_loader:\n",
    "        outputs = model(images)\n",
    "        _, predicted = torch.max(outputs, 1)\n",
    "        all_labels.extend(labels.numpy())\n",
    "        all_predictions.extend(predicted.numpy())\n",
    "\n",
    "# Compute and plot the confusion matrix\n",
    "cm = confusion_matrix(all_labels, all_predictions)\n",
    "disp = ConfusionMatrixDisplay(confusion_matrix=cm, display_labels=list(range(10)))\n",
    "disp.plot(cmap=plt.cm.Blues)\n",
    "plt.title(\"Confusion Matrix\")\n",
    "plt.show()\n"
   ]
  },
  {
   "cell_type": "markdown",
   "id": "e79eadfc-1464-4321-9daa-a3203e84e0dc",
   "metadata": {},
   "source": [
    "### Inspect a row of data"
   ]
  },
  {
   "cell_type": "code",
   "execution_count": 67,
   "id": "ef629ac2-a678-424f-9433-b93215267a92",
   "metadata": {},
   "outputs": [
    {
     "name": "stdout",
     "output_type": "stream",
     "text": [
      "Logits: [[  6.694144    2.826612    2.7930484   6.051111    2.5235243 -12.698506\n",
      "    4.121987   -9.459718    3.2623138  -6.527294 ]]\n",
      "Softmax Probabilities: [[5.9137708e-01 1.2365646e-02 1.1957497e-02 3.1088445e-01 9.1324532e-03\n",
      "  2.2373987e-09 4.5163848e-02 5.7059950e-08 1.9117879e-02 1.0711916e-06]]\n",
      "Correct Label: 3\n",
      "Predicted Label: 0\n"
     ]
    },
    {
     "data": {
      "text/plain": [
       "0"
      ]
     },
     "execution_count": 67,
     "metadata": {},
     "output_type": "execute_result"
    }
   ],
   "source": [
    "# Helper function to run inference on a single row of data\n",
    "def run_inference_on_row(row, label, model):\n",
    "    # Convert the row into a tensor\n",
    "    row_tensor = torch.tensor(row.values, dtype=torch.float32).unsqueeze(0)  # Add batch dimension\n",
    "\n",
    "    # Perform inference\n",
    "    with torch.no_grad():\n",
    "        logits = model(row_tensor)  # Raw logits\n",
    "        probabilities = torch.softmax(logits, dim=1)  # Apply softmax to convert logits to probabilities\n",
    "\n",
    "    # Get predicted label\n",
    "    predicted_label = torch.argmax(probabilities).item()\n",
    "\n",
    "    # Print details\n",
    "    print(\"Logits:\", logits.numpy())\n",
    "    print(\"Softmax Probabilities:\", probabilities.numpy())\n",
    "    print(\"Correct Label:\", label)\n",
    "    print(\"Predicted Label:\", predicted_label)\n",
    "\n",
    "    return predicted_label\n",
    "\n",
    "# Example: Run inference on a single row\n",
    "example_row = test_df.iloc[10, :-1]  # 10th row (pixels only)\n",
    "example_label = test_df.iloc[10, -1]  # Corresponding label\n",
    "run_inference_on_row(example_row, example_label, model)"
   ]
  },
  {
   "cell_type": "code",
   "execution_count": 68,
   "id": "2a60cd76-3af6-4882-b79e-0d6a194ef570",
   "metadata": {},
   "outputs": [],
   "source": [
    "### Display examples of correct and incorrect predictions"
   ]
  },
  {
   "cell_type": "code",
   "execution_count": 69,
   "id": "187fcc0c-4760-4832-8ee9-ee1c4b0c6bed",
   "metadata": {},
   "outputs": [],
   "source": [
    "\n",
    "def display_examples(data_df, model, correct=True, num_examples=3):\n",
    "    count = 0\n",
    "    plt.figure(figsize=(10, 5))\n",
    "\n",
    "    for idx, row in data_df.iterrows():\n",
    "        if count >= num_examples:\n",
    "            break\n",
    "\n",
    "        # Extract image and label\n",
    "        image_row = row[:-1]\n",
    "        true_label = row[-1]\n",
    "\n",
    "        # Run inference\n",
    "        predicted_label = run_inference_on_row(image_row, true_label, model)\n",
    "\n",
    "        # Check if prediction is correct\n",
    "        if (predicted_label == true_label and correct) or (predicted_label != true_label and not correct):\n",
    "            # Plot the image\n",
    "            plt.subplot(1, num_examples, count + 1)\n",
    "            image = image_row.values.reshape(28, 28)  # Reshape to 28x28\n",
    "            plt.imshow(image, cmap=\"gray\")\n",
    "            plt.title(f\"True: {true_label}, Pred: {predicted_label}\")\n",
    "            plt.axis(\"off\")\n",
    "            count += 1\n",
    "\n",
    "\n",
    "\n",
    "\n"
   ]
  },
  {
   "cell_type": "code",
   "execution_count": 70,
   "id": "7a882db3-f783-431d-b340-405764002091",
   "metadata": {},
   "outputs": [
    {
     "name": "stdout",
     "output_type": "stream",
     "text": [
      "Examples of Correct Predictions:\n",
      "Logits: [[ -2.557691  -10.17373    -6.560807   -6.880913   -6.659751    8.185889\n",
      "   -2.6386561   9.191753    1.521682   16.634216 ]]\n",
      "Softmax Probabilities: [[4.6207549e-09 2.2756734e-12 8.4368880e-11 6.1257853e-11 7.6420655e-11\n",
      "  2.1408724e-04 4.2613797e-09 5.8537209e-04 2.7312549e-07 9.9920040e-01]]\n",
      "Correct Label: 9.0\n",
      "Predicted Label: 9\n",
      "Logits: [[ 18.872147   -4.1211257   8.554959    6.553858   -1.5522187 -15.580516\n",
      "   10.548579  -15.116429    3.9600043 -11.865168 ]]\n",
      "Softmax Probabilities: [[9.99719560e-01 1.03282494e-10 3.30507028e-05 4.46800186e-06\n",
      "  1.34799638e-09 1.08962382e-15 2.42660331e-04 1.73311591e-15\n",
      "  3.33900658e-07 4.47540395e-14]]\n",
      "Correct Label: 0.0\n",
      "Predicted Label: 0\n",
      "Logits: [[ 4.768698   1.2220654  1.3927183  4.6762056  2.2489676 -6.0311265\n",
      "   3.4672506 -4.058495  -1.683608  -5.4863806]]\n",
      "Softmax Probabilities: [[4.29357708e-01 1.23747448e-02 1.46774240e-02 3.91426504e-01\n",
      "  3.45552638e-02 8.76022023e-06 1.16844356e-01 6.29822171e-05\n",
      "  6.77046133e-04 1.51041031e-05]]\n",
      "Correct Label: 0.0\n",
      "Predicted Label: 0\n"
     ]
    },
    {
     "name": "stderr",
     "output_type": "stream",
     "text": [
      "/var/folders/83/s01xl68d2q3gdtkbr5ptq6nc0000gn/T/ipykernel_4978/3303586380.py:11: FutureWarning: Series.__getitem__ treating keys as positions is deprecated. In a future version, integer keys will always be treated as labels (consistent with DataFrame behavior). To access a value by position, use `ser.iloc[pos]`\n",
      "  true_label = row[-1]\n"
     ]
    },
    {
     "data": {
      "image/png": "[encoded data removed]",
      "text/plain": [
       "<Figure size 1000x500 with 3 Axes>"
      ]
     },
     "metadata": {},
     "output_type": "display_data"
    }
   ],
   "source": [
    "# Example: Show 3 correct predictions\n",
    "print(\"Examples of Correct Predictions:\")\n",
    "display_examples(train_df, model, correct=True, num_examples=3)\n",
    "plt.show()"
   ]
  },
  {
   "cell_type": "code",
   "execution_count": 71,
   "id": "eb4bfd43-bb28-49a7-a7bc-1d4e9a8c65a2",
   "metadata": {},
   "outputs": [
    {
     "name": "stdout",
     "output_type": "stream",
     "text": [
      "Examples of Incorrect Predictions:\n",
      "Logits: [[ -2.557691  -10.17373    -6.560807   -6.880913   -6.659751    8.185889\n",
      "   -2.6386561   9.191753    1.521682   16.634216 ]]\n",
      "Softmax Probabilities: [[4.6207549e-09 2.2756734e-12 8.4368880e-11 6.1257853e-11 7.6420655e-11\n",
      "  2.1408724e-04 4.2613797e-09 5.8537209e-04 2.7312549e-07 9.9920040e-01]]\n",
      "Correct Label: 9.0\n",
      "Predicted Label: 9\n",
      "Logits: [[ 18.872147   -4.1211257   8.554959    6.553858   -1.5522187 -15.580516\n",
      "   10.548579  -15.116429    3.9600043 -11.865168 ]]\n",
      "Softmax Probabilities: [[9.99719560e-01 1.03282494e-10 3.30507028e-05 4.46800186e-06\n",
      "  1.34799638e-09 1.08962382e-15 2.42660331e-04 1.73311591e-15\n",
      "  3.33900658e-07 4.47540395e-14]]\n",
      "Correct Label: 0.0\n",
      "Predicted Label: 0\n",
      "Logits: [[ 4.768698   1.2220654  1.3927183  4.6762056  2.2489676 -6.0311265\n",
      "   3.4672506 -4.058495  -1.683608  -5.4863806]]\n",
      "Softmax Probabilities: [[4.29357708e-01 1.23747448e-02 1.46774240e-02 3.91426504e-01\n",
      "  3.45552638e-02 8.76022023e-06 1.16844356e-01 6.29822171e-05\n",
      "  6.77046133e-04 1.51041031e-05]]\n",
      "Correct Label: 0.0\n",
      "Predicted Label: 0\n",
      "Logits: [[ 6.3915563   2.7021756   2.0054781   8.872018   -0.35770187 -8.610116\n",
      "   5.6655707  -7.5463796  -0.21222338 -9.218221  ]]\n",
      "Softmax Probabilities: [[7.42357820e-02 1.85496465e-03 9.24195163e-04 8.86878431e-01\n",
      "  8.69856449e-05 2.26709549e-08 3.59187983e-02 6.56817178e-08\n",
      "  1.00607045e-04 1.23416521e-08]]\n",
      "Correct Label: 3.0\n",
      "Predicted Label: 3\n",
      "Logits: [[  7.4304156   6.0259256   2.1756296   8.479243    1.5047508 -11.505992\n",
      "    5.5943027  -7.5243807  -0.9504019 -11.495796 ]]\n",
      "Softmax Probabilities: [[2.3433729e-01 5.7527982e-02 1.2238180e-03 6.6886961e-01 6.2568800e-04\n",
      "  1.3991494e-09 3.7361789e-02 7.4999072e-08 5.3715354e-05 1.4134863e-09]]\n",
      "Correct Label: 0.0\n",
      "Predicted Label: 3\n",
      "Logits: [[  6.224639    1.4687105  15.520908    2.2982311   8.251204  -10.050302\n",
      "    5.1594677 -16.28595     1.3407284 -13.959192 ]]\n",
      "Softmax Probabilities: [[9.1690483e-05 7.8858943e-07 9.9917775e-01 1.8076195e-06 6.9574500e-04\n",
      "  7.8380462e-12 3.1602849e-05 1.5349697e-14 6.9385544e-07 1.5725255e-13]]\n",
      "Correct Label: 2.0\n",
      "Predicted Label: 2\n",
      "Logits: [[-2.8756616 -3.8033519 -2.3422847 -3.777431  -2.9741828  5.621838\n",
      "  -3.0900774  9.147876   1.9610109  3.9280329]]\n",
      "Softmax Probabilities: [[5.7948828e-06 2.2916813e-06 9.8784230e-06 2.3518603e-06 5.2511864e-06\n",
      "  2.8409395e-02 4.6765458e-06 9.6560770e-01 7.3044066e-04 5.2221790e-03]]\n",
      "Correct Label: 7.0\n",
      "Predicted Label: 7\n",
      "Logits: [[  4.9662933   3.3394852  13.070107   -1.350502   14.259378  -19.090628\n",
      "    8.135303  -18.923954    4.1655173 -10.067684 ]]\n",
      "Softmax Probabilities: [[7.0446680e-05 1.3846715e-05 2.3297122e-01 1.2720704e-07 7.6523727e-01\n",
      "  2.5123057e-15 1.6754974e-03 2.9679535e-15 3.1629195e-05 2.0829895e-11]]\n",
      "Correct Label: 2.0\n",
      "Predicted Label: 4\n",
      "Logits: [[ 1.3451968 -4.9209805 -0.6080021 -1.9108253 -4.438792  12.017341\n",
      "  -1.4371654  0.9752412 -2.8282154  1.8181903]]\n",
      "Softmax Probabilities: [[2.3179868e-05 4.4029647e-08 3.2873629e-06 8.9338522e-07 7.1310993e-08\n",
      "  9.9991751e-01 1.4346517e-06 1.6011851e-05 3.5696121e-07 3.7198854e-05]]\n",
      "Correct Label: 5.0\n",
      "Predicted Label: 5\n",
      "Logits: [[ 0.8545643  -8.769564   -2.524975   -2.343059   -5.2536016  20.720655\n",
      "  -3.0075614  -2.2959485  -0.62843597  3.8859215 ]]\n",
      "Softmax Probabilities: [[2.35649433e-09 1.55797535e-13 8.02695896e-11 9.62843832e-11\n",
      "  5.24232220e-12 1.00000000e+00 4.95412149e-11 1.00929036e-10\n",
      "  5.34820133e-10 4.88391336e-08]]\n",
      "Correct Label: 5.0\n",
      "Predicted Label: 5\n",
      "Logits: [[ 12.667518    0.5389723   3.4310408   7.3708725  -3.4701726  -9.557164\n",
      "    9.975036  -12.490146    2.3474238 -10.8822975]]\n",
      "Softmax Probabilities: [[9.3209076e-01 5.0361391e-06 9.0804475e-05 4.6682535e-03 9.1400523e-08\n",
      "  2.0768327e-10 6.3114353e-02 1.1056657e-11 3.0725452e-05 5.5195418e-11]]\n",
      "Correct Label: 0.0\n",
      "Predicted Label: 0\n",
      "Logits: [[ 0.801259   -4.0678954  -2.8063188  -0.22327167 -5.1788416   7.315091\n",
      "  -6.147395    0.49285838 -3.3752158  12.835341  ]]\n",
      "Softmax Probabilities: [[5.9145686e-06 4.5423057e-08 1.6038796e-07 2.1231233e-06 1.4955411e-08\n",
      "  3.9888201e-03 5.6775495e-09 4.3449641e-06 9.0803553e-08 9.9599850e-01]]\n",
      "Correct Label: 9.0\n",
      "Predicted Label: 9\n",
      "Logits: [[-1.7507554  -2.7033787  -1.6074052  -3.0838737  -3.4277964  10.445687\n",
      "  -0.98189104  4.2440934  -0.4654035   0.7917539 ]]\n",
      "Softmax Probabilities: [[5.0376293e-06 1.9431538e-06 5.8140959e-06 1.3281901e-06 9.4166529e-07\n",
      "  9.9786997e-01 1.0867756e-05 2.0218827e-03 1.8215766e-05 6.4035958e-05]]\n",
      "Correct Label: 5.0\n",
      "Predicted Label: 5\n",
      "Logits: [[-2.701367   -4.3960795  -0.19146574 -3.3145714  -4.46637     8.543507\n",
      "   0.51749444  5.7456207   3.5528362  -2.4966178 ]]\n",
      "Softmax Probabilities: [[1.2238644e-05 2.2476493e-06 1.5058076e-04 6.6285997e-06 2.0950874e-06\n",
      "  9.3609434e-01 3.0596144e-04 5.7044424e-02 6.3664755e-03 1.5019460e-05]]\n",
      "Correct Label: 5.0\n",
      "Predicted Label: 5\n",
      "Logits: [[-1.3536348 -2.575047  -2.693358  -2.2422323 -4.3627696  3.7243428\n",
      "  -1.6564215  9.463086   0.8306589  1.9665444]]\n",
      "Softmax Probabilities: [[1.9981167e-05 5.8907162e-06 5.2334290e-06 8.2168981e-06 9.8575833e-07\n",
      "  3.2059634e-03 1.4761219e-05 9.9600863e-01 1.7752012e-04 5.5278506e-04]]\n",
      "Correct Label: 7.0\n",
      "Predicted Label: 7\n",
      "Logits: [[ -2.8290489 -10.815308   -5.654111   -8.010228   -7.042812   10.311757\n",
      "   -3.0033329   8.971586    1.1828483  17.716957 ]]\n",
      "Softmax Probabilities: [[1.1930267e-09 4.0575301e-13 7.0752439e-11 6.7064501e-12 1.7645569e-11\n",
      "  6.0761627e-04 1.0022120e-09 1.5907451e-04 6.5916552e-08 9.9923325e-01]]\n",
      "Correct Label: 9.0\n",
      "Predicted Label: 9\n",
      "Logits: [[ 5.355819  14.0418215  1.7677491  3.906024   0.6707938 -9.702552\n",
      "   0.4765493 -5.7314305 -2.6405354 -8.309832 ]]\n",
      "Softmax Probabilities: [[1.6889746e-04 9.9978393e-01 4.6702930e-06 3.9626455e-05 1.5593461e-06\n",
      "  4.8736667e-11 1.2840538e-06 2.5851856e-09 5.6865680e-08 1.9620323e-10]]\n",
      "Correct Label: 1.0\n",
      "Predicted Label: 1\n",
      "Logits: [[ 12.825404    -0.39876497   6.861627     7.5342646    1.7367558\n",
      "  -15.281441     9.547526   -13.534009     3.9593883  -13.837574  ]]\n",
      "Softmax Probabilities: [[9.5650530e-01 1.7278413e-06 2.4583964e-03 4.8169778e-03 1.4620048e-05\n",
      "  5.9434597e-13 3.6068089e-02 3.4114556e-12 1.3496632e-04 2.5182723e-12]]\n",
      "Correct Label: 0.0\n",
      "Predicted Label: 0\n",
      "Logits: [[  5.6983037  -0.3952192   9.946887    3.5403388   7.3225927  -9.595647\n",
      "   11.613725  -18.388176    4.6036854 -14.604664 ]]\n",
      "Softmax Probabilities: [[2.2359171e-03 5.0474550e-06 1.5652798e-01 2.5838261e-04 1.1346853e-02\n",
      "  5.0977361e-10 8.2887757e-01 7.7416026e-14 7.4828835e-04 3.4039980e-12]]\n",
      "Correct Label: 6.0\n",
      "Predicted Label: 6\n",
      "Logits: [[-0.27010393  0.03282192  2.1715124   2.4094565   5.959026   -1.8942367\n",
      "   4.0573096  -5.9764185   1.4935548  -7.566576  ]]\n",
      "Softmax Probabilities: [[1.6193786e-03 2.1923380e-03 1.8609250e-02 2.3608407e-02 8.2153308e-01\n",
      "  3.1915124e-04 1.2266486e-01 5.3842800e-06 9.4470354e-03 1.0978187e-06]]\n",
      "Correct Label: 4.0\n",
      "Predicted Label: 4\n",
      "Logits: [[  6.059341    2.5370426   2.1345816  11.323215   -2.307893  -10.247544\n",
      "    3.9367616  -7.175624    0.8390715  -6.982653 ]]\n",
      "Softmax Probabilities: [[5.1439493e-03 1.5190845e-04 1.0157699e-04 9.9395776e-01 1.1952347e-06\n",
      "  4.2589876e-10 6.1584625e-04 9.1923065e-09 2.7807528e-05 1.1148859e-08]]\n",
      "Correct Label: 3.0\n",
      "Predicted Label: 3\n",
      "Logits: [[  4.3521576  10.03054     0.8354736   4.985006    3.0509224  -9.487432\n",
      "    2.117362   -4.1304245  -1.6033931 -10.494441 ]]\n",
      "Softmax Probabilities: [[3.3809969e-03 9.8886067e-01 1.0040804e-04 6.3663027e-03 9.2029170e-04\n",
      "  3.3005627e-09 3.6181402e-04 7.0001306e-07 8.7615663e-06 1.2057256e-09]]\n",
      "Correct Label: 1.0\n",
      "Predicted Label: 1\n",
      "Logits: [[  2.1935666   1.0462592   4.4484954   4.547992    6.7915506  -8.843055\n",
      "    2.6317103  -6.335557    4.646341  -11.101341 ]]\n",
      "Softmax Probabilities: [[7.4716769e-03 2.3721864e-03 7.1239576e-02 7.8692302e-02 7.4181789e-01\n",
      "  1.2030245e-07 1.1579812e-02 1.4766138e-06 8.6824946e-02 1.2575159e-08]]\n",
      "Correct Label: 4.0\n",
      "Predicted Label: 4\n",
      "Logits: [[ 3.0892756  -2.1558194   0.17550248 -3.859624    0.6461139  -7.3124022\n",
      "   0.78999245 -3.6496968  14.545822   -2.3289845 ]]\n",
      "Softmax Probabilities: [[1.05798417e-05 5.57909345e-08 5.74174351e-07 1.01533875e-08\n",
      "  9.19237664e-07 3.21430993e-10 1.06148343e-06 1.25250921e-08\n",
      "  9.99986649e-01 4.69200536e-08]]\n",
      "Correct Label: 8.0\n",
      "Predicted Label: 8\n",
      "Logits: [[  3.8530653   3.9624538  15.467679    5.4758034  14.075063  -15.831744\n",
      "    9.795323  -20.9347      5.0075326 -21.294172 ]]\n",
      "Softmax Probabilities: [[7.2151893e-06 8.0492327e-06 7.9874891e-01 3.6558959e-05 1.9842879e-01\n",
      "  2.0381845e-14 2.7474989e-03 1.2389630e-16 2.2888989e-05 8.6484982e-17]]\n",
      "Correct Label: 4.0\n",
      "Predicted Label: 2\n"
     ]
    },
    {
     "name": "stderr",
     "output_type": "stream",
     "text": [
      "/var/folders/83/s01xl68d2q3gdtkbr5ptq6nc0000gn/T/ipykernel_4978/3303586380.py:11: FutureWarning: Series.__getitem__ treating keys as positions is deprecated. In a future version, integer keys will always be treated as labels (consistent with DataFrame behavior). To access a value by position, use `ser.iloc[pos]`\n",
      "  true_label = row[-1]\n"
     ]
    },
    {
     "data": {
      "image/png": "[encoded data removed]",
      "text/plain": [
       "<Figure size 1000x500 with 3 Axes>"
      ]
     },
     "metadata": {},
     "output_type": "display_data"
    }
   ],
   "source": [
    "# Example: Show 3 incorrect predictions\n",
    "print(\"Examples of Incorrect Predictions:\")\n",
    "display_examples(train_df, model, correct=False, num_examples=3)\n",
    "plt.show()"
   ]
  },
  {
   "cell_type": "code",
   "execution_count": 74,
   "id": "34d5a1dd-084d-4245-84ed-a32898f82d03",
   "metadata": {},
   "outputs": [],
   "source": [
    "def create_tensorboard_visualization(model_path, dataloader, log_dir=\"runs/fashion_mnist\"):\n",
    "    \"\"\"\n",
    "    Reads the trained model, creates a TensorBoard visualization of the data,\n",
    "    and visualizes the embedding space with labels and images.\n",
    "\n",
    "    Args:\n",
    "        model_path (str): Path to the trained model file.\n",
    "        dataloader (DataLoader): DataLoader for the dataset.\n",
    "        log_dir (str): Directory where TensorBoard logs will be saved.\n",
    "\n",
    "    Returns:\n",
    "        None\n",
    "    \"\"\"\n",
    "    # Load the trained model\n",
    "    model = SimpleNN(input_size=28*28, hidden_size=256, num_classes=10)\n",
    "    model.load_state_dict(torch.load(model_path))\n",
    "    model.eval()  # Set to evaluation mode\n",
    "    \n",
    "    # Initialize TensorBoard writer\n",
    "    writer = SummaryWriter(log_dir=log_dir)\n",
    "    \n",
    "    # Store features and labels for embedding visualization\n",
    "    features_list = []\n",
    "    labels_list = []\n",
    "    images_list = []\n",
    "\n",
    "    # Collect data from the DataLoader\n",
    "    with torch.no_grad():\n",
    "        for batch_idx, (images, labels) in enumerate(dataloader):\n",
    "            # Get the raw embeddings (output before the final layer)\n",
    "            embeddings = model.fc1(images)  # Extract embeddings from the first layer\n",
    "            features_list.append(embeddings)\n",
    "            labels_list.append(labels)\n",
    "            images_list.append(images)\n",
    "    \n",
    "    # Concatenate all features and labels\n",
    "    features = torch.cat(features_list, dim=0)\n",
    "    labels = torch.cat(labels_list, dim=0)\n",
    "    images = torch.cat(images_list, dim=0)\n",
    "    \n",
    "    # Log embeddings to TensorBoard\n",
    "    writer.add_embedding(\n",
    "        features,\n",
    "        metadata=labels.numpy(),\n",
    "        label_img=images.view(-1, 1, 28, 28),  # Reshape to image format\n",
    "        global_step=0\n",
    "    )\n",
    "\n",
    "    # Optionally visualize some sample images in TensorBoard\n",
    "    grid = make_grid(images[:64].view(-1, 1, 28, 28), nrow=8, normalize=True)\n",
    "    writer.add_image(\"FashionMNIST Samples\", grid, global_step=0)\n",
    "    \n",
    "    # Close the writer\n",
    "    writer.close()\n",
    "    print(f\"TensorBoard logs saved to: {log_dir}\")\n"
   ]
  },
  {
   "cell_type": "code",
   "execution_count": 75,
   "id": "f7c73c35-8be9-4551-b29d-a9d8ffde641c",
   "metadata": {},
   "outputs": [
    {
     "name": "stdout",
     "output_type": "stream",
     "text": [
      "TensorBoard logs saved to: runs/fashion_mnist\n"
     ]
    }
   ],
   "source": [
    "create_tensorboard_visualization(\"fashion_mnist_model.pth\", test_loader)"
   ]
  },
  {
   "cell_type": "code",
   "execution_count": null,
   "id": "d1b44d41-41fc-4cc6-90b3-f931f6a9c2f9",
   "metadata": {},
   "outputs": [],
   "source": []
  },
  {
   "cell_type": "code",
   "execution_count": null,
   "id": "20a5044a-a840-43ee-b522-65fc20c9b2ac",
   "metadata": {},
   "outputs": [],
   "source": []
  },
  {
   "cell_type": "code",
   "execution_count": null,
   "id": "69d80dad-9230-4337-9c22-45dbf7260222",
   "metadata": {},
   "outputs": [],
   "source": []
  }
 ],
 "metadata": {
  "kernelspec": {
   "display_name": "Python 3 (ipykernel)",
   "language": "python",
   "name": "python3"
  },
  "language_info": {
   "codemirror_mode": {
    "name": "ipython",
    "version": 3
   },
   "file_extension": ".py",
   "mimetype": "text/x-python",
   "name": "python",
   "nbconvert_exporter": "python",
   "pygments_lexer": "ipython3",
   "version": "3.9.6"
  }
 },
 "nbformat": 4,
 "nbformat_minor": 5
}
