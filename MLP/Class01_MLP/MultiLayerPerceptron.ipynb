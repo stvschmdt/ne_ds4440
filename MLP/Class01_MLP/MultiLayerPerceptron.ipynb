{
  "cells": [
    {
      "cell_type": "markdown",
      "metadata": {
        "id": "DHDMQyA1Bs-i"
      },
      "source": [
        "# DS4440 - Practical Neural Networks\n",
        "## Week 2 : Image Classification using Multi Layer Perceptron\n",
        "\n",
        "___\n",
        "**Instructor** : Prof. Steve Schmidt <br/>\n",
        "**Teaching Assistants** : Vishwajeet Hogale (hogale.v@northeastern.edu) | Chaitanya Agarwal (agarwal.cha@northeastern.edu)"
      ]
    },
    {
      "cell_type": "markdown",
      "metadata": {
        "id": "5ir5849DYWXs"
      },
      "source": [
        "## Problem Statement\n",
        "\n",
        "Imagine we are working with the Fashion MNIST dataset, a collection of grayscale images representing various fashion items such as shirts, shoes, and bags. By analyzing features such as pixel intensity and patterns in the images, we can uncover insights into how models process and classify visual data.\n",
        "<br/>\n",
        "\n",
        "**Our goal is to take an image as an input and predict the class of the fashion item from the dataset.**\n",
        "<br/>\n",
        "We will demonstrate **both**:\n",
        "- **Binary classification** (classes 0 vs. 1, i.e. T-shirt vs. Trouser)\n",
        "- **Multi-class classification** (all 10 classes)\n",
        "<br/>\n",
        "To accomplish this goal, we will use the **Multi Layer Perceptron**.\n",
        "\n",
        "<br/>\n",
        "\n",
        "\n",
        "In this notebook, we'll follow the **six** key sections below:\n",
        "1. **Data Gathering**\n",
        "2. **Data Wrangling**\n",
        "3. **Feature Understanding & Preprocessing**\n",
        "4. **Model Building**\n",
        "5. **Model Validation**\n",
        "6. **Results and Conclusions**\n",
        "\n",
        "Let's dive in and explore how neural networks can tackle this exciting problem!"
      ]
    },
    {
      "cell_type": "markdown",
      "metadata": {
        "id": "cL7mZcKvkWiy"
      },
      "source": [
        "## 0. Setup and Load libraries"
      ]
    },
    {
      "cell_type": "markdown",
      "source": [
        "The below cell helps you download all the necessary libraries or packages required to run this notebook without running into any errors."
      ],
      "metadata": {
        "id": "MrYBlWWyF7u-"
      }
    },
    {
      "cell_type": "code",
      "execution_count": null,
      "metadata": {
        "id": "Aaa1u1vJBs-k"
      },
      "outputs": [],
      "source": [
        "! pip install -r ../../requirements.txt"
      ]
    },
    {
      "cell_type": "markdown",
      "metadata": {
        "id": "L3i02saLeFpi"
      },
      "source": [
        "## 1. Data Gathering"
      ]
    },
    {
      "cell_type": "markdown",
      "source": [
        "### **About the Dataset**\n",
        "\n",
        "The Fashion MNIST dataset consists of **70,000 labeled grayscale images**, each with a resolution of **28x28 pixels and 10 distinct classes**. This structured dataset allows us to experiment with building and training models, tuning hyperparameters, and evaluating performance.\n",
        "\n",
        "\n",
        "Each training and test example is assigned to one of the following labels:\n",
        "\n",
        "0 T-shirt/top<br/>\n",
        "1 Trouser<br/>\n",
        "2 Pullover<br/>\n",
        "3 Dress<br/>\n",
        "4 Coat<br/>\n",
        "5 Sandal<br/>\n",
        "6 Shirt<br/>\n",
        "7 Sneaker<br/>\n",
        "8 Bag<br/>\n",
        "9 Ankle boot\n",
        "<br/>\n",
        "<br/>\n",
        "\n",
        "**Dataset Source**\n",
        "<br/>\n",
        "The Fashion MNIST Dataset is a very popular dataset, which is already present in the torch library. What we're going to do is that we will fetch this dataset from torch and download it in our current working directory.\n",
        "<br/><br/>\n",
        "\n",
        "**What is the below cell doing?**<br/>\n",
        "To build a model, it is very important to have a train and test split. Train split helps with training the model. And test split helps with evaluating the performance of the model. That's exactly what we've done below.\n",
        "\n",
        "- train_dataset stores training images in a directory called as data used for training the model\n",
        "- test_dataset stores testing images in a directory called as data used for evaluating the model\n",
        "\n"
      ],
      "metadata": {
        "id": "Pn9U0jGrIAPr"
      }
    },
    {
      "cell_type": "code",
      "execution_count": 146,
      "metadata": {
        "id": "GFObfWXj3Q2v"
      },
      "outputs": [],
      "source": [
        "import torch\n",
        "from torchvision import datasets, transforms\n",
        "\n",
        "# Load the Fashion MNIST training and test datasets from torch\n",
        "train_dataset = datasets.FashionMNIST(\n",
        "    root='./data/train',  # Directory to download the dataset\n",
        "    train=True,  # Load the training set\n",
        "    download=True\n",
        "\n",
        ")\n",
        "\n",
        "test_dataset = datasets.FashionMNIST(\n",
        "    root='./data/test',\n",
        "    train=False,  # Load the test set\n",
        "    download=True\n",
        ")"
      ]
    },
    {
      "cell_type": "markdown",
      "source": [
        "### Visualize an image from the training dataset"
      ],
      "metadata": {
        "id": "n3lbt3O8U9U0"
      }
    },
    {
      "cell_type": "markdown",
      "source": [
        "Each image belongs to a fashion item that is given a class label.\n",
        "\n",
        "In this instance,<br/>\n",
        "**Ankle boot is represented by the class label 9.**\n",
        "\n"
      ],
      "metadata": {
        "id": "a-e3KP3AWHVk"
      }
    },
    {
      "cell_type": "code",
      "execution_count": 147,
      "metadata": {
        "colab": {
          "base_uri": "https://localhost:8080/"
        },
        "id": "FAuHtO2i6-S2",
        "outputId": "d9ff5ca4-aa50-468c-e3f3-ecd4ac14468c"
      },
      "outputs": [
        {
          "output_type": "execute_result",
          "data": {
            "text/plain": [
              "(<PIL.Image.Image image mode=L size=28x28>, 9)"
            ]
          },
          "metadata": {},
          "execution_count": 147
        }
      ],
      "source": [
        "image, label = train_dataset[0]  # Access the first image and label\n",
        "image, label"
      ]
    },
    {
      "cell_type": "markdown",
      "source": [
        "To visualize the image, it should be converted to a numpy array so that visualization library can help display the image."
      ],
      "metadata": {
        "id": "gk18PGOzWTsK"
      }
    },
    {
      "cell_type": "code",
      "source": [
        "import numpy as np\n",
        "image = np.array(image)"
      ],
      "metadata": {
        "id": "SLgOcGiRWF26"
      },
      "execution_count": 148,
      "outputs": []
    },
    {
      "cell_type": "markdown",
      "source": [
        "Display the image"
      ],
      "metadata": {
        "id": "kJjKpB_4WmAR"
      }
    },
    {
      "cell_type": "code",
      "source": [
        "import matplotlib.pyplot as plt\n",
        "\n",
        "plt.imshow(image, cmap='gray')\n",
        "plt.title(f\"Label: {label} : Shoe\")\n",
        "plt.axis('off')  # Turn off axes for clarity\n",
        "plt.show()"
      ],
      "metadata": {
        "colab": {
          "base_uri": "https://localhost:8080/",
          "height": 428
        },
        "id": "MuS-PofUWh-3",
        "outputId": "e9430fbb-5844-4c65-d489-c7286e775ff2"
      },
      "execution_count": 149,
      "outputs": [
        {
          "output_type": "display_data",
          "data": {
            "text/plain": [
              "<Figure size 640x480 with 1 Axes>"
            ],
            "image/png": "[encoded data removed]"
          },
          "metadata": {}
        }
      ]
    },
    {
      "cell_type": "markdown",
      "metadata": {
        "id": "CHPF3B1rg8Zh"
      },
      "source": [
        "## 2. Data Wrangling"
      ]
    },
    {
      "cell_type": "markdown",
      "metadata": {
        "id": "HGKMYTAlhELB"
      },
      "source": [
        "### Check the size of the training dataset"
      ]
    },
    {
      "cell_type": "code",
      "execution_count": 150,
      "metadata": {
        "colab": {
          "base_uri": "https://localhost:8080/"
        },
        "id": "2ppjGGRzfyJH",
        "outputId": "10884508-20e2-4b9f-b406-5f6a399dcf1e"
      },
      "outputs": [
        {
          "output_type": "stream",
          "name": "stdout",
          "text": [
            "The training dataset has 60000 images\n",
            "The testing dataset has 10000 images\n"
          ]
        }
      ],
      "source": [
        "num_images_train = len(train_dataset)\n",
        "num_images_test = len(test_dataset)\n",
        "print(f\"The training dataset has {num_images_train} images\")\n",
        "print(f\"The testing dataset has {num_images_test} images\")"
      ]
    },
    {
      "cell_type": "markdown",
      "metadata": {
        "id": "XKyrO7d_j0SP"
      },
      "source": [
        "### Explore the class distribution in all the fashion class labels"
      ]
    },
    {
      "cell_type": "code",
      "execution_count": 151,
      "metadata": {
        "colab": {
          "base_uri": "https://localhost:8080/",
          "height": 564
        },
        "id": "gOUNf5VLjBcK",
        "outputId": "c425fb16-704f-40fe-de3f-8a830449a50a"
      },
      "outputs": [
        {
          "output_type": "display_data",
          "data": {
            "text/plain": [
              "<Figure size 1000x600 with 1 Axes>"
            ],
            "image/png": "[encoded data removed]"
          },
          "metadata": {}
        }
      ],
      "source": [
        "# Get the labels from the dataset\n",
        "labels = np.array(train_dataset.targets)\n",
        "\n",
        "# Count the occurrences of each class label (0 to 9)\n",
        "unique_labels, counts = np.unique(labels, return_counts=True)\n",
        "\n",
        "# Plot the class distribution as a bar chart\n",
        "plt.figure(figsize=(10,6))\n",
        "plt.bar(unique_labels, counts, color='skyblue')\n",
        "plt.xlabel('Class Label')\n",
        "plt.ylabel('Frequency')\n",
        "plt.title('Class Label Distribution in Fashion MNIST')\n",
        "plt.xticks(unique_labels)  # Set x-ticks to be the class labels\n",
        "plt.show()"
      ]
    },
    {
      "cell_type": "markdown",
      "source": [
        "#### Insights\n",
        "- There are 6000 images in each fashion item class which makes it a well distributed dataset without any class imbalance."
      ],
      "metadata": {
        "id": "jxeUlPAmcXFx"
      }
    },
    {
      "cell_type": "markdown",
      "metadata": {
        "id": "_wAaaQXwRc6O"
      },
      "source": [
        "## 3. Feature Understanding & Preprocessing"
      ]
    },
    {
      "cell_type": "markdown",
      "source": [
        "### Model Dataset creation\n",
        "The following cell converts the images in the data directory into a dataframe, where each row represents the pixel values of a 28x28 image which will be used by the MLP model. For the purposes of this notebook, lets assume you were given the dataframe. You may choose to ignore the below two cells.\n"
      ],
      "metadata": {
        "id": "tXcAUpvge8P6"
      }
    },
    {
      "cell_type": "code",
      "source": [
        "import pandas as pd\n",
        "\n",
        "\n",
        "# function to convert the fashionMNIST dataset to a dataframe\n",
        "# flattens each 28x28 image into 784 columns, plus 1 column for label => 'target'.\n",
        "\n",
        "def build_df(dataset):\n",
        "    num_samples = len(dataset)\n",
        "    images = np.zeros((num_samples, 28 * 28), dtype=np.uint8)  # 28x28 flattened\n",
        "    labels = np.zeros(num_samples, dtype=np.uint8)\n",
        "\n",
        "    # Populate arrays in a single loop\n",
        "    for i, (img_pil, label) in enumerate(dataset):\n",
        "        images[i, :] = np.array(img_pil).flatten()  # Convert and flatten image\n",
        "        labels[i] = label\n",
        "\n",
        "    # Convert to DataFrame\n",
        "    df = pd.DataFrame(images)\n",
        "    df['target'] = labels\n",
        "\n",
        "    return df\n"
      ],
      "metadata": {
        "id": "8YifGx84cj__"
      },
      "execution_count": 152,
      "outputs": []
    },
    {
      "cell_type": "code",
      "source": [
        "# build DataFrames for train and test\n",
        "df_train = build_df(train_dataset)\n",
        "df_test = build_df(test_dataset)\n",
        "\n",
        "print(\"df_train shape:\", df_train.shape)  # expect (60000, 785)\n",
        "print(\"df_test shape: \", df_test.shape)   # expect (10000, 785)\n",
        "\n",
        "df_train.head()"
      ],
      "metadata": {
        "id": "uYjq9VMdf4d8",
        "colab": {
          "base_uri": "https://localhost:8080/",
          "height": 267
        },
        "outputId": "226ea39b-bfc5-4d1e-bb46-92ff79c2a9bf"
      },
      "execution_count": 153,
      "outputs": [
        {
          "output_type": "stream",
          "name": "stdout",
          "text": [
            "df_train shape: (60000, 785)\n",
            "df_test shape:  (10000, 785)\n"
          ]
        },
        {
          "output_type": "execute_result",
          "data": {
            "text/plain": [
              "   0  1  2  3  4  5  6  7   8   9  ...  775  776  777  778  779  780  781  \\\n",
              "0  0  0  0  0  0  0  0  0   0   0  ...    0    0    0    0    0    0    0   \n",
              "1  0  0  0  0  0  1  0  0   0   0  ...  114  130   76    0    0    0    0   \n",
              "2  0  0  0  0  0  0  0  0   0  22  ...    0    1    0    0    0    0    0   \n",
              "3  0  0  0  0  0  0  0  0  33  96  ...    0    0    0    0    0    0    0   \n",
              "4  0  0  0  0  0  0  0  0   0   0  ...    0    0    0    0    0    0    0   \n",
              "\n",
              "   782  783  target  \n",
              "0    0    0       9  \n",
              "1    0    0       0  \n",
              "2    0    0       0  \n",
              "3    0    0       3  \n",
              "4    0    0       0  \n",
              "\n",
              "[5 rows x 785 columns]"
            ],
            "text/html": [
              "\n",
              "  <div id=\"df-261fec3d-8c76-49b5-bdfa-a4da8d6c4b0e\" class=\"colab-df-container\">\n",
              "    <div>\n",
              "<style scoped>\n",
              "    .dataframe tbody tr th:only-of-type {\n",
              "        vertical-align: middle;\n",
              "    }\n",
              "\n",
              "    .dataframe tbody tr th {\n",
              "        vertical-align: top;\n",
              "    }\n",
              "\n",
              "    .dataframe thead th {\n",
              "        text-align: right;\n",
              "    }\n",
              "</style>\n",
              "<table border=\"1\" class=\"dataframe\">\n",
              "  <thead>\n",
              "    <tr style=\"text-align: right;\">\n",
              "      <th></th>\n",
              "      <th>0</th>\n",
              "      <th>1</th>\n",
              "      <th>2</th>\n",
              "      <th>3</th>\n",
              "      <th>4</th>\n",
              "      <th>5</th>\n",
              "      <th>6</th>\n",
              "      <th>7</th>\n",
              "      <th>8</th>\n",
              "      <th>9</th>\n",
              "      <th>...</th>\n",
              "      <th>775</th>\n",
              "      <th>776</th>\n",
              "      <th>777</th>\n",
              "      <th>778</th>\n",
              "      <th>779</th>\n",
              "      <th>780</th>\n",
              "      <th>781</th>\n",
              "      <th>782</th>\n",
              "      <th>783</th>\n",
              "      <th>target</th>\n",
              "    </tr>\n",
              "  </thead>\n",
              "  <tbody>\n",
              "    <tr>\n",
              "      <th>0</th>\n",
              "      <td>0</td>\n",
              "      <td>0</td>\n",
              "      <td>0</td>\n",
              "      <td>0</td>\n",
              "      <td>0</td>\n",
              "      <td>0</td>\n",
              "      <td>0</td>\n",
              "      <td>0</td>\n",
              "      <td>0</td>\n",
              "      <td>0</td>\n",
              "      <td>...</td>\n",
              "      <td>0</td>\n",
              "      <td>0</td>\n",
              "      <td>0</td>\n",
              "      <td>0</td>\n",
              "      <td>0</td>\n",
              "      <td>0</td>\n",
              "      <td>0</td>\n",
              "      <td>0</td>\n",
              "      <td>0</td>\n",
              "      <td>9</td>\n",
              "    </tr>\n",
              "    <tr>\n",
              "      <th>1</th>\n",
              "      <td>0</td>\n",
              "      <td>0</td>\n",
              "      <td>0</td>\n",
              "      <td>0</td>\n",
              "      <td>0</td>\n",
              "      <td>1</td>\n",
              "      <td>0</td>\n",
              "      <td>0</td>\n",
              "      <td>0</td>\n",
              "      <td>0</td>\n",
              "      <td>...</td>\n",
              "      <td>114</td>\n",
              "      <td>130</td>\n",
              "      <td>76</td>\n",
              "      <td>0</td>\n",
              "      <td>0</td>\n",
              "      <td>0</td>\n",
              "      <td>0</td>\n",
              "      <td>0</td>\n",
              "      <td>0</td>\n",
              "      <td>0</td>\n",
              "    </tr>\n",
              "    <tr>\n",
              "      <th>2</th>\n",
              "      <td>0</td>\n",
              "      <td>0</td>\n",
              "      <td>0</td>\n",
              "      <td>0</td>\n",
              "      <td>0</td>\n",
              "      <td>0</td>\n",
              "      <td>0</td>\n",
              "      <td>0</td>\n",
              "      <td>0</td>\n",
              "      <td>22</td>\n",
              "      <td>...</td>\n",
              "      <td>0</td>\n",
              "      <td>1</td>\n",
              "      <td>0</td>\n",
              "      <td>0</td>\n",
              "      <td>0</td>\n",
              "      <td>0</td>\n",
              "      <td>0</td>\n",
              "      <td>0</td>\n",
              "      <td>0</td>\n",
              "      <td>0</td>\n",
              "    </tr>\n",
              "    <tr>\n",
              "      <th>3</th>\n",
              "      <td>0</td>\n",
              "      <td>0</td>\n",
              "      <td>0</td>\n",
              "      <td>0</td>\n",
              "      <td>0</td>\n",
              "      <td>0</td>\n",
              "      <td>0</td>\n",
              "      <td>0</td>\n",
              "      <td>33</td>\n",
              "      <td>96</td>\n",
              "      <td>...</td>\n",
              "      <td>0</td>\n",
              "      <td>0</td>\n",
              "      <td>0</td>\n",
              "      <td>0</td>\n",
              "      <td>0</td>\n",
              "      <td>0</td>\n",
              "      <td>0</td>\n",
              "      <td>0</td>\n",
              "      <td>0</td>\n",
              "      <td>3</td>\n",
              "    </tr>\n",
              "    <tr>\n",
              "      <th>4</th>\n",
              "      <td>0</td>\n",
              "      <td>0</td>\n",
              "      <td>0</td>\n",
              "      <td>0</td>\n",
              "      <td>0</td>\n",
              "      <td>0</td>\n",
              "      <td>0</td>\n",
              "      <td>0</td>\n",
              "      <td>0</td>\n",
              "      <td>0</td>\n",
              "      <td>...</td>\n",
              "      <td>0</td>\n",
              "      <td>0</td>\n",
              "      <td>0</td>\n",
              "      <td>0</td>\n",
              "      <td>0</td>\n",
              "      <td>0</td>\n",
              "      <td>0</td>\n",
              "      <td>0</td>\n",
              "      <td>0</td>\n",
              "      <td>0</td>\n",
              "    </tr>\n",
              "  </tbody>\n",
              "</table>\n",
              "<p>5 rows × 785 columns</p>\n",
              "</div>\n",
              "    <div class=\"colab-df-buttons\">\n",
              "\n",
              "  <div class=\"colab-df-container\">\n",
              "    <button class=\"colab-df-convert\" onclick=\"convertToInteractive('df-261fec3d-8c76-49b5-bdfa-a4da8d6c4b0e')\"\n",
              "            title=\"Convert this dataframe to an interactive table.\"\n",
              "            style=\"display:none;\">\n",
              "\n",
              "  <svg xmlns=\"http://www.w3.org/2000/svg\" height=\"24px\" viewBox=\"0 -960 960 960\">\n",
              "    <path d=\"M120-120v-720h720v720H120Zm60-500h600v-160H180v160Zm220 220h160v-160H400v160Zm0 220h160v-160H400v160ZM180-400h160v-160H180v160Zm440 0h160v-160H620v160ZM180-180h160v-160H180v160Zm440 0h160v-160H620v160Z\"/>\n",
              "  </svg>\n",
              "    </button>\n",
              "\n",
              "  <style>\n",
              "    .colab-df-container {\n",
              "      display:flex;\n",
              "      gap: 12px;\n",
              "    }\n",
              "\n",
              "    .colab-df-convert {\n",
              "      background-color: #E8F0FE;\n",
              "      border: none;\n",
              "      border-radius: 50%;\n",
              "      cursor: pointer;\n",
              "      display: none;\n",
              "      fill: #1967D2;\n",
              "      height: 32px;\n",
              "      padding: 0 0 0 0;\n",
              "      width: 32px;\n",
              "    }\n",
              "\n",
              "    .colab-df-convert:hover {\n",
              "      background-color: #E2EBFA;\n",
              "      box-shadow: 0px 1px 2px rgba(60, 64, 67, 0.3), 0px 1px 3px 1px rgba(60, 64, 67, 0.15);\n",
              "      fill: #174EA6;\n",
              "    }\n",
              "\n",
              "    .colab-df-buttons div {\n",
              "      margin-bottom: 4px;\n",
              "    }\n",
              "\n",
              "    [theme=dark] .colab-df-convert {\n",
              "      background-color: #3B4455;\n",
              "      fill: #D2E3FC;\n",
              "    }\n",
              "\n",
              "    [theme=dark] .colab-df-convert:hover {\n",
              "      background-color: #434B5C;\n",
              "      box-shadow: 0px 1px 3px 1px rgba(0, 0, 0, 0.15);\n",
              "      filter: drop-shadow(0px 1px 2px rgba(0, 0, 0, 0.3));\n",
              "      fill: #FFFFFF;\n",
              "    }\n",
              "  </style>\n",
              "\n",
              "    <script>\n",
              "      const buttonEl =\n",
              "        document.querySelector('#df-261fec3d-8c76-49b5-bdfa-a4da8d6c4b0e button.colab-df-convert');\n",
              "      buttonEl.style.display =\n",
              "        google.colab.kernel.accessAllowed ? 'block' : 'none';\n",
              "\n",
              "      async function convertToInteractive(key) {\n",
              "        const element = document.querySelector('#df-261fec3d-8c76-49b5-bdfa-a4da8d6c4b0e');\n",
              "        const dataTable =\n",
              "          await google.colab.kernel.invokeFunction('convertToInteractive',\n",
              "                                                    [key], {});\n",
              "        if (!dataTable) return;\n",
              "\n",
              "        const docLinkHtml = 'Like what you see? Visit the ' +\n",
              "          '<a target=\"_blank\" href=https://colab.research.google.com/notebooks/data_table.ipynb>data table notebook</a>'\n",
              "          + ' to learn more about interactive tables.';\n",
              "        element.innerHTML = '';\n",
              "        dataTable['output_type'] = 'display_data';\n",
              "        await google.colab.output.renderOutput(dataTable, element);\n",
              "        const docLink = document.createElement('div');\n",
              "        docLink.innerHTML = docLinkHtml;\n",
              "        element.appendChild(docLink);\n",
              "      }\n",
              "    </script>\n",
              "  </div>\n",
              "\n",
              "\n",
              "<div id=\"df-954e2c6f-0f64-4fad-bf0f-4f61f4414ae9\">\n",
              "  <button class=\"colab-df-quickchart\" onclick=\"quickchart('df-954e2c6f-0f64-4fad-bf0f-4f61f4414ae9')\"\n",
              "            title=\"Suggest charts\"\n",
              "            style=\"display:none;\">\n",
              "\n",
              "<svg xmlns=\"http://www.w3.org/2000/svg\" height=\"24px\"viewBox=\"0 0 24 24\"\n",
              "     width=\"24px\">\n",
              "    <g>\n",
              "        <path d=\"M19 3H5c-1.1 0-2 .9-2 2v14c0 1.1.9 2 2 2h14c1.1 0 2-.9 2-2V5c0-1.1-.9-2-2-2zM9 17H7v-7h2v7zm4 0h-2V7h2v10zm4 0h-2v-4h2v4z\"/>\n",
              "    </g>\n",
              "</svg>\n",
              "  </button>\n",
              "\n",
              "<style>\n",
              "  .colab-df-quickchart {\n",
              "      --bg-color: #E8F0FE;\n",
              "      --fill-color: #1967D2;\n",
              "      --hover-bg-color: #E2EBFA;\n",
              "      --hover-fill-color: #174EA6;\n",
              "      --disabled-fill-color: #AAA;\n",
              "      --disabled-bg-color: #DDD;\n",
              "  }\n",
              "\n",
              "  [theme=dark] .colab-df-quickchart {\n",
              "      --bg-color: #3B4455;\n",
              "      --fill-color: #D2E3FC;\n",
              "      --hover-bg-color: #434B5C;\n",
              "      --hover-fill-color: #FFFFFF;\n",
              "      --disabled-bg-color: #3B4455;\n",
              "      --disabled-fill-color: #666;\n",
              "  }\n",
              "\n",
              "  .colab-df-quickchart {\n",
              "    background-color: var(--bg-color);\n",
              "    border: none;\n",
              "    border-radius: 50%;\n",
              "    cursor: pointer;\n",
              "    display: none;\n",
              "    fill: var(--fill-color);\n",
              "    height: 32px;\n",
              "    padding: 0;\n",
              "    width: 32px;\n",
              "  }\n",
              "\n",
              "  .colab-df-quickchart:hover {\n",
              "    background-color: var(--hover-bg-color);\n",
              "    box-shadow: 0 1px 2px rgba(60, 64, 67, 0.3), 0 1px 3px 1px rgba(60, 64, 67, 0.15);\n",
              "    fill: var(--button-hover-fill-color);\n",
              "  }\n",
              "\n",
              "  .colab-df-quickchart-complete:disabled,\n",
              "  .colab-df-quickchart-complete:disabled:hover {\n",
              "    background-color: var(--disabled-bg-color);\n",
              "    fill: var(--disabled-fill-color);\n",
              "    box-shadow: none;\n",
              "  }\n",
              "\n",
              "  .colab-df-spinner {\n",
              "    border: 2px solid var(--fill-color);\n",
              "    border-color: transparent;\n",
              "    border-bottom-color: var(--fill-color);\n",
              "    animation:\n",
              "      spin 1s steps(1) infinite;\n",
              "  }\n",
              "\n",
              "  @keyframes spin {\n",
              "    0% {\n",
              "      border-color: transparent;\n",
              "      border-bottom-color: var(--fill-color);\n",
              "      border-left-color: var(--fill-color);\n",
              "    }\n",
              "    20% {\n",
              "      border-color: transparent;\n",
              "      border-left-color: var(--fill-color);\n",
              "      border-top-color: var(--fill-color);\n",
              "    }\n",
              "    30% {\n",
              "      border-color: transparent;\n",
              "      border-left-color: var(--fill-color);\n",
              "      border-top-color: var(--fill-color);\n",
              "      border-right-color: var(--fill-color);\n",
              "    }\n",
              "    40% {\n",
              "      border-color: transparent;\n",
              "      border-right-color: var(--fill-color);\n",
              "      border-top-color: var(--fill-color);\n",
              "    }\n",
              "    60% {\n",
              "      border-color: transparent;\n",
              "      border-right-color: var(--fill-color);\n",
              "    }\n",
              "    80% {\n",
              "      border-color: transparent;\n",
              "      border-right-color: var(--fill-color);\n",
              "      border-bottom-color: var(--fill-color);\n",
              "    }\n",
              "    90% {\n",
              "      border-color: transparent;\n",
              "      border-bottom-color: var(--fill-color);\n",
              "    }\n",
              "  }\n",
              "</style>\n",
              "\n",
              "  <script>\n",
              "    async function quickchart(key) {\n",
              "      const quickchartButtonEl =\n",
              "        document.querySelector('#' + key + ' button');\n",
              "      quickchartButtonEl.disabled = true;  // To prevent multiple clicks.\n",
              "      quickchartButtonEl.classList.add('colab-df-spinner');\n",
              "      try {\n",
              "        const charts = await google.colab.kernel.invokeFunction(\n",
              "            'suggestCharts', [key], {});\n",
              "      } catch (error) {\n",
              "        console.error('Error during call to suggestCharts:', error);\n",
              "      }\n",
              "      quickchartButtonEl.classList.remove('colab-df-spinner');\n",
              "      quickchartButtonEl.classList.add('colab-df-quickchart-complete');\n",
              "    }\n",
              "    (() => {\n",
              "      let quickchartButtonEl =\n",
              "        document.querySelector('#df-954e2c6f-0f64-4fad-bf0f-4f61f4414ae9 button');\n",
              "      quickchartButtonEl.style.display =\n",
              "        google.colab.kernel.accessAllowed ? 'block' : 'none';\n",
              "    })();\n",
              "  </script>\n",
              "</div>\n",
              "\n",
              "    </div>\n",
              "  </div>\n"
            ],
            "application/vnd.google.colaboratory.intrinsic+json": {
              "type": "dataframe",
              "variable_name": "df_train"
            }
          },
          "metadata": {},
          "execution_count": 153
        }
      ]
    },
    {
      "cell_type": "code",
      "source": [
        "# build separate DataFrames for binary and multi for train & test\n",
        "# binary DF: only rows where target is 0 or 1\n",
        "binary_classes = [0, 1]\n",
        "\n",
        "# filter the training dataset\n",
        "# create a boolean mask where the target column is either 0 or 1\n",
        "train_mask = df_train['target'].isin(binary_classes)\n",
        "\n",
        "# use the mask to filter the rows from the training dataset\n",
        "df_train_bin = df_train[train_mask].copy()\n",
        "\n",
        "# repeat for testing dataset\n",
        "test_mask = df_test['target'].isin(binary_classes)\n",
        "df_test_bin = df_test[test_mask].copy()\n",
        "\n",
        "# multi-class DF: we keep all classes 0..9\n",
        "df_train_multi = df_train.copy()\n",
        "df_test_multi = df_test.copy()\n",
        "\n",
        "print(\"Binary train shape:\", df_train_bin.shape)\n",
        "print(\"Binary test shape: \", df_test_bin.shape)\n",
        "print(\"Multi-class train shape:\", df_train_multi.shape)\n",
        "print(\"Multi-class test shape: \", df_test_multi.shape)"
      ],
      "metadata": {
        "colab": {
          "base_uri": "https://localhost:8080/"
        },
        "id": "r3R984kNgep6",
        "outputId": "40c47ef3-7013-4705-db33-81041ba85d5b"
      },
      "execution_count": 154,
      "outputs": [
        {
          "output_type": "stream",
          "name": "stdout",
          "text": [
            "Binary train shape: (12000, 785)\n",
            "Binary test shape:  (2000, 785)\n",
            "Multi-class train shape: (60000, 785)\n",
            "Multi-class test shape:  (10000, 785)\n"
          ]
        }
      ]
    },
    {
      "cell_type": "code",
      "source": [
        "# convert from DataFrame to X,y arrays\n",
        "def df_to_numpy(df):\n",
        "    # separate features from target\n",
        "    X = df.drop(columns=['target']).values  # shape (N,784)\n",
        "    y = df['target'].values  # shape (N,)\n",
        "    return X, y"
      ],
      "metadata": {
        "id": "RzrW4xPoIHCO"
      },
      "execution_count": 155,
      "outputs": []
    },
    {
      "cell_type": "code",
      "source": [
        "X_train_bin, y_train_bin = df_to_numpy(df_train_bin)\n",
        "X_test_bin, y_test_bin = df_to_numpy(df_test_bin)\n",
        "\n",
        "# multi\n",
        "X_train_multi, y_train_multi = df_to_numpy(df_train_multi)\n",
        "X_test_multi, y_test_multi = df_to_numpy(df_test_multi)\n",
        "\n",
        "print(\"Binary train:\", X_train_bin.shape, y_train_bin.shape)\n",
        "print(\"Multi train: \", X_train_multi.shape, y_train_multi.shape)"
      ],
      "metadata": {
        "colab": {
          "base_uri": "https://localhost:8080/"
        },
        "id": "9XZp8PXKf21B",
        "outputId": "19a878b7-41df-4e69-e216-39772e5ab256"
      },
      "execution_count": 156,
      "outputs": [
        {
          "output_type": "stream",
          "name": "stdout",
          "text": [
            "Binary train: (12000, 784) (12000,)\n",
            "Multi train:  (60000, 784) (60000,)\n"
          ]
        }
      ]
    },
    {
      "cell_type": "code",
      "source": [
        "# the data passed to the model will look like this:\n",
        "X_train_bin"
      ],
      "metadata": {
        "colab": {
          "base_uri": "https://localhost:8080/"
        },
        "id": "aFKwNZwEgFHS",
        "outputId": "9e960791-90f3-4985-c1dc-d9c0034d1ce2"
      },
      "execution_count": 157,
      "outputs": [
        {
          "output_type": "execute_result",
          "data": {
            "text/plain": [
              "array([[0, 0, 0, ..., 0, 0, 0],\n",
              "       [0, 0, 0, ..., 0, 0, 0],\n",
              "       [0, 0, 0, ..., 0, 0, 0],\n",
              "       ...,\n",
              "       [0, 0, 0, ..., 0, 0, 0],\n",
              "       [0, 0, 0, ..., 0, 0, 0],\n",
              "       [0, 0, 0, ..., 0, 0, 0]], dtype=uint8)"
            ]
          },
          "metadata": {},
          "execution_count": 157
        }
      ]
    },
    {
      "cell_type": "code",
      "source": [
        "# to save the dataframe as a csv file, we can use:\n",
        "#df.to_csv(\"Image_Dataset.csv\")"
      ],
      "metadata": {
        "id": "xAlGmzlfiWpO"
      },
      "execution_count": 158,
      "outputs": []
    },
    {
      "cell_type": "markdown",
      "metadata": {
        "id": "fzyS7xHInJKo"
      },
      "source": [
        "## 4. Model Building"
      ]
    },
    {
      "cell_type": "code",
      "source": [
        "# function to manually create batches\n",
        "def create_batches(X, y, batch_size=64, model=None):\n",
        "    num_samples = len(X)\n",
        "    for start in range(0, num_samples, batch_size):\n",
        "        end = start + batch_size\n",
        "        batch_X = X[start:end]\n",
        "        batch_y = y[start:end]\n",
        "        # convert to torch Tensors\n",
        "        batch_X_t = torch.tensor(batch_X, dtype=torch.float32)\n",
        "        if model==\"MultiClassMLP\":\n",
        "            batch_y_t = torch.tensor(batch_y, dtype=torch.long)\n",
        "        else:\n",
        "          batch_y_t = torch.tensor(batch_y, dtype=torch.float32) # For binary classification, the target (batch_y_t) is typically expected as a torch.float32 tensor\n",
        "        yield batch_X_t, batch_y_t"
      ],
      "metadata": {
        "id": "msvv2aPnYkg7"
      },
      "execution_count": 159,
      "outputs": []
    },
    {
      "cell_type": "code",
      "source": [
        "# hyperparameters\n",
        "import torch.nn as nn\n",
        "\n",
        "lr = 0.0001 # learning rate\n",
        "epochs = 50\n",
        "batch_size = 64\n",
        "num_classes = 10  # number of classes in FashionMNIST\n",
        "\n",
        "\n",
        "activation = nn.ReLU()\n",
        "\n",
        "print('Learning rate:', lr)\n",
        "print('Batch size:', batch_size)\n",
        "print('Number of epochs:', epochs)\n",
        "print('Activation function:', activation)"
      ],
      "metadata": {
        "id": "gX5qguSzDB1l",
        "colab": {
          "base_uri": "https://localhost:8080/"
        },
        "outputId": "d42f137d-785f-4a49-a07b-7b559fcbb843"
      },
      "execution_count": 160,
      "outputs": [
        {
          "output_type": "stream",
          "name": "stdout",
          "text": [
            "Learning rate: 0.0001\n",
            "Batch size: 64\n",
            "Number of epochs: 50\n",
            "Activation function: ReLU()\n"
          ]
        }
      ]
    },
    {
      "cell_type": "code",
      "execution_count": 161,
      "metadata": {
        "colab": {
          "base_uri": "https://localhost:8080/",
          "height": 119
        },
        "id": "kPpwX-0JzqTq",
        "outputId": "c7e46031-55ff-4266-d034-6f279239a810",
        "collapsed": true
      },
      "outputs": [
        {
          "output_type": "display_data",
          "data": {
            "text/plain": [
              "BinaryMLP(\n",
              "  (fc1): Linear(in_features=784, out_features=64, bias=True)\n",
              "  (activation): ReLU()\n",
              "  (fc2): Linear(in_features=64, out_features=1, bias=True)\n",
              "  (sigmoid): Sigmoid()\n",
              ")"
            ]
          },
          "metadata": {}
        }
      ],
      "source": [
        "# MLP architecture for binary classification\n",
        "class BinaryMLP(nn.Module):\n",
        "    def __init__(self, input_size, hidden_size=64):\n",
        "        super().__init__()\n",
        "        self.fc1 = nn.Linear(input_size, hidden_size)\n",
        "        self.activation = activation\n",
        "        self.fc2 = nn.Linear(hidden_size, 1)\n",
        "        self.sigmoid = nn.Sigmoid()\n",
        "\n",
        "    def forward(self, x):\n",
        "        out = self.fc1(x)\n",
        "        out = self.activation(out)\n",
        "        out = self.fc2(out)\n",
        "        out = self.sigmoid(out)\n",
        "        return out  # shape (batch_size, 1)\n",
        "\n",
        "display(BinaryMLP(784))"
      ]
    },
    {
      "cell_type": "code",
      "source": [
        "# MLP architecture for multi-class classification\n",
        "class MultiClassMLP(nn.Module):\n",
        "    def __init__(self, input_size, hidden_size=128, num_classes=10):\n",
        "        super().__init__()\n",
        "        self.fc1 = nn.Linear(input_size, hidden_size)\n",
        "        self.activation = activation\n",
        "        self.fc2 = nn.Linear(hidden_size, num_classes)\n",
        "\n",
        "    def forward(self, x):\n",
        "        out = self.fc1(x)\n",
        "        out = self.activation(out)\n",
        "        out = self.fc2(out)\n",
        "        return out\n",
        "\n",
        "display(MultiClassMLP(784))"
      ],
      "metadata": {
        "colab": {
          "base_uri": "https://localhost:8080/",
          "height": 102
        },
        "id": "OUpu4sfAYS1X",
        "outputId": "3de1fc49-8625-436e-f4eb-cc3cfb8f0af9"
      },
      "execution_count": 162,
      "outputs": [
        {
          "output_type": "display_data",
          "data": {
            "text/plain": [
              "MultiClassMLP(\n",
              "  (fc1): Linear(in_features=784, out_features=128, bias=True)\n",
              "  (activation): ReLU()\n",
              "  (fc2): Linear(in_features=128, out_features=10, bias=True)\n",
              ")"
            ]
          },
          "metadata": {}
        }
      ]
    },
    {
      "cell_type": "code",
      "source": [
        "# training loop\n",
        "def train(model, X_train_np, y_train_np, loss_fn, optimizer, batch_size=64, epochs=5):\n",
        "    model.train()\n",
        "    num_samples = len(X_train_np)\n",
        "    for epoch in range(epochs):\n",
        "        total_loss = 0.0\n",
        "        for X_batch_t, y_batch_t in create_batches(X_train_np, y_train_np, batch_size, model=model.__class__.__name__):\n",
        "            outputs = model(X_batch_t)\n",
        "            # for binary: shape (N,1), need .squeeze()\n",
        "            loss = loss_fn(outputs.squeeze(), y_batch_t)\n",
        "\n",
        "            optimizer.zero_grad()\n",
        "            loss.backward()\n",
        "            optimizer.step()\n",
        "            total_loss += loss.item() * len(X_batch_t)\n",
        "\n",
        "        avg_loss = total_loss / num_samples\n",
        "        print(f\"Epoch [{epoch+1}/{epochs}] - Loss: {avg_loss:.4f}\")\n",
        "\n",
        "\n",
        "        # save the model after every epoch (useful for longer training sessions)\n",
        "        torch.save(model.state_dict(), model.__class__.__name__ + '.pth') # saves it as the model class' name\n",
        "        print(f\"Model saved.\")                                            # example: \"MultiClassMLP.pth\"\n",
        "\n",
        "    # save the model again after the final epoch\n",
        "    torch.save(model.state_dict(), model.__class__.__name__ + '.pth')\n",
        "    print(f\"Final model saved.\")"
      ],
      "metadata": {
        "id": "mO7gLQ6N4Lif"
      },
      "execution_count": 163,
      "outputs": []
    },
    {
      "cell_type": "code",
      "source": [
        "# if we want to load a model, we can use:\n",
        "# model = torch.load(\"model.pth\"))\n",
        "# model.eval()"
      ],
      "metadata": {
        "id": "QYZ9mvzTrgBw"
      },
      "execution_count": 164,
      "outputs": []
    },
    {
      "cell_type": "code",
      "source": [
        "# model inference\n",
        "def predict(model, X, batch_size):\n",
        "    model.eval()  # set the model to evaluation mode\n",
        "    predictions = []\n",
        "\n",
        "    # if X is a NumPy array, convert it to a PyTorch tensor\n",
        "    if isinstance(X, np.ndarray):\n",
        "        X = torch.tensor(X, dtype=torch.float32)\n",
        "\n",
        "    with torch.no_grad():  # disable gradient computation for inference\n",
        "        for X_batch, _ in create_batches(X, np.zeros(len(X)), batch_size, model=model):  # Use dummy labels\n",
        "            outputs = model(X_batch)  # forward pass\n",
        "            predicted_classes = torch.argmax(outputs, dim=1)  # get predicted class index\n",
        "            predictions.extend(predicted_classes.numpy())  # convert to NumPy and append\n",
        "\n",
        "    return np.array(predictions)"
      ],
      "metadata": {
        "id": "bdRFOpNO7kff"
      },
      "execution_count": 165,
      "outputs": []
    },
    {
      "cell_type": "markdown",
      "source": [
        "### Binary MLP runner"
      ],
      "metadata": {
        "id": "06zj6Xkewt15"
      }
    },
    {
      "cell_type": "code",
      "source": [
        "import torch.optim as optim # torch package implementing various optimization algorithms\n",
        "\n",
        "input_size = X_train_bin.shape[1]  # number of features in each sample\n",
        "binary_mlp = BinaryMLP(input_size)       # creating an object of the MLP model class\n",
        "optimizer = optim.SGD(binary_mlp.parameters(), lr=lr) # stochastic gradient descent as optimizer\n",
        "loss_fn = nn.BCELoss()\n",
        "\n",
        "\n",
        "train(binary_mlp, X_train_bin, y_train_bin, loss_fn, optimizer, batch_size=batch_size, epochs=epochs)"
      ],
      "metadata": {
        "colab": {
          "base_uri": "https://localhost:8080/"
        },
        "id": "K-1GpNkw1arn",
        "outputId": "5e1cd360-8228-41d0-cdb9-b29d4d6f57d0"
      },
      "execution_count": 166,
      "outputs": [
        {
          "output_type": "stream",
          "name": "stdout",
          "text": [
            "Epoch [1/50] - Loss: 4.3814\n",
            "Model saved.\n",
            "Epoch [2/50] - Loss: 0.1987\n",
            "Model saved.\n",
            "Epoch [3/50] - Loss: 0.1437\n",
            "Model saved.\n",
            "Epoch [4/50] - Loss: 0.1227\n",
            "Model saved.\n",
            "Epoch [5/50] - Loss: 0.1092\n",
            "Model saved.\n",
            "Epoch [6/50] - Loss: 0.0996\n",
            "Model saved.\n",
            "Epoch [7/50] - Loss: 0.0920\n",
            "Model saved.\n",
            "Epoch [8/50] - Loss: 0.0857\n",
            "Model saved.\n",
            "Epoch [9/50] - Loss: 0.0803\n",
            "Model saved.\n",
            "Epoch [10/50] - Loss: 0.0755\n",
            "Model saved.\n",
            "Epoch [11/50] - Loss: 0.0714\n",
            "Model saved.\n",
            "Epoch [12/50] - Loss: 0.0677\n",
            "Model saved.\n",
            "Epoch [13/50] - Loss: 0.0644\n",
            "Model saved.\n",
            "Epoch [14/50] - Loss: 0.0615\n",
            "Model saved.\n",
            "Epoch [15/50] - Loss: 0.0588\n",
            "Model saved.\n",
            "Epoch [16/50] - Loss: 0.0564\n",
            "Model saved.\n",
            "Epoch [17/50] - Loss: 0.0543\n",
            "Model saved.\n",
            "Epoch [18/50] - Loss: 0.0522\n",
            "Model saved.\n",
            "Epoch [19/50] - Loss: 0.0504\n",
            "Model saved.\n",
            "Epoch [20/50] - Loss: 0.0488\n",
            "Model saved.\n",
            "Epoch [21/50] - Loss: 0.0473\n",
            "Model saved.\n",
            "Epoch [22/50] - Loss: 0.0388\n",
            "Model saved.\n",
            "Epoch [23/50] - Loss: 0.0306\n",
            "Model saved.\n",
            "Epoch [24/50] - Loss: 0.0292\n",
            "Model saved.\n",
            "Epoch [25/50] - Loss: 0.0279\n",
            "Model saved.\n",
            "Epoch [26/50] - Loss: 0.0268\n",
            "Model saved.\n",
            "Epoch [27/50] - Loss: 0.0257\n",
            "Model saved.\n",
            "Epoch [28/50] - Loss: 0.0247\n",
            "Model saved.\n",
            "Epoch [29/50] - Loss: 0.0238\n",
            "Model saved.\n",
            "Epoch [30/50] - Loss: 0.0229\n",
            "Model saved.\n",
            "Epoch [31/50] - Loss: 0.0221\n",
            "Model saved.\n",
            "Epoch [32/50] - Loss: 0.0213\n",
            "Model saved.\n",
            "Epoch [33/50] - Loss: 0.0205\n",
            "Model saved.\n",
            "Epoch [34/50] - Loss: 0.0198\n",
            "Model saved.\n",
            "Epoch [35/50] - Loss: 0.0191\n",
            "Model saved.\n",
            "Epoch [36/50] - Loss: 0.0184\n",
            "Model saved.\n",
            "Epoch [37/50] - Loss: 0.0178\n",
            "Model saved.\n",
            "Epoch [38/50] - Loss: 0.0173\n",
            "Model saved.\n",
            "Epoch [39/50] - Loss: 0.0167\n",
            "Model saved.\n",
            "Epoch [40/50] - Loss: 0.0162\n",
            "Model saved.\n",
            "Epoch [41/50] - Loss: 0.0157\n",
            "Model saved.\n",
            "Epoch [42/50] - Loss: 0.0153\n",
            "Model saved.\n",
            "Epoch [43/50] - Loss: 0.0148\n",
            "Model saved.\n",
            "Epoch [44/50] - Loss: 0.0145\n",
            "Model saved.\n",
            "Epoch [45/50] - Loss: 0.0141\n",
            "Model saved.\n",
            "Epoch [46/50] - Loss: 0.0137\n",
            "Model saved.\n",
            "Epoch [47/50] - Loss: 0.0134\n",
            "Model saved.\n",
            "Epoch [48/50] - Loss: 0.0130\n",
            "Model saved.\n",
            "Epoch [49/50] - Loss: 0.0127\n",
            "Model saved.\n",
            "Epoch [50/50] - Loss: 0.0124\n",
            "Model saved.\n",
            "Final model saved.\n"
          ]
        }
      ]
    },
    {
      "cell_type": "markdown",
      "source": [
        "### Multi-class MLP runner"
      ],
      "metadata": {
        "id": "DPjy1bOlwpSJ"
      }
    },
    {
      "cell_type": "code",
      "source": [
        "input_size = X_train_multi.shape[1]  # number of features in each sample\n",
        "multi_mlp = MultiClassMLP(input_size)       # creating an object of the multi-class MLP model\n",
        "optimizer = optim.SGD(multi_mlp.parameters(), lr=lr) # stochastic gradient descent as optimizer\n",
        "loss_fn = nn.CrossEntropyLoss()\n",
        "\n",
        "\n",
        "train(multi_mlp, X_train_multi, y_train_multi, loss_fn, optimizer, batch_size=batch_size, epochs=epochs)"
      ],
      "metadata": {
        "colab": {
          "base_uri": "https://localhost:8080/"
        },
        "id": "4XJyjIrBnFlv",
        "outputId": "152afb86-f969-492c-f0ee-a603d0072db8"
      },
      "execution_count": 167,
      "outputs": [
        {
          "output_type": "stream",
          "name": "stdout",
          "text": [
            "Epoch [1/50] - Loss: 1.7239\n",
            "Model saved.\n",
            "Epoch [2/50] - Loss: 0.7178\n",
            "Model saved.\n",
            "Epoch [3/50] - Loss: 0.5948\n",
            "Model saved.\n",
            "Epoch [4/50] - Loss: 0.5389\n",
            "Model saved.\n",
            "Epoch [5/50] - Loss: 0.5050\n",
            "Model saved.\n",
            "Epoch [6/50] - Loss: 0.4812\n",
            "Model saved.\n",
            "Epoch [7/50] - Loss: 0.4629\n",
            "Model saved.\n",
            "Epoch [8/50] - Loss: 0.4483\n",
            "Model saved.\n",
            "Epoch [9/50] - Loss: 0.4361\n",
            "Model saved.\n",
            "Epoch [10/50] - Loss: 0.4257\n",
            "Model saved.\n",
            "Epoch [11/50] - Loss: 0.4167\n",
            "Model saved.\n",
            "Epoch [12/50] - Loss: 0.4087\n",
            "Model saved.\n",
            "Epoch [13/50] - Loss: 0.4015\n",
            "Model saved.\n",
            "Epoch [14/50] - Loss: 0.3949\n",
            "Model saved.\n",
            "Epoch [15/50] - Loss: 0.3890\n",
            "Model saved.\n",
            "Epoch [16/50] - Loss: 0.3835\n",
            "Model saved.\n",
            "Epoch [17/50] - Loss: 0.3784\n",
            "Model saved.\n",
            "Epoch [18/50] - Loss: 0.3738\n",
            "Model saved.\n",
            "Epoch [19/50] - Loss: 0.3695\n",
            "Model saved.\n",
            "Epoch [20/50] - Loss: 0.3653\n",
            "Model saved.\n",
            "Epoch [21/50] - Loss: 0.3615\n",
            "Model saved.\n",
            "Epoch [22/50] - Loss: 0.3578\n",
            "Model saved.\n",
            "Epoch [23/50] - Loss: 0.3544\n",
            "Model saved.\n",
            "Epoch [24/50] - Loss: 0.3511\n",
            "Model saved.\n",
            "Epoch [25/50] - Loss: 0.3480\n",
            "Model saved.\n",
            "Epoch [26/50] - Loss: 0.3451\n",
            "Model saved.\n",
            "Epoch [27/50] - Loss: 0.3422\n",
            "Model saved.\n",
            "Epoch [28/50] - Loss: 0.3395\n",
            "Model saved.\n",
            "Epoch [29/50] - Loss: 0.3369\n",
            "Model saved.\n",
            "Epoch [30/50] - Loss: 0.3343\n",
            "Model saved.\n",
            "Epoch [31/50] - Loss: 0.3319\n",
            "Model saved.\n",
            "Epoch [32/50] - Loss: 0.3296\n",
            "Model saved.\n",
            "Epoch [33/50] - Loss: 0.3273\n",
            "Model saved.\n",
            "Epoch [34/50] - Loss: 0.3252\n",
            "Model saved.\n",
            "Epoch [35/50] - Loss: 0.3231\n",
            "Model saved.\n",
            "Epoch [36/50] - Loss: 0.3210\n",
            "Model saved.\n",
            "Epoch [37/50] - Loss: 0.3190\n",
            "Model saved.\n",
            "Epoch [38/50] - Loss: 0.3171\n",
            "Model saved.\n",
            "Epoch [39/50] - Loss: 0.3153\n",
            "Model saved.\n",
            "Epoch [40/50] - Loss: 0.3134\n",
            "Model saved.\n",
            "Epoch [41/50] - Loss: 0.3116\n",
            "Model saved.\n",
            "Epoch [42/50] - Loss: 0.3099\n",
            "Model saved.\n",
            "Epoch [43/50] - Loss: 0.3082\n",
            "Model saved.\n",
            "Epoch [44/50] - Loss: 0.3065\n",
            "Model saved.\n",
            "Epoch [45/50] - Loss: 0.3049\n",
            "Model saved.\n",
            "Epoch [46/50] - Loss: 0.3033\n",
            "Model saved.\n",
            "Epoch [47/50] - Loss: 0.3018\n",
            "Model saved.\n",
            "Epoch [48/50] - Loss: 0.3002\n",
            "Model saved.\n",
            "Epoch [49/50] - Loss: 0.2986\n",
            "Model saved.\n",
            "Epoch [50/50] - Loss: 0.2971\n",
            "Model saved.\n",
            "Final model saved.\n"
          ]
        }
      ]
    },
    {
      "cell_type": "markdown",
      "source": [
        "## 5. Model Validation"
      ],
      "metadata": {
        "id": "R5PKl6u9xyAV"
      }
    },
    {
      "cell_type": "code",
      "source": [
        "def analyze_predictions(X_test, y_test, y_pred, task=\"binary\"):\n",
        "    df_test['true_label'] = y_test\n",
        "    df_test['predicted_label'] = y_pred\n",
        "\n",
        "    correct_preds = df_test[df_test['true_label'] == df_test['predicted_label']]\n",
        "    incorrect_preds = df_test[df_test['true_label'] != df_test['predicted_label']]\n",
        "\n",
        "    correct_examples = correct_preds.sample(n=min(3, len(correct_preds)), random_state=42)\n",
        "    incorrect_examples = incorrect_preds.sample(n=min(3, len(incorrect_preds)), random_state=42)\n",
        "\n",
        "    print(f\"Task: {task}\")\n",
        "    print(\"\\nCorrect Predictions:\")\n",
        "    print(correct_examples)\n",
        "\n",
        "    print(\"\\nIncorrect Predictions:\")\n",
        "    print(incorrect_examples)\n",
        "\n",
        "    return df_test"
      ],
      "metadata": {
        "id": "1g7Fgebmy2ee"
      },
      "execution_count": 168,
      "outputs": []
    },
    {
      "cell_type": "code",
      "source": [
        "# running inference on test set\n",
        "y_pred_bin = predict(binary_mlp, X_test_bin, batch_size)\n",
        "y_pred_multi = predict(multi_mlp, X_test_multi, batch_size)\n",
        "\n",
        "\n",
        "# analyze binary predictions\n",
        "binary_results = analyze_predictions(X_test_bin, y_test_bin, y_pred_bin, task=\"binary\")\n",
        "\n",
        "# Analyze multi-class predictions\n",
        "multi_results = analyze_predictions(X_test_multi, y_test_multi, y_pred_multi, task=\"multiclass\")"
      ],
      "metadata": {
        "id": "WR7hTYDSyPB1"
      },
      "execution_count": null,
      "outputs": []
    },
    {
      "cell_type": "markdown",
      "source": [
        "## 6. Results"
      ],
      "metadata": {
        "id": "TeVC9VuU0fXD"
      }
    },
    {
      "cell_type": "code",
      "execution_count": 170,
      "metadata": {
        "id": "QVrpkQaKzxd_"
      },
      "outputs": [],
      "source": [
        "from sklearn.metrics import accuracy_score, confusion_matrix\n",
        "import torch\n",
        "\n",
        "def evaluate(model, X_test, y_test, task=\"binary\", threshold=0.5):\n",
        "    model.eval()  # set model to evaluation mode\n",
        "    with torch.no_grad():\n",
        "        # convert test features to PyTorch tensors\n",
        "        X_test_t = torch.tensor(X_test, dtype=torch.float32)\n",
        "\n",
        "        # get model outputs\n",
        "        outputs = model(X_test_t)\n",
        "\n",
        "        if task == \"binary\":\n",
        "            # for binary classification, apply threshold\n",
        "            preds = (outputs.squeeze().numpy() >= threshold).astype(int)\n",
        "        elif task == \"multiclass\":\n",
        "            # for multi-class classification, get the class with the highest score\n",
        "            preds = torch.argmax(outputs, dim=1).numpy()\n",
        "        else:\n",
        "            raise ValueError(f\"Unsupported task type: {task}. Use 'binary' or 'multiclass'.\")\n",
        "\n",
        "    # calculate accuracy and confusion matrix\n",
        "    accuracy = accuracy_score(y_test, preds)\n",
        "    cm = confusion_matrix(y_test, preds)\n",
        "\n",
        "    return accuracy, cm"
      ]
    },
    {
      "cell_type": "code",
      "source": [
        "# confusion Matrix for binary classification:\n",
        "# [[TN, FP],\n",
        "# [FN, TP]]\n",
        "accuracy_bin, cm_bin = evaluate(binary_mlp, X_test_bin, y_test_bin, task=\"binary\")\n",
        "print(\"\\nBinary Test Accuracy:\", accuracy_bin)\n",
        "print(\"Binary Confusion Matrix:\")\n",
        "print(cm_bin)"
      ],
      "metadata": {
        "colab": {
          "base_uri": "https://localhost:8080/"
        },
        "id": "cV7W0BW3snmg",
        "outputId": "83bc4311-e8dd-4450-e877-b121164e8e33"
      },
      "execution_count": 171,
      "outputs": [
        {
          "output_type": "stream",
          "name": "stdout",
          "text": [
            "\n",
            "Binary Test Accuracy: 0.9825\n",
            "Binary Confusion Matrix:\n",
            "[[983  17]\n",
            " [ 18 982]]\n"
          ]
        }
      ]
    },
    {
      "cell_type": "code",
      "source": [
        "# multi-Class classification\n",
        "accuracy_multi, cm_multi = evaluate(multi_mlp, X_test_multi, y_test_multi, task=\"multiclass\")\n",
        "print(\"\\nMulti-Class Test Accuracy:\", accuracy_multi)\n",
        "print(\"Multi-Class Confusion Matrix:\")\n",
        "display(cm_multi)"
      ],
      "metadata": {
        "colab": {
          "base_uri": "https://localhost:8080/",
          "height": 238
        },
        "id": "ai2-uI4vtQRc",
        "outputId": "f6140150-1174-44c1-fa54-3436976a87aa"
      },
      "execution_count": 172,
      "outputs": [
        {
          "output_type": "stream",
          "name": "stdout",
          "text": [
            "\n",
            "Multi-Class Test Accuracy: 0.8578\n",
            "Multi-Class Confusion Matrix:\n"
          ]
        },
        {
          "output_type": "display_data",
          "data": {
            "text/plain": [
              "array([[812,   2,  16,  41,   8,   5, 103,   0,  12,   1],\n",
              "       [  4, 963,   3,  21,   4,   0,   4,   0,   1,   0],\n",
              "       [ 17,   3, 749,  13, 125,   0,  89,   0,   4,   0],\n",
              "       [ 30,  14,   9, 871,  37,   1,  30,   0,   8,   0],\n",
              "       [  1,   1,  88,  42, 782,   0,  80,   0,   6,   0],\n",
              "       [  0,   3,   0,   0,   0, 945,   0,  26,   2,  24],\n",
              "       [149,   3,  89,  34,  84,   0, 625,   0,  16,   0],\n",
              "       [  0,   0,   0,   0,   0,  31,   0, 929,   1,  39],\n",
              "       [  7,   0,   7,   6,   4,   6,  15,   6, 949,   0],\n",
              "       [  1,   0,   0,   0,   0,   6,   0,  39,   1, 953]])"
            ]
          },
          "metadata": {}
        }
      ]
    }
  ],
  "metadata": {
    "colab": {
      "collapsed_sections": [
        "ggZaP1pRjBnO"
      ],
      "provenance": []
    },
    "kernelspec": {
      "display_name": "Python 3",
      "name": "python3"
    },
    "language_info": {
      "codemirror_mode": {
        "name": "ipython",
        "version": 3
      },
      "file_extension": ".py",
      "mimetype": "text/x-python",
      "name": "python",
      "nbconvert_exporter": "python",
      "pygments_lexer": "ipython3",
      "version": "3.11.9"
    }
  },
  "nbformat": 4,
  "nbformat_minor": 0
}