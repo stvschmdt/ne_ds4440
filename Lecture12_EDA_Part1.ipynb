{
  "cells": [
    {
      "cell_type": "markdown",
      "metadata": {
        "id": "DHDMQyA1Bs-i"
      },
      "source": [
        "# DS4440 - Practical Neural Networks\n",
        "## Week 5 : Exploratory Data Analysis \n",
        "\n",
        "___\n",
        "**Instructor** : Prof. Steve Schmidt <br/>\n",
        "**Teaching Assistants** : Vishwajeet Hogale (hogale.v@northeastern.edu) | Chaitanya Agarwal (agarwal.cha@northeastern.edu)"
      ]
    },
    {
      "cell_type": "markdown",
      "metadata": {
        "id": "5ir5849DYWXs"
      },
      "source": [
        "## Part 1 : Exploratory Data Analysis\n",
        "\n",
        "EDA helps you get to know your data better by:\n",
        "\n",
        "Looking at the Data: Understanding what the data looks like, checking for patterns, missing values, or strange data points.\n",
        "1. Visualizing: Using graphs, charts, and plots to visualize data distribution and relationships between variables.\n",
        "2. Statistical Summary: Calculating basic statistics like averages, medians, and standard deviations to get a sense of the data's spread.\n",
        "\n",
        "It's like getting a \"first impression\" of your data to spot trends, relationships, and problems, so you can make informed decisions for the next steps in analysis or modeling.\n",
        "\n",
        "In this notebook, we'll follow the **six** key sections below:\n",
        "\n",
        "1. **One Hot Encoding**\n",
        "2. **Label Encoding**\n",
        "3. **Scaling**\n",
        "    - **Normalization**\n",
        "    - **Standardization**\n",
        "4. **Class Imbalance**\n",
        "\n",
        "\n",
        "Let's dive in and explore how neural networks can tackle this exciting problem!"
      ]
    },
    {
      "cell_type": "markdown",
      "metadata": {
        "id": "cL7mZcKvkWiy"
      },
      "source": [
        "## 0. Setup and Load libraries"
      ]
    },
    {
      "cell_type": "markdown",
      "metadata": {
        "id": "MrYBlWWyF7u-"
      },
      "source": [
        "The below cell helps you download all the necessary libraries or packages required to run this notebook without running into any errors."
      ]
    },
    {
      "cell_type": "code",
      "execution_count": 1,
      "metadata": {
        "colab": {
          "base_uri": "https://localhost:8080/"
        },
        "id": "Aaa1u1vJBs-k",
        "outputId": "f1342911-576e-426f-eb52-ccba845d3339"
      },
      "outputs": [
        {
          "name": "stdout",
          "output_type": "stream",
          "text": [
            "Requirement already satisfied: pandas in /opt/anaconda3/lib/python3.11/site-packages (from -r requirements.txt (line 1)) (2.2.2)\n",
            "Requirement already satisfied: numpy in /opt/anaconda3/lib/python3.11/site-packages (from -r requirements.txt (line 2)) (1.26.4)\n",
            "Requirement already satisfied: torch in /opt/anaconda3/lib/python3.11/site-packages (from -r requirements.txt (line 3)) (2.4.1)\n",
            "Requirement already satisfied: scikit-learn in /opt/anaconda3/lib/python3.11/site-packages (from -r requirements.txt (line 4)) (1.5.1)\n",
            "Requirement already satisfied: matplotlib in /opt/anaconda3/lib/python3.11/site-packages (from -r requirements.txt (line 5)) (3.9.2)\n",
            "Requirement already satisfied: torchvision in /opt/anaconda3/lib/python3.11/site-packages (from -r requirements.txt (line 6)) (0.19.1)\n",
            "Requirement already satisfied: python-dateutil>=2.8.2 in /opt/anaconda3/lib/python3.11/site-packages (from pandas->-r requirements.txt (line 1)) (2.9.0.post0)\n",
            "Requirement already satisfied: pytz>=2020.1 in /opt/anaconda3/lib/python3.11/site-packages (from pandas->-r requirements.txt (line 1)) (2024.1)\n",
            "Requirement already satisfied: tzdata>=2022.7 in /opt/anaconda3/lib/python3.11/site-packages (from pandas->-r requirements.txt (line 1)) (2023.3)\n",
            "Requirement already satisfied: filelock in /opt/anaconda3/lib/python3.11/site-packages (from torch->-r requirements.txt (line 3)) (3.13.1)\n",
            "Requirement already satisfied: typing-extensions>=4.8.0 in /opt/anaconda3/lib/python3.11/site-packages (from torch->-r requirements.txt (line 3)) (4.11.0)\n",
            "Requirement already satisfied: sympy in /opt/anaconda3/lib/python3.11/site-packages (from torch->-r requirements.txt (line 3)) (1.13.2)\n",
            "Requirement already satisfied: networkx in /opt/anaconda3/lib/python3.11/site-packages (from torch->-r requirements.txt (line 3)) (3.3)\n",
            "Requirement already satisfied: jinja2 in /opt/anaconda3/lib/python3.11/site-packages (from torch->-r requirements.txt (line 3)) (3.1.4)\n",
            "Requirement already satisfied: fsspec in /opt/anaconda3/lib/python3.11/site-packages (from torch->-r requirements.txt (line 3)) (2024.6.1)\n",
            "Requirement already satisfied: scipy>=1.6.0 in /opt/anaconda3/lib/python3.11/site-packages (from scikit-learn->-r requirements.txt (line 4)) (1.13.1)\n",
            "Requirement already satisfied: joblib>=1.2.0 in /opt/anaconda3/lib/python3.11/site-packages (from scikit-learn->-r requirements.txt (line 4)) (1.4.2)\n",
            "Requirement already satisfied: threadpoolctl>=3.1.0 in /opt/anaconda3/lib/python3.11/site-packages (from scikit-learn->-r requirements.txt (line 4)) (3.5.0)\n",
            "Requirement already satisfied: contourpy>=1.0.1 in /opt/anaconda3/lib/python3.11/site-packages (from matplotlib->-r requirements.txt (line 5)) (1.2.0)\n",
            "Requirement already satisfied: cycler>=0.10 in /opt/anaconda3/lib/python3.11/site-packages (from matplotlib->-r requirements.txt (line 5)) (0.11.0)\n",
            "Requirement already satisfied: fonttools>=4.22.0 in /opt/anaconda3/lib/python3.11/site-packages (from matplotlib->-r requirements.txt (line 5)) (4.51.0)\n",
            "Requirement already satisfied: kiwisolver>=1.3.1 in /opt/anaconda3/lib/python3.11/site-packages (from matplotlib->-r requirements.txt (line 5)) (1.4.4)\n",
            "Requirement already satisfied: packaging>=20.0 in /opt/anaconda3/lib/python3.11/site-packages (from matplotlib->-r requirements.txt (line 5)) (23.2)\n",
            "Requirement already satisfied: pillow>=8 in /opt/anaconda3/lib/python3.11/site-packages (from matplotlib->-r requirements.txt (line 5)) (10.4.0)\n",
            "Requirement already satisfied: pyparsing>=2.3.1 in /opt/anaconda3/lib/python3.11/site-packages (from matplotlib->-r requirements.txt (line 5)) (3.1.2)\n",
            "Requirement already satisfied: six>=1.5 in /opt/anaconda3/lib/python3.11/site-packages (from python-dateutil>=2.8.2->pandas->-r requirements.txt (line 1)) (1.16.0)\n",
            "Requirement already satisfied: MarkupSafe>=2.0 in /opt/anaconda3/lib/python3.11/site-packages (from jinja2->torch->-r requirements.txt (line 3)) (2.1.3)\n",
            "Requirement already satisfied: mpmath<1.4,>=1.1.0 in /opt/anaconda3/lib/python3.11/site-packages (from sympy->torch->-r requirements.txt (line 3)) (1.3.0)\n"
          ]
        }
      ],
      "source": [
        "! pip install -r requirements.txt"
      ]
    },
    {
      "cell_type": "markdown",
      "metadata": {
        "id": "L3i02saLeFpi"
      },
      "source": [
        "## 1. Data Gathering"
      ]
    },
    {
      "cell_type": "markdown",
      "metadata": {
        "id": "Pn9U0jGrIAPr"
      },
      "source": [
        "### **About the Dataset**  \n",
        "\n",
        "The **Superstore** dataset contains **sales transaction records** from a retail store, providing insights into **shipping, customer segments, locations, product categories, and financial metrics**. This dataset is widely used for **sales analysis, demand forecasting, and business intelligence applications**.  \n",
        "\n",
        "The dataset includes the following **13 attributes**:  \n",
        "\n",
        "1. **Ship Mode**: The method of shipping used for the order (e.g., Standard Class, First Class)  \n",
        "2. **Segment**: Customer segment (e.g., Consumer, Corporate, Home Office)  \n",
        "3. **Country**: The country where the order was placed  \n",
        "4. **City**: The city where the order was shipped  \n",
        "5. **State**: The state where the order was shipped  \n",
        "6. **Postal Code**: The postal code of the delivery address  \n",
        "7. **Region**: The geographical region (e.g., West, East, Central, South)  \n",
        "8. **Category**: The broad category of the product (e.g., Furniture, Office Supplies, Technology)  \n",
        "9. **Sub-Category**: The specific type of product within a category (e.g., Chairs, Phones, Binders)  \n",
        "10. **Sales**: The revenue generated from the sale  \n",
        "11. **Quantity**: The number of units sold  \n",
        "12. **Discount**: The discount applied to the sale  \n",
        "13. **Profit**: The profit earned from the sale after deducting costs  \n",
        "\n",
        "### **Dataset Use Cases**  \n",
        "This dataset is useful for various business analytics and machine learning tasks, including:  \n",
        "- **Sales Forecasting**: Predicting future sales based on historical data  \n",
        "- **Customer Segmentation**: Identifying different customer groups based on purchasing behavior  \n",
        "- **Profitability Analysis**: Analyzing which products and regions generate the highest profits  \n",
        "- **Discount Impact**: Evaluating how discounts affect overall sales and profitability  \n",
        "\n",
        "### **Dataset Source**  \n",
        "The **Superstore** provides a great opportunity to explore **data preprocessing, exploratory data analysis (EDA), and predictive modeling** in retail analytics.\n"
      ]
    },
    {
      "cell_type": "code",
      "execution_count": 2,
      "metadata": {
        "id": "GFObfWXj3Q2v"
      },
      "outputs": [],
      "source": [
        "import pandas as pd\n",
        "import numpy as np\n",
        "from torchvision import datasets, transforms\n",
        "\n",
        "# Load the dataset \n",
        "df = pd.read_csv(\"./data/Superstore.csv\")"
      ]
    },
    {
      "cell_type": "code",
      "execution_count": 3,
      "metadata": {},
      "outputs": [
        {
          "data": {
            "text/plain": [
              "Index(['Ship Mode', 'Segment', 'Country', 'City', 'State', 'Postal Code',\n",
              "       'Region', 'Category', 'Sub-Category', 'Sales', 'Quantity', 'Discount',\n",
              "       'Profit'],\n",
              "      dtype='object')"
            ]
          },
          "execution_count": 3,
          "metadata": {},
          "output_type": "execute_result"
        }
      ],
      "source": [
        "df.columns"
      ]
    },
    {
      "cell_type": "code",
      "execution_count": 4,
      "metadata": {},
      "outputs": [
        {
          "data": {
            "text/html": [
              "<div>\n",
              "<style scoped>\n",
              "    .dataframe tbody tr th:only-of-type {\n",
              "        vertical-align: middle;\n",
              "    }\n",
              "\n",
              "    .dataframe tbody tr th {\n",
              "        vertical-align: top;\n",
              "    }\n",
              "\n",
              "    .dataframe thead th {\n",
              "        text-align: right;\n",
              "    }\n",
              "</style>\n",
              "<table border=\"1\" class=\"dataframe\">\n",
              "  <thead>\n",
              "    <tr style=\"text-align: right;\">\n",
              "      <th></th>\n",
              "      <th>Ship Mode</th>\n",
              "      <th>Segment</th>\n",
              "      <th>Country</th>\n",
              "      <th>City</th>\n",
              "      <th>State</th>\n",
              "      <th>Postal Code</th>\n",
              "      <th>Region</th>\n",
              "      <th>Category</th>\n",
              "      <th>Sub-Category</th>\n",
              "      <th>Sales</th>\n",
              "      <th>Quantity</th>\n",
              "      <th>Discount</th>\n",
              "      <th>Profit</th>\n",
              "    </tr>\n",
              "  </thead>\n",
              "  <tbody>\n",
              "    <tr>\n",
              "      <th>0</th>\n",
              "      <td>Second Class</td>\n",
              "      <td>Consumer</td>\n",
              "      <td>United States</td>\n",
              "      <td>Henderson</td>\n",
              "      <td>Kentucky</td>\n",
              "      <td>42420</td>\n",
              "      <td>South</td>\n",
              "      <td>Furniture</td>\n",
              "      <td>Bookcases</td>\n",
              "      <td>261.9600</td>\n",
              "      <td>2</td>\n",
              "      <td>0.00</td>\n",
              "      <td>41.9136</td>\n",
              "    </tr>\n",
              "    <tr>\n",
              "      <th>1</th>\n",
              "      <td>Second Class</td>\n",
              "      <td>Consumer</td>\n",
              "      <td>United States</td>\n",
              "      <td>Henderson</td>\n",
              "      <td>Kentucky</td>\n",
              "      <td>42420</td>\n",
              "      <td>South</td>\n",
              "      <td>Furniture</td>\n",
              "      <td>Chairs</td>\n",
              "      <td>731.9400</td>\n",
              "      <td>3</td>\n",
              "      <td>0.00</td>\n",
              "      <td>219.5820</td>\n",
              "    </tr>\n",
              "    <tr>\n",
              "      <th>2</th>\n",
              "      <td>Second Class</td>\n",
              "      <td>Corporate</td>\n",
              "      <td>United States</td>\n",
              "      <td>Los Angeles</td>\n",
              "      <td>California</td>\n",
              "      <td>90036</td>\n",
              "      <td>West</td>\n",
              "      <td>Office Supplies</td>\n",
              "      <td>Labels</td>\n",
              "      <td>14.6200</td>\n",
              "      <td>2</td>\n",
              "      <td>0.00</td>\n",
              "      <td>6.8714</td>\n",
              "    </tr>\n",
              "    <tr>\n",
              "      <th>3</th>\n",
              "      <td>Standard Class</td>\n",
              "      <td>Consumer</td>\n",
              "      <td>United States</td>\n",
              "      <td>Fort Lauderdale</td>\n",
              "      <td>Florida</td>\n",
              "      <td>33311</td>\n",
              "      <td>South</td>\n",
              "      <td>Furniture</td>\n",
              "      <td>Tables</td>\n",
              "      <td>957.5775</td>\n",
              "      <td>5</td>\n",
              "      <td>0.45</td>\n",
              "      <td>-383.0310</td>\n",
              "    </tr>\n",
              "    <tr>\n",
              "      <th>4</th>\n",
              "      <td>Standard Class</td>\n",
              "      <td>Consumer</td>\n",
              "      <td>United States</td>\n",
              "      <td>Fort Lauderdale</td>\n",
              "      <td>Florida</td>\n",
              "      <td>33311</td>\n",
              "      <td>South</td>\n",
              "      <td>Office Supplies</td>\n",
              "      <td>Storage</td>\n",
              "      <td>22.3680</td>\n",
              "      <td>2</td>\n",
              "      <td>0.20</td>\n",
              "      <td>2.5164</td>\n",
              "    </tr>\n",
              "  </tbody>\n",
              "</table>\n",
              "</div>"
            ],
            "text/plain": [
              "        Ship Mode    Segment        Country             City       State  \\\n",
              "0    Second Class   Consumer  United States        Henderson    Kentucky   \n",
              "1    Second Class   Consumer  United States        Henderson    Kentucky   \n",
              "2    Second Class  Corporate  United States      Los Angeles  California   \n",
              "3  Standard Class   Consumer  United States  Fort Lauderdale     Florida   \n",
              "4  Standard Class   Consumer  United States  Fort Lauderdale     Florida   \n",
              "\n",
              "   Postal Code Region         Category Sub-Category     Sales  Quantity  \\\n",
              "0        42420  South        Furniture    Bookcases  261.9600         2   \n",
              "1        42420  South        Furniture       Chairs  731.9400         3   \n",
              "2        90036   West  Office Supplies       Labels   14.6200         2   \n",
              "3        33311  South        Furniture       Tables  957.5775         5   \n",
              "4        33311  South  Office Supplies      Storage   22.3680         2   \n",
              "\n",
              "   Discount    Profit  \n",
              "0      0.00   41.9136  \n",
              "1      0.00  219.5820  \n",
              "2      0.00    6.8714  \n",
              "3      0.45 -383.0310  \n",
              "4      0.20    2.5164  "
            ]
          },
          "execution_count": 4,
          "metadata": {},
          "output_type": "execute_result"
        }
      ],
      "source": [
        "df.head()"
      ]
    },
    {
      "cell_type": "markdown",
      "metadata": {
        "id": "HGKMYTAlhELB"
      },
      "source": [
        "### Check the size of the training dataset"
      ]
    },
    {
      "cell_type": "code",
      "execution_count": 5,
      "metadata": {
        "colab": {
          "base_uri": "https://localhost:8080/"
        },
        "id": "2ppjGGRzfyJH",
        "outputId": "ea3fc637-d8b2-4c7b-bfd5-ff5958c96fe7"
      },
      "outputs": [
        {
          "name": "stdout",
          "output_type": "stream",
          "text": [
            "The dataset has 9994 rows and 13 columns\n"
          ]
        }
      ],
      "source": [
        "print(f\"The dataset has {df.shape[0]} rows and {df.shape[1]} columns\")"
      ]
    },
    {
      "cell_type": "markdown",
      "metadata": {
        "id": "XKyrO7d_j0SP"
      },
      "source": [
        "### Explore the NaNs"
      ]
    },
    {
      "cell_type": "code",
      "execution_count": 6,
      "metadata": {
        "id": "nF21sPdMVX4V"
      },
      "outputs": [
        {
          "data": {
            "text/plain": [
              "Ship Mode       0\n",
              "Segment         0\n",
              "Country         0\n",
              "City            0\n",
              "State           0\n",
              "Postal Code     0\n",
              "Region          0\n",
              "Category        0\n",
              "Sub-Category    0\n",
              "Sales           0\n",
              "Quantity        0\n",
              "Discount        0\n",
              "Profit          0\n",
              "dtype: int64"
            ]
          },
          "execution_count": 6,
          "metadata": {},
          "output_type": "execute_result"
        }
      ],
      "source": [
        "df.isna().sum()"
      ]
    },
    {
      "cell_type": "markdown",
      "metadata": {},
      "source": [
        "### Check the column datatypes\n"
      ]
    },
    {
      "cell_type": "code",
      "execution_count": 7,
      "metadata": {},
      "outputs": [
        {
          "name": "stdout",
          "output_type": "stream",
          "text": [
            "<class 'pandas.core.frame.DataFrame'>\n",
            "RangeIndex: 9994 entries, 0 to 9993\n",
            "Data columns (total 13 columns):\n",
            " #   Column        Non-Null Count  Dtype  \n",
            "---  ------        --------------  -----  \n",
            " 0   Ship Mode     9994 non-null   object \n",
            " 1   Segment       9994 non-null   object \n",
            " 2   Country       9994 non-null   object \n",
            " 3   City          9994 non-null   object \n",
            " 4   State         9994 non-null   object \n",
            " 5   Postal Code   9994 non-null   int64  \n",
            " 6   Region        9994 non-null   object \n",
            " 7   Category      9994 non-null   object \n",
            " 8   Sub-Category  9994 non-null   object \n",
            " 9   Sales         9994 non-null   float64\n",
            " 10  Quantity      9994 non-null   int64  \n",
            " 11  Discount      9994 non-null   float64\n",
            " 12  Profit        9994 non-null   float64\n",
            "dtypes: float64(3), int64(2), object(8)\n",
            "memory usage: 1015.1+ KB\n"
          ]
        }
      ],
      "source": [
        "df.info()"
      ]
    },
    {
      "cell_type": "markdown",
      "metadata": {},
      "source": [
        "### Get statistical information on numerical columns"
      ]
    },
    {
      "cell_type": "code",
      "execution_count": 8,
      "metadata": {},
      "outputs": [
        {
          "data": {
            "text/html": [
              "<div>\n",
              "<style scoped>\n",
              "    .dataframe tbody tr th:only-of-type {\n",
              "        vertical-align: middle;\n",
              "    }\n",
              "\n",
              "    .dataframe tbody tr th {\n",
              "        vertical-align: top;\n",
              "    }\n",
              "\n",
              "    .dataframe thead th {\n",
              "        text-align: right;\n",
              "    }\n",
              "</style>\n",
              "<table border=\"1\" class=\"dataframe\">\n",
              "  <thead>\n",
              "    <tr style=\"text-align: right;\">\n",
              "      <th></th>\n",
              "      <th>Postal Code</th>\n",
              "      <th>Sales</th>\n",
              "      <th>Quantity</th>\n",
              "      <th>Discount</th>\n",
              "      <th>Profit</th>\n",
              "    </tr>\n",
              "  </thead>\n",
              "  <tbody>\n",
              "    <tr>\n",
              "      <th>count</th>\n",
              "      <td>9994.000000</td>\n",
              "      <td>9994.000000</td>\n",
              "      <td>9994.000000</td>\n",
              "      <td>9994.000000</td>\n",
              "      <td>9994.000000</td>\n",
              "    </tr>\n",
              "    <tr>\n",
              "      <th>mean</th>\n",
              "      <td>55190.379428</td>\n",
              "      <td>229.858001</td>\n",
              "      <td>3.789574</td>\n",
              "      <td>0.156203</td>\n",
              "      <td>28.656896</td>\n",
              "    </tr>\n",
              "    <tr>\n",
              "      <th>std</th>\n",
              "      <td>32063.693350</td>\n",
              "      <td>623.245101</td>\n",
              "      <td>2.225110</td>\n",
              "      <td>0.206452</td>\n",
              "      <td>234.260108</td>\n",
              "    </tr>\n",
              "    <tr>\n",
              "      <th>min</th>\n",
              "      <td>1040.000000</td>\n",
              "      <td>0.444000</td>\n",
              "      <td>1.000000</td>\n",
              "      <td>0.000000</td>\n",
              "      <td>-6599.978000</td>\n",
              "    </tr>\n",
              "    <tr>\n",
              "      <th>25%</th>\n",
              "      <td>23223.000000</td>\n",
              "      <td>17.280000</td>\n",
              "      <td>2.000000</td>\n",
              "      <td>0.000000</td>\n",
              "      <td>1.728750</td>\n",
              "    </tr>\n",
              "    <tr>\n",
              "      <th>50%</th>\n",
              "      <td>56430.500000</td>\n",
              "      <td>54.490000</td>\n",
              "      <td>3.000000</td>\n",
              "      <td>0.200000</td>\n",
              "      <td>8.666500</td>\n",
              "    </tr>\n",
              "    <tr>\n",
              "      <th>75%</th>\n",
              "      <td>90008.000000</td>\n",
              "      <td>209.940000</td>\n",
              "      <td>5.000000</td>\n",
              "      <td>0.200000</td>\n",
              "      <td>29.364000</td>\n",
              "    </tr>\n",
              "    <tr>\n",
              "      <th>max</th>\n",
              "      <td>99301.000000</td>\n",
              "      <td>22638.480000</td>\n",
              "      <td>14.000000</td>\n",
              "      <td>0.800000</td>\n",
              "      <td>8399.976000</td>\n",
              "    </tr>\n",
              "  </tbody>\n",
              "</table>\n",
              "</div>"
            ],
            "text/plain": [
              "        Postal Code         Sales     Quantity     Discount       Profit\n",
              "count   9994.000000   9994.000000  9994.000000  9994.000000  9994.000000\n",
              "mean   55190.379428    229.858001     3.789574     0.156203    28.656896\n",
              "std    32063.693350    623.245101     2.225110     0.206452   234.260108\n",
              "min     1040.000000      0.444000     1.000000     0.000000 -6599.978000\n",
              "25%    23223.000000     17.280000     2.000000     0.000000     1.728750\n",
              "50%    56430.500000     54.490000     3.000000     0.200000     8.666500\n",
              "75%    90008.000000    209.940000     5.000000     0.200000    29.364000\n",
              "max    99301.000000  22638.480000    14.000000     0.800000  8399.976000"
            ]
          },
          "execution_count": 8,
          "metadata": {},
          "output_type": "execute_result"
        }
      ],
      "source": [
        "df.describe()"
      ]
    },
    {
      "cell_type": "markdown",
      "metadata": {},
      "source": [
        "### Get statistical information on categorical columns"
      ]
    },
    {
      "cell_type": "code",
      "execution_count": 9,
      "metadata": {},
      "outputs": [
        {
          "data": {
            "text/plain": [
              "Ship Mode       Segment      Country        City           State       Region   Category         Sub-Category\n",
              "Standard Class  Consumer     United States  New York City  New York    East     Office Supplies  Binders         61\n",
              "                                                                                                 Paper           41\n",
              "                                            Los Angeles    California  West     Office Supplies  Paper           40\n",
              "                                            Houston        Texas       Central  Office Supplies  Binders         31\n",
              "                                            Los Angeles    California  West     Furniture        Furnishings     31\n",
              "                                                                                                                 ..\n",
              "Second Class    Corporate    United States  Denver         Colorado    West     Furniture        Furnishings      1\n",
              "                                            Delray Beach   Florida     South    Technology       Accessories      1\n",
              "                                                                                Office Supplies  Storage          1\n",
              "                                            Decatur        Illinois    Central  Technology       Accessories      1\n",
              "Standard Class  Home Office  United States  Yuma           Arizona     West     Technology       Machines         1\n",
              "Name: count, Length: 5796, dtype: int64"
            ]
          },
          "execution_count": 9,
          "metadata": {},
          "output_type": "execute_result"
        }
      ],
      "source": [
        "categorical_columns_df = df.select_dtypes(\"object\")\n",
        "categorical_columns_df.value_counts()"
      ]
    },
    {
      "cell_type": "code",
      "execution_count": 10,
      "metadata": {},
      "outputs": [
        {
          "data": {
            "text/html": [
              "<div>\n",
              "<style scoped>\n",
              "    .dataframe tbody tr th:only-of-type {\n",
              "        vertical-align: middle;\n",
              "    }\n",
              "\n",
              "    .dataframe tbody tr th {\n",
              "        vertical-align: top;\n",
              "    }\n",
              "\n",
              "    .dataframe thead th {\n",
              "        text-align: right;\n",
              "    }\n",
              "</style>\n",
              "<table border=\"1\" class=\"dataframe\">\n",
              "  <thead>\n",
              "    <tr style=\"text-align: right;\">\n",
              "      <th></th>\n",
              "      <th>Ship Mode</th>\n",
              "      <th>Segment</th>\n",
              "      <th>Country</th>\n",
              "      <th>City</th>\n",
              "      <th>State</th>\n",
              "      <th>Region</th>\n",
              "      <th>Category</th>\n",
              "      <th>Sub-Category</th>\n",
              "    </tr>\n",
              "  </thead>\n",
              "  <tbody>\n",
              "    <tr>\n",
              "      <th>0</th>\n",
              "      <td>Second Class</td>\n",
              "      <td>Consumer</td>\n",
              "      <td>United States</td>\n",
              "      <td>Henderson</td>\n",
              "      <td>Kentucky</td>\n",
              "      <td>South</td>\n",
              "      <td>Furniture</td>\n",
              "      <td>Bookcases</td>\n",
              "    </tr>\n",
              "    <tr>\n",
              "      <th>1</th>\n",
              "      <td>Second Class</td>\n",
              "      <td>Consumer</td>\n",
              "      <td>United States</td>\n",
              "      <td>Henderson</td>\n",
              "      <td>Kentucky</td>\n",
              "      <td>South</td>\n",
              "      <td>Furniture</td>\n",
              "      <td>Chairs</td>\n",
              "    </tr>\n",
              "    <tr>\n",
              "      <th>2</th>\n",
              "      <td>Second Class</td>\n",
              "      <td>Corporate</td>\n",
              "      <td>United States</td>\n",
              "      <td>Los Angeles</td>\n",
              "      <td>California</td>\n",
              "      <td>West</td>\n",
              "      <td>Office Supplies</td>\n",
              "      <td>Labels</td>\n",
              "    </tr>\n",
              "    <tr>\n",
              "      <th>3</th>\n",
              "      <td>Standard Class</td>\n",
              "      <td>Consumer</td>\n",
              "      <td>United States</td>\n",
              "      <td>Fort Lauderdale</td>\n",
              "      <td>Florida</td>\n",
              "      <td>South</td>\n",
              "      <td>Furniture</td>\n",
              "      <td>Tables</td>\n",
              "    </tr>\n",
              "    <tr>\n",
              "      <th>4</th>\n",
              "      <td>Standard Class</td>\n",
              "      <td>Consumer</td>\n",
              "      <td>United States</td>\n",
              "      <td>Fort Lauderdale</td>\n",
              "      <td>Florida</td>\n",
              "      <td>South</td>\n",
              "      <td>Office Supplies</td>\n",
              "      <td>Storage</td>\n",
              "    </tr>\n",
              "  </tbody>\n",
              "</table>\n",
              "</div>"
            ],
            "text/plain": [
              "        Ship Mode    Segment        Country             City       State  \\\n",
              "0    Second Class   Consumer  United States        Henderson    Kentucky   \n",
              "1    Second Class   Consumer  United States        Henderson    Kentucky   \n",
              "2    Second Class  Corporate  United States      Los Angeles  California   \n",
              "3  Standard Class   Consumer  United States  Fort Lauderdale     Florida   \n",
              "4  Standard Class   Consumer  United States  Fort Lauderdale     Florida   \n",
              "\n",
              "  Region         Category Sub-Category  \n",
              "0  South        Furniture    Bookcases  \n",
              "1  South        Furniture       Chairs  \n",
              "2   West  Office Supplies       Labels  \n",
              "3  South        Furniture       Tables  \n",
              "4  South  Office Supplies      Storage  "
            ]
          },
          "execution_count": 10,
          "metadata": {},
          "output_type": "execute_result"
        }
      ],
      "source": [
        "categorical_columns_df.head()"
      ]
    },
    {
      "cell_type": "markdown",
      "metadata": {
        "id": "SoLROqGoYPtS"
      },
      "source": [
        "## 2. One Hot Encoding\n"
      ]
    },
    {
      "cell_type": "markdown",
      "metadata": {},
      "source": [
        "### 2.1 **What is One-Hot Encoding?**  \n",
        "One-hot encoding is a technique used to convert **categorical variables** into a numerical format by creating **binary (0 or 1) columns** for each unique category.  \n",
        "\n",
        "For example, **Ship Mode** would be transformed as follows:  \n",
        "\n",
        "| Ship Mode       | Standard Class | First Class | Second Class | Same Day |  \n",
        "|---------------|---------------|------------|-------------|----------|  \n",
        "| Standard Class | 1             | 0          | 0           | 0        |  \n",
        "| First Class   | 0             | 1          | 0           | 0        |  \n",
        "| Second Class  | 0             | 0          | 1           | 0        |  \n",
        "| Same Day      | 0             | 0          | 0           | 1        |  \n"
      ]
    },
    {
      "cell_type": "code",
      "execution_count": 17,
      "metadata": {},
      "outputs": [],
      "source": [
        "# Selecting categorical columns for One-Hot Encoding\n",
        "categorical_columns = categorical_columns_df.columns\n",
        "\n",
        "# Apply One-Hot Encoding using pandas get_dummies()\n",
        "df_ohe = pd.get_dummies(df, columns=categorical_columns)\n"
      ]
    },
    {
      "cell_type": "code",
      "execution_count": 18,
      "metadata": {},
      "outputs": [
        {
          "data": {
            "text/html": [
              "<div>\n",
              "<style scoped>\n",
              "    .dataframe tbody tr th:only-of-type {\n",
              "        vertical-align: middle;\n",
              "    }\n",
              "\n",
              "    .dataframe tbody tr th {\n",
              "        vertical-align: top;\n",
              "    }\n",
              "\n",
              "    .dataframe thead th {\n",
              "        text-align: right;\n",
              "    }\n",
              "</style>\n",
              "<table border=\"1\" class=\"dataframe\">\n",
              "  <thead>\n",
              "    <tr style=\"text-align: right;\">\n",
              "      <th></th>\n",
              "      <th>Postal Code</th>\n",
              "      <th>Sales</th>\n",
              "      <th>Quantity</th>\n",
              "      <th>Discount</th>\n",
              "      <th>Profit</th>\n",
              "      <th>Ship Mode_First Class</th>\n",
              "      <th>Ship Mode_Same Day</th>\n",
              "      <th>Ship Mode_Second Class</th>\n",
              "      <th>Ship Mode_Standard Class</th>\n",
              "      <th>Segment_Consumer</th>\n",
              "      <th>...</th>\n",
              "      <th>Sub-Category_Envelopes</th>\n",
              "      <th>Sub-Category_Fasteners</th>\n",
              "      <th>Sub-Category_Furnishings</th>\n",
              "      <th>Sub-Category_Labels</th>\n",
              "      <th>Sub-Category_Machines</th>\n",
              "      <th>Sub-Category_Paper</th>\n",
              "      <th>Sub-Category_Phones</th>\n",
              "      <th>Sub-Category_Storage</th>\n",
              "      <th>Sub-Category_Supplies</th>\n",
              "      <th>Sub-Category_Tables</th>\n",
              "    </tr>\n",
              "  </thead>\n",
              "  <tbody>\n",
              "    <tr>\n",
              "      <th>0</th>\n",
              "      <td>42420</td>\n",
              "      <td>261.9600</td>\n",
              "      <td>2</td>\n",
              "      <td>0.00</td>\n",
              "      <td>41.9136</td>\n",
              "      <td>False</td>\n",
              "      <td>False</td>\n",
              "      <td>True</td>\n",
              "      <td>False</td>\n",
              "      <td>True</td>\n",
              "      <td>...</td>\n",
              "      <td>False</td>\n",
              "      <td>False</td>\n",
              "      <td>False</td>\n",
              "      <td>False</td>\n",
              "      <td>False</td>\n",
              "      <td>False</td>\n",
              "      <td>False</td>\n",
              "      <td>False</td>\n",
              "      <td>False</td>\n",
              "      <td>False</td>\n",
              "    </tr>\n",
              "    <tr>\n",
              "      <th>1</th>\n",
              "      <td>42420</td>\n",
              "      <td>731.9400</td>\n",
              "      <td>3</td>\n",
              "      <td>0.00</td>\n",
              "      <td>219.5820</td>\n",
              "      <td>False</td>\n",
              "      <td>False</td>\n",
              "      <td>True</td>\n",
              "      <td>False</td>\n",
              "      <td>True</td>\n",
              "      <td>...</td>\n",
              "      <td>False</td>\n",
              "      <td>False</td>\n",
              "      <td>False</td>\n",
              "      <td>False</td>\n",
              "      <td>False</td>\n",
              "      <td>False</td>\n",
              "      <td>False</td>\n",
              "      <td>False</td>\n",
              "      <td>False</td>\n",
              "      <td>False</td>\n",
              "    </tr>\n",
              "    <tr>\n",
              "      <th>2</th>\n",
              "      <td>90036</td>\n",
              "      <td>14.6200</td>\n",
              "      <td>2</td>\n",
              "      <td>0.00</td>\n",
              "      <td>6.8714</td>\n",
              "      <td>False</td>\n",
              "      <td>False</td>\n",
              "      <td>True</td>\n",
              "      <td>False</td>\n",
              "      <td>False</td>\n",
              "      <td>...</td>\n",
              "      <td>False</td>\n",
              "      <td>False</td>\n",
              "      <td>False</td>\n",
              "      <td>True</td>\n",
              "      <td>False</td>\n",
              "      <td>False</td>\n",
              "      <td>False</td>\n",
              "      <td>False</td>\n",
              "      <td>False</td>\n",
              "      <td>False</td>\n",
              "    </tr>\n",
              "    <tr>\n",
              "      <th>3</th>\n",
              "      <td>33311</td>\n",
              "      <td>957.5775</td>\n",
              "      <td>5</td>\n",
              "      <td>0.45</td>\n",
              "      <td>-383.0310</td>\n",
              "      <td>False</td>\n",
              "      <td>False</td>\n",
              "      <td>False</td>\n",
              "      <td>True</td>\n",
              "      <td>True</td>\n",
              "      <td>...</td>\n",
              "      <td>False</td>\n",
              "      <td>False</td>\n",
              "      <td>False</td>\n",
              "      <td>False</td>\n",
              "      <td>False</td>\n",
              "      <td>False</td>\n",
              "      <td>False</td>\n",
              "      <td>False</td>\n",
              "      <td>False</td>\n",
              "      <td>True</td>\n",
              "    </tr>\n",
              "    <tr>\n",
              "      <th>4</th>\n",
              "      <td>33311</td>\n",
              "      <td>22.3680</td>\n",
              "      <td>2</td>\n",
              "      <td>0.20</td>\n",
              "      <td>2.5164</td>\n",
              "      <td>False</td>\n",
              "      <td>False</td>\n",
              "      <td>False</td>\n",
              "      <td>True</td>\n",
              "      <td>True</td>\n",
              "      <td>...</td>\n",
              "      <td>False</td>\n",
              "      <td>False</td>\n",
              "      <td>False</td>\n",
              "      <td>False</td>\n",
              "      <td>False</td>\n",
              "      <td>False</td>\n",
              "      <td>False</td>\n",
              "      <td>True</td>\n",
              "      <td>False</td>\n",
              "      <td>False</td>\n",
              "    </tr>\n",
              "  </tbody>\n",
              "</table>\n",
              "<p>5 rows × 617 columns</p>\n",
              "</div>"
            ],
            "text/plain": [
              "   Postal Code     Sales  Quantity  Discount    Profit  Ship Mode_First Class  \\\n",
              "0        42420  261.9600         2      0.00   41.9136                  False   \n",
              "1        42420  731.9400         3      0.00  219.5820                  False   \n",
              "2        90036   14.6200         2      0.00    6.8714                  False   \n",
              "3        33311  957.5775         5      0.45 -383.0310                  False   \n",
              "4        33311   22.3680         2      0.20    2.5164                  False   \n",
              "\n",
              "   Ship Mode_Same Day  Ship Mode_Second Class  Ship Mode_Standard Class  \\\n",
              "0               False                    True                     False   \n",
              "1               False                    True                     False   \n",
              "2               False                    True                     False   \n",
              "3               False                   False                      True   \n",
              "4               False                   False                      True   \n",
              "\n",
              "   Segment_Consumer  ...  Sub-Category_Envelopes  Sub-Category_Fasteners  \\\n",
              "0              True  ...                   False                   False   \n",
              "1              True  ...                   False                   False   \n",
              "2             False  ...                   False                   False   \n",
              "3              True  ...                   False                   False   \n",
              "4              True  ...                   False                   False   \n",
              "\n",
              "   Sub-Category_Furnishings  Sub-Category_Labels  Sub-Category_Machines  \\\n",
              "0                     False                False                  False   \n",
              "1                     False                False                  False   \n",
              "2                     False                 True                  False   \n",
              "3                     False                False                  False   \n",
              "4                     False                False                  False   \n",
              "\n",
              "   Sub-Category_Paper  Sub-Category_Phones  Sub-Category_Storage  \\\n",
              "0               False                False                 False   \n",
              "1               False                False                 False   \n",
              "2               False                False                 False   \n",
              "3               False                False                 False   \n",
              "4               False                False                  True   \n",
              "\n",
              "   Sub-Category_Supplies  Sub-Category_Tables  \n",
              "0                  False                False  \n",
              "1                  False                False  \n",
              "2                  False                False  \n",
              "3                  False                 True  \n",
              "4                  False                False  \n",
              "\n",
              "[5 rows x 617 columns]"
            ]
          },
          "execution_count": 18,
          "metadata": {},
          "output_type": "execute_result"
        }
      ],
      "source": [
        "df_ohe.head()"
      ]
    },
    {
      "cell_type": "markdown",
      "metadata": {},
      "source": [
        "If the dataset is very large, **dummy encoding** (dropping one category to avoid multicollinearity) or **target encoding** may be better alternatives."
      ]
    },
    {
      "cell_type": "code",
      "execution_count": 19,
      "metadata": {},
      "outputs": [],
      "source": [
        "# Selecting categorical columns for One-Hot Encoding\n",
        "categorical_columns = categorical_columns_df.columns\n",
        "\n",
        "# Apply One-Hot Encoding using pandas get_dummies()\n",
        "df_ohe = pd.get_dummies(df, columns=categorical_columns, drop_first=True)\n"
      ]
    },
    {
      "cell_type": "code",
      "execution_count": 20,
      "metadata": {},
      "outputs": [
        {
          "data": {
            "text/html": [
              "<div>\n",
              "<style scoped>\n",
              "    .dataframe tbody tr th:only-of-type {\n",
              "        vertical-align: middle;\n",
              "    }\n",
              "\n",
              "    .dataframe tbody tr th {\n",
              "        vertical-align: top;\n",
              "    }\n",
              "\n",
              "    .dataframe thead th {\n",
              "        text-align: right;\n",
              "    }\n",
              "</style>\n",
              "<table border=\"1\" class=\"dataframe\">\n",
              "  <thead>\n",
              "    <tr style=\"text-align: right;\">\n",
              "      <th></th>\n",
              "      <th>Postal Code</th>\n",
              "      <th>Sales</th>\n",
              "      <th>Quantity</th>\n",
              "      <th>Discount</th>\n",
              "      <th>Profit</th>\n",
              "      <th>Ship Mode_Same Day</th>\n",
              "      <th>Ship Mode_Second Class</th>\n",
              "      <th>Ship Mode_Standard Class</th>\n",
              "      <th>Segment_Corporate</th>\n",
              "      <th>Segment_Home Office</th>\n",
              "      <th>...</th>\n",
              "      <th>Sub-Category_Envelopes</th>\n",
              "      <th>Sub-Category_Fasteners</th>\n",
              "      <th>Sub-Category_Furnishings</th>\n",
              "      <th>Sub-Category_Labels</th>\n",
              "      <th>Sub-Category_Machines</th>\n",
              "      <th>Sub-Category_Paper</th>\n",
              "      <th>Sub-Category_Phones</th>\n",
              "      <th>Sub-Category_Storage</th>\n",
              "      <th>Sub-Category_Supplies</th>\n",
              "      <th>Sub-Category_Tables</th>\n",
              "    </tr>\n",
              "  </thead>\n",
              "  <tbody>\n",
              "    <tr>\n",
              "      <th>0</th>\n",
              "      <td>42420</td>\n",
              "      <td>261.9600</td>\n",
              "      <td>2</td>\n",
              "      <td>0.00</td>\n",
              "      <td>41.9136</td>\n",
              "      <td>False</td>\n",
              "      <td>True</td>\n",
              "      <td>False</td>\n",
              "      <td>False</td>\n",
              "      <td>False</td>\n",
              "      <td>...</td>\n",
              "      <td>False</td>\n",
              "      <td>False</td>\n",
              "      <td>False</td>\n",
              "      <td>False</td>\n",
              "      <td>False</td>\n",
              "      <td>False</td>\n",
              "      <td>False</td>\n",
              "      <td>False</td>\n",
              "      <td>False</td>\n",
              "      <td>False</td>\n",
              "    </tr>\n",
              "    <tr>\n",
              "      <th>1</th>\n",
              "      <td>42420</td>\n",
              "      <td>731.9400</td>\n",
              "      <td>3</td>\n",
              "      <td>0.00</td>\n",
              "      <td>219.5820</td>\n",
              "      <td>False</td>\n",
              "      <td>True</td>\n",
              "      <td>False</td>\n",
              "      <td>False</td>\n",
              "      <td>False</td>\n",
              "      <td>...</td>\n",
              "      <td>False</td>\n",
              "      <td>False</td>\n",
              "      <td>False</td>\n",
              "      <td>False</td>\n",
              "      <td>False</td>\n",
              "      <td>False</td>\n",
              "      <td>False</td>\n",
              "      <td>False</td>\n",
              "      <td>False</td>\n",
              "      <td>False</td>\n",
              "    </tr>\n",
              "    <tr>\n",
              "      <th>2</th>\n",
              "      <td>90036</td>\n",
              "      <td>14.6200</td>\n",
              "      <td>2</td>\n",
              "      <td>0.00</td>\n",
              "      <td>6.8714</td>\n",
              "      <td>False</td>\n",
              "      <td>True</td>\n",
              "      <td>False</td>\n",
              "      <td>True</td>\n",
              "      <td>False</td>\n",
              "      <td>...</td>\n",
              "      <td>False</td>\n",
              "      <td>False</td>\n",
              "      <td>False</td>\n",
              "      <td>True</td>\n",
              "      <td>False</td>\n",
              "      <td>False</td>\n",
              "      <td>False</td>\n",
              "      <td>False</td>\n",
              "      <td>False</td>\n",
              "      <td>False</td>\n",
              "    </tr>\n",
              "    <tr>\n",
              "      <th>3</th>\n",
              "      <td>33311</td>\n",
              "      <td>957.5775</td>\n",
              "      <td>5</td>\n",
              "      <td>0.45</td>\n",
              "      <td>-383.0310</td>\n",
              "      <td>False</td>\n",
              "      <td>False</td>\n",
              "      <td>True</td>\n",
              "      <td>False</td>\n",
              "      <td>False</td>\n",
              "      <td>...</td>\n",
              "      <td>False</td>\n",
              "      <td>False</td>\n",
              "      <td>False</td>\n",
              "      <td>False</td>\n",
              "      <td>False</td>\n",
              "      <td>False</td>\n",
              "      <td>False</td>\n",
              "      <td>False</td>\n",
              "      <td>False</td>\n",
              "      <td>True</td>\n",
              "    </tr>\n",
              "    <tr>\n",
              "      <th>4</th>\n",
              "      <td>33311</td>\n",
              "      <td>22.3680</td>\n",
              "      <td>2</td>\n",
              "      <td>0.20</td>\n",
              "      <td>2.5164</td>\n",
              "      <td>False</td>\n",
              "      <td>False</td>\n",
              "      <td>True</td>\n",
              "      <td>False</td>\n",
              "      <td>False</td>\n",
              "      <td>...</td>\n",
              "      <td>False</td>\n",
              "      <td>False</td>\n",
              "      <td>False</td>\n",
              "      <td>False</td>\n",
              "      <td>False</td>\n",
              "      <td>False</td>\n",
              "      <td>False</td>\n",
              "      <td>True</td>\n",
              "      <td>False</td>\n",
              "      <td>False</td>\n",
              "    </tr>\n",
              "  </tbody>\n",
              "</table>\n",
              "<p>5 rows × 609 columns</p>\n",
              "</div>"
            ],
            "text/plain": [
              "   Postal Code     Sales  Quantity  Discount    Profit  Ship Mode_Same Day  \\\n",
              "0        42420  261.9600         2      0.00   41.9136               False   \n",
              "1        42420  731.9400         3      0.00  219.5820               False   \n",
              "2        90036   14.6200         2      0.00    6.8714               False   \n",
              "3        33311  957.5775         5      0.45 -383.0310               False   \n",
              "4        33311   22.3680         2      0.20    2.5164               False   \n",
              "\n",
              "   Ship Mode_Second Class  Ship Mode_Standard Class  Segment_Corporate  \\\n",
              "0                    True                     False              False   \n",
              "1                    True                     False              False   \n",
              "2                    True                     False               True   \n",
              "3                   False                      True              False   \n",
              "4                   False                      True              False   \n",
              "\n",
              "   Segment_Home Office  ...  Sub-Category_Envelopes  Sub-Category_Fasteners  \\\n",
              "0                False  ...                   False                   False   \n",
              "1                False  ...                   False                   False   \n",
              "2                False  ...                   False                   False   \n",
              "3                False  ...                   False                   False   \n",
              "4                False  ...                   False                   False   \n",
              "\n",
              "   Sub-Category_Furnishings  Sub-Category_Labels  Sub-Category_Machines  \\\n",
              "0                     False                False                  False   \n",
              "1                     False                False                  False   \n",
              "2                     False                 True                  False   \n",
              "3                     False                False                  False   \n",
              "4                     False                False                  False   \n",
              "\n",
              "   Sub-Category_Paper  Sub-Category_Phones  Sub-Category_Storage  \\\n",
              "0               False                False                 False   \n",
              "1               False                False                 False   \n",
              "2               False                False                 False   \n",
              "3               False                False                 False   \n",
              "4               False                False                  True   \n",
              "\n",
              "   Sub-Category_Supplies  Sub-Category_Tables  \n",
              "0                  False                False  \n",
              "1                  False                False  \n",
              "2                  False                False  \n",
              "3                  False                 True  \n",
              "4                  False                False  \n",
              "\n",
              "[5 rows x 609 columns]"
            ]
          },
          "execution_count": 20,
          "metadata": {},
          "output_type": "execute_result"
        }
      ],
      "source": [
        "df_ohe.head()"
      ]
    },
    {
      "cell_type": "markdown",
      "metadata": {},
      "source": [
        "### 2.2 **When to Use One-Hot Encoding?**  \n",
        "- When dealing with **categorical features** that do not have an **ordinal relationship** (i.e., the categories do not have a meaningful order).  \n",
        "- When using machine learning models that cannot interpret categorical values directly, such as **linear regression, decision trees, and neural networks**.  \n"
      ]
    },
    {
      "cell_type": "markdown",
      "metadata": {},
      "source": [
        "### 2.3 **Why do we use One-Hot Encoding?**\n",
        "\n",
        "Several categorical columns in the **Superstore dataset** require one-hot encoding to be used effectively in machine learning models. Some key features that may need encoding include:  \n",
        "\n",
        "- **Ship Mode** (e.g., Standard Class, First Class, Second Class)  \n",
        "- **Segment** (e.g., Consumer, Corporate, Home Office)  \n",
        "- **Region** (e.g., West, East, Central, South)  \n",
        "- **Category** (e.g., Furniture, Office Supplies, Technology)  \n",
        "- **Sub-Category** (e.g., Chairs, Phones, Binders)\n",
        "\n",
        "\n",
        "### **Considerations**  \n",
        "- One-hot encoding **increases the number of columns**, which can lead to **high-dimensional data**.    \n",
        "- Some machine learning models, such as **tree-based models (e.g., Random Forest, XGBoost), can handle categorical data directly** without needing one-hot encoding.  \n"
      ]
    },
    {
      "cell_type": "markdown",
      "metadata": {},
      "source": [
        "## 3. Label Encoding"
      ]
    },
    {
      "cell_type": "markdown",
      "metadata": {},
      "source": [
        "### 3.1 **What is Label Encoding?**  \n",
        "Label encoding is a technique used to convert **categorical variables** into numerical values by assigning each unique category a **unique integer (0, 1, 2, ...)**. Instead of creating multiple binary columns like one-hot encoding, it replaces each category with a single numeric label.\n",
        "\n",
        "For example, if we apply label encoding to **Ship Mode**, we get:  \n",
        "\n",
        "| Ship Mode       | Encoded Value |  \n",
        "|---------------|--------------|  \n",
        "| Standard Class | 0            |  \n",
        "| First Class   | 1            |  \n",
        "| Second Class  | 2            |  \n",
        "| Same Day      | 3            | "
      ]
    },
    {
      "cell_type": "code",
      "execution_count": null,
      "metadata": {},
      "outputs": [],
      "source": []
    },
    {
      "cell_type": "markdown",
      "metadata": {},
      "source": [
        "### 3.2 **Why Use Label Encoding?**  \n",
        "- **Memory Efficient:** Unlike one-hot encoding, which creates multiple new columns, label encoding uses a single column, reducing memory usage.  \n",
        "- **Useful for Tree-Based Models:** Algorithms like **decision trees, random forests, and XGBoost** can handle categorical data in numerical format without issues.  \n",
        "- **Maintains Ordinal Relationships:** If the categorical variable has a meaningful order (e.g., \"Low,\" \"Medium,\" \"High\"), label encoding preserves that relationship.\n"
      ]
    },
    {
      "cell_type": "markdown",
      "metadata": {},
      "source": [
        "### 3.3 **When to Use Label Encoding?**  \n",
        "- **When dealing with large categorical variables** (e.g., hundreds or thousands of unique categories like ZIP codes or user IDs).  \n",
        "- **When using tree-based models** that can naturally handle categorical variables.  \n",
        "- **When categories have an ordinal relationship** (e.g., \"Beginner\" → 0, \"Intermediate\" → 1, \"Expert\" → 2).  \n",
        "- **Avoid in linear models** if the categorical variable has no inherent order, as it might introduce unintended relationships."
      ]
    },
    {
      "cell_type": "markdown",
      "metadata": {},
      "source": [
        "### **When NOT to Use Label Encoding?**  \n",
        "While label encoding is useful in many cases, there are situations where it can be problematic:  \n",
        "\n",
        "1. **When Categories Have No Ordinal Relationship**  \n",
        "   - Label encoding assigns numeric values (0, 1, 2, …), which might imply an order even when none exists.  \n",
        "   - Example: If \"Red,\" \"Blue,\" and \"Green\" are assigned 0, 1, and 2, a model might incorrectly assume \"Green\" > \"Blue\" > \"Red.\"  \n",
        "   - **Better Alternative:** Use **one-hot encoding** for non-ordinal categorical variables.  \n",
        "\n",
        "2. **When Using Linear Models**  \n",
        "   - Linear regression and logistic regression assume numerical values have a continuous relationship, which can introduce bias if the assigned numbers are arbitrary.  \n",
        "   - **Better Alternative:** One-hot encoding or target encoding (if applicable).  \n",
        "\n",
        "3. **When There Are a Large Number of Unique Categories**  \n",
        "   - If a categorical variable has thousands of unique values (e.g., customer IDs, product SKUs), label encoding can create issues by introducing meaningless relationships.  \n",
        "   - **Better Alternative:** Embedding layers (for deep learning) or frequency encoding.  \n",
        "\n",
        "4. **When Dealing with High Cardinality Categorical Variables in Some ML Models**  \n",
        "   - Label encoding may not work well in distance-based models (e.g., KNN, SVM) since it can distort similarity measures.  \n",
        "   - **Better Alternative:** Target encoding or entity embeddings.  \n",
        "\n",
        "5. **When the Encoded Values Affect Model Performance Negatively**  \n",
        "   - Some models may be biased by the assigned numeric values, leading to inaccurate predictions.  \n",
        "   - **Better Alternative:** Experiment with both **one-hot encoding and label encoding** to see which works best.  \n",
        "\n",
        "\n",
        "### **Key Takeaway**  \n",
        "Use **label encoding** only when:  \n",
        "- The model can handle numerical categorical values (e.g., decision trees, XGBoost).  \n",
        "- The categorical variable has an inherent order.  \n",
        "- The number of unique categories is manageable.  \n",
        "\n",
        "Otherwise, consider **one-hot encoding**, **target encoding**, or **embedding methods** depending on the use case."
      ]
    },
    {
      "cell_type": "markdown",
      "metadata": {},
      "source": [
        "## 4. Sclaing"
      ]
    },
    {
      "cell_type": "markdown",
      "metadata": {},
      "source": [
        "### 4.1 **Normalization**"
      ]
    },
    {
      "cell_type": "markdown",
      "metadata": {},
      "source": [
        "#### 4.1.1 **What is Normalization?**  \n",
        "Normalization is a technique used to **rescale numerical data** into a specific range, typically **[0,1]** or **[-1,1]**. It ensures that all features contribute equally to a model by eliminating differences in scale.\n",
        "\n",
        "For example, using **Min-Max Normalization**:  \n",
        "\n",
        "\\[\n",
        "X_{normalized} = \\frac{X - X_{min}}{X_{max} - X_{min}}\n",
        "\\]\n",
        "\n",
        "If we have values:  \n",
        "- **Original Data:** `[10, 20, 30, 40, 50]`  \n",
        "- **Normalized Data (0-1):** `[0.0, 0.25, 0.5, 0.75, 1.0]`  \n"
      ]
    },
    {
      "cell_type": "code",
      "execution_count": null,
      "metadata": {},
      "outputs": [],
      "source": []
    },
    {
      "cell_type": "markdown",
      "metadata": {},
      "source": [
        "#### 4.1.2 **Why Use Normalization?**  \n",
        "- **Brings features to the same scale** → Prevents large-valued features from dominating the model.  \n",
        "- **Speeds up gradient descent** → Helps models converge faster by avoiding large step sizes.  \n",
        "- **Improves model performance** → Especially for models sensitive to feature magnitudes (e.g., neural networks, k-NN, SVMs).  \n",
        "- **Reduces numerical instability** → Avoids very large/small values that can cause computational issues.  \n"
      ]
    },
    {
      "cell_type": "markdown",
      "metadata": {},
      "source": [
        "#### 4.1.3 **When to Use Normalization?**  \n",
        "- **When features have different scales** (e.g., age in years vs. income in millions).  \n",
        "- **When using distance-based models** like **KNN, K-Means, SVM, PCA** (which rely on Euclidean distances).  \n",
        "- **When working with deep learning models** (e.g., neural networks, CNNs, RNNs), as normalized inputs improve training stability.  \n"
      ]
    },
    {
      "cell_type": "markdown",
      "metadata": {},
      "source": [
        "#### 4.1.4 **When NOT to Use Normalization?**  \n",
        "- **When using tree-based models** (e.g., Decision Trees, Random Forest, XGBoost).  \n",
        "  - Tree models split data based on feature values, and normalization doesn’t improve their performance.  \n",
        "- **When the data has outliers**  \n",
        "  - Min-Max normalization is sensitive to outliers as it rescales based on min/max values.  \n",
        "  - **Better Alternative:** Use **Robust Scaling** or **Standardization** instead.  \n",
        "- **When features are already on a similar scale**  \n",
        "  - If all features have the same unit (e.g., heights in cm, weights in kg), normalization might be unnecessary.  \n"
      ]
    },
    {
      "cell_type": "markdown",
      "metadata": {},
      "source": [
        "### 4.2 Standardization"
      ]
    },
    {
      "cell_type": "markdown",
      "metadata": {},
      "source": [
        "#### 4.2.1 **What is Standardization?**  \n",
        "Standardization is a technique used to **transform numerical data** so that it has a **mean of 0** and a **standard deviation of 1**. This ensures that all features contribute equally to the model, regardless of their original scale.\n",
        "\n",
        "The formula for **Z-score Standardization**:  \n",
        "\n",
        "\\[\n",
        "X_{standardized} = \\frac{X - \\mu}{\\sigma}\n",
        "\\]\n",
        "\n",
        "Where:  \n",
        "- \\( X \\) = Original value  \n",
        "- \\( \\mu \\) = Mean of the feature  \n",
        "- \\( \\sigma \\) = Standard deviation of the feature  \n",
        "\n",
        "For example, if we have a dataset with heights in cm:  \n",
        "- **Original Data:** `[150, 160, 170, 180, 190]`  \n",
        "- **Standardized Data:** `[-1.41, -0.71, 0.00, 0.71, 1.41]`  \n"
      ]
    },
    {
      "cell_type": "code",
      "execution_count": null,
      "metadata": {},
      "outputs": [],
      "source": []
    },
    {
      "cell_type": "markdown",
      "metadata": {},
      "source": [
        "#### 4.2.2 **Why Use Standardization?**  \n",
        "- **Centers data around zero** → Makes optimization algorithms more stable.  \n",
        "- **Ensures equal contribution of features** → Prevents larger-scaled features from dominating smaller-scaled ones.  \n",
        "- **Speeds up gradient descent** → Helps deep learning models converge faster.  \n",
        "- **Works well with normally distributed data** → Standardization assumes that the data follows a **Gaussian (normal) distribution**.  \n"
      ]
    },
    {
      "cell_type": "markdown",
      "metadata": {},
      "source": [
        "#### 4.2.3 **When to Use Standardization?**  \n",
        "- **When using distance-based models** → e.g., **KNN, K-Means, SVM, PCA** (which rely on Euclidean distances).  \n",
        "- **When features have different units** → e.g., height in cm vs. weight in kg.  \n",
        "- **When using deep learning models** → Neural networks perform better with standardized inputs.  \n",
        "- **When data is normally distributed** → Standardization is ideal for normally distributed features.  \n"
      ]
    },
    {
      "cell_type": "markdown",
      "metadata": {},
      "source": [
        "#### 4.2.4 **When NOT to Use Standardization?**  \n",
        "- **When using tree-based models** (e.g., Decision Trees, Random Forest, XGBoost).  \n",
        "  - These models split data based on feature values and don’t require standardization.  \n",
        "- **When the data is not normally distributed**  \n",
        "  - Standardization assumes a normal distribution; if the data is highly skewed, other techniques (like **log transformation**) may be better.  \n",
        "- **When features are already on a similar scale**  \n",
        "  - If all features have the same unit (e.g., percentages), standardization might be unnecessary.  \n",
        "- **When using categorical data**  \n",
        "  - Standardization is only for numerical features. Categorical variables should be handled separately (e.g., one-hot encoding).  \n"
      ]
    },
    {
      "cell_type": "markdown",
      "metadata": {},
      "source": [
        "### 4.3 **Standardization vs. Normalization**  \n",
        "| Feature          | Standardization (Z-score) | Normalization (Min-Max) |  \n",
        "|----------------|-------------------------|----------------------|  \n",
        "| **Range**      | Mean = 0, Std = 1        | [0,1] or [-1,1]     |  \n",
        "| **Sensitive to Outliers?** | No (less sensitive) | Yes (min & max values affect range) |  \n",
        "| **Best For?**  | Normally distributed data | Data without strong assumptions |  \n",
        "| **Used In?**   | KNN, SVM, PCA, Neural Networks | KNN, SVM, Neural Networks |  \n",
        "\n",
        "<br/><br/><br/>\n",
        "\n",
        "#### How do they perform in the presence of outliers?\n",
        "- **Normalization (Min-Max Scaling) is highly sensitive to outliers and should be avoided if outliers exist.**\n",
        "- **Standardization (Z-score Scaling) is more robust but still affected by outliers.**\n",
        "- **Robust Scaling or Log Transformation is best for handling outliers effectively.**\n"
      ]
    },
    {
      "cell_type": "markdown",
      "metadata": {},
      "source": [
        "## 5. Class Imbalance"
      ]
    },
    {
      "cell_type": "markdown",
      "metadata": {},
      "source": [
        "### 5.1 **What is Class Imbalance?**  \n",
        "Class imbalance occurs when one class significantly outnumbers another in a classification dataset. This can lead to biased models that favor the majority class and fail to correctly predict the minority class.\n",
        "\n",
        "For example, in a fraud detection dataset:  \n",
        "- **Non-Fraud Transactions:** 98%  \n",
        "- **Fraud Transactions:** 2%  \n",
        "\n",
        "A model trained on this dataset might predict **\"Non-Fraud\"** 98% of the time but fail to detect actual fraud cases.\n"
      ]
    },
    {
      "cell_type": "markdown",
      "metadata": {},
      "source": [
        "### 5.2 **Why Handle Class Imbalance?**  \n",
        "- **Prevents biased models** → A model trained on imbalanced data may always predict the majority class and ignore the minority class.  \n",
        "- **Improves recall for minority class** → Helps the model detect rare but important events (e.g., fraud, disease detection).  \n",
        "- **Enhances overall model performance** → Avoids misleading accuracy metrics (e.g., 98% accuracy but 0% recall for the minority class).  \n"
      ]
    },
    {
      "cell_type": "markdown",
      "metadata": {},
      "source": [
        "### 5.3 **When to Handle Class Imbalance?**  \n",
        "- **When the minority class is critical** (e.g., fraud detection, medical diagnosis, defect detection).  \n",
        "- **When accuracy alone is misleading** → Use **precision, recall, and F1-score** instead.  \n",
        "- **When your model performs poorly on the minority class** → If the recall is very low, the model isn’t learning from the minority class.  \n"
      ]
    },
    {
      "cell_type": "markdown",
      "metadata": {},
      "source": [
        "### 5.4 **When NOT to Handle Class Imbalance?**  \n",
        "- **When the imbalance is not severe** → If the ratio is **80:20 or better**, some models (like tree-based models) can still perform well without intervention.  \n",
        "- **When the dataset is large and diverse** → With enough data, some models naturally learn to handle imbalance.  \n",
        "- **When using models like XGBoost or Random Forest** → These models are robust to imbalanced datasets and may not require resampling.  \n"
      ]
    },
    {
      "cell_type": "markdown",
      "metadata": {},
      "source": [
        "### 5.5 **Techniques to Handle Class Imbalance**  \n",
        "1. **Resampling Methods**  \n",
        "   - **Oversampling the minority class** (e.g., SMOTE, ADASYN)  \n",
        "   - **Undersampling the majority class** (random undersampling)  \n",
        "\n",
        "2. **Algorithmic Approaches**  \n",
        "   - **Class-weight adjustments** → Assign higher weights to the minority class (e.g., `class_weight='balanced'` in sklearn).  \n",
        "   - **Cost-sensitive learning** → Penalize misclassifications of the minority class.  \n",
        "\n",
        "3. **Synthetic Data Generation**  \n",
        "   - Use **SMOTE (Synthetic Minority Over-sampling Technique)** to create synthetic minority class examples.  \n",
        "\n",
        "4. **Anomaly Detection Approach**  \n",
        "   - If the minority class is extremely rare, consider framing the problem as **anomaly detection** instead of classification.  \n"
      ]
    }
  ],
  "metadata": {
    "colab": {
      "collapsed_sections": [
        "cL7mZcKvkWiy",
        "L3i02saLeFpi",
        "CHPF3B1rg8Zh",
        "TeVC9VuU0fXD"
      ],
      "provenance": []
    },
    "kernelspec": {
      "display_name": "Python 3",
      "name": "python3"
    },
    "language_info": {
      "codemirror_mode": {
        "name": "ipython",
        "version": 3
      },
      "file_extension": ".py",
      "mimetype": "text/x-python",
      "name": "python",
      "nbconvert_exporter": "python",
      "pygments_lexer": "ipython3",
      "version": "3.11.9"
    }
  },
  "nbformat": 4,
  "nbformat_minor": 0
}
