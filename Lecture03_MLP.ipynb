{
  "cells": [
    {
      "cell_type": "markdown",
      "metadata": {
        "id": "DHDMQyA1Bs-i"
      },
      "source": [
        "# DS4440 - Practical Neural Networks\n",
        "## Week 2 : Image Classification using Multi Layer Perceptron\n",
        "\n",
        "___\n",
        "**Instructor** : Prof. Steve Schmidt <br/>\n",
        "**Teaching Assistants** : Vishwajeet Hogale (hogale.v@northeastern.edu) | Chaitanya Agarwal (agarwal.cha@northeastern.edu)"
      ]
    },
    {
      "cell_type": "markdown",
      "metadata": {
        "id": "5ir5849DYWXs"
      },
      "source": [
        "## Problem Statement\n",
        "\n",
        "Imagine we are working with the Fashion MNIST dataset, a collection of grayscale images representing various fashion items such as shirts, shoes, and bags. By analyzing features such as pixel intensity and patterns in the images, we can uncover insights into how models process and classify visual data.\n",
        "<br/>\n",
        "\n",
        "**Our goal is to take an image as an input and predict the class of the fashion item from the dataset.**\n",
        "<br/>\n",
        "We will demonstrate **both**:\n",
        "- **Binary classification** (classes 0 vs. 1, i.e. T-shirt vs. Trouser)\n",
        "- **Multi-class classification** (all 10 classes)\n",
        "<br/>\n",
        "To accomplish this goal, we will use the **Multi Layer Perceptron**.\n",
        "\n",
        "<br/>\n",
        "\n",
        "\n",
        "In this notebook, we'll follow the **six** key sections below:\n",
        "1. **Data Gathering**\n",
        "2. **Data Wrangling**\n",
        "3. **Feature Understanding & Preprocessing**\n",
        "4. **Model Building**\n",
        "\n",
        "\n",
        "Let's dive in and explore how neural networks can tackle this exciting problem!"
      ]
    },
    {
      "cell_type": "markdown",
      "metadata": {
        "id": "cL7mZcKvkWiy"
      },
      "source": [
        "## 0. Setup and Load libraries"
      ]
    },
    {
      "cell_type": "markdown",
      "metadata": {
        "id": "MrYBlWWyF7u-"
      },
      "source": [
        "The below cell helps you download all the necessary libraries or packages required to run this notebook without running into any errors."
      ]
    },
    {
      "cell_type": "code",
      "execution_count": 15,
      "metadata": {
        "colab": {
          "base_uri": "https://localhost:8080/"
        },
        "id": "Aaa1u1vJBs-k",
        "outputId": "f1342911-576e-426f-eb52-ccba845d3339"
      },
      "outputs": [
        {
          "name": "stdout",
          "output_type": "stream",
          "text": [
            "Requirement already satisfied: pandas in /opt/anaconda3/lib/python3.11/site-packages (from -r requirements.txt (line 1)) (2.2.2)\n",
            "Requirement already satisfied: numpy in /opt/anaconda3/lib/python3.11/site-packages (from -r requirements.txt (line 2)) (1.26.4)\n",
            "Requirement already satisfied: torch in /opt/anaconda3/lib/python3.11/site-packages (from -r requirements.txt (line 3)) (2.4.1)\n",
            "Requirement already satisfied: scikit-learn in /opt/anaconda3/lib/python3.11/site-packages (from -r requirements.txt (line 4)) (1.5.1)\n",
            "Requirement already satisfied: matplotlib in /opt/anaconda3/lib/python3.11/site-packages (from -r requirements.txt (line 5)) (3.9.2)\n",
            "Requirement already satisfied: python-dateutil>=2.8.2 in /opt/anaconda3/lib/python3.11/site-packages (from pandas->-r requirements.txt (line 1)) (2.9.0.post0)\n",
            "Requirement already satisfied: pytz>=2020.1 in /opt/anaconda3/lib/python3.11/site-packages (from pandas->-r requirements.txt (line 1)) (2024.1)\n",
            "Requirement already satisfied: tzdata>=2022.7 in /opt/anaconda3/lib/python3.11/site-packages (from pandas->-r requirements.txt (line 1)) (2023.3)\n",
            "Requirement already satisfied: filelock in /opt/anaconda3/lib/python3.11/site-packages (from torch->-r requirements.txt (line 3)) (3.13.1)\n",
            "Requirement already satisfied: typing-extensions>=4.8.0 in /opt/anaconda3/lib/python3.11/site-packages (from torch->-r requirements.txt (line 3)) (4.11.0)\n",
            "Requirement already satisfied: sympy in /opt/anaconda3/lib/python3.11/site-packages (from torch->-r requirements.txt (line 3)) (1.13.2)\n",
            "Requirement already satisfied: networkx in /opt/anaconda3/lib/python3.11/site-packages (from torch->-r requirements.txt (line 3)) (3.3)\n",
            "Requirement already satisfied: jinja2 in /opt/anaconda3/lib/python3.11/site-packages (from torch->-r requirements.txt (line 3)) (3.1.4)\n",
            "Requirement already satisfied: fsspec in /opt/anaconda3/lib/python3.11/site-packages (from torch->-r requirements.txt (line 3)) (2024.6.1)\n",
            "Requirement already satisfied: scipy>=1.6.0 in /opt/anaconda3/lib/python3.11/site-packages (from scikit-learn->-r requirements.txt (line 4)) (1.13.1)\n",
            "Requirement already satisfied: joblib>=1.2.0 in /opt/anaconda3/lib/python3.11/site-packages (from scikit-learn->-r requirements.txt (line 4)) (1.4.2)\n",
            "Requirement already satisfied: threadpoolctl>=3.1.0 in /opt/anaconda3/lib/python3.11/site-packages (from scikit-learn->-r requirements.txt (line 4)) (3.5.0)\n",
            "Requirement already satisfied: contourpy>=1.0.1 in /opt/anaconda3/lib/python3.11/site-packages (from matplotlib->-r requirements.txt (line 5)) (1.2.0)\n",
            "Requirement already satisfied: cycler>=0.10 in /opt/anaconda3/lib/python3.11/site-packages (from matplotlib->-r requirements.txt (line 5)) (0.11.0)\n",
            "Requirement already satisfied: fonttools>=4.22.0 in /opt/anaconda3/lib/python3.11/site-packages (from matplotlib->-r requirements.txt (line 5)) (4.51.0)\n",
            "Requirement already satisfied: kiwisolver>=1.3.1 in /opt/anaconda3/lib/python3.11/site-packages (from matplotlib->-r requirements.txt (line 5)) (1.4.4)\n",
            "Requirement already satisfied: packaging>=20.0 in /opt/anaconda3/lib/python3.11/site-packages (from matplotlib->-r requirements.txt (line 5)) (23.2)\n",
            "Requirement already satisfied: pillow>=8 in /opt/anaconda3/lib/python3.11/site-packages (from matplotlib->-r requirements.txt (line 5)) (10.4.0)\n",
            "Requirement already satisfied: pyparsing>=2.3.1 in /opt/anaconda3/lib/python3.11/site-packages (from matplotlib->-r requirements.txt (line 5)) (3.1.2)\n",
            "Requirement already satisfied: six>=1.5 in /opt/anaconda3/lib/python3.11/site-packages (from python-dateutil>=2.8.2->pandas->-r requirements.txt (line 1)) (1.16.0)\n",
            "Requirement already satisfied: MarkupSafe>=2.0 in /opt/anaconda3/lib/python3.11/site-packages (from jinja2->torch->-r requirements.txt (line 3)) (2.1.3)\n",
            "Requirement already satisfied: mpmath<1.4,>=1.1.0 in /opt/anaconda3/lib/python3.11/site-packages (from sympy->torch->-r requirements.txt (line 3)) (1.3.0)\n"
          ]
        }
      ],
      "source": [
        "! pip install -r requirements.txt"
      ]
    },
    {
      "cell_type": "markdown",
      "metadata": {
        "id": "L3i02saLeFpi"
      },
      "source": [
        "## 1. Data Gathering"
      ]
    },
    {
      "cell_type": "markdown",
      "metadata": {
        "id": "Pn9U0jGrIAPr"
      },
      "source": [
        "### **About the Dataset**\n",
        "\n",
        "The Fashion MNIST dataset consists of **70,000 labeled grayscale images**, each with a resolution of **28x28 pixels and 10 distinct classes**. This structured dataset allows us to experiment with building and training models, tuning hyperparameters, and evaluating performance.\n",
        "\n",
        "\n",
        "Each example in the dataset is assigned to one of the following labels:\n",
        "\n",
        "0 T-shirt/top<br/>\n",
        "1 Trouser<br/>\n",
        "2 Pullover<br/>\n",
        "3 Dress<br/>\n",
        "4 Coat<br/>\n",
        "5 Sandal<br/>\n",
        "6 Shirt<br/>\n",
        "7 Sneaker<br/>\n",
        "8 Bag<br/>\n",
        "9 Ankle boot\n",
        "<br/>\n",
        "<br/>\n",
        "\n",
        "**Dataset Source**\n",
        "<br/>\n",
        "The Fashion MNIST Dataset is a very popular dataset, which is already present in the torch library. What we're going to do is that we will fetch this dataset from torch and download it in our current working directory.\n",
        "<br/><br/>\n"
      ]
    },
    {
      "cell_type": "code",
      "execution_count": 16,
      "metadata": {
        "id": "GFObfWXj3Q2v"
      },
      "outputs": [],
      "source": [
        "import pandas as pd\n",
        "import numpy as np\n",
        "from torchvision import datasets, transforms\n",
        "\n",
        "# Download and load the Fashion MNIST dataset\n",
        "transform = transforms.ToTensor()  # Transform the data into tensors\n",
        "full_dataset = datasets.FashionMNIST(root=\"./data\", train=True, download=True, transform=transform)"
      ]
    },
    {
      "cell_type": "code",
      "execution_count": 28,
      "metadata": {},
      "outputs": [],
      "source": [
        "# Convert the dataset to a DataFrame\n",
        "# Each image is a 28x28 array, flatten it into a single row\n",
        "data_list = []\n",
        "for image, label in full_dataset:\n",
        "    flat_image = image.view(-1).numpy()  # Flatten the 28x28 image into a 1D array\n",
        "    data_list.append([*flat_image, label])\n",
        "\n",
        "# Create a DataFrame\n",
        "columns = [f\"pixel_{i}\" for i in range(28 * 28)] + [\"target\"]\n",
        "df = pd.DataFrame(data_list, columns=columns)"
      ]
    },
    {
      "cell_type": "code",
      "execution_count": 29,
      "metadata": {
        "colab": {
          "base_uri": "https://localhost:8080/",
          "height": 235
        },
        "id": "z2xkO8QXVX4U",
        "outputId": "87f4be5b-6251-4645-9988-dcf464533378"
      },
      "outputs": [
        {
          "data": {
            "text/html": [
              "<div>\n",
              "<style scoped>\n",
              "    .dataframe tbody tr th:only-of-type {\n",
              "        vertical-align: middle;\n",
              "    }\n",
              "\n",
              "    .dataframe tbody tr th {\n",
              "        vertical-align: top;\n",
              "    }\n",
              "\n",
              "    .dataframe thead th {\n",
              "        text-align: right;\n",
              "    }\n",
              "</style>\n",
              "<table border=\"1\" class=\"dataframe\">\n",
              "  <thead>\n",
              "    <tr style=\"text-align: right;\">\n",
              "      <th></th>\n",
              "      <th>pixel_0</th>\n",
              "      <th>pixel_1</th>\n",
              "      <th>pixel_2</th>\n",
              "      <th>pixel_3</th>\n",
              "      <th>pixel_4</th>\n",
              "      <th>pixel_5</th>\n",
              "      <th>pixel_6</th>\n",
              "      <th>pixel_7</th>\n",
              "      <th>pixel_8</th>\n",
              "      <th>pixel_9</th>\n",
              "      <th>...</th>\n",
              "      <th>pixel_775</th>\n",
              "      <th>pixel_776</th>\n",
              "      <th>pixel_777</th>\n",
              "      <th>pixel_778</th>\n",
              "      <th>pixel_779</th>\n",
              "      <th>pixel_780</th>\n",
              "      <th>pixel_781</th>\n",
              "      <th>pixel_782</th>\n",
              "      <th>pixel_783</th>\n",
              "      <th>target</th>\n",
              "    </tr>\n",
              "  </thead>\n",
              "  <tbody>\n",
              "    <tr>\n",
              "      <th>0</th>\n",
              "      <td>0.0</td>\n",
              "      <td>0.0</td>\n",
              "      <td>0.0</td>\n",
              "      <td>0.0</td>\n",
              "      <td>0.0</td>\n",
              "      <td>0.000000</td>\n",
              "      <td>0.0</td>\n",
              "      <td>0.0</td>\n",
              "      <td>0.000000</td>\n",
              "      <td>0.000000</td>\n",
              "      <td>...</td>\n",
              "      <td>0.000000</td>\n",
              "      <td>0.000000</td>\n",
              "      <td>0.000000</td>\n",
              "      <td>0.0</td>\n",
              "      <td>0.0</td>\n",
              "      <td>0.0</td>\n",
              "      <td>0.0</td>\n",
              "      <td>0.0</td>\n",
              "      <td>0.0</td>\n",
              "      <td>9</td>\n",
              "    </tr>\n",
              "    <tr>\n",
              "      <th>1</th>\n",
              "      <td>0.0</td>\n",
              "      <td>0.0</td>\n",
              "      <td>0.0</td>\n",
              "      <td>0.0</td>\n",
              "      <td>0.0</td>\n",
              "      <td>0.003922</td>\n",
              "      <td>0.0</td>\n",
              "      <td>0.0</td>\n",
              "      <td>0.000000</td>\n",
              "      <td>0.000000</td>\n",
              "      <td>...</td>\n",
              "      <td>0.447059</td>\n",
              "      <td>0.509804</td>\n",
              "      <td>0.298039</td>\n",
              "      <td>0.0</td>\n",
              "      <td>0.0</td>\n",
              "      <td>0.0</td>\n",
              "      <td>0.0</td>\n",
              "      <td>0.0</td>\n",
              "      <td>0.0</td>\n",
              "      <td>0</td>\n",
              "    </tr>\n",
              "    <tr>\n",
              "      <th>2</th>\n",
              "      <td>0.0</td>\n",
              "      <td>0.0</td>\n",
              "      <td>0.0</td>\n",
              "      <td>0.0</td>\n",
              "      <td>0.0</td>\n",
              "      <td>0.000000</td>\n",
              "      <td>0.0</td>\n",
              "      <td>0.0</td>\n",
              "      <td>0.000000</td>\n",
              "      <td>0.086275</td>\n",
              "      <td>...</td>\n",
              "      <td>0.000000</td>\n",
              "      <td>0.003922</td>\n",
              "      <td>0.000000</td>\n",
              "      <td>0.0</td>\n",
              "      <td>0.0</td>\n",
              "      <td>0.0</td>\n",
              "      <td>0.0</td>\n",
              "      <td>0.0</td>\n",
              "      <td>0.0</td>\n",
              "      <td>0</td>\n",
              "    </tr>\n",
              "    <tr>\n",
              "      <th>3</th>\n",
              "      <td>0.0</td>\n",
              "      <td>0.0</td>\n",
              "      <td>0.0</td>\n",
              "      <td>0.0</td>\n",
              "      <td>0.0</td>\n",
              "      <td>0.000000</td>\n",
              "      <td>0.0</td>\n",
              "      <td>0.0</td>\n",
              "      <td>0.129412</td>\n",
              "      <td>0.376471</td>\n",
              "      <td>...</td>\n",
              "      <td>0.000000</td>\n",
              "      <td>0.000000</td>\n",
              "      <td>0.000000</td>\n",
              "      <td>0.0</td>\n",
              "      <td>0.0</td>\n",
              "      <td>0.0</td>\n",
              "      <td>0.0</td>\n",
              "      <td>0.0</td>\n",
              "      <td>0.0</td>\n",
              "      <td>3</td>\n",
              "    </tr>\n",
              "    <tr>\n",
              "      <th>4</th>\n",
              "      <td>0.0</td>\n",
              "      <td>0.0</td>\n",
              "      <td>0.0</td>\n",
              "      <td>0.0</td>\n",
              "      <td>0.0</td>\n",
              "      <td>0.000000</td>\n",
              "      <td>0.0</td>\n",
              "      <td>0.0</td>\n",
              "      <td>0.000000</td>\n",
              "      <td>0.000000</td>\n",
              "      <td>...</td>\n",
              "      <td>0.000000</td>\n",
              "      <td>0.000000</td>\n",
              "      <td>0.000000</td>\n",
              "      <td>0.0</td>\n",
              "      <td>0.0</td>\n",
              "      <td>0.0</td>\n",
              "      <td>0.0</td>\n",
              "      <td>0.0</td>\n",
              "      <td>0.0</td>\n",
              "      <td>0</td>\n",
              "    </tr>\n",
              "  </tbody>\n",
              "</table>\n",
              "<p>5 rows × 785 columns</p>\n",
              "</div>"
            ],
            "text/plain": [
              "   pixel_0  pixel_1  pixel_2  pixel_3  pixel_4   pixel_5  pixel_6  pixel_7  \\\n",
              "0      0.0      0.0      0.0      0.0      0.0  0.000000      0.0      0.0   \n",
              "1      0.0      0.0      0.0      0.0      0.0  0.003922      0.0      0.0   \n",
              "2      0.0      0.0      0.0      0.0      0.0  0.000000      0.0      0.0   \n",
              "3      0.0      0.0      0.0      0.0      0.0  0.000000      0.0      0.0   \n",
              "4      0.0      0.0      0.0      0.0      0.0  0.000000      0.0      0.0   \n",
              "\n",
              "    pixel_8   pixel_9  ...  pixel_775  pixel_776  pixel_777  pixel_778  \\\n",
              "0  0.000000  0.000000  ...   0.000000   0.000000   0.000000        0.0   \n",
              "1  0.000000  0.000000  ...   0.447059   0.509804   0.298039        0.0   \n",
              "2  0.000000  0.086275  ...   0.000000   0.003922   0.000000        0.0   \n",
              "3  0.129412  0.376471  ...   0.000000   0.000000   0.000000        0.0   \n",
              "4  0.000000  0.000000  ...   0.000000   0.000000   0.000000        0.0   \n",
              "\n",
              "   pixel_779  pixel_780  pixel_781  pixel_782  pixel_783  target  \n",
              "0        0.0        0.0        0.0        0.0        0.0       9  \n",
              "1        0.0        0.0        0.0        0.0        0.0       0  \n",
              "2        0.0        0.0        0.0        0.0        0.0       0  \n",
              "3        0.0        0.0        0.0        0.0        0.0       3  \n",
              "4        0.0        0.0        0.0        0.0        0.0       0  \n",
              "\n",
              "[5 rows x 785 columns]"
            ]
          },
          "execution_count": 29,
          "metadata": {},
          "output_type": "execute_result"
        }
      ],
      "source": [
        "df.head()"
      ]
    },
    {
      "cell_type": "code",
      "execution_count": 30,
      "metadata": {
        "id": "QBoxeoriVX4U"
      },
      "outputs": [],
      "source": [
        "fashion_mnist_classes = {\n",
        "    0: \"T-shirt/top\",\n",
        "    1: \"Trouser\",\n",
        "    2: \"Pullover\",\n",
        "    3: \"Dress\",\n",
        "    4: \"Coat\",\n",
        "    5: \"Sandal\",\n",
        "    6: \"Shirt\",\n",
        "    7: \"Sneaker\",\n",
        "    8: \"Bag\",\n",
        "    9: \"Ankle boot\"\n",
        "}"
      ]
    },
    {
      "cell_type": "code",
      "execution_count": 31,
      "metadata": {
        "colab": {
          "base_uri": "https://localhost:8080/",
          "height": 235
        },
        "id": "V5SKpaGNVX4U",
        "outputId": "e3897811-44df-4b5e-9ef9-52b401bde0d5"
      },
      "outputs": [
        {
          "data": {
            "text/html": [
              "<div>\n",
              "<style scoped>\n",
              "    .dataframe tbody tr th:only-of-type {\n",
              "        vertical-align: middle;\n",
              "    }\n",
              "\n",
              "    .dataframe tbody tr th {\n",
              "        vertical-align: top;\n",
              "    }\n",
              "\n",
              "    .dataframe thead th {\n",
              "        text-align: right;\n",
              "    }\n",
              "</style>\n",
              "<table border=\"1\" class=\"dataframe\">\n",
              "  <thead>\n",
              "    <tr style=\"text-align: right;\">\n",
              "      <th></th>\n",
              "      <th>pixel_0</th>\n",
              "      <th>pixel_1</th>\n",
              "      <th>pixel_2</th>\n",
              "      <th>pixel_3</th>\n",
              "      <th>pixel_4</th>\n",
              "      <th>pixel_5</th>\n",
              "      <th>pixel_6</th>\n",
              "      <th>pixel_7</th>\n",
              "      <th>pixel_8</th>\n",
              "      <th>pixel_9</th>\n",
              "      <th>...</th>\n",
              "      <th>pixel_776</th>\n",
              "      <th>pixel_777</th>\n",
              "      <th>pixel_778</th>\n",
              "      <th>pixel_779</th>\n",
              "      <th>pixel_780</th>\n",
              "      <th>pixel_781</th>\n",
              "      <th>pixel_782</th>\n",
              "      <th>pixel_783</th>\n",
              "      <th>target</th>\n",
              "      <th>fashion_class</th>\n",
              "    </tr>\n",
              "  </thead>\n",
              "  <tbody>\n",
              "    <tr>\n",
              "      <th>0</th>\n",
              "      <td>0.0</td>\n",
              "      <td>0.0</td>\n",
              "      <td>0.0</td>\n",
              "      <td>0.0</td>\n",
              "      <td>0.0</td>\n",
              "      <td>0.000000</td>\n",
              "      <td>0.0</td>\n",
              "      <td>0.0</td>\n",
              "      <td>0.000000</td>\n",
              "      <td>0.000000</td>\n",
              "      <td>...</td>\n",
              "      <td>0.000000</td>\n",
              "      <td>0.000000</td>\n",
              "      <td>0.0</td>\n",
              "      <td>0.0</td>\n",
              "      <td>0.0</td>\n",
              "      <td>0.0</td>\n",
              "      <td>0.0</td>\n",
              "      <td>0.0</td>\n",
              "      <td>9</td>\n",
              "      <td>Ankle boot</td>\n",
              "    </tr>\n",
              "    <tr>\n",
              "      <th>1</th>\n",
              "      <td>0.0</td>\n",
              "      <td>0.0</td>\n",
              "      <td>0.0</td>\n",
              "      <td>0.0</td>\n",
              "      <td>0.0</td>\n",
              "      <td>0.003922</td>\n",
              "      <td>0.0</td>\n",
              "      <td>0.0</td>\n",
              "      <td>0.000000</td>\n",
              "      <td>0.000000</td>\n",
              "      <td>...</td>\n",
              "      <td>0.509804</td>\n",
              "      <td>0.298039</td>\n",
              "      <td>0.0</td>\n",
              "      <td>0.0</td>\n",
              "      <td>0.0</td>\n",
              "      <td>0.0</td>\n",
              "      <td>0.0</td>\n",
              "      <td>0.0</td>\n",
              "      <td>0</td>\n",
              "      <td>T-shirt/top</td>\n",
              "    </tr>\n",
              "    <tr>\n",
              "      <th>2</th>\n",
              "      <td>0.0</td>\n",
              "      <td>0.0</td>\n",
              "      <td>0.0</td>\n",
              "      <td>0.0</td>\n",
              "      <td>0.0</td>\n",
              "      <td>0.000000</td>\n",
              "      <td>0.0</td>\n",
              "      <td>0.0</td>\n",
              "      <td>0.000000</td>\n",
              "      <td>0.086275</td>\n",
              "      <td>...</td>\n",
              "      <td>0.003922</td>\n",
              "      <td>0.000000</td>\n",
              "      <td>0.0</td>\n",
              "      <td>0.0</td>\n",
              "      <td>0.0</td>\n",
              "      <td>0.0</td>\n",
              "      <td>0.0</td>\n",
              "      <td>0.0</td>\n",
              "      <td>0</td>\n",
              "      <td>T-shirt/top</td>\n",
              "    </tr>\n",
              "    <tr>\n",
              "      <th>3</th>\n",
              "      <td>0.0</td>\n",
              "      <td>0.0</td>\n",
              "      <td>0.0</td>\n",
              "      <td>0.0</td>\n",
              "      <td>0.0</td>\n",
              "      <td>0.000000</td>\n",
              "      <td>0.0</td>\n",
              "      <td>0.0</td>\n",
              "      <td>0.129412</td>\n",
              "      <td>0.376471</td>\n",
              "      <td>...</td>\n",
              "      <td>0.000000</td>\n",
              "      <td>0.000000</td>\n",
              "      <td>0.0</td>\n",
              "      <td>0.0</td>\n",
              "      <td>0.0</td>\n",
              "      <td>0.0</td>\n",
              "      <td>0.0</td>\n",
              "      <td>0.0</td>\n",
              "      <td>3</td>\n",
              "      <td>Dress</td>\n",
              "    </tr>\n",
              "    <tr>\n",
              "      <th>4</th>\n",
              "      <td>0.0</td>\n",
              "      <td>0.0</td>\n",
              "      <td>0.0</td>\n",
              "      <td>0.0</td>\n",
              "      <td>0.0</td>\n",
              "      <td>0.000000</td>\n",
              "      <td>0.0</td>\n",
              "      <td>0.0</td>\n",
              "      <td>0.000000</td>\n",
              "      <td>0.000000</td>\n",
              "      <td>...</td>\n",
              "      <td>0.000000</td>\n",
              "      <td>0.000000</td>\n",
              "      <td>0.0</td>\n",
              "      <td>0.0</td>\n",
              "      <td>0.0</td>\n",
              "      <td>0.0</td>\n",
              "      <td>0.0</td>\n",
              "      <td>0.0</td>\n",
              "      <td>0</td>\n",
              "      <td>T-shirt/top</td>\n",
              "    </tr>\n",
              "  </tbody>\n",
              "</table>\n",
              "<p>5 rows × 786 columns</p>\n",
              "</div>"
            ],
            "text/plain": [
              "   pixel_0  pixel_1  pixel_2  pixel_3  pixel_4   pixel_5  pixel_6  pixel_7  \\\n",
              "0      0.0      0.0      0.0      0.0      0.0  0.000000      0.0      0.0   \n",
              "1      0.0      0.0      0.0      0.0      0.0  0.003922      0.0      0.0   \n",
              "2      0.0      0.0      0.0      0.0      0.0  0.000000      0.0      0.0   \n",
              "3      0.0      0.0      0.0      0.0      0.0  0.000000      0.0      0.0   \n",
              "4      0.0      0.0      0.0      0.0      0.0  0.000000      0.0      0.0   \n",
              "\n",
              "    pixel_8   pixel_9  ...  pixel_776  pixel_777  pixel_778  pixel_779  \\\n",
              "0  0.000000  0.000000  ...   0.000000   0.000000        0.0        0.0   \n",
              "1  0.000000  0.000000  ...   0.509804   0.298039        0.0        0.0   \n",
              "2  0.000000  0.086275  ...   0.003922   0.000000        0.0        0.0   \n",
              "3  0.129412  0.376471  ...   0.000000   0.000000        0.0        0.0   \n",
              "4  0.000000  0.000000  ...   0.000000   0.000000        0.0        0.0   \n",
              "\n",
              "   pixel_780  pixel_781  pixel_782  pixel_783  target  fashion_class  \n",
              "0        0.0        0.0        0.0        0.0       9     Ankle boot  \n",
              "1        0.0        0.0        0.0        0.0       0    T-shirt/top  \n",
              "2        0.0        0.0        0.0        0.0       0    T-shirt/top  \n",
              "3        0.0        0.0        0.0        0.0       3          Dress  \n",
              "4        0.0        0.0        0.0        0.0       0    T-shirt/top  \n",
              "\n",
              "[5 rows x 786 columns]"
            ]
          },
          "execution_count": 31,
          "metadata": {},
          "output_type": "execute_result"
        }
      ],
      "source": [
        "# Get the labels from the dataset\n",
        "labels = df.iloc[:,-1].values\n",
        "\n",
        "target_values = []\n",
        "for i in labels:\n",
        "    target_values.append(fashion_mnist_classes[i])\n",
        "\n",
        "df[\"fashion_class\"] = target_values\n",
        "\n",
        "\n",
        "df.head()"
      ]
    },
    {
      "cell_type": "markdown",
      "metadata": {
        "id": "n3lbt3O8U9U0"
      },
      "source": [
        "### Visualize an image from the dataset"
      ]
    },
    {
      "cell_type": "markdown",
      "metadata": {
        "id": "tgknEZhSVX4U"
      },
      "source": [
        "#### What does display_image do?\n",
        "- Input: It takes a single example (row) from the dataset where each image is represented as a flattened vector of size 784 x 1 (28x28 pixels stored in one dimension).\n",
        "- Reshaping: It reshapes the flattened vector into a 28 x 28 matrix, which represents the actual 2D structure of the image.\n",
        "- Display: It visualizes the reshaped 28x28 image using a grayscale colormap to show how the image looks."
      ]
    },
    {
      "cell_type": "code",
      "execution_count": 32,
      "metadata": {
        "id": "59sWKZ28VX4U"
      },
      "outputs": [],
      "source": [
        "import matplotlib.pyplot as plt\n",
        "def display_image(row, image_no, df_temp):\n",
        "    # Ensure the data is a NumPy array\n",
        "    image_array = np.array(row, dtype=float)\n",
        "\n",
        "    # Reshape the flattened image into 28x28\n",
        "    reshaped_image = image_array.reshape(28, 28)\n",
        "\n",
        "    # Display the image using matplotlib\n",
        "    plt.figure(figsize=(4, 4))\n",
        "    plt.imshow(reshaped_image, cmap='gray')\n",
        "    plt.title(f\"Fashion Class : {df_temp['fashion_class'][image_no]}\")\n",
        "    plt.axis('off')  # Turn off axis labels\n",
        "    plt.show()"
      ]
    },
    {
      "cell_type": "code",
      "execution_count": 33,
      "metadata": {
        "colab": {
          "base_uri": "https://localhost:8080/",
          "height": 367
        },
        "id": "0muYRfT7VX4V",
        "outputId": "f0e3a03a-5cdc-4a18-fd50-4c7e6f22a0c9"
      },
      "outputs": [
        {
          "data": {
            "image/png": "[encoded data removed]",
            "text/plain": [
              "<Figure size 400x400 with 1 Axes>"
            ]
          },
          "metadata": {},
          "output_type": "display_data"
        }
      ],
      "source": [
        "image_no = 199\n",
        "display_image(df.iloc[image_no, :784], image_no, df)"
      ]
    },
    {
      "cell_type": "markdown",
      "metadata": {
        "id": "CHPF3B1rg8Zh"
      },
      "source": [
        "## 2. Data Wrangling"
      ]
    },
    {
      "cell_type": "markdown",
      "metadata": {
        "id": "HGKMYTAlhELB"
      },
      "source": [
        "### Check the size of the training dataset"
      ]
    },
    {
      "cell_type": "code",
      "execution_count": 34,
      "metadata": {
        "colab": {
          "base_uri": "https://localhost:8080/"
        },
        "id": "2ppjGGRzfyJH",
        "outputId": "ea3fc637-d8b2-4c7b-bfd5-ff5958c96fe7"
      },
      "outputs": [
        {
          "name": "stdout",
          "output_type": "stream",
          "text": [
            "The dataset has 60000 images\n"
          ]
        }
      ],
      "source": [
        "print(f\"The dataset has {df.shape[0]} images\")"
      ]
    },
    {
      "cell_type": "markdown",
      "metadata": {
        "id": "XKyrO7d_j0SP"
      },
      "source": [
        "### Explore the class distribution in all the fashion class labels"
      ]
    },
    {
      "cell_type": "code",
      "execution_count": 35,
      "metadata": {
        "id": "nF21sPdMVX4V"
      },
      "outputs": [],
      "source": [
        "unique_labels, counts = list(fashion_mnist_classes.values()), df.groupby([\"fashion_class\"]).size().values"
      ]
    },
    {
      "cell_type": "code",
      "execution_count": 36,
      "metadata": {
        "colab": {
          "base_uri": "https://localhost:8080/",
          "height": 564
        },
        "id": "T2Df707hVX4V",
        "outputId": "6a04e153-3245-44e4-83e6-74ff4317957d"
      },
      "outputs": [
        {
          "data": {
            "image/png": "[encoded data removed]",
            "text/plain": [
              "<Figure size 1000x600 with 1 Axes>"
            ]
          },
          "metadata": {},
          "output_type": "display_data"
        }
      ],
      "source": [
        "# Plot the class distribution as a bar chart\n",
        "plt.figure(figsize=(10,6))\n",
        "plt.bar(unique_labels, counts, color='skyblue')\n",
        "plt.xlabel('Class Label')\n",
        "plt.ylabel('Frequency')\n",
        "plt.title('Class Label Distribution in Fashion MNIST')\n",
        "plt.xticks(unique_labels)  # Set x-ticks to be the class labels\n",
        "plt.show()"
      ]
    },
    {
      "cell_type": "markdown",
      "metadata": {
        "id": "jxeUlPAmcXFx"
      },
      "source": [
        "#### Insights\n",
        "- There are 6000 images in each fashion item class which makes it a well distributed dataset without any class imbalance."
      ]
    },
    {
      "cell_type": "markdown",
      "metadata": {
        "id": "SoLROqGoYPtS"
      },
      "source": [
        "## 3. Feature Understanding and Preprocessing\n"
      ]
    },
    {
      "cell_type": "markdown",
      "metadata": {},
      "source": [
        "This code defines two classes to handle datasets in PyTorch:\n",
        "\n",
        "1. **BinaryDataset**  \n",
        "   For problems where fashion classes/labels are either T-shirt or Trouser  \n",
        "   - Converts `data` and `labels` into `float32` tensors.\n",
        "   - These tensors are data structures that any PyTOrch model understands.\n",
        "\n",
        "2. **MultiClassDataset**  \n",
        "   For problems with multiple categories like T-shirt, Shoes, Trousers, etc.   \n",
        "   - Converts `data` and `labels` into `long` tensors.\n",
        "   - These tensors are data structures that any PyTOrch model understands.\n",
        "\n",
        "Both classes let you:\n",
        "- Get the size of the dataset (`__len__`).\n",
        "- Access a specific data point and label (`__getitem__`)."
      ]
    },
    {
      "cell_type": "code",
      "execution_count": 37,
      "metadata": {
        "id": "UHlBXrtRYVjW"
      },
      "outputs": [],
      "source": [
        "import torch\n",
        "from torch.utils.data import Dataset, DataLoader\n",
        "class BinaryDataset(Dataset):\n",
        "    def __init__(self, data, labels):\n",
        "        self.data = torch.tensor(data.values, dtype=torch.float32)  # Convert to tensor\n",
        "        self.labels = torch.tensor(labels.values, dtype=torch.float32)  # Convert to tensor\n",
        "\n",
        "    def __len__(self):\n",
        "        return len(self.data)\n",
        "\n",
        "    def __getitem__(self, idx):\n",
        "        return self.data[idx], self.labels[idx]\n",
        "\n",
        "class MultiClassDataset(Dataset):\n",
        "    def __init__(self, data, labels):\n",
        "        self.data = torch.tensor(data.values, dtype=torch.float32)  # Convert to tensor\n",
        "        self.labels = torch.tensor(labels.values, dtype=torch.long)  # Convert to tensor\n",
        "\n",
        "    def __len__(self):\n",
        "        return len(self.data)\n",
        "\n",
        "    def __getitem__(self, idx):\n",
        "        return self.data[idx], self.labels[idx]\n",
        "\n"
      ]
    },
    {
      "cell_type": "markdown",
      "metadata": {
        "id": "_wAaaQXwRc6O"
      },
      "source": [
        "## 4. Model Building"
      ]
    },
    {
      "cell_type": "markdown",
      "metadata": {
        "id": "pQOnSHjXF1Pz"
      },
      "source": [
        "### **Binary Classification**\n",
        "\n",
        "In this task, we're going to pick any two classes from the fashion MNIST dataset and show how to use Binary Cross Entropy Loss for the binary predictions using MLP."
      ]
    },
    {
      "cell_type": "code",
      "execution_count": 38,
      "metadata": {
        "id": "r3R984kNgep6"
      },
      "outputs": [],
      "source": [
        "# Let's assume we only take fashion class 0 and 1 for binary classification\n",
        "# filter the training dataset on fashion class 0 and 1\n",
        "df_bin = df[(df[\"target\"] == 0) | (df[\"target\"] == 1)] # This gets all rows that represent fashion items that belong to class 0 or 1"
      ]
    },
    {
      "cell_type": "code",
      "execution_count": null,
      "metadata": {
        "colab": {
          "base_uri": "https://localhost:8080/",
          "height": 235
        },
        "id": "3BppyU2wVX4W",
        "outputId": "637644a3-3897-477a-ae19-eba341ea7b80"
      },
      "outputs": [
        {
          "data": {
            "text/html": [
              "<div>\n",
              "<style scoped>\n",
              "    .dataframe tbody tr th:only-of-type {\n",
              "        vertical-align: middle;\n",
              "    }\n",
              "\n",
              "    .dataframe tbody tr th {\n",
              "        vertical-align: top;\n",
              "    }\n",
              "\n",
              "    .dataframe thead th {\n",
              "        text-align: right;\n",
              "    }\n",
              "</style>\n",
              "<table border=\"1\" class=\"dataframe\">\n",
              "  <thead>\n",
              "    <tr style=\"text-align: right;\">\n",
              "      <th></th>\n",
              "      <th>0</th>\n",
              "      <th>1</th>\n",
              "      <th>2</th>\n",
              "      <th>3</th>\n",
              "      <th>4</th>\n",
              "      <th>5</th>\n",
              "      <th>6</th>\n",
              "      <th>7</th>\n",
              "      <th>8</th>\n",
              "      <th>9</th>\n",
              "      <th>...</th>\n",
              "      <th>776</th>\n",
              "      <th>777</th>\n",
              "      <th>778</th>\n",
              "      <th>779</th>\n",
              "      <th>780</th>\n",
              "      <th>781</th>\n",
              "      <th>782</th>\n",
              "      <th>783</th>\n",
              "      <th>target</th>\n",
              "      <th>fashion_class</th>\n",
              "    </tr>\n",
              "  </thead>\n",
              "  <tbody>\n",
              "    <tr>\n",
              "      <th>1</th>\n",
              "      <td>0</td>\n",
              "      <td>0</td>\n",
              "      <td>0</td>\n",
              "      <td>0</td>\n",
              "      <td>0</td>\n",
              "      <td>1</td>\n",
              "      <td>0</td>\n",
              "      <td>0</td>\n",
              "      <td>0</td>\n",
              "      <td>0</td>\n",
              "      <td>...</td>\n",
              "      <td>130</td>\n",
              "      <td>76</td>\n",
              "      <td>0</td>\n",
              "      <td>0</td>\n",
              "      <td>0</td>\n",
              "      <td>0</td>\n",
              "      <td>0</td>\n",
              "      <td>0</td>\n",
              "      <td>0</td>\n",
              "      <td>T-shirt/top</td>\n",
              "    </tr>\n",
              "    <tr>\n",
              "      <th>2</th>\n",
              "      <td>0</td>\n",
              "      <td>0</td>\n",
              "      <td>0</td>\n",
              "      <td>0</td>\n",
              "      <td>0</td>\n",
              "      <td>0</td>\n",
              "      <td>0</td>\n",
              "      <td>0</td>\n",
              "      <td>0</td>\n",
              "      <td>22</td>\n",
              "      <td>...</td>\n",
              "      <td>1</td>\n",
              "      <td>0</td>\n",
              "      <td>0</td>\n",
              "      <td>0</td>\n",
              "      <td>0</td>\n",
              "      <td>0</td>\n",
              "      <td>0</td>\n",
              "      <td>0</td>\n",
              "      <td>0</td>\n",
              "      <td>T-shirt/top</td>\n",
              "    </tr>\n",
              "    <tr>\n",
              "      <th>4</th>\n",
              "      <td>0</td>\n",
              "      <td>0</td>\n",
              "      <td>0</td>\n",
              "      <td>0</td>\n",
              "      <td>0</td>\n",
              "      <td>0</td>\n",
              "      <td>0</td>\n",
              "      <td>0</td>\n",
              "      <td>0</td>\n",
              "      <td>0</td>\n",
              "      <td>...</td>\n",
              "      <td>0</td>\n",
              "      <td>0</td>\n",
              "      <td>0</td>\n",
              "      <td>0</td>\n",
              "      <td>0</td>\n",
              "      <td>0</td>\n",
              "      <td>0</td>\n",
              "      <td>0</td>\n",
              "      <td>0</td>\n",
              "      <td>T-shirt/top</td>\n",
              "    </tr>\n",
              "    <tr>\n",
              "      <th>10</th>\n",
              "      <td>0</td>\n",
              "      <td>0</td>\n",
              "      <td>0</td>\n",
              "      <td>0</td>\n",
              "      <td>0</td>\n",
              "      <td>0</td>\n",
              "      <td>0</td>\n",
              "      <td>11</td>\n",
              "      <td>142</td>\n",
              "      <td>200</td>\n",
              "      <td>...</td>\n",
              "      <td>158</td>\n",
              "      <td>18</td>\n",
              "      <td>0</td>\n",
              "      <td>3</td>\n",
              "      <td>0</td>\n",
              "      <td>0</td>\n",
              "      <td>0</td>\n",
              "      <td>0</td>\n",
              "      <td>0</td>\n",
              "      <td>T-shirt/top</td>\n",
              "    </tr>\n",
              "    <tr>\n",
              "      <th>16</th>\n",
              "      <td>0</td>\n",
              "      <td>0</td>\n",
              "      <td>0</td>\n",
              "      <td>0</td>\n",
              "      <td>0</td>\n",
              "      <td>0</td>\n",
              "      <td>0</td>\n",
              "      <td>0</td>\n",
              "      <td>0</td>\n",
              "      <td>53</td>\n",
              "      <td>...</td>\n",
              "      <td>107</td>\n",
              "      <td>0</td>\n",
              "      <td>0</td>\n",
              "      <td>0</td>\n",
              "      <td>0</td>\n",
              "      <td>0</td>\n",
              "      <td>0</td>\n",
              "      <td>0</td>\n",
              "      <td>1</td>\n",
              "      <td>Trouser</td>\n",
              "    </tr>\n",
              "  </tbody>\n",
              "</table>\n",
              "<p>5 rows × 786 columns</p>\n",
              "</div>"
            ],
            "text/plain": [
              "    0  1  2  3  4  5  6   7    8    9  ...  776  777  778  779  780  781  782  \\\n",
              "1   0  0  0  0  0  1  0   0    0    0  ...  130   76    0    0    0    0    0   \n",
              "2   0  0  0  0  0  0  0   0    0   22  ...    1    0    0    0    0    0    0   \n",
              "4   0  0  0  0  0  0  0   0    0    0  ...    0    0    0    0    0    0    0   \n",
              "10  0  0  0  0  0  0  0  11  142  200  ...  158   18    0    3    0    0    0   \n",
              "16  0  0  0  0  0  0  0   0    0   53  ...  107    0    0    0    0    0    0   \n",
              "\n",
              "    783  target  fashion_class  \n",
              "1     0       0    T-shirt/top  \n",
              "2     0       0    T-shirt/top  \n",
              "4     0       0    T-shirt/top  \n",
              "10    0       0    T-shirt/top  \n",
              "16    0       1        Trouser  \n",
              "\n",
              "[5 rows x 786 columns]"
            ]
          },
          "execution_count": 13,
          "metadata": {},
          "output_type": "execute_result"
        }
      ],
      "source": [
        "df_bin.head()"
      ]
    },
    {
      "cell_type": "code",
      "execution_count": 39,
      "metadata": {
        "colab": {
          "base_uri": "https://localhost:8080/",
          "height": 367
        },
        "id": "4Lh3-4NnVX4W",
        "outputId": "52ec39c7-b1de-4331-abd3-83b0b9fbb5c3"
      },
      "outputs": [
        {
          "data": {
            "image/png": "[encoded data removed]",
            "text/plain": [
              "<Figure size 400x400 with 1 Axes>"
            ]
          },
          "metadata": {},
          "output_type": "display_data"
        }
      ],
      "source": [
        "image_no = 3\n",
        "df_bin = df_bin.reset_index()\n",
        "display_image(df_bin.iloc[image_no, :784].values, image_no, df_bin)"
      ]
    },
    {
      "cell_type": "code",
      "execution_count": 40,
      "metadata": {
        "id": "AEJnqEmeVX4W"
      },
      "outputs": [],
      "source": [
        "# Assuming `df` has the image data and the 'fashion_class' column as the labels\n",
        "X = df_bin.drop(columns=['fashion_class', 'target','index'])  # Features (Image data)\n",
        "y = df_bin['target']  # Labels (Fashion classes)"
      ]
    },
    {
      "cell_type": "code",
      "execution_count": 41,
      "metadata": {
        "id": "3pA3hPrlVX4W"
      },
      "outputs": [],
      "source": [
        "from sklearn.model_selection import train_test_split\n",
        "\n",
        "X_train, X_test, y_train, y_test = train_test_split(X, y, test_size=0.2, random_state=42)"
      ]
    },
    {
      "cell_type": "code",
      "execution_count": 42,
      "metadata": {
        "colab": {
          "base_uri": "https://localhost:8080/"
        },
        "id": "-rB4xRpiVX4W",
        "outputId": "24dbc2f5-6e54-4deb-b757-a23a308b2ce6"
      },
      "outputs": [
        {
          "data": {
            "text/plain": [
              "(2400, 784)"
            ]
          },
          "execution_count": 42,
          "metadata": {},
          "output_type": "execute_result"
        }
      ],
      "source": [
        "X_test.shape"
      ]
    },
    {
      "cell_type": "code",
      "execution_count": 43,
      "metadata": {
        "colab": {
          "base_uri": "https://localhost:8080/",
          "height": 241
        },
        "id": "-pLu2v9LVX4W",
        "outputId": "7ddd285d-b3ab-4187-a794-6dc394fadf82"
      },
      "outputs": [
        {
          "data": {
            "text/plain": [
              "9182     1\n",
              "11091    1\n",
              "6428     1\n",
              "288      0\n",
              "2626     1\n",
              "Name: target, dtype: int64"
            ]
          },
          "execution_count": 43,
          "metadata": {},
          "output_type": "execute_result"
        }
      ],
      "source": [
        "y_train.head()"
      ]
    },
    {
      "cell_type": "code",
      "execution_count": 44,
      "metadata": {
        "id": "ZJbHWdtDieri"
      },
      "outputs": [],
      "source": [
        "binary_train_dataset = BinaryDataset(X_train, y_train)\n",
        "binary_test_dataset = BinaryDataset(X_test, y_test)"
      ]
    },
    {
      "cell_type": "code",
      "execution_count": 45,
      "metadata": {
        "colab": {
          "base_uri": "https://localhost:8080/"
        },
        "id": "Gdxzu0z4WRjd",
        "outputId": "d2917c09-b52d-4e57-b37b-066e6d5f1dae"
      },
      "outputs": [
        {
          "data": {
            "text/plain": [
              "<__main__.BinaryDataset at 0x381502790>"
            ]
          },
          "execution_count": 45,
          "metadata": {},
          "output_type": "execute_result"
        }
      ],
      "source": [
        "binary_train_dataset"
      ]
    },
    {
      "cell_type": "markdown",
      "metadata": {
        "id": "Wu5poNyqZYva"
      },
      "source": [
        "#### Hyperparameters"
      ]
    },
    {
      "cell_type": "code",
      "execution_count": 46,
      "metadata": {
        "colab": {
          "base_uri": "https://localhost:8080/"
        },
        "id": "SC4CMhUeVX4W",
        "outputId": "53c194b6-35ab-41bf-b72a-029dcf6fc689"
      },
      "outputs": [
        {
          "name": "stdout",
          "output_type": "stream",
          "text": [
            "Learning rate: 0.0001\n",
            "Batch size: 64\n",
            "Number of epochs: 10\n"
          ]
        }
      ],
      "source": [
        "import torch.nn as nn\n",
        "\n",
        "lr = 0.0001 # learning rate\n",
        "epochs = 10\n",
        "batch_size = 64\n",
        "num_classes = 10  # number of classes in FashionMNIST\n",
        "\n",
        "\n",
        "print('Learning rate:', lr)\n",
        "print('Batch size:', batch_size)\n",
        "print('Number of epochs:', epochs)"
      ]
    },
    {
      "cell_type": "code",
      "execution_count": 47,
      "metadata": {
        "id": "pQ_TlfNmin4x"
      },
      "outputs": [],
      "source": [
        "binary_train_loader = DataLoader(binary_train_dataset, batch_size=batch_size, shuffle=True)\n",
        "binary_test_loader = DataLoader(binary_test_dataset, batch_size=batch_size, shuffle=False)"
      ]
    },
    {
      "cell_type": "code",
      "execution_count": 48,
      "metadata": {
        "colab": {
          "base_uri": "https://localhost:8080/"
        },
        "id": "QGAX-_tDWRjd",
        "outputId": "318db763-89bb-4aa2-d4b5-dd7cf08841f2"
      },
      "outputs": [
        {
          "data": {
            "text/plain": [
              "<torch.utils.data.dataloader.DataLoader at 0x381502b10>"
            ]
          },
          "execution_count": 48,
          "metadata": {},
          "output_type": "execute_result"
        }
      ],
      "source": [
        "binary_train_loader"
      ]
    },
    {
      "cell_type": "code",
      "execution_count": 49,
      "metadata": {
        "colab": {
          "base_uri": "https://localhost:8080/",
          "height": 121
        },
        "id": "dKX-nfnpVX4W",
        "outputId": "dc665e92-aa2d-4445-e245-89289e88ba51"
      },
      "outputs": [
        {
          "data": {
            "text/plain": [
              "BinaryMLP(\n",
              "  (fc1): Linear(in_features=784, out_features=64, bias=True)\n",
              "  (relu): ReLU()\n",
              "  (fc2): Linear(in_features=64, out_features=1, bias=True)\n",
              "  (sigmoid): Sigmoid()\n",
              ")"
            ]
          },
          "metadata": {},
          "output_type": "display_data"
        }
      ],
      "source": [
        "\"\"\"\n",
        "    Binary MLP architecture for binary classification\n",
        "        - Input Layer : 784 neurons\n",
        "        - Activation Function : ReLU()\n",
        "        - Hidden Layer : 64 neurons\n",
        "        - Activation Function : Sigmoid()\n",
        "        - Output Layer : 1 neuron\n",
        "\n",
        "    - Predicts two classes\n",
        "\"\"\"\n",
        "class BinaryMLP(nn.Module):\n",
        "    def __init__(self, input_size, hidden_size=64):\n",
        "        super().__init__()\n",
        "        self.fc1 = nn.Linear(input_size, hidden_size)\n",
        "        self.relu = nn.ReLU()\n",
        "        self.fc2 = nn.Linear(hidden_size, 1)\n",
        "        self.sigmoid = nn.Sigmoid()\n",
        "\n",
        "    def forward(self, x):\n",
        "        out = self.fc1(x)\n",
        "        out = self.relu(out)\n",
        "        out = self.fc2(out)\n",
        "        out = self.sigmoid(out)\n",
        "        return out  # shape (batch_size, 1)\n",
        "\n",
        "display(BinaryMLP(784))"
      ]
    },
    {
      "cell_type": "markdown",
      "metadata": {},
      "source": [
        "#### Understanding ⁠ squeeze() ⁠ and ⁠ unsqueeze() ⁠\n",
        "\n",
        "In PyTorch, the shape (dimensions) of a tensor is critical for operations like loss computation. Functions like ⁠ squeeze() ⁠ and ⁠ unsqueeze() ⁠ are used to manipulate tensor dimensions to match the requirements of certain operations.\n",
        "\n",
        "#### Why Use ⁠ squeeze() ⁠ in the Training Loop?\n",
        "\n",
        "-⁠  ⁠*Problem*: When performing binary classification, the model often outputs predictions with shape ⁠ (N, 1) ⁠, where ⁠ N ⁠ is the batch size.\n",
        "  - For example: ⁠ [0.8, 0.3, 0.9] ⁠ might be represented as:\n",
        "         [[0.8],\n",
        "        [0.3],\n",
        "        [0.9]]\n",
        "⁠    \n",
        "     ⁠\n",
        "  - The ⁠ loss_fn ⁠ (e.g., ⁠ BCEWithLogitsLoss ⁠) expects both ⁠ outputs ⁠ and ⁠ labels ⁠ to have the same shape, i.e., ⁠ (N,) ⁠. This mismatch would cause an error.\n",
        "-⁠  ⁠*Solution*: ⁠ squeeze() ⁠ removes the redundant dimension, converting ⁠ (N, 1) ⁠ to ⁠ (N) ⁠.\n",
        "\n",
        "#### What Does ⁠ unsqueeze() ⁠ Do?\n",
        "\n",
        "-⁠  ⁠⁠ unsqueeze() ⁠ adds a dimension to a tensor. For example:\n",
        "  - Converting a tensor of shape ⁠ (N,) ⁠ to ⁠ (N, 1) ⁠ for operations that require an explicit second dimension.\n",
        "\n"
      ]
    },
    {
      "cell_type": "code",
      "execution_count": 50,
      "metadata": {
        "id": "_Sw_BJVuVX4X"
      },
      "outputs": [],
      "source": [
        "# Training Loop for PyTorch Model\n",
        "\n",
        "def train(model, loss_fn, optimizer, batch_size=64, epochs=5):\n",
        "    \"\"\"\n",
        "    A function to train a PyTorch model.\n",
        "    It teaches the model to predict answers correctly by repeatedly learning from mistakes.\n",
        "    \n",
        "    Args:\n",
        "    - model: The machine learning model to be trained.\n",
        "    - loss_fn: The function that calculates how wrong the model's predictions are (loss function).\n",
        "    - optimizer: The helper that adjusts the model to improve predictions (optimizer).\n",
        "    - batch_size: How many examples to process at a time (default is 64).\n",
        "    - epochs: How many rounds of learning the model will go through (default is 5).\n",
        "    \"\"\"\n",
        "    \n",
        "    model.train()  # Set the model to 'training mode' so it can learn and improve.\n",
        "\n",
        "    for epoch in range(epochs):  # Loop through each learning round (epoch).\n",
        "        total_loss = 0.0  # Keep track of the total loss for this epoch.\n",
        "        \n",
        "        for batch_idx, (data, labels) in enumerate(binary_train_loader):\n",
        "            # data = Input features for the model\n",
        "            # labels = Correct answers for those features\n",
        "            \n",
        "            # 1. Get the model's predictions (outputs).\n",
        "            outputs = model(data)  # The model tries to guess the answers.\n",
        "            \n",
        "            # 2. Calculate how wrong the predictions are (loss).\n",
        "            # `squeeze` makes the outputs easier to compare with labels.\n",
        "            loss = loss_fn(outputs.squeeze(), labels)\n",
        "            \n",
        "            # 3. Clear any leftover adjustments from the last step.\n",
        "            optimizer.zero_grad()\n",
        "            \n",
        "            # 4. Calculate the gradients (how much to adjust the model).\n",
        "            loss.backward()\n",
        "            \n",
        "            # 5. Update the model to make it better based on the gradients.\n",
        "            optimizer.step()\n",
        "            \n",
        "            # Add this batch's loss to the total loss.\n",
        "            total_loss += loss.item()\n",
        "\n",
        "        # Calculate the average loss for this epoch.\n",
        "        avg_loss = total_loss / len(binary_train_loader)\n",
        "        \n",
        "        # Print how much the model improved in this round.\n",
        "        print(f\"Epoch [{epoch+1}/{epochs}] - Loss: {avg_loss:.4f}\")\n",
        "        \n",
        "        # Save the model after every learning round (epoch).\n",
        "        torch.save(model.state_dict(), \"bin_mlp_model\" + '.pth')  # Save the model as a file.\n",
        "        print(f\"Model saved.\")  # Let us know that the model was saved.\n",
        "\n",
        "    # Save the model one last time after the final epoch.\n",
        "    torch.save(model.state_dict(), \"bin_mlp_model\" + '.pth')\n",
        "    print(f\"Final model saved.\")\n"
      ]
    },
    {
      "cell_type": "code",
      "execution_count": 51,
      "metadata": {
        "id": "xAlGmzlfiWpO"
      },
      "outputs": [],
      "source": [
        "# if we want to load a model, we can use:\n",
        "# model = torch.load(\"model.pth\"))\n",
        "# model.eval()"
      ]
    },
    {
      "cell_type": "code",
      "execution_count": 52,
      "metadata": {
        "id": "vqOv6XEyVX4X"
      },
      "outputs": [],
      "source": [
        "# model inference\n",
        "def predict(model, X_test):\n",
        "    model.eval()  # set the model to evaluation mode\n",
        "    predictions = []\n",
        "    # Ensure X_test is converted to a PyTorch tensor\n",
        "    X_test_tensor = torch.tensor(X_test, dtype=torch.float32)\n",
        "\n",
        "    with torch.no_grad():  # disable gradient computation for inference\n",
        "        outputs = model(X_test_tensor)  # forward pass\n",
        "        probabilities = outputs.squeeze()  # apply sigmoid to logits\n",
        "        predictions = [int(x>=0.5) for x in probabilities]  # convert to NumPy and append\n",
        "\n",
        "    return np.array(predictions)\n"
      ]
    },
    {
      "cell_type": "markdown",
      "metadata": {
        "id": "FlDGm4qbZG6Q"
      },
      "source": [
        "#### Binary Classification Runner"
      ]
    },
    {
      "cell_type": "code",
      "execution_count": 53,
      "metadata": {
        "colab": {
          "base_uri": "https://localhost:8080/"
        },
        "id": "xsB3eketVX4X",
        "outputId": "5403e5ae-94ed-47d6-fcf3-dad6b2115928"
      },
      "outputs": [
        {
          "name": "stdout",
          "output_type": "stream",
          "text": [
            "Epoch [1/10] - Loss: 0.6839\n",
            "Model saved.\n",
            "Epoch [2/10] - Loss: 0.6755\n",
            "Model saved.\n",
            "Epoch [3/10] - Loss: 0.6671\n",
            "Model saved.\n",
            "Epoch [4/10] - Loss: 0.6587\n",
            "Model saved.\n",
            "Epoch [5/10] - Loss: 0.6505\n",
            "Model saved.\n",
            "Epoch [6/10] - Loss: 0.6425\n",
            "Model saved.\n",
            "Epoch [7/10] - Loss: 0.6348\n",
            "Model saved.\n",
            "Epoch [8/10] - Loss: 0.6273\n",
            "Model saved.\n",
            "Epoch [9/10] - Loss: 0.6200\n",
            "Model saved.\n",
            "Epoch [10/10] - Loss: 0.6130\n",
            "Model saved.\n",
            "Final model saved.\n"
          ]
        }
      ],
      "source": [
        "import torch.optim as optim # torch package implementing various optimization algorithms\n",
        "\n",
        "input_size = X_train.shape[1]                     # number of features in each sample\n",
        "binary_mlp = BinaryMLP(input_size)                    # creating an object of the MLP model class\n",
        "optimizer = optim.SGD(binary_mlp.parameters(), lr=lr) # stochastic gradient descent as optimizer\n",
        "loss_fn = nn.BCELoss()\n",
        "\n",
        "\n",
        "train(binary_mlp, loss_fn, optimizer, batch_size, epochs=epochs)"
      ]
    },
    {
      "cell_type": "code",
      "execution_count": 54,
      "metadata": {
        "id": "Uo8YlPAQVX4X"
      },
      "outputs": [],
      "source": [
        "random_state = 42 # you can play around with this to sample different examples.\n",
        "# we usually decide on a number for reproducibility.\n",
        "\n",
        "\n",
        "def analyze_predictions(X_test, y_test, y_pred):\n",
        "    # Convert df_analyse to DataFrame if it's a NumPy array or PyTorch tensor\n",
        "    df_analyse = X_test.copy()\n",
        "\n",
        "    df_analyse['true_label'] = y_test\n",
        "    df_analyse['predicted_label'] = y_pred\n",
        "\n",
        "    # Identify correct and incorrect predictions\n",
        "    correct_preds = df_analyse[df_analyse['true_label'] == df_analyse['predicted_label']]\n",
        "    incorrect_preds = df_analyse[df_analyse['true_label'] != df_analyse['predicted_label']]\n",
        "\n",
        "    # Sample examples for correct and incorrect predictions\n",
        "    correct_examples = correct_preds.sample(n=min(3, len(correct_preds)), random_state=random_state)\n",
        "    incorrect_examples = incorrect_preds.sample(n=min(3, len(incorrect_preds)), random_state=random_state)\n",
        "\n",
        "    print(\"\\nCorrect Predictions:\")\n",
        "    display(correct_examples)\n",
        "\n",
        "    print(\"\\nIncorrect Predictions:\")\n",
        "    display(incorrect_examples)\n",
        "\n",
        "    print(\"-\"*40)\n",
        "\n",
        "    return [correct_examples, incorrect_examples]"
      ]
    },
    {
      "cell_type": "code",
      "execution_count": 55,
      "metadata": {
        "colab": {
          "base_uri": "https://localhost:8080/"
        },
        "id": "yT_vid_PWRje",
        "outputId": "6d54fc3b-a5c8-4ab9-8317-822ae933f422"
      },
      "outputs": [
        {
          "data": {
            "text/plain": [
              "(2400, 784)"
            ]
          },
          "execution_count": 55,
          "metadata": {},
          "output_type": "execute_result"
        }
      ],
      "source": [
        "X_test.shape"
      ]
    },
    {
      "cell_type": "code",
      "execution_count": 56,
      "metadata": {
        "colab": {
          "base_uri": "https://localhost:8080/",
          "height": 554
        },
        "id": "mGV_L2W0VX4X",
        "outputId": "f9fbc512-d164-4456-926a-dcb5418c3fbe"
      },
      "outputs": [
        {
          "name": "stdout",
          "output_type": "stream",
          "text": [
            "Binary Classification: \n",
            "\n",
            "Correct Predictions:\n"
          ]
        },
        {
          "data": {
            "text/html": [
              "<div>\n",
              "<style scoped>\n",
              "    .dataframe tbody tr th:only-of-type {\n",
              "        vertical-align: middle;\n",
              "    }\n",
              "\n",
              "    .dataframe tbody tr th {\n",
              "        vertical-align: top;\n",
              "    }\n",
              "\n",
              "    .dataframe thead th {\n",
              "        text-align: right;\n",
              "    }\n",
              "</style>\n",
              "<table border=\"1\" class=\"dataframe\">\n",
              "  <thead>\n",
              "    <tr style=\"text-align: right;\">\n",
              "      <th></th>\n",
              "      <th>pixel_0</th>\n",
              "      <th>pixel_1</th>\n",
              "      <th>pixel_2</th>\n",
              "      <th>pixel_3</th>\n",
              "      <th>pixel_4</th>\n",
              "      <th>pixel_5</th>\n",
              "      <th>pixel_6</th>\n",
              "      <th>pixel_7</th>\n",
              "      <th>pixel_8</th>\n",
              "      <th>pixel_9</th>\n",
              "      <th>...</th>\n",
              "      <th>pixel_776</th>\n",
              "      <th>pixel_777</th>\n",
              "      <th>pixel_778</th>\n",
              "      <th>pixel_779</th>\n",
              "      <th>pixel_780</th>\n",
              "      <th>pixel_781</th>\n",
              "      <th>pixel_782</th>\n",
              "      <th>pixel_783</th>\n",
              "      <th>true_label</th>\n",
              "      <th>predicted_label</th>\n",
              "    </tr>\n",
              "  </thead>\n",
              "  <tbody>\n",
              "    <tr>\n",
              "      <th>6412</th>\n",
              "      <td>0.0</td>\n",
              "      <td>0.0</td>\n",
              "      <td>0.0</td>\n",
              "      <td>0.0</td>\n",
              "      <td>0.0</td>\n",
              "      <td>0.0</td>\n",
              "      <td>0.0</td>\n",
              "      <td>0.0</td>\n",
              "      <td>0.0</td>\n",
              "      <td>0.0</td>\n",
              "      <td>...</td>\n",
              "      <td>0.000000</td>\n",
              "      <td>0.0</td>\n",
              "      <td>0.000000</td>\n",
              "      <td>0.0</td>\n",
              "      <td>0.000000</td>\n",
              "      <td>0.0</td>\n",
              "      <td>0.0</td>\n",
              "      <td>0.0</td>\n",
              "      <td>1</td>\n",
              "      <td>1</td>\n",
              "    </tr>\n",
              "    <tr>\n",
              "      <th>2519</th>\n",
              "      <td>0.0</td>\n",
              "      <td>0.0</td>\n",
              "      <td>0.0</td>\n",
              "      <td>0.0</td>\n",
              "      <td>0.0</td>\n",
              "      <td>0.0</td>\n",
              "      <td>0.0</td>\n",
              "      <td>0.0</td>\n",
              "      <td>0.0</td>\n",
              "      <td>0.0</td>\n",
              "      <td>...</td>\n",
              "      <td>0.156863</td>\n",
              "      <td>0.2</td>\n",
              "      <td>0.070588</td>\n",
              "      <td>0.0</td>\n",
              "      <td>0.007843</td>\n",
              "      <td>0.0</td>\n",
              "      <td>0.0</td>\n",
              "      <td>0.0</td>\n",
              "      <td>0</td>\n",
              "      <td>0</td>\n",
              "    </tr>\n",
              "    <tr>\n",
              "      <th>5739</th>\n",
              "      <td>0.0</td>\n",
              "      <td>0.0</td>\n",
              "      <td>0.0</td>\n",
              "      <td>0.0</td>\n",
              "      <td>0.0</td>\n",
              "      <td>0.0</td>\n",
              "      <td>0.0</td>\n",
              "      <td>0.0</td>\n",
              "      <td>0.0</td>\n",
              "      <td>0.0</td>\n",
              "      <td>...</td>\n",
              "      <td>0.000000</td>\n",
              "      <td>0.0</td>\n",
              "      <td>0.000000</td>\n",
              "      <td>0.0</td>\n",
              "      <td>0.000000</td>\n",
              "      <td>0.0</td>\n",
              "      <td>0.0</td>\n",
              "      <td>0.0</td>\n",
              "      <td>0</td>\n",
              "      <td>0</td>\n",
              "    </tr>\n",
              "  </tbody>\n",
              "</table>\n",
              "<p>3 rows × 786 columns</p>\n",
              "</div>"
            ],
            "text/plain": [
              "      pixel_0  pixel_1  pixel_2  pixel_3  pixel_4  pixel_5  pixel_6  pixel_7  \\\n",
              "6412      0.0      0.0      0.0      0.0      0.0      0.0      0.0      0.0   \n",
              "2519      0.0      0.0      0.0      0.0      0.0      0.0      0.0      0.0   \n",
              "5739      0.0      0.0      0.0      0.0      0.0      0.0      0.0      0.0   \n",
              "\n",
              "      pixel_8  pixel_9  ...  pixel_776  pixel_777  pixel_778  pixel_779  \\\n",
              "6412      0.0      0.0  ...   0.000000        0.0   0.000000        0.0   \n",
              "2519      0.0      0.0  ...   0.156863        0.2   0.070588        0.0   \n",
              "5739      0.0      0.0  ...   0.000000        0.0   0.000000        0.0   \n",
              "\n",
              "      pixel_780  pixel_781  pixel_782  pixel_783  true_label  predicted_label  \n",
              "6412   0.000000        0.0        0.0        0.0           1                1  \n",
              "2519   0.007843        0.0        0.0        0.0           0                0  \n",
              "5739   0.000000        0.0        0.0        0.0           0                0  \n",
              "\n",
              "[3 rows x 786 columns]"
            ]
          },
          "metadata": {},
          "output_type": "display_data"
        },
        {
          "name": "stdout",
          "output_type": "stream",
          "text": [
            "\n",
            "Incorrect Predictions:\n"
          ]
        },
        {
          "data": {
            "text/html": [
              "<div>\n",
              "<style scoped>\n",
              "    .dataframe tbody tr th:only-of-type {\n",
              "        vertical-align: middle;\n",
              "    }\n",
              "\n",
              "    .dataframe tbody tr th {\n",
              "        vertical-align: top;\n",
              "    }\n",
              "\n",
              "    .dataframe thead th {\n",
              "        text-align: right;\n",
              "    }\n",
              "</style>\n",
              "<table border=\"1\" class=\"dataframe\">\n",
              "  <thead>\n",
              "    <tr style=\"text-align: right;\">\n",
              "      <th></th>\n",
              "      <th>pixel_0</th>\n",
              "      <th>pixel_1</th>\n",
              "      <th>pixel_2</th>\n",
              "      <th>pixel_3</th>\n",
              "      <th>pixel_4</th>\n",
              "      <th>pixel_5</th>\n",
              "      <th>pixel_6</th>\n",
              "      <th>pixel_7</th>\n",
              "      <th>pixel_8</th>\n",
              "      <th>pixel_9</th>\n",
              "      <th>...</th>\n",
              "      <th>pixel_776</th>\n",
              "      <th>pixel_777</th>\n",
              "      <th>pixel_778</th>\n",
              "      <th>pixel_779</th>\n",
              "      <th>pixel_780</th>\n",
              "      <th>pixel_781</th>\n",
              "      <th>pixel_782</th>\n",
              "      <th>pixel_783</th>\n",
              "      <th>true_label</th>\n",
              "      <th>predicted_label</th>\n",
              "    </tr>\n",
              "  </thead>\n",
              "  <tbody>\n",
              "    <tr>\n",
              "      <th>4785</th>\n",
              "      <td>0.0</td>\n",
              "      <td>0.0</td>\n",
              "      <td>0.0</td>\n",
              "      <td>0.0</td>\n",
              "      <td>0.062745</td>\n",
              "      <td>0.062745</td>\n",
              "      <td>0.062745</td>\n",
              "      <td>0.062745</td>\n",
              "      <td>0.058824</td>\n",
              "      <td>0.062745</td>\n",
              "      <td>...</td>\n",
              "      <td>0.062745</td>\n",
              "      <td>0.078431</td>\n",
              "      <td>0.074510</td>\n",
              "      <td>0.078431</td>\n",
              "      <td>0.0</td>\n",
              "      <td>0.0</td>\n",
              "      <td>0.0</td>\n",
              "      <td>0.0</td>\n",
              "      <td>1</td>\n",
              "      <td>0</td>\n",
              "    </tr>\n",
              "    <tr>\n",
              "      <th>3519</th>\n",
              "      <td>0.0</td>\n",
              "      <td>0.0</td>\n",
              "      <td>0.0</td>\n",
              "      <td>0.0</td>\n",
              "      <td>0.000000</td>\n",
              "      <td>0.000000</td>\n",
              "      <td>0.000000</td>\n",
              "      <td>0.000000</td>\n",
              "      <td>0.239216</td>\n",
              "      <td>0.513726</td>\n",
              "      <td>...</td>\n",
              "      <td>0.164706</td>\n",
              "      <td>0.000000</td>\n",
              "      <td>0.000000</td>\n",
              "      <td>0.000000</td>\n",
              "      <td>0.0</td>\n",
              "      <td>0.0</td>\n",
              "      <td>0.0</td>\n",
              "      <td>0.0</td>\n",
              "      <td>1</td>\n",
              "      <td>0</td>\n",
              "    </tr>\n",
              "    <tr>\n",
              "      <th>1511</th>\n",
              "      <td>0.0</td>\n",
              "      <td>0.0</td>\n",
              "      <td>0.0</td>\n",
              "      <td>0.0</td>\n",
              "      <td>0.000000</td>\n",
              "      <td>0.000000</td>\n",
              "      <td>0.003922</td>\n",
              "      <td>0.000000</td>\n",
              "      <td>0.000000</td>\n",
              "      <td>0.066667</td>\n",
              "      <td>...</td>\n",
              "      <td>0.423529</td>\n",
              "      <td>0.270588</td>\n",
              "      <td>0.023529</td>\n",
              "      <td>0.000000</td>\n",
              "      <td>0.0</td>\n",
              "      <td>0.0</td>\n",
              "      <td>0.0</td>\n",
              "      <td>0.0</td>\n",
              "      <td>1</td>\n",
              "      <td>0</td>\n",
              "    </tr>\n",
              "  </tbody>\n",
              "</table>\n",
              "<p>3 rows × 786 columns</p>\n",
              "</div>"
            ],
            "text/plain": [
              "      pixel_0  pixel_1  pixel_2  pixel_3   pixel_4   pixel_5   pixel_6  \\\n",
              "4785      0.0      0.0      0.0      0.0  0.062745  0.062745  0.062745   \n",
              "3519      0.0      0.0      0.0      0.0  0.000000  0.000000  0.000000   \n",
              "1511      0.0      0.0      0.0      0.0  0.000000  0.000000  0.003922   \n",
              "\n",
              "       pixel_7   pixel_8   pixel_9  ...  pixel_776  pixel_777  pixel_778  \\\n",
              "4785  0.062745  0.058824  0.062745  ...   0.062745   0.078431   0.074510   \n",
              "3519  0.000000  0.239216  0.513726  ...   0.164706   0.000000   0.000000   \n",
              "1511  0.000000  0.000000  0.066667  ...   0.423529   0.270588   0.023529   \n",
              "\n",
              "      pixel_779  pixel_780  pixel_781  pixel_782  pixel_783  true_label  \\\n",
              "4785   0.078431        0.0        0.0        0.0        0.0           1   \n",
              "3519   0.000000        0.0        0.0        0.0        0.0           1   \n",
              "1511   0.000000        0.0        0.0        0.0        0.0           1   \n",
              "\n",
              "      predicted_label  \n",
              "4785                0  \n",
              "3519                0  \n",
              "1511                0  \n",
              "\n",
              "[3 rows x 786 columns]"
            ]
          },
          "metadata": {},
          "output_type": "display_data"
        },
        {
          "name": "stdout",
          "output_type": "stream",
          "text": [
            "----------------------------------------\n"
          ]
        }
      ],
      "source": [
        "# running inference on test set\n",
        "y_pred_bin = predict(binary_mlp, X_test.values)\n",
        "\n",
        "# analyze binary predictions\n",
        "print(\"Binary Classification: \")\n",
        "binary_results = analyze_predictions(X_test, y_test, y_pred_bin)"
      ]
    },
    {
      "cell_type": "code",
      "execution_count": 57,
      "metadata": {
        "id": "D9f72bBKVX4Y"
      },
      "outputs": [],
      "source": [
        "def visualize_predictions(correct_examples, incorrect_examples):\n",
        "    \"\"\"\n",
        "    Visualize the predictions made by the model.\n",
        "    - First row: Correct predictions.\n",
        "    - Second row: Incorrect predictions.\n",
        "    \"\"\"\n",
        "\n",
        "    # Combine correct and incorrect examples into a single DataFrame.\n",
        "    all_samples = pd.concat([correct_examples, incorrect_examples]).reset_index(drop=True)\n",
        "\n",
        "    # Check if there are samples to display.\n",
        "    if all_samples.empty:\n",
        "        print(\"No samples to display.\")\n",
        "        return\n",
        "\n",
        "    # Set up a grid for displaying images (2 rows, 3 columns -> up to 6 images).\n",
        "    rows, cols = 2, 3\n",
        "    fig, axes = plt.subplots(rows, cols, figsize=(4 * cols, 4 * rows))\n",
        "\n",
        "    # Flatten the grid of axes into a list for easier access.\n",
        "    axes_flat = axes.ravel()\n",
        "\n",
        "    # Loop through the first 6 examples in the DataFrame.\n",
        "    for i in range(min(6, len(all_samples))):  # Make sure we don't try to plot more than we have.\n",
        "        row = all_samples.iloc[i]  # Get the current row.\n",
        "\n",
        "        # Extract the image pixel values and reshape them into a 28x28 grid.\n",
        "        pixel_values = row.iloc[:784].values  # Assume first 784 columns are pixel values.\n",
        "        img_2d = pixel_values.reshape(28, 28)\n",
        "\n",
        "        # Get the true label and predicted label.\n",
        "        true_lbl = row['true_label']\n",
        "        pred_lbl = row['predicted_label']\n",
        "\n",
        "        # Display the image and add labels.\n",
        "        ax = axes_flat[i]  # Get the current subplot.\n",
        "        ax.imshow(img_2d, cmap='gray')  # Display the image in grayscale.\n",
        "        ax.set_title(\n",
        "            f\"True: {true_lbl} ({fashion_mnist_classes[true_lbl]})\\n\"\n",
        "            f\"Predicted: {pred_lbl} ({fashion_mnist_classes[pred_lbl]})\"\n",
        "        )  # Show the true and predicted labels.\n",
        "        ax.axis('off')  # Hide the axes for a cleaner look.\n",
        "\n",
        "    # Turn off any unused plots if there are fewer than 6 images.\n",
        "    for j in range(len(all_samples), 6):\n",
        "        axes_flat[j].axis('off')\n",
        "\n",
        "    # Adjust layout and display the plot.\n",
        "    plt.tight_layout()\n",
        "    plt.show()\n"
      ]
    },
    {
      "cell_type": "code",
      "execution_count": 58,
      "metadata": {
        "colab": {
          "base_uri": "https://localhost:8080/",
          "height": 827
        },
        "id": "S4hwY1UuVX4Y",
        "outputId": "ca6145a5-a0be-4a31-c4b9-f327800b4488"
      },
      "outputs": [
        {
          "data": {
            "image/png": "[encoded data removed]",
            "text/plain": [
              "<Figure size 1200x800 with 6 Axes>"
            ]
          },
          "metadata": {},
          "output_type": "display_data"
        }
      ],
      "source": [
        "visualize_predictions(binary_results[0], binary_results[1])"
      ]
    },
    {
      "cell_type": "code",
      "execution_count": 59,
      "metadata": {
        "id": "5R3S4eWQrz7K"
      },
      "outputs": [],
      "source": [
        "from sklearn.metrics import accuracy_score, confusion_matrix, ConfusionMatrixDisplay\n",
        "import torch\n",
        "def evaluate(model, X_test, y_test, task=\"binary\", threshold=0.5):\n",
        "    model.eval()  # set model to evaluation mode\n",
        "    with torch.no_grad():\n",
        "        # convert test features to PyTorch tensors\n",
        "        X_test_t = torch.tensor(X_test, dtype=torch.float32)\n",
        "\n",
        "        # get model outputs\n",
        "        outputs = model(X_test_t)\n",
        "\n",
        "        if task == \"binary\":\n",
        "            # for binary classification, apply threshold\n",
        "            preds = (outputs.squeeze().numpy() >= threshold).astype(int)\n",
        "        elif task == \"multiclass\":\n",
        "            # for multi-class classification, get the class with the highest score\n",
        "            preds = torch.argmax(outputs, dim=1).numpy()\n",
        "        else:\n",
        "            raise ValueError(f\"Unsupported task type: {task}. Use 'binary' or 'multiclass'.\")\n",
        "\n",
        "    # calculate accuracy and confusion matrix\n",
        "    accuracy = accuracy_score(y_test, preds)\n",
        "    cm = confusion_matrix(y_test, preds)\n",
        "\n",
        "    return accuracy, cm"
      ]
    },
    {
      "cell_type": "code",
      "execution_count": 60,
      "metadata": {
        "colab": {
          "base_uri": "https://localhost:8080/",
          "height": 502
        },
        "id": "df6qJb4axZvB",
        "outputId": "71333f4c-18da-456a-a0b9-4715eeb6b95e"
      },
      "outputs": [
        {
          "name": "stdout",
          "output_type": "stream",
          "text": [
            "\n",
            "Binary Test Accuracy: 0.9120833333333334\n",
            "Binary Confusion Matrix:\n"
          ]
        },
        {
          "data": {
            "image/png": "[encoded data removed]",
            "text/plain": [
              "<Figure size 640x480 with 2 Axes>"
            ]
          },
          "metadata": {},
          "output_type": "display_data"
        }
      ],
      "source": [
        "# confusion Matrix for binary classification:\n",
        "# [[TN, FP],\n",
        "# [FN, TP]]\n",
        "accuracy_bin, cm_bin = evaluate(binary_mlp, X_test.values, y_test.values, task=\"binary\")\n",
        "print(\"\\nBinary Test Accuracy:\", accuracy_bin)\n",
        "disp = ConfusionMatrixDisplay(confusion_matrix=cm_bin, display_labels=['0', '1'])\n",
        "print(\"Binary Confusion Matrix:\")\n",
        "disp.plot(cmap=plt.cm.Blues)\n",
        "plt.show()"
      ]
    },
    {
      "cell_type": "markdown",
      "metadata": {
        "id": "gheFxTmyF1Pz"
      },
      "source": [
        "### **Multi-Class Classification**\n",
        "In this task, we're going to pick all the 10 classes from the fashion MNIST dataset and show how to use Cross Entropy Loss for the multi class predictions using MLP."
      ]
    },
    {
      "cell_type": "markdown",
      "metadata": {
        "id": "GMg7MfdwF1Pz"
      },
      "source": [
        "Let's look at the shapes of the binary and multi-class datasets"
      ]
    },
    {
      "cell_type": "markdown",
      "metadata": {
        "id": "S11evsKkF1P0"
      },
      "source": [
        "The below cell helps you convert the dataframe into **numpy arrays** because torch models **cannot understand Series datatypes (dataframes)**\n",
        "1. It uses all the 784 columns that we created by decomposing an image of size 28x28 as features (X) which the model will learn.\n",
        "2. It uses the target column to predict the fashion class (y) an image belongs to.\n",
        "\n"
      ]
    },
    {
      "cell_type": "code",
      "execution_count": 61,
      "metadata": {
        "id": "ZwFNsRjca7Uo"
      },
      "outputs": [],
      "source": [
        "# Let's assume we only take fashion class 0 and 1 for binary classification\n",
        "# filter the training dataset on fashion class 0 and 1\n",
        "df_multi = df.copy() # This gets all rows that represent fashion items that belong to class 0 to 9"
      ]
    },
    {
      "cell_type": "code",
      "execution_count": 62,
      "metadata": {
        "colab": {
          "base_uri": "https://localhost:8080/",
          "height": 235
        },
        "id": "FbNCbMNta7Uo",
        "outputId": "036f1876-4b31-431b-992f-e5f55e9dbe2d"
      },
      "outputs": [
        {
          "data": {
            "text/html": [
              "<div>\n",
              "<style scoped>\n",
              "    .dataframe tbody tr th:only-of-type {\n",
              "        vertical-align: middle;\n",
              "    }\n",
              "\n",
              "    .dataframe tbody tr th {\n",
              "        vertical-align: top;\n",
              "    }\n",
              "\n",
              "    .dataframe thead th {\n",
              "        text-align: right;\n",
              "    }\n",
              "</style>\n",
              "<table border=\"1\" class=\"dataframe\">\n",
              "  <thead>\n",
              "    <tr style=\"text-align: right;\">\n",
              "      <th></th>\n",
              "      <th>pixel_0</th>\n",
              "      <th>pixel_1</th>\n",
              "      <th>pixel_2</th>\n",
              "      <th>pixel_3</th>\n",
              "      <th>pixel_4</th>\n",
              "      <th>pixel_5</th>\n",
              "      <th>pixel_6</th>\n",
              "      <th>pixel_7</th>\n",
              "      <th>pixel_8</th>\n",
              "      <th>pixel_9</th>\n",
              "      <th>...</th>\n",
              "      <th>pixel_776</th>\n",
              "      <th>pixel_777</th>\n",
              "      <th>pixel_778</th>\n",
              "      <th>pixel_779</th>\n",
              "      <th>pixel_780</th>\n",
              "      <th>pixel_781</th>\n",
              "      <th>pixel_782</th>\n",
              "      <th>pixel_783</th>\n",
              "      <th>target</th>\n",
              "      <th>fashion_class</th>\n",
              "    </tr>\n",
              "  </thead>\n",
              "  <tbody>\n",
              "    <tr>\n",
              "      <th>0</th>\n",
              "      <td>0.0</td>\n",
              "      <td>0.0</td>\n",
              "      <td>0.0</td>\n",
              "      <td>0.0</td>\n",
              "      <td>0.0</td>\n",
              "      <td>0.000000</td>\n",
              "      <td>0.0</td>\n",
              "      <td>0.0</td>\n",
              "      <td>0.000000</td>\n",
              "      <td>0.000000</td>\n",
              "      <td>...</td>\n",
              "      <td>0.000000</td>\n",
              "      <td>0.000000</td>\n",
              "      <td>0.0</td>\n",
              "      <td>0.0</td>\n",
              "      <td>0.0</td>\n",
              "      <td>0.0</td>\n",
              "      <td>0.0</td>\n",
              "      <td>0.0</td>\n",
              "      <td>9</td>\n",
              "      <td>Ankle boot</td>\n",
              "    </tr>\n",
              "    <tr>\n",
              "      <th>1</th>\n",
              "      <td>0.0</td>\n",
              "      <td>0.0</td>\n",
              "      <td>0.0</td>\n",
              "      <td>0.0</td>\n",
              "      <td>0.0</td>\n",
              "      <td>0.003922</td>\n",
              "      <td>0.0</td>\n",
              "      <td>0.0</td>\n",
              "      <td>0.000000</td>\n",
              "      <td>0.000000</td>\n",
              "      <td>...</td>\n",
              "      <td>0.509804</td>\n",
              "      <td>0.298039</td>\n",
              "      <td>0.0</td>\n",
              "      <td>0.0</td>\n",
              "      <td>0.0</td>\n",
              "      <td>0.0</td>\n",
              "      <td>0.0</td>\n",
              "      <td>0.0</td>\n",
              "      <td>0</td>\n",
              "      <td>T-shirt/top</td>\n",
              "    </tr>\n",
              "    <tr>\n",
              "      <th>2</th>\n",
              "      <td>0.0</td>\n",
              "      <td>0.0</td>\n",
              "      <td>0.0</td>\n",
              "      <td>0.0</td>\n",
              "      <td>0.0</td>\n",
              "      <td>0.000000</td>\n",
              "      <td>0.0</td>\n",
              "      <td>0.0</td>\n",
              "      <td>0.000000</td>\n",
              "      <td>0.086275</td>\n",
              "      <td>...</td>\n",
              "      <td>0.003922</td>\n",
              "      <td>0.000000</td>\n",
              "      <td>0.0</td>\n",
              "      <td>0.0</td>\n",
              "      <td>0.0</td>\n",
              "      <td>0.0</td>\n",
              "      <td>0.0</td>\n",
              "      <td>0.0</td>\n",
              "      <td>0</td>\n",
              "      <td>T-shirt/top</td>\n",
              "    </tr>\n",
              "    <tr>\n",
              "      <th>3</th>\n",
              "      <td>0.0</td>\n",
              "      <td>0.0</td>\n",
              "      <td>0.0</td>\n",
              "      <td>0.0</td>\n",
              "      <td>0.0</td>\n",
              "      <td>0.000000</td>\n",
              "      <td>0.0</td>\n",
              "      <td>0.0</td>\n",
              "      <td>0.129412</td>\n",
              "      <td>0.376471</td>\n",
              "      <td>...</td>\n",
              "      <td>0.000000</td>\n",
              "      <td>0.000000</td>\n",
              "      <td>0.0</td>\n",
              "      <td>0.0</td>\n",
              "      <td>0.0</td>\n",
              "      <td>0.0</td>\n",
              "      <td>0.0</td>\n",
              "      <td>0.0</td>\n",
              "      <td>3</td>\n",
              "      <td>Dress</td>\n",
              "    </tr>\n",
              "    <tr>\n",
              "      <th>4</th>\n",
              "      <td>0.0</td>\n",
              "      <td>0.0</td>\n",
              "      <td>0.0</td>\n",
              "      <td>0.0</td>\n",
              "      <td>0.0</td>\n",
              "      <td>0.000000</td>\n",
              "      <td>0.0</td>\n",
              "      <td>0.0</td>\n",
              "      <td>0.000000</td>\n",
              "      <td>0.000000</td>\n",
              "      <td>...</td>\n",
              "      <td>0.000000</td>\n",
              "      <td>0.000000</td>\n",
              "      <td>0.0</td>\n",
              "      <td>0.0</td>\n",
              "      <td>0.0</td>\n",
              "      <td>0.0</td>\n",
              "      <td>0.0</td>\n",
              "      <td>0.0</td>\n",
              "      <td>0</td>\n",
              "      <td>T-shirt/top</td>\n",
              "    </tr>\n",
              "  </tbody>\n",
              "</table>\n",
              "<p>5 rows × 786 columns</p>\n",
              "</div>"
            ],
            "text/plain": [
              "   pixel_0  pixel_1  pixel_2  pixel_3  pixel_4   pixel_5  pixel_6  pixel_7  \\\n",
              "0      0.0      0.0      0.0      0.0      0.0  0.000000      0.0      0.0   \n",
              "1      0.0      0.0      0.0      0.0      0.0  0.003922      0.0      0.0   \n",
              "2      0.0      0.0      0.0      0.0      0.0  0.000000      0.0      0.0   \n",
              "3      0.0      0.0      0.0      0.0      0.0  0.000000      0.0      0.0   \n",
              "4      0.0      0.0      0.0      0.0      0.0  0.000000      0.0      0.0   \n",
              "\n",
              "    pixel_8   pixel_9  ...  pixel_776  pixel_777  pixel_778  pixel_779  \\\n",
              "0  0.000000  0.000000  ...   0.000000   0.000000        0.0        0.0   \n",
              "1  0.000000  0.000000  ...   0.509804   0.298039        0.0        0.0   \n",
              "2  0.000000  0.086275  ...   0.003922   0.000000        0.0        0.0   \n",
              "3  0.129412  0.376471  ...   0.000000   0.000000        0.0        0.0   \n",
              "4  0.000000  0.000000  ...   0.000000   0.000000        0.0        0.0   \n",
              "\n",
              "   pixel_780  pixel_781  pixel_782  pixel_783  target  fashion_class  \n",
              "0        0.0        0.0        0.0        0.0       9     Ankle boot  \n",
              "1        0.0        0.0        0.0        0.0       0    T-shirt/top  \n",
              "2        0.0        0.0        0.0        0.0       0    T-shirt/top  \n",
              "3        0.0        0.0        0.0        0.0       3          Dress  \n",
              "4        0.0        0.0        0.0        0.0       0    T-shirt/top  \n",
              "\n",
              "[5 rows x 786 columns]"
            ]
          },
          "execution_count": 62,
          "metadata": {},
          "output_type": "execute_result"
        }
      ],
      "source": [
        "df_multi.head()"
      ]
    },
    {
      "cell_type": "code",
      "execution_count": 63,
      "metadata": {
        "colab": {
          "base_uri": "https://localhost:8080/",
          "height": 367
        },
        "id": "x2PzUVXga7Uo",
        "outputId": "11b95343-8fce-48e7-8b72-fa2e5040b39f"
      },
      "outputs": [
        {
          "data": {
            "image/png": "[encoded data removed]",
            "text/plain": [
              "<Figure size 400x400 with 1 Axes>"
            ]
          },
          "metadata": {},
          "output_type": "display_data"
        }
      ],
      "source": [
        "image_no = 3\n",
        "df_multi = df_multi.reset_index()\n",
        "display_image(df_multi.iloc[image_no, :784].values, image_no, df_multi)"
      ]
    },
    {
      "cell_type": "code",
      "execution_count": 64,
      "metadata": {
        "id": "lvYK0akfa7Uo"
      },
      "outputs": [],
      "source": [
        "# Assuming `df` has the image data and the 'fashion_class' column as the labels\n",
        "X = df_multi.drop(columns=['fashion_class', 'target','index'])  # Features (Image data)\n",
        "y = df_multi['target']  # Labels (Fashion classes)"
      ]
    },
    {
      "cell_type": "code",
      "execution_count": 65,
      "metadata": {
        "id": "jqE8HYpaa7Up"
      },
      "outputs": [],
      "source": [
        "from sklearn.model_selection import train_test_split\n",
        "\n",
        "X_train, X_test, y_train, y_test = train_test_split(X, y, test_size=0.2, random_state=42)"
      ]
    },
    {
      "cell_type": "code",
      "execution_count": 66,
      "metadata": {
        "colab": {
          "base_uri": "https://localhost:8080/"
        },
        "id": "RBsy1eIda7Up",
        "outputId": "fff7396d-2385-4ca2-e8b8-e0c28fde91ae"
      },
      "outputs": [
        {
          "data": {
            "text/plain": [
              "(12000, 784)"
            ]
          },
          "execution_count": 66,
          "metadata": {},
          "output_type": "execute_result"
        }
      ],
      "source": [
        "X_test.shape"
      ]
    },
    {
      "cell_type": "code",
      "execution_count": 67,
      "metadata": {
        "colab": {
          "base_uri": "https://localhost:8080/",
          "height": 241
        },
        "id": "t-h1BD1Aa7Up",
        "outputId": "9bb51ddd-28c7-4ec0-f2d8-6de32cf08ed4"
      },
      "outputs": [
        {
          "data": {
            "text/plain": [
              "48572    7\n",
              "38696    3\n",
              "13611    5\n",
              "35213    8\n",
              "31766    6\n",
              "Name: target, dtype: int64"
            ]
          },
          "execution_count": 67,
          "metadata": {},
          "output_type": "execute_result"
        }
      ],
      "source": [
        "y_train.head()"
      ]
    },
    {
      "cell_type": "code",
      "execution_count": 68,
      "metadata": {
        "id": "EDMCKHS_a7Up"
      },
      "outputs": [],
      "source": [
        "multi_train_dataset = MultiClassDataset(X_train, y_train)\n",
        "multi_test_dataset = MultiClassDataset(X_test, y_test)"
      ]
    },
    {
      "cell_type": "code",
      "execution_count": 69,
      "metadata": {
        "colab": {
          "base_uri": "https://localhost:8080/"
        },
        "id": "neakfY7da7Up",
        "outputId": "c7f1aa13-c9a6-4aac-9c32-b1a1f52b77c3"
      },
      "outputs": [
        {
          "data": {
            "text/plain": [
              "<__main__.MultiClassDataset at 0x3815014d0>"
            ]
          },
          "execution_count": 69,
          "metadata": {},
          "output_type": "execute_result"
        }
      ],
      "source": [
        "multi_train_dataset"
      ]
    },
    {
      "cell_type": "markdown",
      "metadata": {
        "id": "vac1meaMa7Up"
      },
      "source": [
        "#### Hyperparameters"
      ]
    },
    {
      "cell_type": "code",
      "execution_count": 70,
      "metadata": {
        "colab": {
          "base_uri": "https://localhost:8080/"
        },
        "id": "QWdIuAixa7Up",
        "outputId": "6760e371-fc19-4c5f-e1a3-f3bbbfa1e881"
      },
      "outputs": [
        {
          "name": "stdout",
          "output_type": "stream",
          "text": [
            "Learning rate: 0.0001\n",
            "Batch size: 64\n",
            "Number of epochs: 10\n"
          ]
        }
      ],
      "source": [
        "lr = 0.0001 # learning rate\n",
        "epochs = 10\n",
        "batch_size = 64\n",
        "num_classes = 10  # number of classes in FashionMNIST\n",
        "\n",
        "\n",
        "print('Learning rate:', lr)\n",
        "print('Batch size:', batch_size)\n",
        "print('Number of epochs:', epochs)"
      ]
    },
    {
      "cell_type": "code",
      "execution_count": 71,
      "metadata": {
        "id": "TJLItajZa7Up"
      },
      "outputs": [],
      "source": [
        "multi_train_loader = DataLoader(multi_train_dataset, batch_size=batch_size, shuffle=True)\n",
        "multi_test_loader = DataLoader(multi_test_dataset, batch_size=batch_size, shuffle=False)"
      ]
    },
    {
      "cell_type": "code",
      "execution_count": 72,
      "metadata": {
        "colab": {
          "base_uri": "https://localhost:8080/"
        },
        "id": "1lo01cRAa7Up",
        "outputId": "434fe9fa-f853-4f34-aa24-426091fd926d"
      },
      "outputs": [
        {
          "data": {
            "text/plain": [
              "<torch.utils.data.dataloader.DataLoader at 0x381bec310>"
            ]
          },
          "execution_count": 72,
          "metadata": {},
          "output_type": "execute_result"
        }
      ],
      "source": [
        "multi_train_loader"
      ]
    },
    {
      "cell_type": "code",
      "execution_count": 73,
      "metadata": {
        "colab": {
          "base_uri": "https://localhost:8080/",
          "height": 104
        },
        "id": "ZKaGKrmAa7Up",
        "outputId": "82388171-2d5a-4c7d-98f8-fae84d371643"
      },
      "outputs": [
        {
          "data": {
            "text/plain": [
              "MultiClassMLP(\n",
              "  (fc1): Linear(in_features=784, out_features=128, bias=True)\n",
              "  (activation): ReLU()\n",
              "  (fc2): Linear(in_features=128, out_features=10, bias=True)\n",
              ")"
            ]
          },
          "metadata": {},
          "output_type": "display_data"
        }
      ],
      "source": [
        "\"\"\"\n",
        "    MLP architecture for binary classification\n",
        "        - Input Layer : 784 neurons\n",
        "        - Activation Function : ReLU()\n",
        "        - Hidden Layer : 128 neurons(by default)\n",
        "        - Output Layer : 10 neurons\n",
        "\n",
        "    - predicts 10 classes\n",
        "\"\"\"\n",
        "class MultiClassMLP(nn.Module):\n",
        "    def __init__(self, input_size, hidden_size=128, num_classes=10):\n",
        "        super().__init__()\n",
        "        self.fc1 = nn.Linear(input_size, hidden_size)\n",
        "        self.activation = nn.ReLU()\n",
        "        self.fc2 = nn.Linear(hidden_size, num_classes)\n",
        "\n",
        "    def forward(self, x):\n",
        "        out = self.fc1(x)\n",
        "        out = self.activation(out)\n",
        "        out = self.fc2(out)\n",
        "        return out\n",
        "\n",
        "display(MultiClassMLP(784))"
      ]
    },
    {
      "cell_type": "code",
      "execution_count": 74,
      "metadata": {
        "id": "Zspm5edIa7Uq"
      },
      "outputs": [],
      "source": [
        "def train(model, loss_fn, optimizer, batch_size=64, epochs=5):\n",
        "    model.train()  # set the model to training mode\n",
        "    for epoch in range(epochs):\n",
        "        total_loss = 0.0\n",
        "        for batch_idx, (data, labels) in enumerate(multi_train_loader):\n",
        "            # Forward pass\n",
        "            outputs = model(data)\n",
        "            loss = loss_fn(outputs.squeeze(), labels)\n",
        "\n",
        "            # Backward pass and optimization\n",
        "            optimizer.zero_grad()\n",
        "            loss.backward()\n",
        "            optimizer.step()\n",
        "\n",
        "            total_loss += loss.item()\n",
        "\n",
        "        avg_loss = total_loss / len(multi_train_loader)\n",
        "        print(f\"Epoch [{epoch+1}/{epochs}] - Loss: {avg_loss:.4f}\")\n",
        "\n",
        "        # Save the model after every epoch\n",
        "        torch.save(model.state_dict(), \"multi_mlp_model\" + '.pth')  # saves it as the model class' name\n",
        "        print(f\"Model saved.\")\n",
        "\n",
        "    # Save the model again after the final epoch\n",
        "    torch.save(model.state_dict(), \"multi_mlp_model\" + '.pth')\n",
        "    print(f\"Final model saved.\")\n"
      ]
    },
    {
      "cell_type": "code",
      "execution_count": 75,
      "metadata": {
        "id": "KDzQaR-Oa7Uq"
      },
      "outputs": [],
      "source": [
        "# if we want to load a model, we can use:\n",
        "# model = torch.load(\"model.pth\"))\n",
        "# model.eval()"
      ]
    },
    {
      "cell_type": "code",
      "execution_count": 76,
      "metadata": {
        "id": "p0r-PsS_a7Uq"
      },
      "outputs": [],
      "source": [
        "# model inference\n",
        "def predict(model, X_test):\n",
        "    model.eval()  # set the model to evaluation mode\n",
        "    predictions = []\n",
        "    # Ensure X_test is converted to a PyTorch tensor\n",
        "    X_test_tensor = torch.tensor(X_test, dtype=torch.float32)\n",
        "\n",
        "    with torch.no_grad():  # disable gradient computation for inference\n",
        "        outputs = model(X_test_tensor)  # forward pass\n",
        "        print(outputs)  # debug: print the shape of the outputs\n",
        "        probabilities = outputs.squeeze()  # apply sigmoid to logits\n",
        "        predictions = torch.argmax(outputs, dim=1).numpy()\n",
        "    return np.array(predictions)\n"
      ]
    },
    {
      "cell_type": "markdown",
      "metadata": {
        "id": "slK-SnkMa7Uq"
      },
      "source": [
        "#### Multi-Class Classification Runner"
      ]
    },
    {
      "cell_type": "code",
      "execution_count": 77,
      "metadata": {
        "colab": {
          "base_uri": "https://localhost:8080/"
        },
        "id": "kfYAvo5Ka7Uq",
        "outputId": "ba2d5ea9-b78e-44b0-f9d7-dd5855077c6d"
      },
      "outputs": [
        {
          "name": "stdout",
          "output_type": "stream",
          "text": [
            "Epoch [1/10] - Loss: 2.2947\n",
            "Model saved.\n",
            "Epoch [2/10] - Loss: 2.2609\n",
            "Model saved.\n",
            "Epoch [3/10] - Loss: 2.2293\n",
            "Model saved.\n",
            "Epoch [4/10] - Loss: 2.1992\n",
            "Model saved.\n",
            "Epoch [5/10] - Loss: 2.1699\n",
            "Model saved.\n",
            "Epoch [6/10] - Loss: 2.1407\n",
            "Model saved.\n",
            "Epoch [7/10] - Loss: 2.1112\n",
            "Model saved.\n",
            "Epoch [8/10] - Loss: 2.0812\n",
            "Model saved.\n",
            "Epoch [9/10] - Loss: 2.0503\n",
            "Model saved.\n",
            "Epoch [10/10] - Loss: 2.0186\n",
            "Model saved.\n",
            "Final model saved.\n"
          ]
        }
      ],
      "source": [
        "import torch.optim as optim # torch package implementing various optimization algorithms\n",
        "\n",
        "input_size = X_train.shape[1]                     # number of features in each sample\n",
        "multi_mlp = MultiClassMLP(input_size)                    # creating an object of the MLP model class\n",
        "optimizer = optim.SGD(multi_mlp.parameters(), lr=lr) # stochastic gradient descent as optimizer\n",
        "loss_fn = nn.CrossEntropyLoss()\n",
        "\n",
        "\n",
        "train(multi_mlp, loss_fn, optimizer, batch_size, epochs=epochs)"
      ]
    },
    {
      "cell_type": "code",
      "execution_count": 78,
      "metadata": {
        "id": "cPuWUDvma7Uq"
      },
      "outputs": [],
      "source": [
        "random_state = 42 # you can play around with this to sample different examples.\n",
        "# we usually decide on a number for reproducibility.\n",
        "\n",
        "\n",
        "def analyze_predictions(X_test, y_test, y_pred):\n",
        "    # Convert df_analyse to DataFrame if it's a NumPy array or PyTorch tensor\n",
        "    df_analyse = X_test.copy()\n",
        "\n",
        "    df_analyse['true_label'] = y_test\n",
        "    df_analyse['predicted_label'] = y_pred\n",
        "\n",
        "    # Identify correct and incorrect predictions\n",
        "    correct_preds = df_analyse[df_analyse['true_label'] == df_analyse['predicted_label']]\n",
        "    incorrect_preds = df_analyse[df_analyse['true_label'] != df_analyse['predicted_label']]\n",
        "\n",
        "    # Sample examples for correct and incorrect predictions\n",
        "    correct_examples = correct_preds.sample(n=min(3, len(correct_preds)), random_state=random_state)\n",
        "    incorrect_examples = incorrect_preds.sample(n=min(3, len(incorrect_preds)), random_state=random_state)\n",
        "\n",
        "    print(\"\\nCorrect Predictions:\")\n",
        "    display(correct_examples)\n",
        "\n",
        "    print(\"\\nIncorrect Predictions:\")\n",
        "    display(incorrect_examples)\n",
        "\n",
        "    print(\"-\"*40)\n",
        "\n",
        "    return [correct_examples, incorrect_examples]"
      ]
    },
    {
      "cell_type": "code",
      "execution_count": 79,
      "metadata": {
        "colab": {
          "base_uri": "https://localhost:8080/"
        },
        "id": "a7VB0iKua7Uq",
        "outputId": "f8c6b86a-45c7-4398-9ce7-a2ac68a5572e"
      },
      "outputs": [
        {
          "data": {
            "text/plain": [
              "(12000, 784)"
            ]
          },
          "execution_count": 79,
          "metadata": {},
          "output_type": "execute_result"
        }
      ],
      "source": [
        "X_test.shape"
      ]
    },
    {
      "cell_type": "code",
      "execution_count": 80,
      "metadata": {
        "colab": {
          "base_uri": "https://localhost:8080/",
          "height": 554
        },
        "id": "07vti_5ja7Uq",
        "outputId": "15d9a774-c856-4661-a174-7afce3fa66aa"
      },
      "outputs": [
        {
          "name": "stdout",
          "output_type": "stream",
          "text": [
            "tensor([[ 0.0073, -0.5626,  0.2329,  ..., -0.1589,  0.6346,  0.0732],\n",
            "        [-0.2097, -0.7560,  0.2784,  ..., -0.1733,  0.6402,  0.1913],\n",
            "        [-0.1843, -0.2886,  0.0731,  ...,  0.4154,  0.3794,  0.1523],\n",
            "        ...,\n",
            "        [-0.1328, -0.5966,  0.1245,  ..., -0.0086,  0.5289,  0.1041],\n",
            "        [-0.0200, -0.6474,  0.3360,  ..., -0.2965,  0.6599,  0.1273],\n",
            "        [ 0.0537, -0.2445,  0.1455,  ..., -0.3842,  0.0017,  0.0310]])\n",
            "Multi-Class Classification: \n",
            "\n",
            "Correct Predictions:\n"
          ]
        },
        {
          "data": {
            "text/html": [
              "<div>\n",
              "<style scoped>\n",
              "    .dataframe tbody tr th:only-of-type {\n",
              "        vertical-align: middle;\n",
              "    }\n",
              "\n",
              "    .dataframe tbody tr th {\n",
              "        vertical-align: top;\n",
              "    }\n",
              "\n",
              "    .dataframe thead th {\n",
              "        text-align: right;\n",
              "    }\n",
              "</style>\n",
              "<table border=\"1\" class=\"dataframe\">\n",
              "  <thead>\n",
              "    <tr style=\"text-align: right;\">\n",
              "      <th></th>\n",
              "      <th>pixel_0</th>\n",
              "      <th>pixel_1</th>\n",
              "      <th>pixel_2</th>\n",
              "      <th>pixel_3</th>\n",
              "      <th>pixel_4</th>\n",
              "      <th>pixel_5</th>\n",
              "      <th>pixel_6</th>\n",
              "      <th>pixel_7</th>\n",
              "      <th>pixel_8</th>\n",
              "      <th>pixel_9</th>\n",
              "      <th>...</th>\n",
              "      <th>pixel_776</th>\n",
              "      <th>pixel_777</th>\n",
              "      <th>pixel_778</th>\n",
              "      <th>pixel_779</th>\n",
              "      <th>pixel_780</th>\n",
              "      <th>pixel_781</th>\n",
              "      <th>pixel_782</th>\n",
              "      <th>pixel_783</th>\n",
              "      <th>true_label</th>\n",
              "      <th>predicted_label</th>\n",
              "    </tr>\n",
              "  </thead>\n",
              "  <tbody>\n",
              "    <tr>\n",
              "      <th>56160</th>\n",
              "      <td>0.0</td>\n",
              "      <td>0.0</td>\n",
              "      <td>0.0</td>\n",
              "      <td>0.0</td>\n",
              "      <td>0.0</td>\n",
              "      <td>0.0</td>\n",
              "      <td>0.0</td>\n",
              "      <td>0.0</td>\n",
              "      <td>0.0</td>\n",
              "      <td>0.0</td>\n",
              "      <td>...</td>\n",
              "      <td>0.0</td>\n",
              "      <td>0.0</td>\n",
              "      <td>0.0</td>\n",
              "      <td>0.0</td>\n",
              "      <td>0.0</td>\n",
              "      <td>0.0</td>\n",
              "      <td>0.0</td>\n",
              "      <td>0.0</td>\n",
              "      <td>9</td>\n",
              "      <td>9</td>\n",
              "    </tr>\n",
              "    <tr>\n",
              "      <th>15302</th>\n",
              "      <td>0.0</td>\n",
              "      <td>0.0</td>\n",
              "      <td>0.0</td>\n",
              "      <td>0.0</td>\n",
              "      <td>0.0</td>\n",
              "      <td>0.0</td>\n",
              "      <td>0.0</td>\n",
              "      <td>0.0</td>\n",
              "      <td>0.0</td>\n",
              "      <td>0.0</td>\n",
              "      <td>...</td>\n",
              "      <td>0.0</td>\n",
              "      <td>0.0</td>\n",
              "      <td>0.0</td>\n",
              "      <td>0.0</td>\n",
              "      <td>0.0</td>\n",
              "      <td>0.0</td>\n",
              "      <td>0.0</td>\n",
              "      <td>0.0</td>\n",
              "      <td>9</td>\n",
              "      <td>9</td>\n",
              "    </tr>\n",
              "    <tr>\n",
              "      <th>47228</th>\n",
              "      <td>0.0</td>\n",
              "      <td>0.0</td>\n",
              "      <td>0.0</td>\n",
              "      <td>0.0</td>\n",
              "      <td>0.0</td>\n",
              "      <td>0.0</td>\n",
              "      <td>0.0</td>\n",
              "      <td>0.0</td>\n",
              "      <td>0.0</td>\n",
              "      <td>0.0</td>\n",
              "      <td>...</td>\n",
              "      <td>0.0</td>\n",
              "      <td>0.0</td>\n",
              "      <td>0.0</td>\n",
              "      <td>0.0</td>\n",
              "      <td>0.0</td>\n",
              "      <td>0.0</td>\n",
              "      <td>0.0</td>\n",
              "      <td>0.0</td>\n",
              "      <td>9</td>\n",
              "      <td>9</td>\n",
              "    </tr>\n",
              "  </tbody>\n",
              "</table>\n",
              "<p>3 rows × 786 columns</p>\n",
              "</div>"
            ],
            "text/plain": [
              "       pixel_0  pixel_1  pixel_2  pixel_3  pixel_4  pixel_5  pixel_6  pixel_7  \\\n",
              "56160      0.0      0.0      0.0      0.0      0.0      0.0      0.0      0.0   \n",
              "15302      0.0      0.0      0.0      0.0      0.0      0.0      0.0      0.0   \n",
              "47228      0.0      0.0      0.0      0.0      0.0      0.0      0.0      0.0   \n",
              "\n",
              "       pixel_8  pixel_9  ...  pixel_776  pixel_777  pixel_778  pixel_779  \\\n",
              "56160      0.0      0.0  ...        0.0        0.0        0.0        0.0   \n",
              "15302      0.0      0.0  ...        0.0        0.0        0.0        0.0   \n",
              "47228      0.0      0.0  ...        0.0        0.0        0.0        0.0   \n",
              "\n",
              "       pixel_780  pixel_781  pixel_782  pixel_783  true_label  predicted_label  \n",
              "56160        0.0        0.0        0.0        0.0           9                9  \n",
              "15302        0.0        0.0        0.0        0.0           9                9  \n",
              "47228        0.0        0.0        0.0        0.0           9                9  \n",
              "\n",
              "[3 rows x 786 columns]"
            ]
          },
          "metadata": {},
          "output_type": "display_data"
        },
        {
          "name": "stdout",
          "output_type": "stream",
          "text": [
            "\n",
            "Incorrect Predictions:\n"
          ]
        },
        {
          "data": {
            "text/html": [
              "<div>\n",
              "<style scoped>\n",
              "    .dataframe tbody tr th:only-of-type {\n",
              "        vertical-align: middle;\n",
              "    }\n",
              "\n",
              "    .dataframe tbody tr th {\n",
              "        vertical-align: top;\n",
              "    }\n",
              "\n",
              "    .dataframe thead th {\n",
              "        text-align: right;\n",
              "    }\n",
              "</style>\n",
              "<table border=\"1\" class=\"dataframe\">\n",
              "  <thead>\n",
              "    <tr style=\"text-align: right;\">\n",
              "      <th></th>\n",
              "      <th>pixel_0</th>\n",
              "      <th>pixel_1</th>\n",
              "      <th>pixel_2</th>\n",
              "      <th>pixel_3</th>\n",
              "      <th>pixel_4</th>\n",
              "      <th>pixel_5</th>\n",
              "      <th>pixel_6</th>\n",
              "      <th>pixel_7</th>\n",
              "      <th>pixel_8</th>\n",
              "      <th>pixel_9</th>\n",
              "      <th>...</th>\n",
              "      <th>pixel_776</th>\n",
              "      <th>pixel_777</th>\n",
              "      <th>pixel_778</th>\n",
              "      <th>pixel_779</th>\n",
              "      <th>pixel_780</th>\n",
              "      <th>pixel_781</th>\n",
              "      <th>pixel_782</th>\n",
              "      <th>pixel_783</th>\n",
              "      <th>true_label</th>\n",
              "      <th>predicted_label</th>\n",
              "    </tr>\n",
              "  </thead>\n",
              "  <tbody>\n",
              "    <tr>\n",
              "      <th>9134</th>\n",
              "      <td>0.0</td>\n",
              "      <td>0.0</td>\n",
              "      <td>0.0</td>\n",
              "      <td>0.0</td>\n",
              "      <td>0.0</td>\n",
              "      <td>0.0</td>\n",
              "      <td>0.000000</td>\n",
              "      <td>0.0</td>\n",
              "      <td>0.0</td>\n",
              "      <td>0.0</td>\n",
              "      <td>...</td>\n",
              "      <td>0.741176</td>\n",
              "      <td>0.000000</td>\n",
              "      <td>0.0</td>\n",
              "      <td>0.011765</td>\n",
              "      <td>0.0</td>\n",
              "      <td>0.0</td>\n",
              "      <td>0.0</td>\n",
              "      <td>0.0</td>\n",
              "      <td>0</td>\n",
              "      <td>4</td>\n",
              "    </tr>\n",
              "    <tr>\n",
              "      <th>58711</th>\n",
              "      <td>0.0</td>\n",
              "      <td>0.0</td>\n",
              "      <td>0.0</td>\n",
              "      <td>0.0</td>\n",
              "      <td>0.0</td>\n",
              "      <td>0.0</td>\n",
              "      <td>0.000000</td>\n",
              "      <td>0.0</td>\n",
              "      <td>0.0</td>\n",
              "      <td>0.0</td>\n",
              "      <td>...</td>\n",
              "      <td>0.000000</td>\n",
              "      <td>0.000000</td>\n",
              "      <td>0.0</td>\n",
              "      <td>0.000000</td>\n",
              "      <td>0.0</td>\n",
              "      <td>0.0</td>\n",
              "      <td>0.0</td>\n",
              "      <td>0.0</td>\n",
              "      <td>6</td>\n",
              "      <td>4</td>\n",
              "    </tr>\n",
              "    <tr>\n",
              "      <th>15598</th>\n",
              "      <td>0.0</td>\n",
              "      <td>0.0</td>\n",
              "      <td>0.0</td>\n",
              "      <td>0.0</td>\n",
              "      <td>0.0</td>\n",
              "      <td>0.0</td>\n",
              "      <td>0.003922</td>\n",
              "      <td>0.0</td>\n",
              "      <td>0.0</td>\n",
              "      <td>0.0</td>\n",
              "      <td>...</td>\n",
              "      <td>0.584314</td>\n",
              "      <td>0.231373</td>\n",
              "      <td>0.0</td>\n",
              "      <td>0.000000</td>\n",
              "      <td>0.0</td>\n",
              "      <td>0.0</td>\n",
              "      <td>0.0</td>\n",
              "      <td>0.0</td>\n",
              "      <td>0</td>\n",
              "      <td>4</td>\n",
              "    </tr>\n",
              "  </tbody>\n",
              "</table>\n",
              "<p>3 rows × 786 columns</p>\n",
              "</div>"
            ],
            "text/plain": [
              "       pixel_0  pixel_1  pixel_2  pixel_3  pixel_4  pixel_5   pixel_6  \\\n",
              "9134       0.0      0.0      0.0      0.0      0.0      0.0  0.000000   \n",
              "58711      0.0      0.0      0.0      0.0      0.0      0.0  0.000000   \n",
              "15598      0.0      0.0      0.0      0.0      0.0      0.0  0.003922   \n",
              "\n",
              "       pixel_7  pixel_8  pixel_9  ...  pixel_776  pixel_777  pixel_778  \\\n",
              "9134       0.0      0.0      0.0  ...   0.741176   0.000000        0.0   \n",
              "58711      0.0      0.0      0.0  ...   0.000000   0.000000        0.0   \n",
              "15598      0.0      0.0      0.0  ...   0.584314   0.231373        0.0   \n",
              "\n",
              "       pixel_779  pixel_780  pixel_781  pixel_782  pixel_783  true_label  \\\n",
              "9134    0.011765        0.0        0.0        0.0        0.0           0   \n",
              "58711   0.000000        0.0        0.0        0.0        0.0           6   \n",
              "15598   0.000000        0.0        0.0        0.0        0.0           0   \n",
              "\n",
              "       predicted_label  \n",
              "9134                 4  \n",
              "58711                4  \n",
              "15598                4  \n",
              "\n",
              "[3 rows x 786 columns]"
            ]
          },
          "metadata": {},
          "output_type": "display_data"
        },
        {
          "name": "stdout",
          "output_type": "stream",
          "text": [
            "----------------------------------------\n"
          ]
        }
      ],
      "source": [
        "# running inference on test set\n",
        "y_pred_multi = predict(multi_mlp, X_test.values)\n",
        "\n",
        "# analyze binary predictions\n",
        "print(\"Multi-Class Classification: \")\n",
        "multi_results = analyze_predictions(X_test, y_test, y_pred_multi)"
      ]
    },
    {
      "cell_type": "code",
      "execution_count": 81,
      "metadata": {
        "id": "vt5JwCd8a7Uq"
      },
      "outputs": [],
      "source": [
        "def visualize_predictions(correct_examples, incorrect_examples):\n",
        "    \"\"\"\n",
        "    Visualize the predictions made by the model.\n",
        "    - First row: Correct predictions.\n",
        "    - Second row: Incorrect predictions.\n",
        "    \"\"\"\n",
        "\n",
        "    # Combine correct and incorrect examples into a single DataFrame.\n",
        "    all_samples = pd.concat([correct_examples, incorrect_examples]).reset_index(drop=True)\n",
        "\n",
        "    # Check if there are samples to display.\n",
        "    if all_samples.empty:\n",
        "        print(\"No samples to display.\")\n",
        "        return\n",
        "\n",
        "    # Set up a grid for displaying images (2 rows, 3 columns -> up to 6 images).\n",
        "    rows, cols = 2, 3\n",
        "    fig, axes = plt.subplots(rows, cols, figsize=(4 * cols, 4 * rows))\n",
        "\n",
        "    # Flatten the grid of axes into a list for easier access.\n",
        "    axes_flat = axes.ravel()\n",
        "\n",
        "    # Loop through the first 6 examples in the DataFrame.\n",
        "    for i in range(min(6, len(all_samples))):  # Make sure we don't try to plot more than we have.\n",
        "        row = all_samples.iloc[i]  # Get the current row.\n",
        "\n",
        "        # Extract the image pixel values and reshape them into a 28x28 grid.\n",
        "        pixel_values = row.iloc[:784].values  # Assume first 784 columns are pixel values.\n",
        "        img_2d = pixel_values.reshape(28, 28)\n",
        "\n",
        "        # Get the true label and predicted label.\n",
        "        true_lbl = row['true_label']\n",
        "        pred_lbl = row['predicted_label']\n",
        "\n",
        "        # Display the image and add labels.\n",
        "        ax = axes_flat[i]  # Get the current subplot.\n",
        "        ax.imshow(img_2d, cmap='gray')  # Display the image in grayscale.\n",
        "        ax.set_title(\n",
        "            f\"True: {true_lbl} ({fashion_mnist_classes[true_lbl]})\\n\"\n",
        "            f\"Predicted: {pred_lbl} ({fashion_mnist_classes[pred_lbl]})\"\n",
        "        )  # Show the true and predicted labels.\n",
        "        ax.axis('off')  # Hide the axes for a cleaner look.\n",
        "\n",
        "    # Turn off any unused plots if there are fewer than 6 images.\n",
        "    for j in range(len(all_samples), 6):\n",
        "        axes_flat[j].axis('off')\n",
        "\n",
        "    # Adjust layout and display the plot.\n",
        "    plt.tight_layout()\n",
        "    plt.show()\n"
      ]
    },
    {
      "cell_type": "code",
      "execution_count": 82,
      "metadata": {
        "colab": {
          "base_uri": "https://localhost:8080/",
          "height": 827
        },
        "id": "XiRbF-9ra7Ur",
        "outputId": "e772f56c-1fc5-45ff-f8ac-6f9fb744d102"
      },
      "outputs": [
        {
          "data": {
            "image/png": "[encoded data removed]",
            "text/plain": [
              "<Figure size 1200x800 with 6 Axes>"
            ]
          },
          "metadata": {},
          "output_type": "display_data"
        }
      ],
      "source": [
        "visualize_predictions(multi_results[0], multi_results[1])"
      ]
    },
    {
      "cell_type": "markdown",
      "metadata": {
        "id": "x04MWm8_F1P2"
      },
      "source": [
        "Using confusion matrix to evaluate the model."
      ]
    },
    {
      "cell_type": "code",
      "execution_count": 83,
      "metadata": {
        "colab": {
          "base_uri": "https://localhost:8080/",
          "height": 550
        },
        "id": "ai2-uI4vtQRc",
        "outputId": "49ef4932-57fc-4638-b54d-5e09ae2b2ed4"
      },
      "outputs": [
        {
          "name": "stdout",
          "output_type": "stream",
          "text": [
            "\n",
            "Multi-Class Test Accuracy: 0.43116666666666664\n",
            "Multi-Class Confusion Matrix:\n"
          ]
        },
        {
          "data": {
            "image/png": "[encoded data removed]",
            "text/plain": [
              "<Figure size 640x480 with 2 Axes>"
            ]
          },
          "metadata": {},
          "output_type": "display_data"
        }
      ],
      "source": [
        "# multi-class classification\n",
        "accuracy_multi, cm_multi = evaluate(multi_mlp, X_test.values, y_test.values, task=\"multiclass\")\n",
        "print(\"\\nMulti-Class Test Accuracy:\", accuracy_multi)\n",
        "disp = ConfusionMatrixDisplay(confusion_matrix=cm_multi, display_labels=list(fashion_mnist_classes.values()))\n",
        "print(\"Multi-Class Confusion Matrix:\")\n",
        "disp.plot(cmap=plt.cm.CMRmap)\n",
        "plt.xticks(rotation=45) # rotating the x-axis labels at angle so they are legible\n",
        "plt.show()"
      ]
    }
  ],
  "metadata": {
    "colab": {
      "collapsed_sections": [
        "cL7mZcKvkWiy",
        "L3i02saLeFpi",
        "CHPF3B1rg8Zh",
        "TeVC9VuU0fXD"
      ],
      "provenance": []
    },
    "kernelspec": {
      "display_name": "Python 3",
      "name": "python3"
    },
    "language_info": {
      "codemirror_mode": {
        "name": "ipython",
        "version": 3
      },
      "file_extension": ".py",
      "mimetype": "text/x-python",
      "name": "python",
      "nbconvert_exporter": "python",
      "pygments_lexer": "ipython3",
      "version": "3.11.9"
    }
  },
  "nbformat": 4,
  "nbformat_minor": 0
}
