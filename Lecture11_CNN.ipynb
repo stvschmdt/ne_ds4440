{
 "cells": [
  {
   "cell_type": "markdown",
   "metadata": {},
   "source": [
    "# DS4440 - Practical Neural Networks\n",
    "## Image Classification using Convolution Neural Networks\n",
    "\n",
    "___\n",
    "**Instructor** : Prof. Steve Schmidt <br/>\n",
    "**Teaching Assistants** : Vishwajeet Hogale (hogale.v@northeastern.edu) | Chaitanya Agarwal (agarwal.cha@northeastern.edu)"
   ]
  },
  {
   "cell_type": "markdown",
   "metadata": {},
   "source": [
    "## Problem Statement\n",
    "In this notebook, we'll learn about Convolutional Neural Networks (CNNs) using the Fashion MNIST dataset. CNNs are special neural networks designed to work with images by using convolutional layers that scan the image to find patterns.\n",
    "\n",
    "### We will:\n",
    "1. Build a CNN for binary classification (T-shirt vs. Trouser)\n",
    "2. Build a CNN for multi-class classification (all 10 fashion items)\n",
    "\n",
    "### What makes CNNs special?\n",
    "- CNNs use **filters (kernels)** that slide over the image to detect patterns\n",
    "- These filters can find edges, textures, and other important features\n",
    "- They're much better at understanding images than regular neural networks"
   ]
  },
  {
   "cell_type": "markdown",
   "metadata": {},
   "source": [
    "## 0. Setup and Load libraries"
   ]
  },
  {
   "cell_type": "markdown",
   "metadata": {},
   "source": [
    "The below cell helps you download all the necessary libraries or packages required to run this notebook without running into any errors."
   ]
  },
  {
   "cell_type": "code",
   "execution_count": 1,
   "metadata": {},
   "outputs": [
    {
     "name": "stdout",
     "output_type": "stream",
     "text": [
      "Requirement already satisfied: pandas in /opt/anaconda3/lib/python3.11/site-packages (from -r requirements.txt (line 1)) (2.2.2)\n",
      "Requirement already satisfied: numpy in /opt/anaconda3/lib/python3.11/site-packages (from -r requirements.txt (line 2)) (1.26.4)\n",
      "Requirement already satisfied: torch in /opt/anaconda3/lib/python3.11/site-packages (from -r requirements.txt (line 3)) (2.4.1)\n",
      "Requirement already satisfied: scikit-learn in /opt/anaconda3/lib/python3.11/site-packages (from -r requirements.txt (line 4)) (1.5.1)\n",
      "Requirement already satisfied: matplotlib in /opt/anaconda3/lib/python3.11/site-packages (from -r requirements.txt (line 5)) (3.9.2)\n",
      "Requirement already satisfied: python-dateutil>=2.8.2 in /opt/anaconda3/lib/python3.11/site-packages (from pandas->-r requirements.txt (line 1)) (2.9.0.post0)\n",
      "Requirement already satisfied: pytz>=2020.1 in /opt/anaconda3/lib/python3.11/site-packages (from pandas->-r requirements.txt (line 1)) (2024.1)\n",
      "Requirement already satisfied: tzdata>=2022.7 in /opt/anaconda3/lib/python3.11/site-packages (from pandas->-r requirements.txt (line 1)) (2023.3)\n",
      "Requirement already satisfied: filelock in /opt/anaconda3/lib/python3.11/site-packages (from torch->-r requirements.txt (line 3)) (3.13.1)\n",
      "Requirement already satisfied: typing-extensions>=4.8.0 in /opt/anaconda3/lib/python3.11/site-packages (from torch->-r requirements.txt (line 3)) (4.11.0)\n",
      "Requirement already satisfied: sympy in /opt/anaconda3/lib/python3.11/site-packages (from torch->-r requirements.txt (line 3)) (1.13.2)\n",
      "Requirement already satisfied: networkx in /opt/anaconda3/lib/python3.11/site-packages (from torch->-r requirements.txt (line 3)) (3.3)\n",
      "Requirement already satisfied: jinja2 in /opt/anaconda3/lib/python3.11/site-packages (from torch->-r requirements.txt (line 3)) (3.1.4)\n",
      "Requirement already satisfied: fsspec in /opt/anaconda3/lib/python3.11/site-packages (from torch->-r requirements.txt (line 3)) (2024.6.1)\n",
      "Requirement already satisfied: scipy>=1.6.0 in /opt/anaconda3/lib/python3.11/site-packages (from scikit-learn->-r requirements.txt (line 4)) (1.13.1)\n",
      "Requirement already satisfied: joblib>=1.2.0 in /opt/anaconda3/lib/python3.11/site-packages (from scikit-learn->-r requirements.txt (line 4)) (1.4.2)\n",
      "Requirement already satisfied: threadpoolctl>=3.1.0 in /opt/anaconda3/lib/python3.11/site-packages (from scikit-learn->-r requirements.txt (line 4)) (3.5.0)\n",
      "Requirement already satisfied: contourpy>=1.0.1 in /opt/anaconda3/lib/python3.11/site-packages (from matplotlib->-r requirements.txt (line 5)) (1.2.0)\n",
      "Requirement already satisfied: cycler>=0.10 in /opt/anaconda3/lib/python3.11/site-packages (from matplotlib->-r requirements.txt (line 5)) (0.11.0)\n",
      "Requirement already satisfied: fonttools>=4.22.0 in /opt/anaconda3/lib/python3.11/site-packages (from matplotlib->-r requirements.txt (line 5)) (4.51.0)\n",
      "Requirement already satisfied: kiwisolver>=1.3.1 in /opt/anaconda3/lib/python3.11/site-packages (from matplotlib->-r requirements.txt (line 5)) (1.4.4)\n",
      "Requirement already satisfied: packaging>=20.0 in /opt/anaconda3/lib/python3.11/site-packages (from matplotlib->-r requirements.txt (line 5)) (23.2)\n",
      "Requirement already satisfied: pillow>=8 in /opt/anaconda3/lib/python3.11/site-packages (from matplotlib->-r requirements.txt (line 5)) (10.4.0)\n",
      "Requirement already satisfied: pyparsing>=2.3.1 in /opt/anaconda3/lib/python3.11/site-packages (from matplotlib->-r requirements.txt (line 5)) (3.1.2)\n",
      "Requirement already satisfied: six>=1.5 in /opt/anaconda3/lib/python3.11/site-packages (from python-dateutil>=2.8.2->pandas->-r requirements.txt (line 1)) (1.16.0)\n",
      "Requirement already satisfied: MarkupSafe>=2.0 in /opt/anaconda3/lib/python3.11/site-packages (from jinja2->torch->-r requirements.txt (line 3)) (2.1.3)\n",
      "Requirement already satisfied: mpmath<1.4,>=1.1.0 in /opt/anaconda3/lib/python3.11/site-packages (from sympy->torch->-r requirements.txt (line 3)) (1.3.0)\n"
     ]
    }
   ],
   "source": [
    "! pip install -r requirements.txt"
   ]
  },
  {
   "cell_type": "markdown",
   "metadata": {},
   "source": [
    "## 1. Data Gathering"
   ]
  },
  {
   "cell_type": "markdown",
   "metadata": {},
   "source": [
    "### **About the Dataset**\n",
    "\n",
    "The Fashion MNIST dataset consists of **70,000 labeled grayscale images**, each with a resolution of **28x28 pixels and 10 distinct classes**. This structured dataset allows us to experiment with building and training models, tuning hyperparameters, and evaluating performance.\n",
    "\n",
    "\n",
    "Each example in the dataset is assigned to one of the following labels:\n",
    "\n",
    "0 T-shirt/top<br/>\n",
    "1 Trouser<br/>\n",
    "2 Pullover<br/>\n",
    "3 Dress<br/>\n",
    "4 Coat<br/>\n",
    "5 Sandal<br/>\n",
    "6 Shirt<br/>\n",
    "7 Sneaker<br/>\n",
    "8 Bag<br/>\n",
    "9 Ankle boot\n",
    "<br/>\n",
    "<br/>\n",
    "\n",
    "**Dataset Source**\n",
    "<br/>\n",
    "The Fashion MNIST Dataset is a very popular dataset, which is already present in the torch library. What we're going to do is that we will fetch this dataset from torch and download it in our current working directory.\n",
    "<br/><br/>\n",
    "\n",
    "**What is the below cell doing?**<br/>\n",
    "The below cell downloads the Fashion MNIST images in the current working directory. Torch offers **60,000** images as training images and **10,000** images as testing images. \n",
    "\n"
   ]
  },
  {
   "cell_type": "code",
   "execution_count": 2,
   "metadata": {},
   "outputs": [],
   "source": [
    "from torchvision import datasets, transforms\n",
    "\n",
    "# Convert images to tensors and normalize them\n",
    "transform = transforms.Compose([\n",
    "    transforms.ToTensor(),  # Convert images to PyTorch tensors (values between 0 and 1)\n",
    "    transforms.Normalize((0.5,), (0.5,))  # Center the data around 0 (-1 to 1)\n",
    "])\n",
    "\n",
    "# Load Fashion MNIST dataset\n",
    "train_dataset = datasets.FashionMNIST(root=\"./data\", train=True, download=True, transform=transform)\n",
    "test_dataset = datasets.FashionMNIST(root=\"./data\", train=False, download=True, transform=transform)\n"
   ]
  },
  {
   "cell_type": "markdown",
   "metadata": {},
   "source": [
    "### In this notebook, we will pass the images through the neural network. But, there are a few extra steps that needs to be performed. "
   ]
  },
  {
   "cell_type": "markdown",
   "metadata": {},
   "source": [
    "#### Setting up Data Loaders\n",
    "##### What are dataloaders ? \n",
    "Data Loaders help us organize and load our data into our model in small chunks, so the model can learn from the data one batch at a time. \n",
    "\n",
    "##### Why do we need them ? \n",
    "- **Efficient memory usage**: Load data in small batches instead of all at once.\n",
    "- **Faster training**: Process data in batches to speed up learning.\n",
    "- **Shuffling**: Randomize data order to improve model performance.\n",
    "\n",
    "##### What do they do ? \n",
    "- They create several batches of batch_size * (image : label) pairs for the model to learn about patterns in images."
   ]
  },
  {
   "cell_type": "code",
   "execution_count": 3,
   "metadata": {},
   "outputs": [],
   "source": [
    "from torch.utils.data import DataLoader\n",
    "\n",
    "batch_size = 64\n",
    "train_loader = DataLoader(train_dataset, batch_size=batch_size, shuffle=True) # Loads the training data in batches of 64 images at a time.\n",
    "test_loader = DataLoader(test_dataset, batch_size=batch_size, shuffle=False) # Loads the testing data in batches of 64 images at a time."
   ]
  },
  {
   "cell_type": "markdown",
   "metadata": {},
   "source": [
    "#### Visualize an image from a batch"
   ]
  },
  {
   "cell_type": "code",
   "execution_count": 4,
   "metadata": {},
   "outputs": [],
   "source": [
    "fashion_mnist_classes = {\n",
    "    0: \"T-shirt/top\",\n",
    "    1: \"Trouser\",\n",
    "    2: \"Pullover\",\n",
    "    3: \"Dress\",\n",
    "    4: \"Coat\",\n",
    "    5: \"Sandal\",\n",
    "    6: \"Shirt\",\n",
    "    7: \"Sneaker\",\n",
    "    8: \"Bag\",\n",
    "    9: \"Ankle boot\"\n",
    "}"
   ]
  },
  {
   "cell_type": "code",
   "execution_count": 5,
   "metadata": {},
   "outputs": [],
   "source": [
    "import matplotlib.pyplot as plt\n",
    "import numpy as np\n",
    "\n",
    "def load_image_from_batch():\n",
    "    # Get one batch of data from the train_loader\n",
    "    for images, labels in train_loader:\n",
    "        # Get the first image from the batch using indexing\n",
    "        image = images[0]\n",
    "        label = labels[0]\n",
    "        break  # Exit the loop after getting the first batch\n",
    "\n",
    "    # Convert the PIL image to a NumPy array\n",
    "    image = image[0].numpy()  # Convert the 28x28 image to NumPy array (shape: (28, 28))\n",
    "\n",
    "    # Display the image using matplotlib\n",
    "    plt.imshow(image, cmap='gray')  # Use 'gray' colormap for grayscale image\n",
    "    plt.title(\"Label: {}\".format(fashion_mnist_classes[label.item()]))  # Show the label as the title\n",
    "    plt.axis('off')  # Hide the axis\n",
    "    plt.show()"
   ]
  },
  {
   "cell_type": "code",
   "execution_count": 6,
   "metadata": {},
   "outputs": [
    {
     "data": {
      "image/png": "[encoded data removed]",
      "text/plain": [
       "<Figure size 640x480 with 1 Axes>"
      ]
     },
     "metadata": {},
     "output_type": "display_data"
    }
   ],
   "source": [
    "load_image_from_batch()"
   ]
  },
  {
   "cell_type": "markdown",
   "metadata": {},
   "source": [
    "## 2. Data Wrangling"
   ]
  },
  {
   "cell_type": "markdown",
   "metadata": {},
   "source": [
    "### Check the size of the training dataset"
   ]
  },
  {
   "cell_type": "code",
   "execution_count": 7,
   "metadata": {},
   "outputs": [
    {
     "name": "stdout",
     "output_type": "stream",
     "text": [
      "The train dataset has 60000 images\n",
      "The train dataset has 60000 images\n"
     ]
    }
   ],
   "source": [
    "\n",
    "num_images_train = len(train_dataset)\n",
    "num_images_test = len(train_dataset)\n",
    "# Print the number of images in the dataset\n",
    "print(f\"The train dataset has {num_images_train} images\")\n",
    "print(f\"The train dataset has {num_images_test} images\")\n"
   ]
  },
  {
   "cell_type": "markdown",
   "metadata": {},
   "source": [
    "## 3. Model Building"
   ]
  },
  {
   "cell_type": "markdown",
   "metadata": {},
   "source": [
    "### **3.1 Binary Classification**\n",
    "\n",
    "In this task, we're going to pick any two classes from the fashion MNIST dataset and show how to use Binary Cross Entropy Loss for the binary predictions using MLP."
   ]
  },
  {
   "cell_type": "code",
   "execution_count": 8,
   "metadata": {},
   "outputs": [
    {
     "name": "stdout",
     "output_type": "stream",
     "text": [
      "Learning rate: 0.0001\n",
      "Batch size: 64\n",
      "Number of epochs: 10\n"
     ]
    }
   ],
   "source": [
    "\n",
    "\n",
    "lr = 0.0001 # learning rate\n",
    "epochs = 10\n",
    "batch_size = 64\n",
    "num_classes = 2  # number of classes in FashionMNIST\n",
    "\n",
    "\n",
    "print('Learning rate:', lr)\n",
    "print('Batch size:', batch_size)\n",
    "print('Number of epochs:', epochs)"
   ]
  },
  {
   "cell_type": "code",
   "execution_count": 9,
   "metadata": {},
   "outputs": [],
   "source": [
    "import torch\n",
    "def create_binary_dataset(dataset):\n",
    "    # Keep only classes 0 and 1\n",
    "    indices = [(label in [0, 1]) for _, label in dataset]\n",
    "    return torch.utils.data.Subset(dataset, [i for i, x in enumerate(indices) if x])\n"
   ]
  },
  {
   "cell_type": "code",
   "execution_count": 10,
   "metadata": {},
   "outputs": [],
   "source": [
    "binary_train_dataset = create_binary_dataset(train_dataset)\n",
    "binary_test_dataset = create_binary_dataset(test_dataset)"
   ]
  },
  {
   "cell_type": "code",
   "execution_count": 11,
   "metadata": {},
   "outputs": [],
   "source": [
    "binary_train_loader = DataLoader(binary_train_dataset, batch_size=batch_size, shuffle=True)\n",
    "binary_test_loader = DataLoader(binary_test_dataset, batch_size=batch_size)"
   ]
  },
  {
   "cell_type": "markdown",
   "metadata": {},
   "source": [
    "#### About CNNs\n",
    "CNNs are a type of neural network specifically designed for processing grid-like data, such as images. They're inspired by the human visual cortex and have revolutionized computer vision tasks.\n",
    "\n",
    "#### Key Components:\n",
    "- Convolutional Layers (Conv2d): These layers are the core building blocks of CNNs. They use filters (or kernels) that slide across the input image, performing element-wise multiplication and summing the results. This process helps detect features like edges, textures, and more complex patterns as you go deeper into the network.\n",
    "\n",
    "    For example, in the code:\n",
    "    ```\n",
    "    self.conv1 = nn.Conv2d(in_channels=1, out_channels=16, kernel_size=3, padding=1)\n",
    "    ```\n",
    "    This creates a convolutional layer that takes a grayscale image (1 channel) and applies 16 different 3x3 filters to it1.\n",
    "- Activation Functions (ReLU): After each convolutional layer, an activation function is applied. ReLU (Rectified Linear Unit) is commonly used as it introduces non-linearity and helps the network learn complex patterns1.\n",
    "- Pooling Layers: While not used in this simple example, pooling layers are often crucial in CNNs. They reduce the spatial dimensions of the data, helping to:\n",
    "    - Decrease computational load\n",
    "    - Control overfitting\n",
    "    - Achieve spatial invariance\n",
    "- Flattening:\n",
    "After the convolutional layers, the 2D feature maps are flattened into a 1D vector. This prepares the data for the fully connected layers. FFN aren't programmed to understand images, so they need to be converted to 1D tensors. In the code, this is done with:\n",
    "python\n",
    "\n",
    "    ```\n",
    "    x = x.view(-1, 32 * 28 * 28)\n",
    "    ```\n",
    "\n",
    "This reshapes the tensor, essentially \"unrolling\" the 2D feature maps into a long 1D vector1.\n",
    "- Fully Connected Layers: These layers take the flattened features and learn to classify the images. They're similar to layers in traditional neural networks1."
   ]
  },
  {
   "cell_type": "code",
   "execution_count": 12,
   "metadata": {},
   "outputs": [],
   "source": [
    "import torch.nn as nn\n",
    "class SimpleBinaryCNN(nn.Module):\n",
    "    def __init__(self):\n",
    "        super(SimpleBinaryCNN, self).__init__()\n",
    "        # First convolutional layer\n",
    "        self.conv1 = nn.Conv2d(in_channels=1,    # Grayscale images have 1 channel\n",
    "                              out_channels=16,    # Number of filters\n",
    "                              kernel_size=3,      # 3x3 filter size\n",
    "                              padding=1)          # Keep input and output size same\n",
    "        self.relu = nn.ReLU()\n",
    "        \n",
    "        # Second convolutional layer\n",
    "        self.conv2 = nn.Conv2d(in_channels=16, \n",
    "                              out_channels=32, \n",
    "                              kernel_size=3,\n",
    "                              padding=1)\n",
    "        \n",
    "        # Fully connected layers\n",
    "        self.fc1 = nn.Linear(32 * 28 * 28, 128)  # 28x28 is the image size\n",
    "        self.fc2 = nn.Linear(128, 1)\n",
    "        self.sigmoid = nn.Sigmoid()\n",
    "        \n",
    "    def forward(self, x):\n",
    "        # First conv layer\n",
    "        x = self.conv1(x)    # Apply convolution\n",
    "        x = self.relu(x)     # Apply ReLU activation\n",
    "        \n",
    "        # Second conv layer\n",
    "        x = self.conv2(x)    # Apply convolution\n",
    "        x = self.relu(x)     # Apply ReLU activation\n",
    "        \n",
    "        # Flatten the image for fully connected layers\n",
    "        x = x.view(-1, 32 * 28 * 28)\n",
    "        \n",
    "        # Fully connected layers\n",
    "        x = self.fc1(x)\n",
    "        x = self.relu(x)\n",
    "        x = self.fc2(x)\n",
    "        x = self.sigmoid(x)  # For binary classification\n",
    "        return x"
   ]
  },
  {
   "cell_type": "code",
   "execution_count": 13,
   "metadata": {},
   "outputs": [],
   "source": [
    "def train_model(model, train_loader, criterion, optimizer, epochs=5, device='cpu'):\n",
    "    model.train()  # Set model to training mode\n",
    "    \n",
    "    for epoch in range(epochs):\n",
    "        running_loss = 0.0\n",
    "        \n",
    "        for images, labels in train_loader:\n",
    "            # Move data to device (CPU/GPU)\n",
    "            images = images.to(device)\n",
    "            labels = labels.to(device)\n",
    "            \n",
    "            # Clear previous gradients\n",
    "            optimizer.zero_grad()\n",
    "            \n",
    "            # Forward pass\n",
    "            outputs = model(images)\n",
    "            \n",
    "            # Prepare labels based on the task (binary/multi-class)\n",
    "            if isinstance(criterion, nn.BCELoss):\n",
    "                labels = labels.float()\n",
    "                outputs = outputs.squeeze()\n",
    "            \n",
    "            # Calculate loss\n",
    "            loss = criterion(outputs, labels)\n",
    "            \n",
    "            # Backward pass\n",
    "            loss.backward()\n",
    "            \n",
    "            # Update weights\n",
    "            optimizer.step()\n",
    "            \n",
    "            running_loss += loss.item()\n",
    "            \n",
    "        # Print progress\n",
    "        avg_loss = running_loss / len(train_loader)\n",
    "        print(f'Epoch [{epoch+1}/{epochs}] Loss: {avg_loss:.4f}')"
   ]
  },
  {
   "cell_type": "code",
   "execution_count": 14,
   "metadata": {},
   "outputs": [
    {
     "name": "stdout",
     "output_type": "stream",
     "text": [
      "Training Binary Classification Model (T-shirt vs Trouser)...\n",
      "Epoch [1/5] Loss: 0.0496\n",
      "Epoch [2/5] Loss: 0.0181\n",
      "Epoch [3/5] Loss: 0.0101\n",
      "Epoch [4/5] Loss: 0.0053\n",
      "Epoch [5/5] Loss: 0.0054\n"
     ]
    }
   ],
   "source": [
    "import torch.optim as optim\n",
    "\n",
    "device = torch.device('cuda' if torch.cuda.is_available() else 'cpu')\n",
    "\n",
    "# Binary Classification\n",
    "print(\"Training Binary Classification Model (T-shirt vs Trouser)...\")\n",
    "binary_model = SimpleBinaryCNN().to(device)\n",
    "binary_criterion = nn.BCELoss()\n",
    "binary_optimizer = optim.Adam(binary_model.parameters(), lr=0.001)\n",
    "\n",
    "train_model(binary_model, binary_train_loader, binary_criterion, binary_optimizer, epochs=5, device=device)\n"
   ]
  },
  {
   "cell_type": "markdown",
   "metadata": {},
   "source": [
    "After training, the models are evaluated on a separate test set. The confusion matrices provide a visual representation of the model's performance, showing where it's making correct predictions and where it's confused\n",
    "\n",
    "#### What does squeeze and unsqueeze do ? \n"
   ]
  },
  {
   "cell_type": "code",
   "execution_count": 15,
   "metadata": {},
   "outputs": [
    {
     "name": "stdout",
     "output_type": "stream",
     "text": [
      "Original tensor shape: torch.Size([1, 3, 1])\n",
      "After squeeze: torch.Size([3])\n",
      "After unsqueeze(0): torch.Size([1, 3])\n",
      "After unsqueeze(1): torch.Size([3, 1])\n"
     ]
    }
   ],
   "source": [
    "import torch\n",
    "\n",
    "# Create a tensor with shape (1, 3, 1)\n",
    "x = torch.tensor([[[1], [2], [3]]])\n",
    "print(\"Original tensor shape:\", x.shape)\n",
    "\n",
    "# Use squeeze() to remove dimensions of size 1\n",
    "y = x.squeeze()\n",
    "print(\"After squeeze:\", y.shape)\n",
    "\n",
    "# Use unsqueeze() to add a dimension\n",
    "z = y.unsqueeze(0)\n",
    "print(\"After unsqueeze(0):\", z.shape)\n",
    "\n",
    "# Add dimension at a different position\n",
    "w = y.unsqueeze(1)\n",
    "print(\"After unsqueeze(1):\", w.shape)"
   ]
  },
  {
   "cell_type": "code",
   "execution_count": 16,
   "metadata": {},
   "outputs": [],
   "source": [
    "def evaluate_model(model, test_loader, device='cpu', binary=True):\n",
    "    model.eval()  # Set model to evaluation mode\n",
    "    all_preds = []\n",
    "    all_labels = []\n",
    "    \n",
    "    with torch.no_grad():  # Don't compute gradients for evaluation\n",
    "        for images, labels in test_loader:\n",
    "            images = images.to(device)\n",
    "            outputs = model(images)\n",
    "            \n",
    "            # Get predictions\n",
    "            if binary:\n",
    "                preds = (outputs.squeeze() > 0.5).cpu().numpy()\n",
    "            else:\n",
    "                _, preds = torch.max(outputs, 1)\n",
    "                preds = preds.cpu().numpy()\n",
    "            \n",
    "            # Store predictions and labels\n",
    "            all_preds.extend(preds)\n",
    "            all_labels.extend(labels.numpy())\n",
    "    \n",
    "    return np.array(all_preds), np.array(all_labels)"
   ]
  },
  {
   "cell_type": "code",
   "execution_count": 17,
   "metadata": {},
   "outputs": [
    {
     "name": "stdout",
     "output_type": "stream",
     "text": [
      "\n",
      "Binary Classification (T-shirt vs Trouser) Accuracy: 0.9955\n"
     ]
    }
   ],
   "source": [
    "from sklearn.metrics import accuracy_score, confusion_matrix, ConfusionMatrixDisplay\n",
    "\n",
    "# Binary model\n",
    "binary_preds, binary_labels = evaluate_model(binary_model, binary_test_loader, device=device, binary=True)\n",
    "binary_accuracy = accuracy_score(binary_labels, binary_preds)\n",
    "print(f\"\\nBinary Classification (T-shirt vs Trouser) Accuracy: {binary_accuracy:.4f}\")\n",
    "\n"
   ]
  },
  {
   "cell_type": "code",
   "execution_count": 18,
   "metadata": {},
   "outputs": [],
   "source": [
    "def plot_confusion_matrix(y_true, y_pred, classes, title):\n",
    "    cm = confusion_matrix(y_true, y_pred)\n",
    "    disp = ConfusionMatrixDisplay(confusion_matrix=cm, display_labels=classes)\n",
    "    plt.figure(figsize=(10, 8))\n",
    "    disp.plot(cmap='Blues')\n",
    "    plt.title(title)\n",
    "    plt.xticks(rotation=45)\n",
    "    plt.tight_layout()\n",
    "    plt.show()"
   ]
  },
  {
   "cell_type": "code",
   "execution_count": 19,
   "metadata": {},
   "outputs": [
    {
     "name": "stdout",
     "output_type": "stream",
     "text": [
      "Binary Classification Results:\n"
     ]
    },
    {
     "data": {
      "text/plain": [
       "<Figure size 1000x800 with 0 Axes>"
      ]
     },
     "metadata": {},
     "output_type": "display_data"
    },
    {
     "data": {
      "image/png": "[encoded data removed]",
      "text/plain": [
       "<Figure size 640x480 with 2 Axes>"
      ]
     },
     "metadata": {},
     "output_type": "display_data"
    }
   ],
   "source": [
    "print(\"Binary Classification Results:\")\n",
    "plot_confusion_matrix(binary_labels, binary_preds, \n",
    "                     classes=[\"T-shirt/top\", \"Trouser\"],\n",
    "                     title=\"Binary Classification: T-shirt vs Trouser\")"
   ]
  },
  {
   "cell_type": "markdown",
   "metadata": {},
   "source": [
    "### **3.2 Multi-Class Classification**\n",
    "In this task, we're going to pick all the 10 classes from the fashion MNIST dataset and show how to use Cross Entropy Loss for the multi class predictions using MLP."
   ]
  },
  {
   "cell_type": "markdown",
   "metadata": {},
   "source": [
    "#### Hyperparameters"
   ]
  },
  {
   "cell_type": "code",
   "execution_count": 20,
   "metadata": {},
   "outputs": [
    {
     "name": "stdout",
     "output_type": "stream",
     "text": [
      "Learning rate: 0.0001\n",
      "Batch size: 64\n",
      "Number of epochs: 10\n"
     ]
    }
   ],
   "source": [
    "lr = 0.0001 # learning rate\n",
    "epochs = 10\n",
    "batch_size = 64\n",
    "num_classes = 10  # number of classes in FashionMNIST\n",
    "\n",
    "\n",
    "print('Learning rate:', lr)\n",
    "print('Batch size:', batch_size)\n",
    "print('Number of epochs:', epochs)"
   ]
  },
  {
   "cell_type": "code",
   "execution_count": 21,
   "metadata": {},
   "outputs": [],
   "source": [
    "multi_train_loader = DataLoader(train_dataset, batch_size=batch_size, shuffle=True)\n",
    "multi_test_loader = DataLoader(test_dataset, batch_size=batch_size)"
   ]
  },
  {
   "cell_type": "code",
   "execution_count": 22,
   "metadata": {},
   "outputs": [
    {
     "data": {
      "text/plain": [
       "<torch.utils.data.dataloader.DataLoader at 0x169d20110>"
      ]
     },
     "execution_count": 22,
     "metadata": {},
     "output_type": "execute_result"
    }
   ],
   "source": [
    "multi_train_loader"
   ]
  },
  {
   "cell_type": "code",
   "execution_count": 23,
   "metadata": {},
   "outputs": [],
   "source": [
    "class SimpleMultiCNN(nn.Module):\n",
    "    def __init__(self):\n",
    "        super(SimpleMultiCNN, self).__init__()\n",
    "        # First convolutional layer\n",
    "        self.conv1 = nn.Conv2d(in_channels=1, \n",
    "                              out_channels=16, \n",
    "                              kernel_size=3,\n",
    "                              padding=1)\n",
    "        self.relu = nn.ReLU()\n",
    "        \n",
    "        # Second convolutional layer\n",
    "        self.conv2 = nn.Conv2d(in_channels=16,\n",
    "                              out_channels=32,\n",
    "                              kernel_size=3,\n",
    "                              padding=1)\n",
    "        \n",
    "        # Fully connected layers\n",
    "        self.fc1 = nn.Linear(32 * 28 * 28, 128)\n",
    "        self.fc2 = nn.Linear(128, 10)  # 10 classes for multi-class classification\n",
    "        \n",
    "    def forward(self, x):\n",
    "        # First conv layer\n",
    "        x = self.conv1(x)\n",
    "        x = self.relu(x)\n",
    "        \n",
    "        # Second conv layer\n",
    "        x = self.conv2(x)\n",
    "        x = self.relu(x)\n",
    "        \n",
    "        # Flatten the image\n",
    "        x = x.view(-1, 32 * 28 * 28) # can use .flatten() too!\n",
    "        \n",
    "        # Fully connected layers\n",
    "        x = self.fc1(x)\n",
    "        x = self.relu(x)\n",
    "        x = self.fc2(x)\n",
    "        return x  # No sigmoid needed for multi-class (CrossEntropyLoss includes softmax)\n"
   ]
  },
  {
   "cell_type": "code",
   "execution_count": 24,
   "metadata": {},
   "outputs": [
    {
     "name": "stdout",
     "output_type": "stream",
     "text": [
      "\n",
      "Training Multi-class Classification Model (All 10 classes)...\n",
      "Epoch [1/5] Loss: 0.3806\n",
      "Epoch [2/5] Loss: 0.2336\n",
      "Epoch [3/5] Loss: 0.1701\n",
      "Epoch [4/5] Loss: 0.1218\n",
      "Epoch [5/5] Loss: 0.0813\n"
     ]
    }
   ],
   "source": [
    "print(\"\\nTraining Multi-class Classification Model (All 10 classes)...\")\n",
    "multi_model = SimpleMultiCNN().to(device)\n",
    "multi_criterion = nn.CrossEntropyLoss()\n",
    "multi_optimizer = optim.Adam(multi_model.parameters(), lr=0.001)\n",
    "\n",
    "train_model(multi_model, multi_train_loader, multi_criterion, multi_optimizer, epochs=5, device=device)\n"
   ]
  },
  {
   "cell_type": "code",
   "execution_count": 25,
   "metadata": {},
   "outputs": [
    {
     "name": "stdout",
     "output_type": "stream",
     "text": [
      "Multi-class Classification (All 10 classes) Accuracy: 0.9184\n"
     ]
    }
   ],
   "source": [
    "# Multi-class model\n",
    "multi_preds, multi_labels = evaluate_model(multi_model, multi_test_loader, device=device, binary=False)\n",
    "multi_accuracy = accuracy_score(multi_labels, multi_preds)\n",
    "print(f\"Multi-class Classification (All 10 classes) Accuracy: {multi_accuracy:.4f}\")\n"
   ]
  },
  {
   "cell_type": "code",
   "execution_count": 26,
   "metadata": {},
   "outputs": [
    {
     "name": "stdout",
     "output_type": "stream",
     "text": [
      "\n",
      "Multi-class Classification Results:\n"
     ]
    },
    {
     "data": {
      "text/plain": [
       "<Figure size 1000x800 with 0 Axes>"
      ]
     },
     "metadata": {},
     "output_type": "display_data"
    },
    {
     "data": {
      "image/png": "[encoded data removed]",
      "text/plain": [
       "<Figure size 640x480 with 2 Axes>"
      ]
     },
     "metadata": {},
     "output_type": "display_data"
    }
   ],
   "source": [
    "print(\"\\nMulti-class Classification Results:\")\n",
    "plot_confusion_matrix(multi_labels, multi_preds,\n",
    "                     classes=list(fashion_mnist_classes.values()),\n",
    "                     title=\"Multi-class Classification: All Fashion Items\")"
   ]
  },
  {
   "cell_type": "markdown",
   "metadata": {},
   "source": [
    "## 4. Other Visualizations"
   ]
  },
  {
   "cell_type": "markdown",
   "metadata": {},
   "source": [
    "The cell below is complicated but it essentially just stores correct and wrong predictions by the model. And displays it."
   ]
  },
  {
   "cell_type": "code",
   "execution_count": 27,
   "metadata": {},
   "outputs": [],
   "source": [
    "def evaluate_and_show_examples(model, test_loader, device='cuda'):\n",
    "    \"\"\"\n",
    "    Evaluate model and show one correct and one incorrect prediction.\n",
    "    \"\"\"\n",
    "    class_labels = {\n",
    "        0: \"T-shirt/top\", 1: \"Trouser\", 2: \"Pullover\", 3: \"Dress\", 4: \"Coat\",\n",
    "        5: \"Sandal\", 6: \"Shirt\", 7: \"Sneaker\", 8: \"Bag\", 9: \"Ankle Boot\"\n",
    "    }\n",
    "    \n",
    "    model.eval()\n",
    "    correct_example = None\n",
    "    incorrect_example = None\n",
    "    \n",
    "    with torch.no_grad():\n",
    "        for images, labels in test_loader:\n",
    "            images, labels = images.to(device), labels.to(device)\n",
    "            outputs = model(images)\n",
    "            _, predicted = torch.max(outputs, 1)\n",
    "            \n",
    "            # Find one correct and one incorrect example\n",
    "            for i in range(len(labels)):\n",
    "                if correct_example is None and predicted[i] == labels[i]:\n",
    "                    correct_example = (images[i].cpu(), labels[i].item(), predicted[i].item())\n",
    "                if incorrect_example is None and predicted[i] != labels[i]:\n",
    "                    incorrect_example = (images[i].cpu(), labels[i].item(), predicted[i].item())\n",
    "                if correct_example and incorrect_example:\n",
    "                    break\n",
    "            if correct_example and incorrect_example:\n",
    "                break\n",
    "    \n",
    "    # Plot the examples\n",
    "    plt.figure(figsize=(10, 5))\n",
    "    \n",
    "    # Plot correct prediction\n",
    "    plt.subplot(1, 2, 1)\n",
    "    image, true_label, pred_label = correct_example\n",
    "    plt.imshow(image.squeeze(), cmap='gray')\n",
    "    plt.axis('off')\n",
    "    plt.title(f'Correct Prediction\\nTrue: {class_labels[true_label]}')\n",
    "    \n",
    "    # Plot incorrect prediction\n",
    "    plt.subplot(1, 2, 2)\n",
    "    image, true_label, pred_label = incorrect_example\n",
    "    plt.imshow(image.squeeze(), cmap='gray')\n",
    "    plt.axis('off')\n",
    "    plt.title(f'Incorrect Prediction\\nTrue: {class_labels[true_label]}\\nPredicted: {class_labels[pred_label]}')\n",
    "    \n",
    "    plt.show()"
   ]
  },
  {
   "cell_type": "code",
   "execution_count": 28,
   "metadata": {},
   "outputs": [
    {
     "data": {
      "image/png": "[encoded data removed]",
      "text/plain": [
       "<Figure size 1000x500 with 2 Axes>"
      ]
     },
     "metadata": {},
     "output_type": "display_data"
    }
   ],
   "source": [
    "evaluate_and_show_examples(binary_model, binary_test_loader, None)"
   ]
  },
  {
   "cell_type": "code",
   "execution_count": 29,
   "metadata": {},
   "outputs": [
    {
     "data": {
      "image/png": "[encoded data removed]",
      "text/plain": [
       "<Figure size 1000x500 with 2 Axes>"
      ]
     },
     "metadata": {},
     "output_type": "display_data"
    }
   ],
   "source": [
    "evaluate_and_show_examples(multi_model, multi_test_loader, None)"
   ]
  }
 ],
 "metadata": {
  "kernelspec": {
   "display_name": "base",
   "language": "python",
   "name": "python3"
  },
  "language_info": {
   "codemirror_mode": {
    "name": "ipython",
    "version": 3
   },
   "file_extension": ".py",
   "mimetype": "text/x-python",
   "name": "python",
   "nbconvert_exporter": "python",
   "pygments_lexer": "ipython3",
   "version": "3.11.9"
  }
 },
 "nbformat": 4,
 "nbformat_minor": 2
}
