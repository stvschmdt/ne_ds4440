{
 "cells": [
  {
   "cell_type": "code",
   "execution_count": 1,
   "id": "ac70d6ec-3389-43e6-bb93-78af240f8cc4",
   "metadata": {},
   "outputs": [],
   "source": [
    "# Cell 1: Load and convert Fashion MNIST dataset to a DataFrame\n",
    "import torch\n",
    "import torch.nn as nn\n",
    "from torchvision import datasets, transforms\n",
    "import pandas as pd\n",
    "import matplotlib.pyplot as plt\n",
    "import numpy as np\n",
    "from sklearn.model_selection import train_test_split\n",
    "from torch.utils.data import Dataset, DataLoader\n",
    "from sklearn.metrics import confusion_matrix, ConfusionMatrixDisplay\n",
    "from torch.utils.data import DataLoader, TensorDataset\n",
    "from torch.utils.tensorboard import SummaryWriter\n",
    "from torchvision.utils import make_grid\n",
    "from sklearn.manifold import TSNE"
   ]
  },
  {
   "cell_type": "markdown",
   "id": "cbe74fb9-6c45-4390-aa03-a4e82f2bb697",
   "metadata": {},
   "source": [
    "### Pretend we are NOT doing this - imagine it being you donwloading data from the internet"
   ]
  },
  {
   "cell_type": "code",
   "execution_count": 2,
   "id": "60335a3c-850c-4e7e-bca7-bb09d0784006",
   "metadata": {},
   "outputs": [
    {
     "name": "stdout",
     "output_type": "stream",
     "text": [
      "Downloading http://fashion-mnist.s3-website.eu-central-1.amazonaws.com/train-images-idx3-ubyte.gz\n",
      "Downloading http://fashion-mnist.s3-website.eu-central-1.amazonaws.com/train-images-idx3-ubyte.gz to ./data/FashionMNIST/raw/train-images-idx3-ubyte.gz\n"
     ]
    },
    {
     "name": "stderr",
     "output_type": "stream",
     "text": [
      "100%|██████████| 26421880/26421880 [00:01<00:00, 16025314.67it/s]\n"
     ]
    },
    {
     "name": "stdout",
     "output_type": "stream",
     "text": [
      "Extracting ./data/FashionMNIST/raw/train-images-idx3-ubyte.gz to ./data/FashionMNIST/raw\n",
      "\n",
      "Downloading http://fashion-mnist.s3-website.eu-central-1.amazonaws.com/train-labels-idx1-ubyte.gz\n",
      "Downloading http://fashion-mnist.s3-website.eu-central-1.amazonaws.com/train-labels-idx1-ubyte.gz to ./data/FashionMNIST/raw/train-labels-idx1-ubyte.gz\n"
     ]
    },
    {
     "name": "stderr",
     "output_type": "stream",
     "text": [
      "100%|██████████| 29515/29515 [00:00<00:00, 314323.07it/s]\n"
     ]
    },
    {
     "name": "stdout",
     "output_type": "stream",
     "text": [
      "Extracting ./data/FashionMNIST/raw/train-labels-idx1-ubyte.gz to ./data/FashionMNIST/raw\n",
      "\n",
      "Downloading http://fashion-mnist.s3-website.eu-central-1.amazonaws.com/t10k-images-idx3-ubyte.gz\n",
      "Downloading http://fashion-mnist.s3-website.eu-central-1.amazonaws.com/t10k-images-idx3-ubyte.gz to ./data/FashionMNIST/raw/t10k-images-idx3-ubyte.gz\n"
     ]
    },
    {
     "name": "stderr",
     "output_type": "stream",
     "text": [
      "100%|██████████| 4422102/4422102 [00:00<00:00, 5742737.26it/s]\n"
     ]
    },
    {
     "name": "stdout",
     "output_type": "stream",
     "text": [
      "Extracting ./data/FashionMNIST/raw/t10k-images-idx3-ubyte.gz to ./data/FashionMNIST/raw\n",
      "\n",
      "Downloading http://fashion-mnist.s3-website.eu-central-1.amazonaws.com/t10k-labels-idx1-ubyte.gz\n",
      "Downloading http://fashion-mnist.s3-website.eu-central-1.amazonaws.com/t10k-labels-idx1-ubyte.gz to ./data/FashionMNIST/raw/t10k-labels-idx1-ubyte.gz\n"
     ]
    },
    {
     "name": "stderr",
     "output_type": "stream",
     "text": [
      "100%|██████████| 5148/5148 [00:00<00:00, 9600834.59it/s]"
     ]
    },
    {
     "name": "stdout",
     "output_type": "stream",
     "text": [
      "Extracting ./data/FashionMNIST/raw/t10k-labels-idx1-ubyte.gz to ./data/FashionMNIST/raw\n",
      "\n"
     ]
    },
    {
     "name": "stderr",
     "output_type": "stream",
     "text": [
      "\n"
     ]
    }
   ],
   "source": [
    "# Download and load the Fashion MNIST dataset\n",
    "transform = transforms.ToTensor()  # Transform the data into tensors\n",
    "full_dataset = datasets.FashionMNIST(root=\"./data\", train=True, download=True, transform=transform)"
   ]
  },
  {
   "cell_type": "code",
   "execution_count": 3,
   "id": "e8c049b7-046a-46c1-af9a-f14eef3ba87a",
   "metadata": {},
   "outputs": [
    {
     "name": "stdout",
     "output_type": "stream",
     "text": [
      "Train DataFrame:\n",
      "       pixel_0  pixel_1  pixel_2  pixel_3  pixel_4  pixel_5  pixel_6  \\\n",
      "48572      0.0      0.0      0.0      0.0      0.0      0.0      0.0   \n",
      "38696      0.0      0.0      0.0      0.0      0.0      0.0      0.0   \n",
      "13611      0.0      0.0      0.0      0.0      0.0      0.0      0.0   \n",
      "35213      0.0      0.0      0.0      0.0      0.0      0.0      0.0   \n",
      "31766      0.0      0.0      0.0      0.0      0.0      0.0      0.0   \n",
      "\n",
      "        pixel_7   pixel_8   pixel_9  ...  pixel_775  pixel_776  pixel_777  \\\n",
      "48572  0.000000  0.000000  0.000000  ...   0.000000   0.000000   0.000000   \n",
      "38696  0.000000  0.000000  0.000000  ...   0.003922   0.000000   0.000000   \n",
      "13611  0.000000  0.000000  0.000000  ...   0.000000   0.000000   0.000000   \n",
      "35213  0.000000  0.000000  0.011765  ...   0.501961   0.576471   0.658824   \n",
      "31766  0.011765  0.223529  0.368627  ...   0.000000   0.000000   0.000000   \n",
      "\n",
      "       pixel_778  pixel_779  pixel_780  pixel_781  pixel_782  pixel_783  label  \n",
      "48572   0.000000   0.000000   0.000000        0.0        0.0        0.0      7  \n",
      "38696   0.000000   0.000000   0.000000        0.0        0.0        0.0      3  \n",
      "13611   0.000000   0.000000   0.000000        0.0        0.0        0.0      5  \n",
      "35213   0.505882   0.000000   0.000000        0.0        0.0        0.0      8  \n",
      "31766   0.470588   0.419608   0.109804        0.0        0.0        0.0      6  \n",
      "\n",
      "[5 rows x 785 columns]\n",
      "\n",
      "Test DataFrame:\n",
      "       pixel_0  pixel_1  pixel_2  pixel_3  pixel_4  pixel_5  pixel_6  \\\n",
      "12628      0.0      0.0      0.0      0.0      0.0      0.0      0.0   \n",
      "37730      0.0      0.0      0.0      0.0      0.0      0.0      0.0   \n",
      "39991      0.0      0.0      0.0      0.0      0.0      0.0      0.0   \n",
      "8525       0.0      0.0      0.0      0.0      0.0      0.0      0.0   \n",
      "8279       0.0      0.0      0.0      0.0      0.0      0.0      0.0   \n",
      "\n",
      "        pixel_7  pixel_8   pixel_9  ...  pixel_775  pixel_776  pixel_777  \\\n",
      "12628  0.000000      0.0  0.000000  ...        0.0   0.000000   0.000000   \n",
      "37730  0.000000      0.0  0.000000  ...        0.0   0.000000   0.000000   \n",
      "39991  0.000000      0.0  0.000000  ...        0.0   0.000000   0.000000   \n",
      "8525   0.003922      0.0  0.003922  ...        0.0   0.113725   0.533333   \n",
      "8279   0.000000      0.0  0.000000  ...        0.0   0.000000   0.000000   \n",
      "\n",
      "       pixel_778  pixel_779  pixel_780  pixel_781  pixel_782  pixel_783  label  \n",
      "12628   0.000000        0.0        0.0        0.0        0.0        0.0      8  \n",
      "37730   0.000000        0.0        0.0        0.0        0.0        0.0      8  \n",
      "39991   0.000000        0.0        0.0        0.0        0.0        0.0      7  \n",
      "8525    0.411765        0.0        0.0        0.0        0.0        0.0      4  \n",
      "8279    0.000000        0.0        0.0        0.0        0.0        0.0      8  \n",
      "\n",
      "[5 rows x 785 columns]\n"
     ]
    }
   ],
   "source": [
    "# Convert the dataset to a DataFrame\n",
    "# Each image is a 28x28 array, flatten it into a single row\n",
    "data_list = []\n",
    "for image, label in full_dataset:\n",
    "    flat_image = image.view(-1).numpy()  # Flatten the 28x28 image into a 1D array\n",
    "    data_list.append([*flat_image, label])\n",
    "\n",
    "# Create a DataFrame\n",
    "columns = [f\"pixel_{i}\" for i in range(28 * 28)] + [\"label\"]\n",
    "full_df = pd.DataFrame(data_list, columns=columns)\n",
    "\n",
    "# Split the DataFrame into train and test sets\n",
    "train_df, test_df = train_test_split(full_df, test_size=0.2, random_state=42)\n",
    "\n",
    "# Display the first few rows of each DataFrame\n",
    "print(\"Train DataFrame:\")\n",
    "print(train_df.head())\n",
    "print(\"\\nTest DataFrame:\")\n",
    "print(test_df.head())"
   ]
  },
  {
   "cell_type": "markdown",
   "id": "af516a95-6008-4f17-a255-73435ea77347",
   "metadata": {},
   "source": [
    "### Let's start here by examining the data"
   ]
  },
  {
   "cell_type": "code",
   "execution_count": 4,
   "id": "25bf2cf1-bc6a-46d6-a288-671e7b535b21",
   "metadata": {},
   "outputs": [
    {
     "data": {
      "text/html": [
       "<div>\n",
       "<style scoped>\n",
       "    .dataframe tbody tr th:only-of-type {\n",
       "        vertical-align: middle;\n",
       "    }\n",
       "\n",
       "    .dataframe tbody tr th {\n",
       "        vertical-align: top;\n",
       "    }\n",
       "\n",
       "    .dataframe thead th {\n",
       "        text-align: right;\n",
       "    }\n",
       "</style>\n",
       "<table border=\"1\" class=\"dataframe\">\n",
       "  <thead>\n",
       "    <tr style=\"text-align: right;\">\n",
       "      <th></th>\n",
       "      <th>pixel_0</th>\n",
       "      <th>pixel_1</th>\n",
       "      <th>pixel_2</th>\n",
       "      <th>pixel_3</th>\n",
       "      <th>pixel_4</th>\n",
       "      <th>pixel_5</th>\n",
       "      <th>pixel_6</th>\n",
       "      <th>pixel_7</th>\n",
       "      <th>pixel_8</th>\n",
       "      <th>pixel_9</th>\n",
       "      <th>...</th>\n",
       "      <th>pixel_775</th>\n",
       "      <th>pixel_776</th>\n",
       "      <th>pixel_777</th>\n",
       "      <th>pixel_778</th>\n",
       "      <th>pixel_779</th>\n",
       "      <th>pixel_780</th>\n",
       "      <th>pixel_781</th>\n",
       "      <th>pixel_782</th>\n",
       "      <th>pixel_783</th>\n",
       "      <th>label</th>\n",
       "    </tr>\n",
       "  </thead>\n",
       "  <tbody>\n",
       "    <tr>\n",
       "      <th>0</th>\n",
       "      <td>0.0</td>\n",
       "      <td>0.0</td>\n",
       "      <td>0.0</td>\n",
       "      <td>0.0</td>\n",
       "      <td>0.0</td>\n",
       "      <td>0.000000</td>\n",
       "      <td>0.0</td>\n",
       "      <td>0.0</td>\n",
       "      <td>0.000000</td>\n",
       "      <td>0.000000</td>\n",
       "      <td>...</td>\n",
       "      <td>0.000000</td>\n",
       "      <td>0.000000</td>\n",
       "      <td>0.000000</td>\n",
       "      <td>0.0</td>\n",
       "      <td>0.0</td>\n",
       "      <td>0.0</td>\n",
       "      <td>0.0</td>\n",
       "      <td>0.0</td>\n",
       "      <td>0.0</td>\n",
       "      <td>9</td>\n",
       "    </tr>\n",
       "    <tr>\n",
       "      <th>1</th>\n",
       "      <td>0.0</td>\n",
       "      <td>0.0</td>\n",
       "      <td>0.0</td>\n",
       "      <td>0.0</td>\n",
       "      <td>0.0</td>\n",
       "      <td>0.003922</td>\n",
       "      <td>0.0</td>\n",
       "      <td>0.0</td>\n",
       "      <td>0.000000</td>\n",
       "      <td>0.000000</td>\n",
       "      <td>...</td>\n",
       "      <td>0.447059</td>\n",
       "      <td>0.509804</td>\n",
       "      <td>0.298039</td>\n",
       "      <td>0.0</td>\n",
       "      <td>0.0</td>\n",
       "      <td>0.0</td>\n",
       "      <td>0.0</td>\n",
       "      <td>0.0</td>\n",
       "      <td>0.0</td>\n",
       "      <td>0</td>\n",
       "    </tr>\n",
       "    <tr>\n",
       "      <th>2</th>\n",
       "      <td>0.0</td>\n",
       "      <td>0.0</td>\n",
       "      <td>0.0</td>\n",
       "      <td>0.0</td>\n",
       "      <td>0.0</td>\n",
       "      <td>0.000000</td>\n",
       "      <td>0.0</td>\n",
       "      <td>0.0</td>\n",
       "      <td>0.000000</td>\n",
       "      <td>0.086275</td>\n",
       "      <td>...</td>\n",
       "      <td>0.000000</td>\n",
       "      <td>0.003922</td>\n",
       "      <td>0.000000</td>\n",
       "      <td>0.0</td>\n",
       "      <td>0.0</td>\n",
       "      <td>0.0</td>\n",
       "      <td>0.0</td>\n",
       "      <td>0.0</td>\n",
       "      <td>0.0</td>\n",
       "      <td>0</td>\n",
       "    </tr>\n",
       "    <tr>\n",
       "      <th>3</th>\n",
       "      <td>0.0</td>\n",
       "      <td>0.0</td>\n",
       "      <td>0.0</td>\n",
       "      <td>0.0</td>\n",
       "      <td>0.0</td>\n",
       "      <td>0.000000</td>\n",
       "      <td>0.0</td>\n",
       "      <td>0.0</td>\n",
       "      <td>0.129412</td>\n",
       "      <td>0.376471</td>\n",
       "      <td>...</td>\n",
       "      <td>0.000000</td>\n",
       "      <td>0.000000</td>\n",
       "      <td>0.000000</td>\n",
       "      <td>0.0</td>\n",
       "      <td>0.0</td>\n",
       "      <td>0.0</td>\n",
       "      <td>0.0</td>\n",
       "      <td>0.0</td>\n",
       "      <td>0.0</td>\n",
       "      <td>3</td>\n",
       "    </tr>\n",
       "    <tr>\n",
       "      <th>4</th>\n",
       "      <td>0.0</td>\n",
       "      <td>0.0</td>\n",
       "      <td>0.0</td>\n",
       "      <td>0.0</td>\n",
       "      <td>0.0</td>\n",
       "      <td>0.000000</td>\n",
       "      <td>0.0</td>\n",
       "      <td>0.0</td>\n",
       "      <td>0.000000</td>\n",
       "      <td>0.000000</td>\n",
       "      <td>...</td>\n",
       "      <td>0.000000</td>\n",
       "      <td>0.000000</td>\n",
       "      <td>0.000000</td>\n",
       "      <td>0.0</td>\n",
       "      <td>0.0</td>\n",
       "      <td>0.0</td>\n",
       "      <td>0.0</td>\n",
       "      <td>0.0</td>\n",
       "      <td>0.0</td>\n",
       "      <td>0</td>\n",
       "    </tr>\n",
       "  </tbody>\n",
       "</table>\n",
       "<p>5 rows × 785 columns</p>\n",
       "</div>"
      ],
      "text/plain": [
       "   pixel_0  pixel_1  pixel_2  pixel_3  pixel_4   pixel_5  pixel_6  pixel_7  \\\n",
       "0      0.0      0.0      0.0      0.0      0.0  0.000000      0.0      0.0   \n",
       "1      0.0      0.0      0.0      0.0      0.0  0.003922      0.0      0.0   \n",
       "2      0.0      0.0      0.0      0.0      0.0  0.000000      0.0      0.0   \n",
       "3      0.0      0.0      0.0      0.0      0.0  0.000000      0.0      0.0   \n",
       "4      0.0      0.0      0.0      0.0      0.0  0.000000      0.0      0.0   \n",
       "\n",
       "    pixel_8   pixel_9  ...  pixel_775  pixel_776  pixel_777  pixel_778  \\\n",
       "0  0.000000  0.000000  ...   0.000000   0.000000   0.000000        0.0   \n",
       "1  0.000000  0.000000  ...   0.447059   0.509804   0.298039        0.0   \n",
       "2  0.000000  0.086275  ...   0.000000   0.003922   0.000000        0.0   \n",
       "3  0.129412  0.376471  ...   0.000000   0.000000   0.000000        0.0   \n",
       "4  0.000000  0.000000  ...   0.000000   0.000000   0.000000        0.0   \n",
       "\n",
       "   pixel_779  pixel_780  pixel_781  pixel_782  pixel_783  label  \n",
       "0        0.0        0.0        0.0        0.0        0.0      9  \n",
       "1        0.0        0.0        0.0        0.0        0.0      0  \n",
       "2        0.0        0.0        0.0        0.0        0.0      0  \n",
       "3        0.0        0.0        0.0        0.0        0.0      3  \n",
       "4        0.0        0.0        0.0        0.0        0.0      0  \n",
       "\n",
       "[5 rows x 785 columns]"
      ]
     },
     "execution_count": 4,
     "metadata": {},
     "output_type": "execute_result"
    }
   ],
   "source": [
    "train_df = pd.DataFrame(data_list, columns=columns)\n",
    "\n",
    "# Display the first few rows of the DataFrame\n",
    "train_df.head()"
   ]
  },
  {
   "cell_type": "code",
   "execution_count": 5,
   "id": "61327d7e-6cd6-4f4e-b6a0-81d46910271d",
   "metadata": {},
   "outputs": [
    {
     "data": {
      "text/plain": [
       "((60000, 785), (12000, 785))"
      ]
     },
     "execution_count": 5,
     "metadata": {},
     "output_type": "execute_result"
    }
   ],
   "source": [
    "train_df.shape, test_df.shape"
   ]
  },
  {
   "cell_type": "code",
   "execution_count": 6,
   "id": "5309bd9e-66ba-4429-9365-5ffa30d78716",
   "metadata": {},
   "outputs": [
    {
     "data": {
      "text/plain": [
       "pixel_0      0.062745\n",
       "pixel_1      0.141176\n",
       "pixel_2      0.466667\n",
       "pixel_3      0.643137\n",
       "pixel_4      0.878431\n",
       "               ...   \n",
       "pixel_780    1.000000\n",
       "pixel_781    1.000000\n",
       "pixel_782    1.000000\n",
       "pixel_783    0.666667\n",
       "label        9.000000\n",
       "Length: 785, dtype: float64"
      ]
     },
     "execution_count": 6,
     "metadata": {},
     "output_type": "execute_result"
    }
   ],
   "source": [
    "train_df.max()"
   ]
  },
  {
   "cell_type": "markdown",
   "id": "7bc22474-77b2-463e-a431-e0698f020315",
   "metadata": {},
   "source": [
    "## Helper to visualize a row of data - nice for images"
   ]
  },
  {
   "cell_type": "code",
   "execution_count": 7,
   "id": "7a04db97-235a-49bb-b0c2-90b87fe298b4",
   "metadata": {},
   "outputs": [
    {
     "data": {
      "image/png": "[encoded data removed]",
      "text/plain": [
       "<Figure size 640x480 with 1 Axes>"
      ]
     },
     "metadata": {},
     "output_type": "display_data"
    }
   ],
   "source": [
    "# Cell 8: Function to display a greyscale image from a row\n",
    "def show_image_from_row(row, label):\n",
    "    # Reshape the row back to a 28x28 image\n",
    "    image = np.array(row).reshape(28, 28)\n",
    "    \n",
    "    # Plot the image\n",
    "    plt.imshow(image, cmap=\"gray\")\n",
    "    plt.title(f\"Label: {label}\")\n",
    "    plt.axis(\"off\")\n",
    "    plt.show()\n",
    "\n",
    "# Example: Display an image from the DataFrame\n",
    "example_row = train_df.iloc[1, :-1]  # First row (pixels only)\n",
    "example_label = train_df.iloc[1, -1]  # Corresponding label\n",
    "show_image_from_row(example_row, example_label)\n"
   ]
  },
  {
   "cell_type": "code",
   "execution_count": 8,
   "id": "00e18af8-8056-449e-99ac-83926c181296",
   "metadata": {},
   "outputs": [],
   "source": [
    "# Labels\n",
    "\n",
    "# Each training and test example is assigned to one of the following labels:\n",
    "\n",
    "# 0 T-shirt/top\n",
    "# 1 Trouser\n",
    "# 2 Pullover\n",
    "# 3 Dress\n",
    "# 4 Coat\n",
    "# 5 Sandal\n",
    "# 6 Shirt\n",
    "# 7 Sneaker\n",
    "# 8 Bag\n",
    "# 9 Ankle boot"
   ]
  },
  {
   "cell_type": "markdown",
   "id": "95f91906-d2e8-4c3c-8f6b-f9d26e8786b7",
   "metadata": {},
   "source": [
    "## Example Dataloader"
   ]
  },
  {
   "cell_type": "code",
   "execution_count": 9,
   "id": "37cc7cc7-b993-4577-8e90-46ac0404097c",
   "metadata": {},
   "outputs": [],
   "source": [
    "\n",
    "# Define a custom Dataset class\n",
    "class CustomDataset(Dataset):\n",
    "    def __init__(self, dataframe):\n",
    "        \"\"\"\n",
    "        Initialize the dataset by passing a DataFrame.\n",
    "        Args:\n",
    "            dataframe (pd.DataFrame): DataFrame with pixel data and labels.\n",
    "        \"\"\"\n",
    "        self.data = dataframe.iloc[:, :-1].values  # Features (all columns except the last)\n",
    "        self.labels = dataframe.iloc[:, -1].values  # Labels (last column)\n",
    "\n",
    "    def __len__(self):\n",
    "        \"\"\"\n",
    "        Return the total number of samples in the dataset.\n",
    "        \"\"\"\n",
    "        return len(self.labels)\n",
    "\n",
    "    def __getitem__(self, idx):\n",
    "        \"\"\"\n",
    "        Retrieve a single sample from the dataset.\n",
    "        Args:\n",
    "            idx (int): Index of the sample to retrieve.\n",
    "        Returns:\n",
    "            (torch.Tensor, torch.Tensor): Tuple of features and label.\n",
    "        \"\"\"\n",
    "        # Convert the features and label to tensors\n",
    "        features = torch.tensor(self.data[idx], dtype=torch.float32)\n",
    "        label = torch.tensor(self.labels[idx], dtype=torch.long)\n",
    "        return features, label\n",
    "\n"
   ]
  },
  {
   "cell_type": "code",
   "execution_count": 10,
   "id": "10d4ea93-1ac5-4072-a741-ed35f7344dd7",
   "metadata": {},
   "outputs": [],
   "source": [
    "# Function to split the DataFrame and create DataLoaders\n",
    "def create_train_test_dataloaders(dataframe, test_size=0.2, batch_size=64, shuffle=True):\n",
    "    \"\"\"\n",
    "    Split the DataFrame into train and test sets and create DataLoaders.\n",
    "    Args:\n",
    "        dataframe (pd.DataFrame): DataFrame containing the data.\n",
    "        test_size (float): Proportion of the data to be used as test data.\n",
    "        batch_size (int): Number of samples per batch.\n",
    "        shuffle (bool): Whether to shuffle the data.\n",
    "    Returns:\n",
    "        tuple: (train_loader, test_loader)\n",
    "    \"\"\"\n",
    "    # Split the data into train and test sets\n",
    "    train_df, test_df = train_test_split(dataframe, test_size=test_size, random_state=42)\n",
    "    \n",
    "    # Create train and test datasets\n",
    "    train_dataset = CustomDataset(train_df)\n",
    "    test_dataset = CustomDataset(test_df)\n",
    "    \n",
    "    # Create DataLoaders for train and test sets\n",
    "    train_loader = DataLoader(train_dataset, batch_size=batch_size, shuffle=shuffle)\n",
    "    test_loader = DataLoader(test_dataset, batch_size=batch_size, shuffle=False)\n",
    "    \n",
    "    return train_loader, test_loader"
   ]
  },
  {
   "cell_type": "code",
   "execution_count": 11,
   "id": "6bd4ddcf-2c38-4aef-8c48-e371c48c666b",
   "metadata": {},
   "outputs": [],
   "source": [
    "# ## command + /\n",
    "\n",
    "# # Example usage: Creating train and test DataLoaders\n",
    "# train_loader, test_loader = create_train_test_dataloaders(train_df, test_size=0.2, batch_size=32)\n",
    "\n",
    "# # Example: Check the first batch from the train DataLoader\n",
    "# for batch_idx, (features, labels) in enumerate(train_loader):\n",
    "#     print(f\"Train Batch {batch_idx + 1}\")\n",
    "#     print(\"Features shape:\", features.shape)\n",
    "#     print(\"Labels shape:\", labels.shape)\n",
    "#     break  # Display only the first batch\n",
    "\n",
    "# # Example: Check the first batch from the test DataLoader\n",
    "# for batch_idx, (features, labels) in enumerate(test_loader):\n",
    "#     print(f\"Test Batch {batch_idx + 1}\")\n",
    "#     print(\"Features shape:\", features.shape)\n",
    "#     print(\"Labels shape:\", labels.shape)\n",
    "#     break  # Display only the first batch"
   ]
  },
  {
   "cell_type": "markdown",
   "id": "3cd6666c-094c-46f6-94e3-202970a58c6c",
   "metadata": {},
   "source": [
    "## Manually Build dataloaders"
   ]
  },
  {
   "cell_type": "code",
   "execution_count": 12,
   "id": "3919e8ab-f84f-4f2b-90f0-5f148fdd7fed",
   "metadata": {},
   "outputs": [],
   "source": [
    "# Cell 2: Create a DataLoader\n",
    "\n",
    "\n",
    "# Convert the DataFrame back to PyTorch tensors\n",
    "X_train = torch.tensor(train_df.iloc[:, :-1].values, dtype=torch.float32)  # All pixels\n",
    "y_train = torch.tensor(train_df[\"label\"].values, dtype=torch.long)  # Labels\n",
    "# Convert the DataFrame back to PyTorch tensors\n",
    "X_test = torch.tensor(test_df.iloc[:, :-1].values, dtype=torch.float32)  # All pixels\n",
    "y_test = torch.tensor(test_df[\"label\"].values, dtype=torch.long)  # Labels\n",
    "\n",
    "# Create a TensorDataset\n",
    "train_dataset = TensorDataset(X_train, y_train)\n",
    "test_dataset = TensorDataset(X_test, y_test)\n",
    "\n",
    "# Create a DataLoader for batching and shuffling\n",
    "batch_size = 32  # Number of samples per batch\n",
    "train_loader = DataLoader(train_dataset, batch_size=batch_size, shuffle=True)\n",
    "test_loader = DataLoader(test_dataset, batch_size=batch_size, shuffle=True)\n",
    "\n"
   ]
  },
  {
   "cell_type": "code",
   "execution_count": 13,
   "id": "5e0ed4f6-35b7-46f4-b2b0-910b04caaaf2",
   "metadata": {},
   "outputs": [
    {
     "name": "stdout",
     "output_type": "stream",
     "text": [
      "Batch size: torch.Size([32, 784]), Labels: torch.Size([32])\n",
      "Batch size: torch.Size([32, 784]), Labels: torch.Size([32])\n"
     ]
    }
   ],
   "source": [
    "# Example: Check the first batch\n",
    "for batch in train_loader:\n",
    "    images, labels = batch\n",
    "    print(f\"Batch size: {images.shape}, Labels: {labels.shape}\")\n",
    "    break\n",
    "# Example: Check the first batch\n",
    "for batch in test_loader:\n",
    "    images, labels = batch\n",
    "    print(f\"Batch size: {images.shape}, Labels: {labels.shape}\")\n",
    "    break"
   ]
  },
  {
   "cell_type": "code",
   "execution_count": null,
   "id": "977c7cbc-e0f7-42eb-895a-e5ae019453a8",
   "metadata": {},
   "outputs": [],
   "source": []
  },
  {
   "cell_type": "code",
   "execution_count": 14,
   "id": "fed96bbf-bdec-4491-b486-1567c3743339",
   "metadata": {},
   "outputs": [],
   "source": [
    "# Cell 3: Define the neural network\n",
    "\n",
    "# Define a feedforward network for classification\n",
    "class SimpleNN(nn.Module):\n",
    "    def __init__(self, input_size, hidden_size, num_classes):\n",
    "        super(SimpleNN, self).__init__()\n",
    "        self.fc1 = nn.Linear(input_size, hidden_size)  # First fully connected layer\n",
    "        self.relu = nn.ReLU()\n",
    "        self.fc2 = nn.Linear(hidden_size, num_classes)\n",
    "\n",
    "    def forward(self, x):\n",
    "        x = self.fc1(x)  # First layer\n",
    "        x = self.relu(x)\n",
    "        x = self.fc2(x)  # Output layer\n",
    "        return x\n",
    "\n",
    "# Initialize the model\n",
    "input_size = 784  # 784 input features (flattened image)\n",
    "hidden_size = 256  # Number of neurons in the hidden layer\n",
    "num_classes = 10  # 10 classes for Fashion MNIST"
   ]
  },
  {
   "cell_type": "code",
   "execution_count": 15,
   "id": "3b4bb09e-03e2-4005-be42-c5e2d81c97f3",
   "metadata": {},
   "outputs": [
    {
     "name": "stdout",
     "output_type": "stream",
     "text": [
      "SimpleNN(\n",
      "  (fc1): Linear(in_features=784, out_features=256, bias=True)\n",
      "  (relu): ReLU()\n",
      "  (fc2): Linear(in_features=256, out_features=10, bias=True)\n",
      ")\n"
     ]
    }
   ],
   "source": [
    "model = SimpleNN(input_size, hidden_size, num_classes)\n",
    "\n",
    "# Print the model architecture\n",
    "print(model)"
   ]
  },
  {
   "cell_type": "code",
   "execution_count": 19,
   "id": "e91b48df-879a-4318-b7ab-4772d77a47fb",
   "metadata": {},
   "outputs": [],
   "source": [
    "# Cell 4: Define hyperparameters\n",
    "learning_rate = 0.005\n",
    "num_epochs = 1\n",
    "#batch_size = 64\n",
    "\n",
    "# Define the loss function and optimizer\n",
    "criterion = nn.CrossEntropyLoss()  # Cross-entropy loss for multi-class classification\n",
    "optimizer = torch.optim.SGD(model.parameters(), lr=learning_rate)\n"
   ]
  },
  {
   "cell_type": "markdown",
   "id": "4f7c6c8b-58c8-45bd-8d61-cde8ccf9fa0a",
   "metadata": {},
   "source": [
    "### for later!"
   ]
  },
  {
   "cell_type": "code",
   "execution_count": 20,
   "id": "1832696a-d277-4eac-9397-67deeb7e8ec6",
   "metadata": {},
   "outputs": [],
   "source": [
    "# device = (\n",
    "#     \"cuda\"\n",
    "#     if torch.cuda.is_available()\n",
    "#     else \"mps\"\n",
    "#     if torch.backends.mps.is_available()\n",
    "#     else \"cpu\"\n",
    "# )\n",
    "# model.to(\"cpu\")\n",
    "# print(f\"Using {device} device\")\n"
   ]
  },
  {
   "cell_type": "markdown",
   "id": "34623666-a418-4165-99db-f899cb05ad8d",
   "metadata": {},
   "source": [
    "## Model Training"
   ]
  },
  {
   "cell_type": "code",
   "execution_count": 21,
   "id": "a7f4d01e-598e-48af-a60d-fd467cacfe41",
   "metadata": {},
   "outputs": [
    {
     "name": "stdout",
     "output_type": "stream",
     "text": [
      "Epoch [1/1], Loss: 0.3871\n"
     ]
    }
   ],
   "source": [
    "# Training the model\n",
    "for epoch in range(num_epochs):\n",
    "    model.train()  # Set the model to training mode\n",
    "    total_loss = 0\n",
    "\n",
    "    for rows, labels in train_loader:\n",
    "        # Forward pass\n",
    "        outputs = model(rows)\n",
    "        loss = criterion(outputs, labels)\n",
    "\n",
    "        # Backward pass\n",
    "        optimizer.zero_grad()  # Clear previous gradients\n",
    "        loss.backward()  # Compute gradients\n",
    "        optimizer.step()  # Update weights\n",
    "\n",
    "        total_loss += loss.item()\n",
    "\n",
    "    print(f\"Epoch [{epoch+1}/{num_epochs}], Loss: {total_loss/len(train_loader):.4f}\")\n"
   ]
  },
  {
   "cell_type": "markdown",
   "id": "23975eea-fb46-4886-bd99-40a1d87806b1",
   "metadata": {},
   "source": [
    "## Saving and loading a model"
   ]
  },
  {
   "cell_type": "code",
   "execution_count": 22,
   "id": "b476dab9-c164-4b55-af0a-0c1781d4468c",
   "metadata": {},
   "outputs": [
    {
     "name": "stdout",
     "output_type": "stream",
     "text": [
      "Model saved as 'fashion_mnist_model.pth'\n"
     ]
    }
   ],
   "source": [
    "# Save the model after training\n",
    "torch.save(model.state_dict(), \"fashion_mnist_model.pth\")\n",
    "print(\"Model saved as 'fashion_mnist_model.pth'\")\n"
   ]
  },
  {
   "cell_type": "code",
   "execution_count": 23,
   "id": "49c6f1ff-1597-4c6d-aa9b-ae2f591f7dc9",
   "metadata": {},
   "outputs": [
    {
     "name": "stdout",
     "output_type": "stream",
     "text": [
      "Model loaded and ready for inference.\n"
     ]
    },
    {
     "name": "stderr",
     "output_type": "stream",
     "text": [
      "/var/folders/31/vhwm53rj4tnfvv9lgq9m3x5w0000gn/T/ipykernel_4952/1647720009.py:3: FutureWarning: You are using `torch.load` with `weights_only=False` (the current default value), which uses the default pickle module implicitly. It is possible to construct malicious pickle data which will execute arbitrary code during unpickling (See https://github.com/pytorch/pytorch/blob/main/SECURITY.md#untrusted-models for more details). In a future release, the default value for `weights_only` will be flipped to `True`. This limits the functions that could be executed during unpickling. Arbitrary objects will no longer be allowed to be loaded via this mode unless they are explicitly allowlisted by the user via `torch.serialization.add_safe_globals`. We recommend you start setting `weights_only=True` for any use case where you don't have full control of the loaded file. Please open an issue on GitHub for any issues related to this experimental feature.\n",
      "  model.load_state_dict(torch.load(\"fashion_mnist_model.pth\"))\n"
     ]
    }
   ],
   "source": [
    "# Load the saved model for inference\n",
    "model = SimpleNN(input_size, hidden_size, num_classes)  # Reinitialize the model structure\n",
    "model.load_state_dict(torch.load(\"fashion_mnist_model.pth\"))\n",
    "model.eval()  # Set the model to evaluation mode\n",
    "print(\"Model loaded and ready for inference.\")\n"
   ]
  },
  {
   "cell_type": "code",
   "execution_count": null,
   "id": "f560b056-d02f-4806-83d7-c1758ec17cb6",
   "metadata": {},
   "outputs": [],
   "source": []
  },
  {
   "cell_type": "code",
   "execution_count": 24,
   "id": "5b93f4aa-dd26-40a1-b787-bde14fdeae74",
   "metadata": {},
   "outputs": [
    {
     "name": "stdout",
     "output_type": "stream",
     "text": [
      "Accuracy: 86.74%\n"
     ]
    }
   ],
   "source": [
    "# Cell 6: Inference loop\n",
    "# Running inference\n",
    "model.eval()  # Set the model to evaluation mode (disables dropout, etc.)\n",
    "correct = 0\n",
    "total = 0\n",
    "\n",
    "with torch.no_grad():  # Disable gradient computation for efficiency\n",
    "    for images, labels in test_loader:\n",
    "        outputs = model(images)\n",
    "        _, predicted = torch.max(outputs, 1)  # Get the predicted class\n",
    "        total += labels.size(0)\n",
    "        correct += (predicted == labels).sum().item()\n",
    "\n",
    "accuracy = correct / total * 100\n",
    "print(f\"Accuracy: {accuracy:.2f}%\")\n"
   ]
  },
  {
   "cell_type": "code",
   "execution_count": null,
   "id": "ee62328d-402a-4070-9291-755c2a73909b",
   "metadata": {},
   "outputs": [],
   "source": []
  },
  {
   "cell_type": "code",
   "execution_count": 25,
   "id": "19e6d898-a518-4a8c-aec7-ba27404a59a4",
   "metadata": {},
   "outputs": [
    {
     "data": {
      "image/png": "[encoded data removed]",
      "text/plain": [
       "<Figure size 640x480 with 2 Axes>"
      ]
     },
     "metadata": {},
     "output_type": "display_data"
    }
   ],
   "source": [
    "\n",
    "# Generate predictions for the entire dataset\n",
    "all_labels = []\n",
    "all_predictions = []\n",
    "\n",
    "model.eval()\n",
    "with torch.no_grad():\n",
    "    for images, labels in test_loader:\n",
    "        outputs = model(images)\n",
    "        _, predicted = torch.max(outputs, 1)\n",
    "        all_labels.extend(labels.numpy())\n",
    "        all_predictions.extend(predicted.numpy())\n",
    "\n",
    "# Compute and plot the confusion matrix\n",
    "cm = confusion_matrix(all_labels, all_predictions)\n",
    "disp = ConfusionMatrixDisplay(confusion_matrix=cm, display_labels=list(range(10)))\n",
    "disp.plot(cmap=plt.cm.Blues)\n",
    "plt.title(\"Confusion Matrix\")\n",
    "plt.show()\n"
   ]
  },
  {
   "cell_type": "markdown",
   "id": "e79eadfc-1464-4321-9daa-a3203e84e0dc",
   "metadata": {},
   "source": [
    "### Inspect a row of data"
   ]
  },
  {
   "cell_type": "code",
   "execution_count": 26,
   "id": "ef629ac2-a678-424f-9433-b93215267a92",
   "metadata": {},
   "outputs": [
    {
     "name": "stdout",
     "output_type": "stream",
     "text": [
      "Logits: [[  5.3762884    3.4940903    2.0422025    5.5394955    2.2746575\n",
      "  -11.277893     5.0241694   -5.994425    -0.94205433  -4.0652637 ]]\n",
      "Softmax Probabilities: [[3.2100168e-01 4.8874132e-02 1.1442795e-02 3.7790897e-01 1.4437303e-02\n",
      "  1.8779678e-08 2.2572723e-01 3.7005755e-06 5.7874323e-04 2.5473772e-05]]\n",
      "Correct Label: 3\n",
      "Predicted Label: 3\n"
     ]
    },
    {
     "data": {
      "text/plain": [
       "3"
      ]
     },
     "execution_count": 26,
     "metadata": {},
     "output_type": "execute_result"
    }
   ],
   "source": [
    "# Helper function to run inference on a single row of data\n",
    "def run_inference_on_row(row, label, model):\n",
    "    # Convert the row into a tensor\n",
    "    row_tensor = torch.tensor(row.values, dtype=torch.float32).unsqueeze(0)  # Add batch dimension\n",
    "\n",
    "    # Perform inference\n",
    "    with torch.no_grad():\n",
    "        logits = model(row_tensor)  # Raw logits\n",
    "        probabilities = torch.softmax(logits, dim=1)  # Apply softmax to convert logits to probabilities\n",
    "\n",
    "    # Get predicted label\n",
    "    predicted_label = torch.argmax(probabilities).item()\n",
    "\n",
    "    # Print details\n",
    "    print(\"Logits:\", logits.numpy())\n",
    "    print(\"Softmax Probabilities:\", probabilities.numpy())\n",
    "    print(\"Correct Label:\", label)\n",
    "    print(\"Predicted Label:\", predicted_label)\n",
    "\n",
    "    return predicted_label\n",
    "\n",
    "# Example: Run inference on a single row\n",
    "example_row = test_df.iloc[10, :-1]  # 10th row (pixels only)\n",
    "example_label = test_df.iloc[10, -1]  # Corresponding label\n",
    "run_inference_on_row(example_row, example_label, model)"
   ]
  },
  {
   "cell_type": "code",
   "execution_count": 27,
   "id": "2a60cd76-3af6-4882-b79e-0d6a194ef570",
   "metadata": {},
   "outputs": [],
   "source": [
    "### Display examples of correct and incorrect predictions"
   ]
  },
  {
   "cell_type": "code",
   "execution_count": 28,
   "id": "187fcc0c-4760-4832-8ee9-ee1c4b0c6bed",
   "metadata": {},
   "outputs": [],
   "source": [
    "\n",
    "def display_examples(data_df, model, correct=True, num_examples=3):\n",
    "    count = 0\n",
    "    plt.figure(figsize=(10, 5))\n",
    "\n",
    "    for idx, row in data_df.iterrows():\n",
    "        if count >= num_examples:\n",
    "            break\n",
    "\n",
    "        # Extract image and label\n",
    "        image_row = row[:-1]\n",
    "        true_label = row[-1]\n",
    "\n",
    "        # Run inference\n",
    "        predicted_label = run_inference_on_row(image_row, true_label, model)\n",
    "\n",
    "        # Check if prediction is correct\n",
    "        if (predicted_label == true_label and correct) or (predicted_label != true_label and not correct):\n",
    "            # Plot the image\n",
    "            plt.subplot(1, num_examples, count + 1)\n",
    "            image = image_row.values.reshape(28, 28)  # Reshape to 28x28\n",
    "            plt.imshow(image, cmap=\"gray\")\n",
    "            plt.title(f\"True: {true_label}, Pred: {predicted_label}\")\n",
    "            plt.axis(\"off\")\n",
    "            count += 1\n",
    "\n",
    "\n",
    "\n",
    "\n"
   ]
  },
  {
   "cell_type": "code",
   "execution_count": 29,
   "id": "7a882db3-f783-431d-b340-405764002091",
   "metadata": {},
   "outputs": [
    {
     "name": "stdout",
     "output_type": "stream",
     "text": [
      "Examples of Correct Predictions:\n",
      "Logits: [[-3.433655  -6.0875697 -5.882072  -5.655014  -6.0082626  6.267651\n",
      "  -2.114722   7.3587055  3.7036157 14.453903 ]]\n",
      "Softmax Probabilities: [[1.7023238e-08 1.1980125e-09 1.4713225e-09 1.8463673e-09 1.2968931e-09\n",
      "  2.7814135e-04 6.3657225e-08 8.2814175e-04 2.1415051e-05 9.9887210e-01]]\n",
      "Correct Label: 9.0\n",
      "Predicted Label: 9\n",
      "Logits: [[ 13.617439   -0.4123214   6.1290736   4.995378   -1.2513751 -12.871035\n",
      "    9.649919  -12.4970455   2.0771685  -8.331827 ]]\n",
      "Softmax Probabilities: [[9.8070866e-01 7.9157581e-07 5.4876209e-04 1.7661459e-04 3.4205499e-07\n",
      "  3.0742698e-12 1.8555285e-02 4.4685167e-12 9.5425421e-06 2.8780262e-10]]\n",
      "Correct Label: 0.0\n",
      "Predicted Label: 0\n",
      "Logits: [[ 3.2365673  1.7031162  1.567628   2.8194199  2.14722   -4.5692134\n",
      "   2.3829224 -3.0745401 -0.71662   -4.54038  ]]\n",
      "Softmax Probabilities: [[3.5121086e-01 7.5787678e-02 6.6184580e-02 2.3142120e-01 1.1815998e-01\n",
      "  1.4307396e-04 1.4956662e-01 6.3780614e-04 6.7409407e-03 1.4725931e-04]]\n",
      "Correct Label: 0.0\n",
      "Predicted Label: 0\n"
     ]
    },
    {
     "name": "stderr",
     "output_type": "stream",
     "text": [
      "/var/folders/31/vhwm53rj4tnfvv9lgq9m3x5w0000gn/T/ipykernel_4952/3303586380.py:11: FutureWarning: Series.__getitem__ treating keys as positions is deprecated. In a future version, integer keys will always be treated as labels (consistent with DataFrame behavior). To access a value by position, use `ser.iloc[pos]`\n",
      "  true_label = row[-1]\n"
     ]
    },
    {
     "data": {
      "image/png": "[encoded data removed]",
      "text/plain": [
       "<Figure size 1000x500 with 3 Axes>"
      ]
     },
     "metadata": {},
     "output_type": "display_data"
    }
   ],
   "source": [
    "# Example: Show 3 correct predictions\n",
    "print(\"Examples of Correct Predictions:\")\n",
    "display_examples(train_df, model, correct=True, num_examples=3)\n",
    "plt.show()"
   ]
  },
  {
   "cell_type": "code",
   "execution_count": 30,
   "id": "eb4bfd43-bb28-49a7-a7bc-1d4e9a8c65a2",
   "metadata": {},
   "outputs": [
    {
     "name": "stdout",
     "output_type": "stream",
     "text": [
      "Examples of Incorrect Predictions:\n",
      "Logits: [[-3.433655  -6.0875697 -5.882072  -5.655014  -6.0082626  6.267651\n",
      "  -2.114722   7.3587055  3.7036157 14.453903 ]]\n",
      "Softmax Probabilities: [[1.7023238e-08 1.1980125e-09 1.4713225e-09 1.8463673e-09 1.2968931e-09\n",
      "  2.7814135e-04 6.3657225e-08 8.2814175e-04 2.1415051e-05 9.9887210e-01]]\n",
      "Correct Label: 9.0\n",
      "Predicted Label: 9\n",
      "Logits: [[ 13.617439   -0.4123214   6.1290736   4.995378   -1.2513751 -12.871035\n",
      "    9.649919  -12.4970455   2.0771685  -8.331827 ]]\n",
      "Softmax Probabilities: [[9.8070866e-01 7.9157581e-07 5.4876209e-04 1.7661459e-04 3.4205499e-07\n",
      "  3.0742698e-12 1.8555285e-02 4.4685167e-12 9.5425421e-06 2.8780262e-10]]\n",
      "Correct Label: 0.0\n",
      "Predicted Label: 0\n",
      "Logits: [[ 3.2365673  1.7031162  1.567628   2.8194199  2.14722   -4.5692134\n",
      "   2.3829224 -3.0745401 -0.71662   -4.54038  ]]\n",
      "Softmax Probabilities: [[3.5121086e-01 7.5787678e-02 6.6184580e-02 2.3142120e-01 1.1815998e-01\n",
      "  1.4307396e-04 1.4956662e-01 6.3780614e-04 6.7409407e-03 1.4725931e-04]]\n",
      "Correct Label: 0.0\n",
      "Predicted Label: 0\n",
      "Logits: [[ 5.294002    2.8618183   2.7933767   5.297634    1.0007408  -7.709912\n",
      "   5.488209   -5.925494   -0.81646854 -7.410191  ]]\n",
      "Softmax Probabilities: [[2.9379249e-01 2.5808141e-02 2.4100877e-02 2.9486150e-01 4.0132953e-03\n",
      "  6.6147413e-07 3.5676610e-01 3.9398105e-06 6.5207412e-04 8.9264734e-07]]\n",
      "Correct Label: 3.0\n",
      "Predicted Label: 6\n",
      "Logits: [[  5.6491776    6.182569     0.89908624   7.0951996    2.283872\n",
      "  -10.597568     3.4273915   -5.2276654    1.0675893   -8.462445  ]]\n",
      "Softmax Probabilities: [[1.4059222e-01 2.3966812e-01 1.2162497e-03 5.9698123e-01 4.8576645e-03\n",
      "  1.2362011e-08 1.5242348e-02 2.6558810e-06 1.4394706e-03 1.0455899e-07]]\n",
      "Correct Label: 0.0\n",
      "Predicted Label: 3\n",
      "Logits: [[  3.2343223   2.3519814  10.901652    2.1026545   5.464319   -7.1775975\n",
      "    5.56544   -13.201299    1.2744081  -9.7264595]]\n",
      "Softmax Probabilities: [[4.6321322e-04 1.9168359e-04 9.9005646e-01 1.4938389e-04 4.3078065e-03\n",
      "  1.3929685e-08 4.7662021e-03 3.3719513e-11 6.5253087e-05 1.0888910e-09]]\n",
      "Correct Label: 2.0\n",
      "Predicted Label: 2\n",
      "Logits: [[-3.1034982 -3.524947  -2.9135113 -2.4960096 -4.5189304  6.8399453\n",
      "  -2.7373989  9.305131   1.8432496  3.5750785]]\n",
      "Softmax Probabilities: [[3.7500445e-06 2.4603878e-06 4.5346815e-06 6.8843888e-06 9.1058843e-07\n",
      "  7.8058317e-02 5.4079337e-06 9.1840810e-01 5.2769342e-04 2.9819857e-03]]\n",
      "Correct Label: 7.0\n",
      "Predicted Label: 7\n",
      "Logits: [[  1.832059    2.412267   10.235098   -1.4596618   9.912772  -10.123176\n",
      "    7.2010717 -13.725669    3.427782   -8.212216 ]]\n",
      "Softmax Probabilities: [[1.2634965e-04 2.2571223e-04 5.6359547e-01 4.6989198e-06 4.0830359e-01\n",
      "  8.1186174e-10 2.7121061e-02 2.2127845e-11 6.2314310e-04 5.4878257e-09]]\n",
      "Correct Label: 2.0\n",
      "Predicted Label: 2\n",
      "Logits: [[-0.28586745 -3.2971132  -2.062338   -1.3259834  -3.551253    8.668181\n",
      "  -0.5855566   0.0877964   0.78172827  2.4117289 ]]\n",
      "Softmax Probabilities: [[1.2885401e-04 6.3435227e-06 2.1806538e-05 4.5538796e-05 4.9199307e-06\n",
      "  9.9722242e-01 9.5487056e-05 1.8723114e-04 3.7475632e-04 1.9127104e-03]]\n",
      "Correct Label: 5.0\n",
      "Predicted Label: 5\n",
      "Logits: [[-1.827033   -5.156682   -2.4837115  -2.399972   -4.779442   12.897183\n",
      "  -0.41657707 -0.2827526   2.4476373   3.284657  ]]\n",
      "Softmax Probabilities: [[4.0300506e-07 1.4429867e-08 2.0898675e-07 2.2724079e-07 2.1042437e-08\n",
      "  9.9989974e-01 1.6514432e-06 1.8879166e-06 2.8958520e-05 6.6878951e-05]]\n",
      "Correct Label: 5.0\n",
      "Predicted Label: 5\n",
      "Logits: [[11.487506    2.0337865   3.0960448   5.328065   -1.8982989  -9.494085\n",
      "   8.397151   -9.730993   -0.27042007 -7.821048  ]]\n",
      "Softmax Probabilities: [[9.5427698e-01 7.4812888e-05 2.1642582e-04 2.0168019e-03 1.4665375e-06\n",
      "  7.3703071e-10 4.3406062e-02 5.8156435e-10 7.4691652e-06 3.9271377e-09]]\n",
      "Correct Label: 0.0\n",
      "Predicted Label: 0\n",
      "Logits: [[-0.3734066  -2.3128693  -1.8274618  -2.1898844  -5.4920225   3.9208388\n",
      "  -0.87438536  2.947343   -0.12822768  9.154076  ]]\n",
      "Softmax Probabilities: [[7.2273346e-05 1.0391548e-05 1.6884562e-05 1.1751462e-05 4.3250529e-07\n",
      "  5.2959658e-03 4.3793090e-05 2.0006045e-03 9.2354516e-05 9.9245548e-01]]\n",
      "Correct Label: 9.0\n",
      "Predicted Label: 9\n",
      "Logits: [[-1.2250204  -1.9521805  -2.1836135  -3.0618804  -2.180583    6.6642385\n",
      "  -0.2592706   2.9214058   0.90973634  2.1140842 ]]\n",
      "Softmax Probabilities: [[3.6057350e-04 1.7425780e-04 1.3825543e-04 5.7445439e-05 1.3867495e-04\n",
      "  9.6217793e-01 9.4713864e-04 2.2791024e-02 3.0486446e-03 1.0165963e-02]]\n",
      "Correct Label: 5.0\n",
      "Predicted Label: 5\n",
      "Logits: [[-2.4330006  -2.4336565  -1.457592   -1.8802271  -2.6251836   6.2558494\n",
      "  -1.5175302   5.1918583   2.5543427   0.08397162]]\n",
      "Softmax Probabilities: [[1.2264676e-04 1.2256643e-04 3.2529008e-04 2.1316846e-04 1.0120273e-04\n",
      "  7.2807455e-01 3.0636569e-04 2.5124094e-01 1.7973471e-02 1.5197193e-03]]\n",
      "Correct Label: 5.0\n",
      "Predicted Label: 5\n",
      "Logits: [[-2.4354208 -2.1716497 -2.657733  -1.2055827 -3.9005253  4.0687313\n",
      "  -1.8941562  8.751887   1.2793915  1.9223827]]\n",
      "Softmax Probabilities: [[1.3697941e-05 1.7832393e-05 1.0967469e-05 4.6856225e-05 3.1649633e-06\n",
      "  9.1489814e-03 2.3535504e-05 9.8910308e-01 5.6231255e-04 1.0696099e-03]]\n",
      "Correct Label: 7.0\n",
      "Predicted Label: 7\n",
      "Logits: [[-3.217748  -6.4968305 -6.098804  -5.800055  -7.0746746  8.148126\n",
      "  -3.1111324  9.03221    3.2314227 14.270468 ]]\n",
      "Softmax Probabilities: [[2.5218016e-08 9.4978214e-10 1.4141135e-09 1.9064688e-09 5.3292887e-10\n",
      "  2.1769449e-03 2.8055247e-08 5.2698771e-03 1.5942276e-05 9.9253720e-01]]\n",
      "Correct Label: 9.0\n",
      "Predicted Label: 9\n",
      "Logits: [[ 3.899605  11.357647   1.1201386  3.1898668  2.8003802 -8.055698\n",
      "  -1.150759  -3.4193    -1.7190547 -6.0736556]]\n",
      "Softmax Probabilities: [[5.7615369e-04 9.9890661e-01 3.5762783e-05 2.8333691e-04 1.9193377e-04\n",
      "  3.7018273e-09 3.6914187e-06 3.8192522e-07 2.0911507e-06 2.6866195e-08]]\n",
      "Correct Label: 1.0\n",
      "Predicted Label: 1\n",
      "Logits: [[ 11.273879    1.1401377   4.598516    6.3064365   1.5145607 -11.367922\n",
      "    8.85971   -10.835329    0.4806139 -10.820266 ]]\n",
      "Softmax Probabilities: [[9.1092753e-01 3.6178943e-05 1.1492394e-03 6.3409004e-03 5.2609688e-05\n",
      "  1.3374422e-10 8.1474818e-02 2.2781230e-10 1.8708039e-05 2.3126964e-10]]\n",
      "Correct Label: 0.0\n",
      "Predicted Label: 0\n",
      "Logits: [[  2.9115863    0.20695774   8.681857     1.7836666    5.4851885\n",
      "   -5.190687     8.825638   -15.119687     3.414938   -10.559193  ]]\n",
      "Softmax Probabilities: [[1.4144558e-03 9.4620264e-05 4.5350927e-01 4.5786781e-04 1.8547723e-02\n",
      "  4.2836771e-07 5.2363580e-01 2.0878884e-11 2.3398728e-03 1.9966615e-09]]\n",
      "Correct Label: 6.0\n",
      "Predicted Label: 6\n",
      "Logits: [[-0.1030563   0.43552476  1.5266836   1.3535819   4.6730604  -0.75727504\n",
      "   3.1039765  -5.431317    0.69678503 -5.082733  ]]\n",
      "Softmax Probabilities: [[6.3205999e-03 1.0830818e-02 3.2251164e-02 2.7124910e-02 7.4989337e-01\n",
      "  3.2857519e-03 1.5615469e-01 3.0670722e-05 1.4064524e-02 4.3462249e-05]]\n",
      "Correct Label: 4.0\n",
      "Predicted Label: 4\n",
      "Logits: [[  4.988898     3.7352686    0.7299023   10.570043    -1.0194962\n",
      "  -10.056812     4.0832553   -4.4173193   -0.61301035  -6.0856614 ]]\n",
      "Softmax Probabilities: [[3.7441212e-03 1.0688227e-03 5.2928746e-05 9.9359703e-01 9.2031742e-06\n",
      "  1.0941615e-09 1.5136809e-03 3.0780927e-07 1.3818855e-05 5.8040310e-08]]\n",
      "Correct Label: 3.0\n",
      "Predicted Label: 3\n",
      "Logits: [[ 3.6587167   9.312514    1.4838989   2.4218907   2.9142485  -7.51483\n",
      "   0.67072976 -2.8034952  -0.5145962  -7.706864  ]]\n",
      "Softmax Probabilities: [[3.4804470e-03 9.9322611e-01 3.9547929e-04 1.0103884e-03 1.6531665e-03\n",
      "  4.8868060e-08 1.7537542e-04 5.4341540e-06 5.3602907e-05 4.0329784e-08]]\n",
      "Correct Label: 1.0\n",
      "Predicted Label: 1\n",
      "Logits: [[ 1.9164795  0.9375743  3.810335   1.8297694  4.738495  -5.9940505\n",
      "   2.596112  -4.8095875  4.3042407 -7.5598407]]\n",
      "Softmax Probabilities: [[2.5898566e-02 9.7306659e-03 1.7209436e-01 2.3747502e-02 4.3537289e-01\n",
      "  9.5011446e-06 5.1101815e-02 3.1058604e-05 2.8201175e-01 1.9850063e-06]]\n",
      "Correct Label: 4.0\n",
      "Predicted Label: 4\n",
      "Logits: [[ 2.4020784  -3.337063    0.6340966  -4.2239685   0.66112256 -4.104415\n",
      "   2.2918715  -2.8009417  10.685254   -0.67067134]]\n",
      "Softmax Probabilities: [[2.5258656e-04 8.1270468e-07 4.3110755e-05 3.3477619e-07 4.4291715e-05\n",
      "  3.7729060e-07 2.2622870e-04 1.3892081e-06 9.9941909e-01 1.1693159e-05]]\n",
      "Correct Label: 8.0\n",
      "Predicted Label: 8\n",
      "Logits: [[  2.6148438   3.2471373  11.749987    4.6746926  11.085953  -11.233946\n",
      "    7.63386   -15.946052    3.379294  -16.20625  ]]\n",
      "Softmax Probabilities: [[7.0350427e-05 1.3239404e-04 6.5254289e-01 5.5188412e-04 3.3590990e-01\n",
      "  6.8047790e-11 1.0641381e-02 6.1146682e-13 1.5109955e-04 4.7137885e-13]]\n",
      "Correct Label: 4.0\n",
      "Predicted Label: 2\n"
     ]
    },
    {
     "name": "stderr",
     "output_type": "stream",
     "text": [
      "/var/folders/31/vhwm53rj4tnfvv9lgq9m3x5w0000gn/T/ipykernel_4952/3303586380.py:11: FutureWarning: Series.__getitem__ treating keys as positions is deprecated. In a future version, integer keys will always be treated as labels (consistent with DataFrame behavior). To access a value by position, use `ser.iloc[pos]`\n",
      "  true_label = row[-1]\n"
     ]
    },
    {
     "data": {
      "image/png": "[encoded data removed]",
      "text/plain": [
       "<Figure size 1000x500 with 3 Axes>"
      ]
     },
     "metadata": {},
     "output_type": "display_data"
    }
   ],
   "source": [
    "# Example: Show 3 incorrect predictions\n",
    "print(\"Examples of Incorrect Predictions:\")\n",
    "display_examples(train_df, model, correct=False, num_examples=3)\n",
    "plt.show()"
   ]
  },
  {
   "cell_type": "code",
   "execution_count": 31,
   "id": "34d5a1dd-084d-4245-84ed-a32898f82d03",
   "metadata": {},
   "outputs": [],
   "source": [
    "def create_tensorboard_visualization(model_path, dataloader, log_dir=\"runs/fashion_mnist\"):\n",
    "    \"\"\"\n",
    "    Reads the trained model, creates a TensorBoard visualization of the data,\n",
    "    and visualizes the embedding space with labels and images.\n",
    "\n",
    "    Args:\n",
    "        model_path (str): Path to the trained model file.\n",
    "        dataloader (DataLoader): DataLoader for the dataset.\n",
    "        log_dir (str): Directory where TensorBoard logs will be saved.\n",
    "\n",
    "    Returns:\n",
    "        None\n",
    "    \"\"\"\n",
    "    # Load the trained model\n",
    "    model = SimpleNN(input_size=28*28, hidden_size=256, num_classes=10)\n",
    "    model.load_state_dict(torch.load(model_path))\n",
    "    model.eval()  # Set to evaluation mode\n",
    "    \n",
    "    # Initialize TensorBoard writer\n",
    "    writer = SummaryWriter(log_dir=log_dir)\n",
    "    \n",
    "    # Store features and labels for embedding visualization\n",
    "    features_list = []\n",
    "    labels_list = []\n",
    "    images_list = []\n",
    "\n",
    "    # Collect data from the DataLoader\n",
    "    with torch.no_grad():\n",
    "        for batch_idx, (images, labels) in enumerate(dataloader):\n",
    "            # Get the raw embeddings (output before the final layer)\n",
    "            embeddings = model.fc1(images)  # Extract embeddings from the first layer\n",
    "            features_list.append(embeddings)\n",
    "            labels_list.append(labels)\n",
    "            images_list.append(images)\n",
    "    \n",
    "    # Concatenate all features and labels\n",
    "    features = torch.cat(features_list, dim=0)\n",
    "    labels = torch.cat(labels_list, dim=0)\n",
    "    images = torch.cat(images_list, dim=0)\n",
    "    \n",
    "    # Log embeddings to TensorBoard\n",
    "    writer.add_embedding(\n",
    "        features,\n",
    "        metadata=labels.numpy(),\n",
    "        label_img=images.view(-1, 1, 28, 28),  # Reshape to image format\n",
    "        global_step=0\n",
    "    )\n",
    "\n",
    "    # Optionally visualize some sample images in TensorBoard\n",
    "    grid = make_grid(images[:64].view(-1, 1, 28, 28), nrow=8, normalize=True)\n",
    "    writer.add_image(\"FashionMNIST Samples\", grid, global_step=0)\n",
    "    \n",
    "    # Close the writer\n",
    "    writer.close()\n",
    "    print(f\"TensorBoard logs saved to: {log_dir}\")\n"
   ]
  },
  {
   "cell_type": "code",
   "execution_count": 32,
   "id": "f7c73c35-8be9-4551-b29d-a9d8ffde641c",
   "metadata": {},
   "outputs": [
    {
     "name": "stderr",
     "output_type": "stream",
     "text": [
      "/var/folders/31/vhwm53rj4tnfvv9lgq9m3x5w0000gn/T/ipykernel_4952/2670662135.py:16: FutureWarning: You are using `torch.load` with `weights_only=False` (the current default value), which uses the default pickle module implicitly. It is possible to construct malicious pickle data which will execute arbitrary code during unpickling (See https://github.com/pytorch/pytorch/blob/main/SECURITY.md#untrusted-models for more details). In a future release, the default value for `weights_only` will be flipped to `True`. This limits the functions that could be executed during unpickling. Arbitrary objects will no longer be allowed to be loaded via this mode unless they are explicitly allowlisted by the user via `torch.serialization.add_safe_globals`. We recommend you start setting `weights_only=True` for any use case where you don't have full control of the loaded file. Please open an issue on GitHub for any issues related to this experimental feature.\n",
      "  model.load_state_dict(torch.load(model_path))\n"
     ]
    },
    {
     "name": "stdout",
     "output_type": "stream",
     "text": [
      "TensorBoard logs saved to: runs/fashion_mnist\n"
     ]
    }
   ],
   "source": [
    "create_tensorboard_visualization(\"fashion_mnist_model.pth\", test_loader)"
   ]
  },
  {
   "cell_type": "code",
   "execution_count": null,
   "id": "d1b44d41-41fc-4cc6-90b3-f931f6a9c2f9",
   "metadata": {},
   "outputs": [],
   "source": []
  },
  {
   "cell_type": "code",
   "execution_count": null,
   "id": "20a5044a-a840-43ee-b522-65fc20c9b2ac",
   "metadata": {},
   "outputs": [],
   "source": []
  },
  {
   "cell_type": "code",
   "execution_count": null,
   "id": "69d80dad-9230-4337-9c22-45dbf7260222",
   "metadata": {},
   "outputs": [],
   "source": []
  }
 ],
 "metadata": {
  "kernelspec": {
   "display_name": "Python 3 (ipykernel)",
   "language": "python",
   "name": "python3"
  },
  "language_info": {
   "codemirror_mode": {
    "name": "ipython",
    "version": 3
   },
   "file_extension": ".py",
   "mimetype": "text/x-python",
   "name": "python",
   "nbconvert_exporter": "python",
   "pygments_lexer": "ipython3",
   "version": "3.11.9"
  }
 },
 "nbformat": 4,
 "nbformat_minor": 5
}
