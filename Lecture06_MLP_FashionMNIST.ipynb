{
 "cells": [
  {
   "cell_type": "code",
   "execution_count": 1,
   "id": "ac70d6ec-3389-43e6-bb93-78af240f8cc4",
   "metadata": {},
   "outputs": [],
   "source": [
    "# Cell 1: Load and convert Fashion MNIST dataset to a DataFrame\n",
    "import torch\n",
    "import torch.nn as nn\n",
    "from torchvision import datasets, transforms\n",
    "import pandas as pd\n",
    "import matplotlib.pyplot as plt\n",
    "import numpy as np\n",
    "from sklearn.model_selection import train_test_split\n",
    "from torch.utils.data import Dataset, DataLoader\n",
    "from sklearn.metrics import confusion_matrix, ConfusionMatrixDisplay\n",
    "from torch.utils.data import DataLoader, TensorDataset"
   ]
  },
  {
   "cell_type": "markdown",
   "id": "cbe74fb9-6c45-4390-aa03-a4e82f2bb697",
   "metadata": {},
   "source": [
    "### Pretend we are NOT doing this - imagine it being you donwloading data from the internet"
   ]
  },
  {
   "cell_type": "code",
   "execution_count": 2,
   "id": "60335a3c-850c-4e7e-bca7-bb09d0784006",
   "metadata": {},
   "outputs": [
    {
     "name": "stdout",
     "output_type": "stream",
     "text": [
      "Downloading http://fashion-mnist.s3-website.eu-central-1.amazonaws.com/train-images-idx3-ubyte.gz\n",
      "Downloading http://fashion-mnist.s3-website.eu-central-1.amazonaws.com/train-images-idx3-ubyte.gz to ./data/FashionMNIST/raw/train-images-idx3-ubyte.gz\n"
     ]
    },
    {
     "name": "stderr",
     "output_type": "stream",
     "text": [
      "100%|██████████| 26421880/26421880 [00:01<00:00, 17109624.18it/s]\n"
     ]
    },
    {
     "name": "stdout",
     "output_type": "stream",
     "text": [
      "Extracting ./data/FashionMNIST/raw/train-images-idx3-ubyte.gz to ./data/FashionMNIST/raw\n",
      "\n",
      "Downloading http://fashion-mnist.s3-website.eu-central-1.amazonaws.com/train-labels-idx1-ubyte.gz\n",
      "Downloading http://fashion-mnist.s3-website.eu-central-1.amazonaws.com/train-labels-idx1-ubyte.gz to ./data/FashionMNIST/raw/train-labels-idx1-ubyte.gz\n"
     ]
    },
    {
     "name": "stderr",
     "output_type": "stream",
     "text": [
      "100%|██████████| 29515/29515 [00:00<00:00, 316649.83it/s]\n"
     ]
    },
    {
     "name": "stdout",
     "output_type": "stream",
     "text": [
      "Extracting ./data/FashionMNIST/raw/train-labels-idx1-ubyte.gz to ./data/FashionMNIST/raw\n",
      "\n",
      "Downloading http://fashion-mnist.s3-website.eu-central-1.amazonaws.com/t10k-images-idx3-ubyte.gz\n",
      "Downloading http://fashion-mnist.s3-website.eu-central-1.amazonaws.com/t10k-images-idx3-ubyte.gz to ./data/FashionMNIST/raw/t10k-images-idx3-ubyte.gz\n"
     ]
    },
    {
     "name": "stderr",
     "output_type": "stream",
     "text": [
      "100%|██████████| 4422102/4422102 [00:00<00:00, 5746826.17it/s]\n"
     ]
    },
    {
     "name": "stdout",
     "output_type": "stream",
     "text": [
      "Extracting ./data/FashionMNIST/raw/t10k-images-idx3-ubyte.gz to ./data/FashionMNIST/raw\n",
      "\n",
      "Downloading http://fashion-mnist.s3-website.eu-central-1.amazonaws.com/t10k-labels-idx1-ubyte.gz\n",
      "Downloading http://fashion-mnist.s3-website.eu-central-1.amazonaws.com/t10k-labels-idx1-ubyte.gz to ./data/FashionMNIST/raw/t10k-labels-idx1-ubyte.gz\n"
     ]
    },
    {
     "name": "stderr",
     "output_type": "stream",
     "text": [
      "100%|██████████| 5148/5148 [00:00<00:00, 2977013.23it/s]"
     ]
    },
    {
     "name": "stdout",
     "output_type": "stream",
     "text": [
      "Extracting ./data/FashionMNIST/raw/t10k-labels-idx1-ubyte.gz to ./data/FashionMNIST/raw\n",
      "\n"
     ]
    },
    {
     "name": "stderr",
     "output_type": "stream",
     "text": [
      "\n"
     ]
    }
   ],
   "source": [
    "# Download and load the Fashion MNIST dataset\n",
    "transform = transforms.ToTensor()  # Transform the data into tensors\n",
    "full_dataset = datasets.FashionMNIST(root=\"./data\", train=True, download=True, transform=transform)"
   ]
  },
  {
   "cell_type": "code",
   "execution_count": 3,
   "id": "e8c049b7-046a-46c1-af9a-f14eef3ba87a",
   "metadata": {},
   "outputs": [
    {
     "name": "stdout",
     "output_type": "stream",
     "text": [
      "Train DataFrame:\n",
      "       pixel_0  pixel_1  pixel_2  pixel_3  pixel_4  pixel_5  pixel_6  \\\n",
      "48572      0.0      0.0      0.0      0.0      0.0      0.0      0.0   \n",
      "38696      0.0      0.0      0.0      0.0      0.0      0.0      0.0   \n",
      "13611      0.0      0.0      0.0      0.0      0.0      0.0      0.0   \n",
      "35213      0.0      0.0      0.0      0.0      0.0      0.0      0.0   \n",
      "31766      0.0      0.0      0.0      0.0      0.0      0.0      0.0   \n",
      "\n",
      "        pixel_7   pixel_8   pixel_9  ...  pixel_775  pixel_776  pixel_777  \\\n",
      "48572  0.000000  0.000000  0.000000  ...   0.000000   0.000000   0.000000   \n",
      "38696  0.000000  0.000000  0.000000  ...   0.003922   0.000000   0.000000   \n",
      "13611  0.000000  0.000000  0.000000  ...   0.000000   0.000000   0.000000   \n",
      "35213  0.000000  0.000000  0.011765  ...   0.501961   0.576471   0.658824   \n",
      "31766  0.011765  0.223529  0.368627  ...   0.000000   0.000000   0.000000   \n",
      "\n",
      "       pixel_778  pixel_779  pixel_780  pixel_781  pixel_782  pixel_783  label  \n",
      "48572   0.000000   0.000000   0.000000        0.0        0.0        0.0      7  \n",
      "38696   0.000000   0.000000   0.000000        0.0        0.0        0.0      3  \n",
      "13611   0.000000   0.000000   0.000000        0.0        0.0        0.0      5  \n",
      "35213   0.505882   0.000000   0.000000        0.0        0.0        0.0      8  \n",
      "31766   0.470588   0.419608   0.109804        0.0        0.0        0.0      6  \n",
      "\n",
      "[5 rows x 785 columns]\n",
      "\n",
      "Test DataFrame:\n",
      "       pixel_0  pixel_1  pixel_2  pixel_3  pixel_4  pixel_5  pixel_6  \\\n",
      "12628      0.0      0.0      0.0      0.0      0.0      0.0      0.0   \n",
      "37730      0.0      0.0      0.0      0.0      0.0      0.0      0.0   \n",
      "39991      0.0      0.0      0.0      0.0      0.0      0.0      0.0   \n",
      "8525       0.0      0.0      0.0      0.0      0.0      0.0      0.0   \n",
      "8279       0.0      0.0      0.0      0.0      0.0      0.0      0.0   \n",
      "\n",
      "        pixel_7  pixel_8   pixel_9  ...  pixel_775  pixel_776  pixel_777  \\\n",
      "12628  0.000000      0.0  0.000000  ...        0.0   0.000000   0.000000   \n",
      "37730  0.000000      0.0  0.000000  ...        0.0   0.000000   0.000000   \n",
      "39991  0.000000      0.0  0.000000  ...        0.0   0.000000   0.000000   \n",
      "8525   0.003922      0.0  0.003922  ...        0.0   0.113725   0.533333   \n",
      "8279   0.000000      0.0  0.000000  ...        0.0   0.000000   0.000000   \n",
      "\n",
      "       pixel_778  pixel_779  pixel_780  pixel_781  pixel_782  pixel_783  label  \n",
      "12628   0.000000        0.0        0.0        0.0        0.0        0.0      8  \n",
      "37730   0.000000        0.0        0.0        0.0        0.0        0.0      8  \n",
      "39991   0.000000        0.0        0.0        0.0        0.0        0.0      7  \n",
      "8525    0.411765        0.0        0.0        0.0        0.0        0.0      4  \n",
      "8279    0.000000        0.0        0.0        0.0        0.0        0.0      8  \n",
      "\n",
      "[5 rows x 785 columns]\n"
     ]
    }
   ],
   "source": [
    "# Convert the dataset to a DataFrame\n",
    "# Each image is a 28x28 array, flatten it into a single row\n",
    "data_list = []\n",
    "for image, label in full_dataset:\n",
    "    flat_image = image.view(-1).numpy()  # Flatten the 28x28 image into a 1D array\n",
    "    data_list.append([*flat_image, label])\n",
    "\n",
    "# Create a DataFrame\n",
    "columns = [f\"pixel_{i}\" for i in range(28 * 28)] + [\"label\"]\n",
    "full_df = pd.DataFrame(data_list, columns=columns)\n",
    "\n",
    "# Split the DataFrame into train and test sets\n",
    "train_df, test_df = train_test_split(full_df, test_size=0.2, random_state=42)\n",
    "\n",
    "# Display the first few rows of each DataFrame\n",
    "print(\"Train DataFrame:\")\n",
    "print(train_df.head())\n",
    "print(\"\\nTest DataFrame:\")\n",
    "print(test_df.head())"
   ]
  },
  {
   "cell_type": "markdown",
   "id": "af516a95-6008-4f17-a255-73435ea77347",
   "metadata": {},
   "source": [
    "### Let's start here by examining the data"
   ]
  },
  {
   "cell_type": "code",
   "execution_count": 4,
   "id": "25bf2cf1-bc6a-46d6-a288-671e7b535b21",
   "metadata": {},
   "outputs": [
    {
     "data": {
      "text/html": [
       "<div>\n",
       "<style scoped>\n",
       "    .dataframe tbody tr th:only-of-type {\n",
       "        vertical-align: middle;\n",
       "    }\n",
       "\n",
       "    .dataframe tbody tr th {\n",
       "        vertical-align: top;\n",
       "    }\n",
       "\n",
       "    .dataframe thead th {\n",
       "        text-align: right;\n",
       "    }\n",
       "</style>\n",
       "<table border=\"1\" class=\"dataframe\">\n",
       "  <thead>\n",
       "    <tr style=\"text-align: right;\">\n",
       "      <th></th>\n",
       "      <th>pixel_0</th>\n",
       "      <th>pixel_1</th>\n",
       "      <th>pixel_2</th>\n",
       "      <th>pixel_3</th>\n",
       "      <th>pixel_4</th>\n",
       "      <th>pixel_5</th>\n",
       "      <th>pixel_6</th>\n",
       "      <th>pixel_7</th>\n",
       "      <th>pixel_8</th>\n",
       "      <th>pixel_9</th>\n",
       "      <th>...</th>\n",
       "      <th>pixel_775</th>\n",
       "      <th>pixel_776</th>\n",
       "      <th>pixel_777</th>\n",
       "      <th>pixel_778</th>\n",
       "      <th>pixel_779</th>\n",
       "      <th>pixel_780</th>\n",
       "      <th>pixel_781</th>\n",
       "      <th>pixel_782</th>\n",
       "      <th>pixel_783</th>\n",
       "      <th>label</th>\n",
       "    </tr>\n",
       "  </thead>\n",
       "  <tbody>\n",
       "    <tr>\n",
       "      <th>0</th>\n",
       "      <td>0.0</td>\n",
       "      <td>0.0</td>\n",
       "      <td>0.0</td>\n",
       "      <td>0.0</td>\n",
       "      <td>0.0</td>\n",
       "      <td>0.000000</td>\n",
       "      <td>0.0</td>\n",
       "      <td>0.0</td>\n",
       "      <td>0.000000</td>\n",
       "      <td>0.000000</td>\n",
       "      <td>...</td>\n",
       "      <td>0.000000</td>\n",
       "      <td>0.000000</td>\n",
       "      <td>0.000000</td>\n",
       "      <td>0.0</td>\n",
       "      <td>0.0</td>\n",
       "      <td>0.0</td>\n",
       "      <td>0.0</td>\n",
       "      <td>0.0</td>\n",
       "      <td>0.0</td>\n",
       "      <td>9</td>\n",
       "    </tr>\n",
       "    <tr>\n",
       "      <th>1</th>\n",
       "      <td>0.0</td>\n",
       "      <td>0.0</td>\n",
       "      <td>0.0</td>\n",
       "      <td>0.0</td>\n",
       "      <td>0.0</td>\n",
       "      <td>0.003922</td>\n",
       "      <td>0.0</td>\n",
       "      <td>0.0</td>\n",
       "      <td>0.000000</td>\n",
       "      <td>0.000000</td>\n",
       "      <td>...</td>\n",
       "      <td>0.447059</td>\n",
       "      <td>0.509804</td>\n",
       "      <td>0.298039</td>\n",
       "      <td>0.0</td>\n",
       "      <td>0.0</td>\n",
       "      <td>0.0</td>\n",
       "      <td>0.0</td>\n",
       "      <td>0.0</td>\n",
       "      <td>0.0</td>\n",
       "      <td>0</td>\n",
       "    </tr>\n",
       "    <tr>\n",
       "      <th>2</th>\n",
       "      <td>0.0</td>\n",
       "      <td>0.0</td>\n",
       "      <td>0.0</td>\n",
       "      <td>0.0</td>\n",
       "      <td>0.0</td>\n",
       "      <td>0.000000</td>\n",
       "      <td>0.0</td>\n",
       "      <td>0.0</td>\n",
       "      <td>0.000000</td>\n",
       "      <td>0.086275</td>\n",
       "      <td>...</td>\n",
       "      <td>0.000000</td>\n",
       "      <td>0.003922</td>\n",
       "      <td>0.000000</td>\n",
       "      <td>0.0</td>\n",
       "      <td>0.0</td>\n",
       "      <td>0.0</td>\n",
       "      <td>0.0</td>\n",
       "      <td>0.0</td>\n",
       "      <td>0.0</td>\n",
       "      <td>0</td>\n",
       "    </tr>\n",
       "    <tr>\n",
       "      <th>3</th>\n",
       "      <td>0.0</td>\n",
       "      <td>0.0</td>\n",
       "      <td>0.0</td>\n",
       "      <td>0.0</td>\n",
       "      <td>0.0</td>\n",
       "      <td>0.000000</td>\n",
       "      <td>0.0</td>\n",
       "      <td>0.0</td>\n",
       "      <td>0.129412</td>\n",
       "      <td>0.376471</td>\n",
       "      <td>...</td>\n",
       "      <td>0.000000</td>\n",
       "      <td>0.000000</td>\n",
       "      <td>0.000000</td>\n",
       "      <td>0.0</td>\n",
       "      <td>0.0</td>\n",
       "      <td>0.0</td>\n",
       "      <td>0.0</td>\n",
       "      <td>0.0</td>\n",
       "      <td>0.0</td>\n",
       "      <td>3</td>\n",
       "    </tr>\n",
       "    <tr>\n",
       "      <th>4</th>\n",
       "      <td>0.0</td>\n",
       "      <td>0.0</td>\n",
       "      <td>0.0</td>\n",
       "      <td>0.0</td>\n",
       "      <td>0.0</td>\n",
       "      <td>0.000000</td>\n",
       "      <td>0.0</td>\n",
       "      <td>0.0</td>\n",
       "      <td>0.000000</td>\n",
       "      <td>0.000000</td>\n",
       "      <td>...</td>\n",
       "      <td>0.000000</td>\n",
       "      <td>0.000000</td>\n",
       "      <td>0.000000</td>\n",
       "      <td>0.0</td>\n",
       "      <td>0.0</td>\n",
       "      <td>0.0</td>\n",
       "      <td>0.0</td>\n",
       "      <td>0.0</td>\n",
       "      <td>0.0</td>\n",
       "      <td>0</td>\n",
       "    </tr>\n",
       "  </tbody>\n",
       "</table>\n",
       "<p>5 rows × 785 columns</p>\n",
       "</div>"
      ],
      "text/plain": [
       "   pixel_0  pixel_1  pixel_2  pixel_3  pixel_4   pixel_5  pixel_6  pixel_7  \\\n",
       "0      0.0      0.0      0.0      0.0      0.0  0.000000      0.0      0.0   \n",
       "1      0.0      0.0      0.0      0.0      0.0  0.003922      0.0      0.0   \n",
       "2      0.0      0.0      0.0      0.0      0.0  0.000000      0.0      0.0   \n",
       "3      0.0      0.0      0.0      0.0      0.0  0.000000      0.0      0.0   \n",
       "4      0.0      0.0      0.0      0.0      0.0  0.000000      0.0      0.0   \n",
       "\n",
       "    pixel_8   pixel_9  ...  pixel_775  pixel_776  pixel_777  pixel_778  \\\n",
       "0  0.000000  0.000000  ...   0.000000   0.000000   0.000000        0.0   \n",
       "1  0.000000  0.000000  ...   0.447059   0.509804   0.298039        0.0   \n",
       "2  0.000000  0.086275  ...   0.000000   0.003922   0.000000        0.0   \n",
       "3  0.129412  0.376471  ...   0.000000   0.000000   0.000000        0.0   \n",
       "4  0.000000  0.000000  ...   0.000000   0.000000   0.000000        0.0   \n",
       "\n",
       "   pixel_779  pixel_780  pixel_781  pixel_782  pixel_783  label  \n",
       "0        0.0        0.0        0.0        0.0        0.0      9  \n",
       "1        0.0        0.0        0.0        0.0        0.0      0  \n",
       "2        0.0        0.0        0.0        0.0        0.0      0  \n",
       "3        0.0        0.0        0.0        0.0        0.0      3  \n",
       "4        0.0        0.0        0.0        0.0        0.0      0  \n",
       "\n",
       "[5 rows x 785 columns]"
      ]
     },
     "execution_count": 4,
     "metadata": {},
     "output_type": "execute_result"
    }
   ],
   "source": [
    "train_df = pd.DataFrame(data_list, columns=columns)\n",
    "\n",
    "# Display the first few rows of the DataFrame\n",
    "train_df.head()"
   ]
  },
  {
   "cell_type": "code",
   "execution_count": 5,
   "id": "61327d7e-6cd6-4f4e-b6a0-81d46910271d",
   "metadata": {},
   "outputs": [
    {
     "data": {
      "text/plain": [
       "((60000, 785), (12000, 785))"
      ]
     },
     "execution_count": 5,
     "metadata": {},
     "output_type": "execute_result"
    }
   ],
   "source": [
    "train_df.shape, test_df.shape"
   ]
  },
  {
   "cell_type": "code",
   "execution_count": 6,
   "id": "5309bd9e-66ba-4429-9365-5ffa30d78716",
   "metadata": {},
   "outputs": [
    {
     "data": {
      "text/plain": [
       "pixel_0      0.062745\n",
       "pixel_1      0.141176\n",
       "pixel_2      0.466667\n",
       "pixel_3      0.643137\n",
       "pixel_4      0.878431\n",
       "               ...   \n",
       "pixel_780    1.000000\n",
       "pixel_781    1.000000\n",
       "pixel_782    1.000000\n",
       "pixel_783    0.666667\n",
       "label        9.000000\n",
       "Length: 785, dtype: float64"
      ]
     },
     "execution_count": 6,
     "metadata": {},
     "output_type": "execute_result"
    }
   ],
   "source": [
    "train_df.max()"
   ]
  },
  {
   "cell_type": "markdown",
   "id": "7bc22474-77b2-463e-a431-e0698f020315",
   "metadata": {},
   "source": [
    "## Helper to visualize a row of data - nice for images"
   ]
  },
  {
   "cell_type": "code",
   "execution_count": 7,
   "id": "7a04db97-235a-49bb-b0c2-90b87fe298b4",
   "metadata": {},
   "outputs": [
    {
     "data": {
      "image/png": "[encoded data removed]",
      "text/plain": [
       "<Figure size 640x480 with 1 Axes>"
      ]
     },
     "metadata": {},
     "output_type": "display_data"
    }
   ],
   "source": [
    "# Cell 8: Function to display a greyscale image from a row\n",
    "def show_image_from_row(row, label):\n",
    "    # Reshape the row back to a 28x28 image\n",
    "    image = np.array(row).reshape(28, 28)\n",
    "    \n",
    "    # Plot the image\n",
    "    plt.imshow(image, cmap=\"gray\")\n",
    "    plt.title(f\"Label: {label}\")\n",
    "    plt.axis(\"off\")\n",
    "    plt.show()\n",
    "\n",
    "# Example: Display an image from the DataFrame\n",
    "example_row = train_df.iloc[0, :-1]  # First row (pixels only)\n",
    "example_label = train_df.iloc[0, -1]  # Corresponding label\n",
    "show_image_from_row(example_row, example_label)\n"
   ]
  },
  {
   "cell_type": "markdown",
   "id": "95f91906-d2e8-4c3c-8f6b-f9d26e8786b7",
   "metadata": {},
   "source": [
    "## Example Dataloader"
   ]
  },
  {
   "cell_type": "code",
   "execution_count": 8,
   "id": "37cc7cc7-b993-4577-8e90-46ac0404097c",
   "metadata": {},
   "outputs": [],
   "source": [
    "\n",
    "# Define a custom Dataset class\n",
    "class CustomDataset(Dataset):\n",
    "    def __init__(self, dataframe):\n",
    "        \"\"\"\n",
    "        Initialize the dataset by passing a DataFrame.\n",
    "        Args:\n",
    "            dataframe (pd.DataFrame): DataFrame with pixel data and labels.\n",
    "        \"\"\"\n",
    "        self.data = dataframe.iloc[:, :-1].values  # Features (all columns except the last)\n",
    "        self.labels = dataframe.iloc[:, -1].values  # Labels (last column)\n",
    "\n",
    "    def __len__(self):\n",
    "        \"\"\"\n",
    "        Return the total number of samples in the dataset.\n",
    "        \"\"\"\n",
    "        return len(self.labels)\n",
    "\n",
    "    def __getitem__(self, idx):\n",
    "        \"\"\"\n",
    "        Retrieve a single sample from the dataset.\n",
    "        Args:\n",
    "            idx (int): Index of the sample to retrieve.\n",
    "        Returns:\n",
    "            (torch.Tensor, torch.Tensor): Tuple of features and label.\n",
    "        \"\"\"\n",
    "        # Convert the features and label to tensors\n",
    "        features = torch.tensor(self.data[idx], dtype=torch.float32)\n",
    "        label = torch.tensor(self.labels[idx], dtype=torch.long)\n",
    "        return features, label\n",
    "\n"
   ]
  },
  {
   "cell_type": "code",
   "execution_count": 9,
   "id": "10d4ea93-1ac5-4072-a741-ed35f7344dd7",
   "metadata": {},
   "outputs": [],
   "source": [
    "# Function to split the DataFrame and create DataLoaders\n",
    "def create_train_test_dataloaders(dataframe, test_size=0.2, batch_size=64, shuffle=True):\n",
    "    \"\"\"\n",
    "    Split the DataFrame into train and test sets and create DataLoaders.\n",
    "    Args:\n",
    "        dataframe (pd.DataFrame): DataFrame containing the data.\n",
    "        test_size (float): Proportion of the data to be used as test data.\n",
    "        batch_size (int): Number of samples per batch.\n",
    "        shuffle (bool): Whether to shuffle the data.\n",
    "    Returns:\n",
    "        tuple: (train_loader, test_loader)\n",
    "    \"\"\"\n",
    "    # Split the data into train and test sets\n",
    "    train_df, test_df = train_test_split(dataframe, test_size=test_size, random_state=42)\n",
    "    \n",
    "    # Create train and test datasets\n",
    "    train_dataset = CustomDataset(train_df)\n",
    "    test_dataset = CustomDataset(test_df)\n",
    "    \n",
    "    # Create DataLoaders for train and test sets\n",
    "    train_loader = DataLoader(train_dataset, batch_size=batch_size, shuffle=shuffle)\n",
    "    test_loader = DataLoader(test_dataset, batch_size=batch_size, shuffle=False)\n",
    "    \n",
    "    return train_loader, test_loader"
   ]
  },
  {
   "cell_type": "code",
   "execution_count": 10,
   "id": "6bd4ddcf-2c38-4aef-8c48-e371c48c666b",
   "metadata": {},
   "outputs": [],
   "source": [
    "# ## command + /\n",
    "\n",
    "# # Example usage: Creating train and test DataLoaders\n",
    "# train_loader, test_loader = create_train_test_dataloaders(train_df, test_size=0.2, batch_size=32)\n",
    "\n",
    "# # Example: Check the first batch from the train DataLoader\n",
    "# for batch_idx, (features, labels) in enumerate(train_loader):\n",
    "#     print(f\"Train Batch {batch_idx + 1}\")\n",
    "#     print(\"Features shape:\", features.shape)\n",
    "#     print(\"Labels shape:\", labels.shape)\n",
    "#     break  # Display only the first batch\n",
    "\n",
    "# # Example: Check the first batch from the test DataLoader\n",
    "# for batch_idx, (features, labels) in enumerate(test_loader):\n",
    "#     print(f\"Test Batch {batch_idx + 1}\")\n",
    "#     print(\"Features shape:\", features.shape)\n",
    "#     print(\"Labels shape:\", labels.shape)\n",
    "#     break  # Display only the first batch"
   ]
  },
  {
   "cell_type": "markdown",
   "id": "3cd6666c-094c-46f6-94e3-202970a58c6c",
   "metadata": {},
   "source": [
    "## Manually Build dataloaders"
   ]
  },
  {
   "cell_type": "code",
   "execution_count": 11,
   "id": "3919e8ab-f84f-4f2b-90f0-5f148fdd7fed",
   "metadata": {},
   "outputs": [
    {
     "name": "stdout",
     "output_type": "stream",
     "text": [
      "Batch size: torch.Size([64, 784]), Labels: torch.Size([64])\n",
      "Batch size: torch.Size([64, 784]), Labels: torch.Size([64])\n"
     ]
    }
   ],
   "source": [
    "# Cell 2: Create a DataLoader\n",
    "\n",
    "\n",
    "# Convert the DataFrame back to PyTorch tensors\n",
    "X_train = torch.tensor(train_df.iloc[:, :-1].values, dtype=torch.float32)  # All pixels\n",
    "y_train = torch.tensor(train_df[\"label\"].values, dtype=torch.long)  # Labels\n",
    "# Convert the DataFrame back to PyTorch tensors\n",
    "X_test = torch.tensor(test_df.iloc[:, :-1].values, dtype=torch.float32)  # All pixels\n",
    "y_test = torch.tensor(test_df[\"label\"].values, dtype=torch.long)  # Labels\n",
    "\n",
    "# Create a TensorDataset\n",
    "train_dataset = TensorDataset(X_train, y_train)\n",
    "test_dataset = TensorDataset(X_test, y_test)\n",
    "\n",
    "# Create a DataLoader for batching and shuffling\n",
    "batch_size = 64  # Number of samples per batch\n",
    "train_loader = DataLoader(train_dataset, batch_size=batch_size, shuffle=True)\n",
    "test_loader = DataLoader(test_dataset, batch_size=batch_size, shuffle=True)\n",
    "\n",
    "# Example: Check the first batch\n",
    "for batch in train_loader:\n",
    "    images, labels = batch\n",
    "    print(f\"Batch size: {images.shape}, Labels: {labels.shape}\")\n",
    "    break\n",
    "# Example: Check the first batch\n",
    "for batch in test_loader:\n",
    "    images, labels = batch\n",
    "    print(f\"Batch size: {images.shape}, Labels: {labels.shape}\")\n",
    "    break"
   ]
  },
  {
   "cell_type": "code",
   "execution_count": 12,
   "id": "fed96bbf-bdec-4491-b486-1567c3743339",
   "metadata": {},
   "outputs": [],
   "source": [
    "# Cell 3: Define the neural network\n",
    "\n",
    "# Define a feedforward network for classification\n",
    "class SimpleNN(nn.Module):\n",
    "    def __init__(self, input_size, hidden_size, num_classes):\n",
    "        super(SimpleNN, self).__init__()\n",
    "        self.fc1 = nn.Linear(input_size, hidden_size)  # First fully connected layer\n",
    "        self.relu = nn.ReLU()  # ReLU activation\n",
    "        self.fc2 = nn.Linear(hidden_size, num_classes)  # Output layer for classification\n",
    "\n",
    "    def forward(self, x):\n",
    "        x = self.fc1(x)  # First layer\n",
    "        x = self.relu(x)  # Activation\n",
    "        x = self.fc2(x)  # Output layer\n",
    "        return x\n",
    "\n",
    "# Initialize the model\n",
    "input_size = 28 * 28  # 784 input features (flattened image)\n",
    "hidden_size = 128  # Number of neurons in the hidden layer\n",
    "num_classes = 10  # 10 classes for Fashion MNIST"
   ]
  },
  {
   "cell_type": "code",
   "execution_count": 13,
   "id": "3b4bb09e-03e2-4005-be42-c5e2d81c97f3",
   "metadata": {},
   "outputs": [
    {
     "name": "stdout",
     "output_type": "stream",
     "text": [
      "SimpleNN(\n",
      "  (fc1): Linear(in_features=784, out_features=128, bias=True)\n",
      "  (relu): ReLU()\n",
      "  (fc2): Linear(in_features=128, out_features=10, bias=True)\n",
      ")\n"
     ]
    }
   ],
   "source": [
    "model = SimpleNN(input_size, hidden_size, num_classes)\n",
    "\n",
    "# Print the model architecture\n",
    "print(model)"
   ]
  },
  {
   "cell_type": "code",
   "execution_count": 14,
   "id": "e91b48df-879a-4318-b7ab-4772d77a47fb",
   "metadata": {},
   "outputs": [],
   "source": [
    "# Cell 4: Define hyperparameters\n",
    "learning_rate = 0.001\n",
    "num_epochs = 10\n",
    "batch_size = 64\n",
    "\n",
    "# Define the loss function and optimizer\n",
    "criterion = nn.CrossEntropyLoss()  # Cross-entropy loss for multi-class classification\n",
    "optimizer = torch.optim.Adam(model.parameters(), lr=learning_rate)\n"
   ]
  },
  {
   "cell_type": "markdown",
   "id": "4f7c6c8b-58c8-45bd-8d61-cde8ccf9fa0a",
   "metadata": {},
   "source": [
    "### for later!"
   ]
  },
  {
   "cell_type": "code",
   "execution_count": 15,
   "id": "1832696a-d277-4eac-9397-67deeb7e8ec6",
   "metadata": {},
   "outputs": [],
   "source": [
    "# device = (\n",
    "#     \"cuda\"\n",
    "#     if torch.cuda.is_available()\n",
    "#     else \"mps\"\n",
    "#     if torch.backends.mps.is_available()\n",
    "#     else \"cpu\"\n",
    "# )\n",
    "# model.to(\"cpu\")\n",
    "# print(f\"Using {device} device\")\n"
   ]
  },
  {
   "cell_type": "markdown",
   "id": "34623666-a418-4165-99db-f899cb05ad8d",
   "metadata": {},
   "source": [
    "## Model Training"
   ]
  },
  {
   "cell_type": "code",
   "execution_count": 16,
   "id": "a7f4d01e-598e-48af-a60d-fd467cacfe41",
   "metadata": {},
   "outputs": [
    {
     "name": "stdout",
     "output_type": "stream",
     "text": [
      "Epoch [1/10], Loss: 0.5513\n",
      "Epoch [2/10], Loss: 0.4027\n",
      "Epoch [3/10], Loss: 0.3595\n",
      "Epoch [4/10], Loss: 0.3311\n",
      "Epoch [5/10], Loss: 0.3109\n",
      "Epoch [6/10], Loss: 0.2966\n",
      "Epoch [7/10], Loss: 0.2831\n",
      "Epoch [8/10], Loss: 0.2731\n",
      "Epoch [9/10], Loss: 0.2618\n",
      "Epoch [10/10], Loss: 0.2521\n"
     ]
    }
   ],
   "source": [
    "# Training the model\n",
    "for epoch in range(num_epochs):\n",
    "    model.train()  # Set the model to training mode\n",
    "    total_loss = 0\n",
    "\n",
    "    for images, labels in train_loader:\n",
    "        # Forward pass\n",
    "        outputs = model(images)\n",
    "        loss = criterion(outputs, labels)\n",
    "\n",
    "        # Backward pass\n",
    "        optimizer.zero_grad()  # Clear previous gradients\n",
    "        loss.backward()  # Compute gradients\n",
    "        optimizer.step()  # Update weights\n",
    "\n",
    "        total_loss += loss.item()\n",
    "\n",
    "    print(f\"Epoch [{epoch+1}/{num_epochs}], Loss: {total_loss/len(train_loader):.4f}\")\n"
   ]
  },
  {
   "cell_type": "markdown",
   "id": "23975eea-fb46-4886-bd99-40a1d87806b1",
   "metadata": {},
   "source": [
    "## Saving and loading a model"
   ]
  },
  {
   "cell_type": "code",
   "execution_count": 17,
   "id": "b476dab9-c164-4b55-af0a-0c1781d4468c",
   "metadata": {},
   "outputs": [
    {
     "name": "stdout",
     "output_type": "stream",
     "text": [
      "Model saved as 'fashion_mnist_model.pth'\n"
     ]
    }
   ],
   "source": [
    "# Save the model after training\n",
    "torch.save(model.state_dict(), \"fashion_mnist_model.pth\")\n",
    "print(\"Model saved as 'fashion_mnist_model.pth'\")\n"
   ]
  },
  {
   "cell_type": "code",
   "execution_count": 18,
   "id": "49c6f1ff-1597-4c6d-aa9b-ae2f591f7dc9",
   "metadata": {},
   "outputs": [
    {
     "name": "stdout",
     "output_type": "stream",
     "text": [
      "Model loaded and ready for inference.\n"
     ]
    },
    {
     "name": "stderr",
     "output_type": "stream",
     "text": [
      "/var/folders/31/vhwm53rj4tnfvv9lgq9m3x5w0000gn/T/ipykernel_4785/1647720009.py:3: FutureWarning: You are using `torch.load` with `weights_only=False` (the current default value), which uses the default pickle module implicitly. It is possible to construct malicious pickle data which will execute arbitrary code during unpickling (See https://github.com/pytorch/pytorch/blob/main/SECURITY.md#untrusted-models for more details). In a future release, the default value for `weights_only` will be flipped to `True`. This limits the functions that could be executed during unpickling. Arbitrary objects will no longer be allowed to be loaded via this mode unless they are explicitly allowlisted by the user via `torch.serialization.add_safe_globals`. We recommend you start setting `weights_only=True` for any use case where you don't have full control of the loaded file. Please open an issue on GitHub for any issues related to this experimental feature.\n",
      "  model.load_state_dict(torch.load(\"fashion_mnist_model.pth\"))\n"
     ]
    }
   ],
   "source": [
    "# Load the saved model for inference\n",
    "model = SimpleNN(input_size, hidden_size, num_classes)  # Reinitialize the model structure\n",
    "model.load_state_dict(torch.load(\"fashion_mnist_model.pth\"))\n",
    "model.eval()  # Set the model to evaluation mode\n",
    "print(\"Model loaded and ready for inference.\")\n"
   ]
  },
  {
   "cell_type": "code",
   "execution_count": null,
   "id": "f560b056-d02f-4806-83d7-c1758ec17cb6",
   "metadata": {},
   "outputs": [],
   "source": []
  },
  {
   "cell_type": "code",
   "execution_count": 19,
   "id": "5b93f4aa-dd26-40a1-b787-bde14fdeae74",
   "metadata": {},
   "outputs": [
    {
     "name": "stdout",
     "output_type": "stream",
     "text": [
      "Accuracy: 91.69%\n"
     ]
    }
   ],
   "source": [
    "# Cell 6: Inference loop\n",
    "# Running inference\n",
    "model.eval()  # Set the model to evaluation mode (disables dropout, etc.)\n",
    "correct = 0\n",
    "total = 0\n",
    "\n",
    "with torch.no_grad():  # Disable gradient computation for efficiency\n",
    "    for images, labels in test_loader:\n",
    "        outputs = model(images)\n",
    "        _, predicted = torch.max(outputs, 1)  # Get the predicted class\n",
    "        total += labels.size(0)\n",
    "        correct += (predicted == labels).sum().item()\n",
    "\n",
    "accuracy = correct / total * 100\n",
    "print(f\"Accuracy: {accuracy:.2f}%\")\n"
   ]
  },
  {
   "cell_type": "code",
   "execution_count": null,
   "id": "ee62328d-402a-4070-9291-755c2a73909b",
   "metadata": {},
   "outputs": [],
   "source": []
  },
  {
   "cell_type": "code",
   "execution_count": 20,
   "id": "19e6d898-a518-4a8c-aec7-ba27404a59a4",
   "metadata": {},
   "outputs": [
    {
     "data": {
      "image/png": "[encoded data removed]",
      "text/plain": [
       "<Figure size 640x480 with 2 Axes>"
      ]
     },
     "metadata": {},
     "output_type": "display_data"
    }
   ],
   "source": [
    "\n",
    "# Generate predictions for the entire dataset\n",
    "all_labels = []\n",
    "all_predictions = []\n",
    "\n",
    "model.eval()\n",
    "with torch.no_grad():\n",
    "    for images, labels in test_loader:\n",
    "        outputs = model(images)\n",
    "        _, predicted = torch.max(outputs, 1)\n",
    "        all_labels.extend(labels.numpy())\n",
    "        all_predictions.extend(predicted.numpy())\n",
    "\n",
    "# Compute and plot the confusion matrix\n",
    "cm = confusion_matrix(all_labels, all_predictions)\n",
    "disp = ConfusionMatrixDisplay(confusion_matrix=cm, display_labels=list(range(10)))\n",
    "disp.plot(cmap=plt.cm.Blues)\n",
    "plt.title(\"Confusion Matrix\")\n",
    "plt.show()\n"
   ]
  },
  {
   "cell_type": "markdown",
   "id": "e79eadfc-1464-4321-9daa-a3203e84e0dc",
   "metadata": {},
   "source": [
    "### Inspect a row of data"
   ]
  },
  {
   "cell_type": "code",
   "execution_count": 21,
   "id": "ef629ac2-a678-424f-9433-b93215267a92",
   "metadata": {},
   "outputs": [
    {
     "name": "stdout",
     "output_type": "stream",
     "text": [
      "Logits: [[  0.01911412  -2.3660183   -3.0169697    1.05239     -2.7770023\n",
      "  -12.082011    -0.9452366  -11.952603    -3.148651    -8.543452  ]]\n",
      "Softmax Probabilities: [[2.2548249e-01 2.0761702e-02 1.0828252e-02 6.3366371e-01 1.3764957e-02\n",
      "  1.2521629e-06 8.5960843e-02 1.4251546e-06 9.4922688e-03 4.3096050e-05]]\n",
      "Correct Label: 3\n",
      "Predicted Label: 3\n"
     ]
    },
    {
     "data": {
      "text/plain": [
       "3"
      ]
     },
     "execution_count": 21,
     "metadata": {},
     "output_type": "execute_result"
    }
   ],
   "source": [
    "# Helper function to run inference on a single row of data\n",
    "def run_inference_on_row(row, label, model):\n",
    "    # Convert the row into a tensor\n",
    "    row_tensor = torch.tensor(row.values, dtype=torch.float32).unsqueeze(0)  # Add batch dimension\n",
    "\n",
    "    # Perform inference\n",
    "    with torch.no_grad():\n",
    "        logits = model(row_tensor)  # Raw logits\n",
    "        probabilities = torch.softmax(logits, dim=1)  # Apply softmax to convert logits to probabilities\n",
    "\n",
    "    # Get predicted label\n",
    "    predicted_label = torch.argmax(probabilities).item()\n",
    "\n",
    "    # Print details\n",
    "    print(\"Logits:\", logits.numpy())\n",
    "    print(\"Softmax Probabilities:\", probabilities.numpy())\n",
    "    print(\"Correct Label:\", label)\n",
    "    print(\"Predicted Label:\", predicted_label)\n",
    "\n",
    "    return predicted_label\n",
    "\n",
    "# Example: Run inference on a single row\n",
    "example_row = test_df.iloc[10, :-1]  # 10th row (pixels only)\n",
    "example_label = test_df.iloc[10, -1]  # Corresponding label\n",
    "run_inference_on_row(example_row, example_label, model)"
   ]
  },
  {
   "cell_type": "code",
   "execution_count": 22,
   "id": "2a60cd76-3af6-4882-b79e-0d6a194ef570",
   "metadata": {},
   "outputs": [],
   "source": [
    "### Display examples of correct and incorrect predictions"
   ]
  },
  {
   "cell_type": "code",
   "execution_count": 23,
   "id": "187fcc0c-4760-4832-8ee9-ee1c4b0c6bed",
   "metadata": {},
   "outputs": [],
   "source": [
    "\n",
    "def display_examples(data_df, model, correct=True, num_examples=3):\n",
    "    count = 0\n",
    "    plt.figure(figsize=(10, 5))\n",
    "\n",
    "    for idx, row in data_df.iterrows():\n",
    "        if count >= num_examples:\n",
    "            break\n",
    "\n",
    "        # Extract image and label\n",
    "        image_row = row[:-1]\n",
    "        true_label = row[-1]\n",
    "\n",
    "        # Run inference\n",
    "        predicted_label = run_inference_on_row(image_row, true_label, model)\n",
    "\n",
    "        # Check if prediction is correct\n",
    "        if (predicted_label == true_label and correct) or (predicted_label != true_label and not correct):\n",
    "            # Plot the image\n",
    "            plt.subplot(1, num_examples, count + 1)\n",
    "            image = image_row.values.reshape(28, 28)  # Reshape to 28x28\n",
    "            plt.imshow(image, cmap=\"gray\")\n",
    "            plt.title(f\"True: {true_label}, Pred: {predicted_label}\")\n",
    "            plt.axis(\"off\")\n",
    "            count += 1\n",
    "\n",
    "\n",
    "\n",
    "\n"
   ]
  },
  {
   "cell_type": "code",
   "execution_count": 24,
   "id": "7a882db3-f783-431d-b340-405764002091",
   "metadata": {},
   "outputs": [
    {
     "name": "stdout",
     "output_type": "stream",
     "text": [
      "Examples of Correct Predictions:\n",
      "Logits: [[-15.905048  -13.587971  -21.51313   -18.764904  -21.684397   -0.3611023\n",
      "  -11.7577305   4.927731  -10.070902   10.7656355]]\n",
      "Softmax Probabilities: [[2.60494382e-12 2.64297074e-11 9.55518979e-15 1.49203431e-13\n",
      "  8.05118962e-15 1.46706325e-05 1.64799702e-10 2.90643005e-03\n",
      "  8.90300833e-10 9.97079015e-01]]\n",
      "Correct Label: 9.0\n",
      "Predicted Label: 9\n",
      "Logits: [[  9.57539   -17.16758    -1.6140934  -6.975124  -12.71591   -16.439554\n",
      "    2.5284762 -27.10087   -13.016141  -18.206823 ]]\n",
      "Softmax Probabilities: [[9.99116719e-01 2.42824294e-12 1.38065525e-05 6.48364491e-08\n",
      "  2.08270470e-10 5.02886057e-12 8.69321695e-04 1.17846873e-16\n",
      "  1.54255067e-10 8.58923230e-13]]\n",
      "Correct Label: 0.0\n",
      "Predicted Label: 0\n",
      "Logits: [[  0.31499618  -2.2849684   -2.847306     1.1141616   -3.1404228\n",
      "  -10.255914     0.06549075 -13.838926    -8.185102    -8.84164   ]]\n",
      "Softmax Probabilities: [[2.4088350e-01 1.7891917e-02 1.0196160e-02 5.3564888e-01 7.6056737e-03\n",
      "  6.1790156e-06 1.8769306e-01 1.7172626e-07 4.9007343e-05 2.5417354e-05]]\n",
      "Correct Label: 0.0\n",
      "Predicted Label: 3\n",
      "Logits: [[  0.24329455  -4.031718    -4.175406     4.68223     -8.926423\n",
      "  -11.183237     1.284469   -14.651655    -9.6305065  -11.935634  ]]\n",
      "Softmax Probabilities: [[1.12938965e-02 1.57119342e-04 1.36090137e-04 9.56420481e-01\n",
      "  1.17621300e-06 1.23130050e-07 3.19904312e-02 3.83750720e-09\n",
      "  5.81709799e-07 5.80233497e-08]]\n",
      "Correct Label: 3.0\n",
      "Predicted Label: 3\n"
     ]
    },
    {
     "name": "stderr",
     "output_type": "stream",
     "text": [
      "/var/folders/31/vhwm53rj4tnfvv9lgq9m3x5w0000gn/T/ipykernel_4785/3303586380.py:11: FutureWarning: Series.__getitem__ treating keys as positions is deprecated. In a future version, integer keys will always be treated as labels (consistent with DataFrame behavior). To access a value by position, use `ser.iloc[pos]`\n",
      "  true_label = row[-1]\n"
     ]
    },
    {
     "data": {
      "image/png": "[encoded data removed]",
      "text/plain": [
       "<Figure size 1000x500 with 3 Axes>"
      ]
     },
     "metadata": {},
     "output_type": "display_data"
    }
   ],
   "source": [
    "# Example: Show 3 correct predictions\n",
    "print(\"Examples of Correct Predictions:\")\n",
    "display_examples(train_df, model, correct=True, num_examples=3)\n",
    "plt.show()"
   ]
  },
  {
   "cell_type": "code",
   "execution_count": 25,
   "id": "eb4bfd43-bb28-49a7-a7bc-1d4e9a8c65a2",
   "metadata": {},
   "outputs": [
    {
     "name": "stderr",
     "output_type": "stream",
     "text": [
      "/var/folders/31/vhwm53rj4tnfvv9lgq9m3x5w0000gn/T/ipykernel_4785/3303586380.py:11: FutureWarning: Series.__getitem__ treating keys as positions is deprecated. In a future version, integer keys will always be treated as labels (consistent with DataFrame behavior). To access a value by position, use `ser.iloc[pos]`\n",
      "  true_label = row[-1]\n"
     ]
    },
    {
     "name": "stdout",
     "output_type": "stream",
     "text": [
      "Examples of Incorrect Predictions:\n",
      "Logits: [[-15.905048  -13.587971  -21.51313   -18.764904  -21.684397   -0.3611023\n",
      "  -11.7577305   4.927731  -10.070902   10.7656355]]\n",
      "Softmax Probabilities: [[2.60494382e-12 2.64297074e-11 9.55518979e-15 1.49203431e-13\n",
      "  8.05118962e-15 1.46706325e-05 1.64799702e-10 2.90643005e-03\n",
      "  8.90300833e-10 9.97079015e-01]]\n",
      "Correct Label: 9.0\n",
      "Predicted Label: 9\n",
      "Logits: [[  9.57539   -17.16758    -1.6140934  -6.975124  -12.71591   -16.439554\n",
      "    2.5284762 -27.10087   -13.016141  -18.206823 ]]\n",
      "Softmax Probabilities: [[9.99116719e-01 2.42824294e-12 1.38065525e-05 6.48364491e-08\n",
      "  2.08270470e-10 5.02886057e-12 8.69321695e-04 1.17846873e-16\n",
      "  1.54255067e-10 8.58923230e-13]]\n",
      "Correct Label: 0.0\n",
      "Predicted Label: 0\n",
      "Logits: [[  0.31499618  -2.2849684   -2.847306     1.1141616   -3.1404228\n",
      "  -10.255914     0.06549075 -13.838926    -8.185102    -8.84164   ]]\n",
      "Softmax Probabilities: [[2.4088350e-01 1.7891917e-02 1.0196160e-02 5.3564888e-01 7.6056737e-03\n",
      "  6.1790156e-06 1.8769306e-01 1.7172626e-07 4.9007343e-05 2.5417354e-05]]\n",
      "Correct Label: 0.0\n",
      "Predicted Label: 3\n",
      "Logits: [[  0.24329455  -4.031718    -4.175406     4.68223     -8.926423\n",
      "  -11.183237     1.284469   -14.651655    -9.6305065  -11.935634  ]]\n",
      "Softmax Probabilities: [[1.12938965e-02 1.57119342e-04 1.36090137e-04 9.56420481e-01\n",
      "  1.17621300e-06 1.23130050e-07 3.19904312e-02 3.83750720e-09\n",
      "  5.81709799e-07 5.80233497e-08]]\n",
      "Correct Label: 3.0\n",
      "Predicted Label: 3\n",
      "Logits: [[  0.998902     0.6354722   -4.1254263    3.0346317   -5.295744\n",
      "  -15.050451     0.05485009 -16.058271    -8.557118   -15.731768  ]]\n",
      "Softmax Probabilities: [[1.0256368e-01 7.1311243e-02 6.1027566e-04 7.8541601e-01 1.8934924e-04\n",
      "  1.0986212e-08 3.9902218e-02 4.0101189e-09 7.2588300e-06 5.5584799e-09]]\n",
      "Correct Label: 0.0\n",
      "Predicted Label: 3\n",
      "Logits: [[ -1.9016863   -8.212626     8.465612    -7.53826      0.78021944\n",
      "  -15.102631     0.6526204  -19.15676     -9.494667   -18.820566  ]]\n",
      "Softmax Probabilities: [[3.1415970e-05 5.7061683e-08 9.9910527e-01 1.1199999e-07 4.5907911e-04\n",
      "  5.8083580e-11 4.0408422e-04 1.0077845e-12 1.5832919e-08 1.4105045e-12]]\n",
      "Correct Label: 2.0\n",
      "Predicted Label: 2\n",
      "Logits: [[-10.549919   -8.34608    -8.59067   -10.583391   -8.3932295  -1.4436343\n",
      "   -7.91593     5.7712555  -3.880784   -1.468424 ]]\n",
      "Softmax Probabilities: [[8.1497447e-08 7.3834480e-07 5.7814293e-07 7.8814708e-08 7.0434004e-07\n",
      "  7.3443493e-04 1.1351964e-06 9.9848157e-01 6.4196676e-05 7.1645225e-04]]\n",
      "Correct Label: 7.0\n",
      "Predicted Label: 7\n",
      "Logits: [[ -3.315651   -3.3730583   4.4688845 -11.270642    4.852526  -20.1095\n",
      "    1.1203824 -18.362535   -4.490922  -15.14878  ]]\n",
      "Softmax Probabilities: [[1.6620274e-04 1.5693017e-04 3.9940980e-01 5.8321529e-08 5.8618164e-01\n",
      "  8.4559382e-12 1.4034040e-02 4.8513124e-11 5.1312600e-05 1.2066329e-09]]\n",
      "Correct Label: 2.0\n",
      "Predicted Label: 4\n"
     ]
    },
    {
     "data": {
      "image/png": "[encoded data removed]",
      "text/plain": [
       "<Figure size 1000x500 with 3 Axes>"
      ]
     },
     "metadata": {},
     "output_type": "display_data"
    }
   ],
   "source": [
    "# Example: Show 3 incorrect predictions\n",
    "print(\"Examples of Incorrect Predictions:\")\n",
    "display_examples(train_df, model, correct=False, num_examples=3)\n",
    "plt.show()"
   ]
  },
  {
   "cell_type": "code",
   "execution_count": null,
   "id": "34d5a1dd-084d-4245-84ed-a32898f82d03",
   "metadata": {},
   "outputs": [],
   "source": []
  }
 ],
 "metadata": {
  "kernelspec": {
   "display_name": "Python 3 (ipykernel)",
   "language": "python",
   "name": "python3"
  },
  "language_info": {
   "codemirror_mode": {
    "name": "ipython",
    "version": 3
   },
   "file_extension": ".py",
   "mimetype": "text/x-python",
   "name": "python",
   "nbconvert_exporter": "python",
   "pygments_lexer": "ipython3",
   "version": "3.11.9"
  }
 },
 "nbformat": 4,
 "nbformat_minor": 5
}
