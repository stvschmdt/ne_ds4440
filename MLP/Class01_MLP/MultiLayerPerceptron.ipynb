{
  "cells": [
    {
      "cell_type": "markdown",
      "metadata": {
        "id": "DHDMQyA1Bs-i"
      },
      "source": [
        "# DS4440 - Practical Neural Networks\n",
        "## Week 2 : Image Classification using Multi Layer Perceptron\n",
        "\n",
        "___\n",
        "**Instructor** : Prof. Steve Schmidt <br/>\n",
        "**Teaching Assistants** : Vishwajeet Hogale (hogale.v@northeastern.edu) | Chaitanya Agarwal (agarwal.cha@northeastern.edu)"
      ]
    },
    {
      "cell_type": "markdown",
      "metadata": {
        "id": "5ir5849DYWXs"
      },
      "source": [
        "## Problem Statement\n",
        "\n",
        "Imagine we are working with the Fashion MNIST dataset, a collection of grayscale images representing various fashion items such as shirts, shoes, and bags. By analyzing features such as pixel intensity and patterns in the images, we can uncover insights into how models process and classify visual data.\n",
        "<br/>\n",
        "\n",
        "**Our goal is to take an image as an input and predict the class of the fashion item from the dataset.**\n",
        "<br/>\n",
        "We will demonstrate **both**:\n",
        "- **Binary classification** (classes 0 vs. 1, i.e. T-shirt vs. Trouser)\n",
        "- **Multi-class classification** (all 10 classes)\n",
        "<br/>\n",
        "To accomplish this goal, we will use the **Multi Layer Perceptron**.\n",
        "\n",
        "<br/>\n",
        "\n",
        "\n",
        "In this notebook, we'll follow the **six** key sections below:\n",
        "1. **Data Gathering**\n",
        "2. **Data Wrangling**\n",
        "3. **Feature Understanding & Preprocessing**\n",
        "4. **Model Building**\n",
        "5. **Model Validation**\n",
        "6. **Results and Conclusions**\n",
        "\n",
        "Let's dive in and explore how neural networks can tackle this exciting problem!"
      ]
    },
    {
      "cell_type": "markdown",
      "metadata": {
        "id": "cL7mZcKvkWiy"
      },
      "source": [
        "## 0. Setup and Load libraries"
      ]
    },
    {
      "cell_type": "markdown",
      "metadata": {
        "id": "MrYBlWWyF7u-"
      },
      "source": [
        "The below cell helps you download all the necessary libraries or packages required to run this notebook without running into any errors."
      ]
    },
    {
      "cell_type": "code",
      "execution_count": 1,
      "metadata": {},
      "outputs": [],
      "source": [
        "import os\n",
        "import sys\n",
        "parent_dir = os.path.abspath(os.path.join(os.getcwd(), \"../../\"))\n",
        "sys.path.append(parent_dir)"
      ]
    },
    {
      "cell_type": "code",
      "execution_count": 2,
      "metadata": {
        "id": "Aaa1u1vJBs-k"
      },
      "outputs": [
        {
          "name": "stdout",
          "output_type": "stream",
          "text": [
            "Requirement already satisfied: pandas in /opt/anaconda3/lib/python3.11/site-packages (from -r ../../requirements.txt (line 1)) (2.2.2)\n",
            "Requirement already satisfied: numpy in /opt/anaconda3/lib/python3.11/site-packages (from -r ../../requirements.txt (line 2)) (1.26.4)\n",
            "Requirement already satisfied: torch in /opt/anaconda3/lib/python3.11/site-packages (from -r ../../requirements.txt (line 3)) (2.4.1)\n",
            "Requirement already satisfied: scikit-learn in /opt/anaconda3/lib/python3.11/site-packages (from -r ../../requirements.txt (line 4)) (1.5.1)\n",
            "Requirement already satisfied: matplotlib in /opt/anaconda3/lib/python3.11/site-packages (from -r ../../requirements.txt (line 5)) (3.9.2)\n",
            "Requirement already satisfied: python-dateutil>=2.8.2 in /opt/anaconda3/lib/python3.11/site-packages (from pandas->-r ../../requirements.txt (line 1)) (2.9.0.post0)\n",
            "Requirement already satisfied: pytz>=2020.1 in /opt/anaconda3/lib/python3.11/site-packages (from pandas->-r ../../requirements.txt (line 1)) (2024.1)\n",
            "Requirement already satisfied: tzdata>=2022.7 in /opt/anaconda3/lib/python3.11/site-packages (from pandas->-r ../../requirements.txt (line 1)) (2023.3)\n",
            "Requirement already satisfied: filelock in /opt/anaconda3/lib/python3.11/site-packages (from torch->-r ../../requirements.txt (line 3)) (3.13.1)\n",
            "Requirement already satisfied: typing-extensions>=4.8.0 in /opt/anaconda3/lib/python3.11/site-packages (from torch->-r ../../requirements.txt (line 3)) (4.11.0)\n",
            "Requirement already satisfied: sympy in /opt/anaconda3/lib/python3.11/site-packages (from torch->-r ../../requirements.txt (line 3)) (1.13.2)\n",
            "Requirement already satisfied: networkx in /opt/anaconda3/lib/python3.11/site-packages (from torch->-r ../../requirements.txt (line 3)) (3.3)\n",
            "Requirement already satisfied: jinja2 in /opt/anaconda3/lib/python3.11/site-packages (from torch->-r ../../requirements.txt (line 3)) (3.1.4)\n",
            "Requirement already satisfied: fsspec in /opt/anaconda3/lib/python3.11/site-packages (from torch->-r ../../requirements.txt (line 3)) (2024.6.1)\n",
            "Requirement already satisfied: scipy>=1.6.0 in /opt/anaconda3/lib/python3.11/site-packages (from scikit-learn->-r ../../requirements.txt (line 4)) (1.13.1)\n",
            "Requirement already satisfied: joblib>=1.2.0 in /opt/anaconda3/lib/python3.11/site-packages (from scikit-learn->-r ../../requirements.txt (line 4)) (1.4.2)\n",
            "Requirement already satisfied: threadpoolctl>=3.1.0 in /opt/anaconda3/lib/python3.11/site-packages (from scikit-learn->-r ../../requirements.txt (line 4)) (3.5.0)\n",
            "Requirement already satisfied: contourpy>=1.0.1 in /opt/anaconda3/lib/python3.11/site-packages (from matplotlib->-r ../../requirements.txt (line 5)) (1.2.0)\n",
            "Requirement already satisfied: cycler>=0.10 in /opt/anaconda3/lib/python3.11/site-packages (from matplotlib->-r ../../requirements.txt (line 5)) (0.11.0)\n",
            "Requirement already satisfied: fonttools>=4.22.0 in /opt/anaconda3/lib/python3.11/site-packages (from matplotlib->-r ../../requirements.txt (line 5)) (4.51.0)\n",
            "Requirement already satisfied: kiwisolver>=1.3.1 in /opt/anaconda3/lib/python3.11/site-packages (from matplotlib->-r ../../requirements.txt (line 5)) (1.4.4)\n",
            "Requirement already satisfied: packaging>=20.0 in /opt/anaconda3/lib/python3.11/site-packages (from matplotlib->-r ../../requirements.txt (line 5)) (23.2)\n",
            "Requirement already satisfied: pillow>=8 in /opt/anaconda3/lib/python3.11/site-packages (from matplotlib->-r ../../requirements.txt (line 5)) (10.4.0)\n",
            "Requirement already satisfied: pyparsing>=2.3.1 in /opt/anaconda3/lib/python3.11/site-packages (from matplotlib->-r ../../requirements.txt (line 5)) (3.1.2)\n",
            "Requirement already satisfied: six>=1.5 in /opt/anaconda3/lib/python3.11/site-packages (from python-dateutil>=2.8.2->pandas->-r ../../requirements.txt (line 1)) (1.16.0)\n",
            "Requirement already satisfied: MarkupSafe>=2.0 in /opt/anaconda3/lib/python3.11/site-packages (from jinja2->torch->-r ../../requirements.txt (line 3)) (2.1.3)\n",
            "Requirement already satisfied: mpmath<1.4,>=1.1.0 in /opt/anaconda3/lib/python3.11/site-packages (from sympy->torch->-r ../../requirements.txt (line 3)) (1.3.0)\n"
          ]
        }
      ],
      "source": [
        "! pip install -r ../../requirements.txt"
      ]
    },
    {
      "cell_type": "markdown",
      "metadata": {
        "id": "L3i02saLeFpi"
      },
      "source": [
        "## 1. Data Gathering"
      ]
    },
    {
      "cell_type": "markdown",
      "metadata": {
        "id": "Pn9U0jGrIAPr"
      },
      "source": [
        "### **About the Dataset**\n",
        "\n",
        "The Fashion MNIST dataset consists of **70,000 labeled grayscale images**, each with a resolution of **28x28 pixels and 10 distinct classes**. This structured dataset allows us to experiment with building and training models, tuning hyperparameters, and evaluating performance.\n",
        "\n",
        "\n",
        "Each training and test example is assigned to one of the following labels:\n",
        "\n",
        "0 T-shirt/top<br/>\n",
        "1 Trouser<br/>\n",
        "2 Pullover<br/>\n",
        "3 Dress<br/>\n",
        "4 Coat<br/>\n",
        "5 Sandal<br/>\n",
        "6 Shirt<br/>\n",
        "7 Sneaker<br/>\n",
        "8 Bag<br/>\n",
        "9 Ankle boot\n",
        "<br/>\n",
        "<br/>\n",
        "\n",
        "**Dataset Source**\n",
        "<br/>\n",
        "The Fashion MNIST Dataset is a very popular dataset, which is already present in the torch library. What we're going to do is that we will fetch this dataset from torch and download it in our current working directory.\n",
        "<br/><br/>\n",
        "\n",
        "**What is the below cell doing?**<br/>\n",
        "To build a model, it is very important to have a train and test split. Train split helps with training the model. And test split helps with evaluating the performance of the model. That's exactly what we've done below.\n",
        "\n",
        "- train_dataset stores training images in a directory called as data used for training the model\n",
        "- test_dataset stores testing images in a directory called as data used for evaluating the model\n",
        "\n"
      ]
    },
    {
      "cell_type": "code",
      "execution_count": 3,
      "metadata": {
        "id": "GFObfWXj3Q2v"
      },
      "outputs": [
        {
          "name": "stdout",
          "output_type": "stream",
          "text": [
            "Downloading http://fashion-mnist.s3-website.eu-central-1.amazonaws.com/train-images-idx3-ubyte.gz\n",
            "Downloading http://fashion-mnist.s3-website.eu-central-1.amazonaws.com/train-images-idx3-ubyte.gz to ./data/train/FashionMNIST/raw/train-images-idx3-ubyte.gz\n"
          ]
        },
        {
          "name": "stderr",
          "output_type": "stream",
          "text": [
            "100%|██████████| 26421880/26421880 [00:02<00:00, 10604962.01it/s]\n"
          ]
        },
        {
          "name": "stdout",
          "output_type": "stream",
          "text": [
            "Extracting ./data/train/FashionMNIST/raw/train-images-idx3-ubyte.gz to ./data/train/FashionMNIST/raw\n",
            "\n",
            "Downloading http://fashion-mnist.s3-website.eu-central-1.amazonaws.com/train-labels-idx1-ubyte.gz\n",
            "Downloading http://fashion-mnist.s3-website.eu-central-1.amazonaws.com/train-labels-idx1-ubyte.gz to ./data/train/FashionMNIST/raw/train-labels-idx1-ubyte.gz\n"
          ]
        },
        {
          "name": "stderr",
          "output_type": "stream",
          "text": [
            "100%|██████████| 29515/29515 [00:00<00:00, 324201.07it/s]\n"
          ]
        },
        {
          "name": "stdout",
          "output_type": "stream",
          "text": [
            "Extracting ./data/train/FashionMNIST/raw/train-labels-idx1-ubyte.gz to ./data/train/FashionMNIST/raw\n",
            "\n",
            "Downloading http://fashion-mnist.s3-website.eu-central-1.amazonaws.com/t10k-images-idx3-ubyte.gz\n",
            "Downloading http://fashion-mnist.s3-website.eu-central-1.amazonaws.com/t10k-images-idx3-ubyte.gz to ./data/train/FashionMNIST/raw/t10k-images-idx3-ubyte.gz\n"
          ]
        },
        {
          "name": "stderr",
          "output_type": "stream",
          "text": [
            "100%|██████████| 4422102/4422102 [00:00<00:00, 5383628.76it/s]\n"
          ]
        },
        {
          "name": "stdout",
          "output_type": "stream",
          "text": [
            "Extracting ./data/train/FashionMNIST/raw/t10k-images-idx3-ubyte.gz to ./data/train/FashionMNIST/raw\n",
            "\n",
            "Downloading http://fashion-mnist.s3-website.eu-central-1.amazonaws.com/t10k-labels-idx1-ubyte.gz\n",
            "Downloading http://fashion-mnist.s3-website.eu-central-1.amazonaws.com/t10k-labels-idx1-ubyte.gz to ./data/train/FashionMNIST/raw/t10k-labels-idx1-ubyte.gz\n"
          ]
        },
        {
          "name": "stderr",
          "output_type": "stream",
          "text": [
            "100%|██████████| 5148/5148 [00:00<00:00, 6063543.10it/s]\n"
          ]
        },
        {
          "name": "stdout",
          "output_type": "stream",
          "text": [
            "Extracting ./data/train/FashionMNIST/raw/t10k-labels-idx1-ubyte.gz to ./data/train/FashionMNIST/raw\n",
            "\n",
            "Downloading http://fashion-mnist.s3-website.eu-central-1.amazonaws.com/train-images-idx3-ubyte.gz\n",
            "Downloading http://fashion-mnist.s3-website.eu-central-1.amazonaws.com/train-images-idx3-ubyte.gz to ./data/test/FashionMNIST/raw/train-images-idx3-ubyte.gz\n"
          ]
        },
        {
          "name": "stderr",
          "output_type": "stream",
          "text": [
            "100%|██████████| 26421880/26421880 [00:09<00:00, 2843189.87it/s]\n"
          ]
        },
        {
          "name": "stdout",
          "output_type": "stream",
          "text": [
            "Extracting ./data/test/FashionMNIST/raw/train-images-idx3-ubyte.gz to ./data/test/FashionMNIST/raw\n",
            "\n",
            "Downloading http://fashion-mnist.s3-website.eu-central-1.amazonaws.com/train-labels-idx1-ubyte.gz\n",
            "Downloading http://fashion-mnist.s3-website.eu-central-1.amazonaws.com/train-labels-idx1-ubyte.gz to ./data/test/FashionMNIST/raw/train-labels-idx1-ubyte.gz\n"
          ]
        },
        {
          "name": "stderr",
          "output_type": "stream",
          "text": [
            "100%|██████████| 29515/29515 [00:00<00:00, 313170.09it/s]\n"
          ]
        },
        {
          "name": "stdout",
          "output_type": "stream",
          "text": [
            "Extracting ./data/test/FashionMNIST/raw/train-labels-idx1-ubyte.gz to ./data/test/FashionMNIST/raw\n",
            "\n",
            "Downloading http://fashion-mnist.s3-website.eu-central-1.amazonaws.com/t10k-images-idx3-ubyte.gz\n",
            "Downloading http://fashion-mnist.s3-website.eu-central-1.amazonaws.com/t10k-images-idx3-ubyte.gz to ./data/test/FashionMNIST/raw/t10k-images-idx3-ubyte.gz\n"
          ]
        },
        {
          "name": "stderr",
          "output_type": "stream",
          "text": [
            "100%|██████████| 4422102/4422102 [00:01<00:00, 4033527.58it/s]\n"
          ]
        },
        {
          "name": "stdout",
          "output_type": "stream",
          "text": [
            "Extracting ./data/test/FashionMNIST/raw/t10k-images-idx3-ubyte.gz to ./data/test/FashionMNIST/raw\n",
            "\n",
            "Downloading http://fashion-mnist.s3-website.eu-central-1.amazonaws.com/t10k-labels-idx1-ubyte.gz\n",
            "Downloading http://fashion-mnist.s3-website.eu-central-1.amazonaws.com/t10k-labels-idx1-ubyte.gz to ./data/test/FashionMNIST/raw/t10k-labels-idx1-ubyte.gz\n"
          ]
        },
        {
          "name": "stderr",
          "output_type": "stream",
          "text": [
            "100%|██████████| 5148/5148 [00:00<00:00, 3258719.74it/s]"
          ]
        },
        {
          "name": "stdout",
          "output_type": "stream",
          "text": [
            "Extracting ./data/test/FashionMNIST/raw/t10k-labels-idx1-ubyte.gz to ./data/test/FashionMNIST/raw\n",
            "\n"
          ]
        },
        {
          "name": "stderr",
          "output_type": "stream",
          "text": [
            "\n"
          ]
        }
      ],
      "source": [
        "import torch\n",
        "from torchvision import datasets, transforms\n",
        "\n",
        "# Load the Fashion MNIST training and test datasets from torch\n",
        "train_dataset = datasets.FashionMNIST(\n",
        "    root='./data/train',  # Directory to download the dataset\n",
        "    train=True,  # Load the training set\n",
        "    download=True\n",
        "\n",
        ")\n",
        "\n",
        "test_dataset = datasets.FashionMNIST(\n",
        "    root='./data/test',\n",
        "    train=False,  # Load the test set\n",
        "    download=True\n",
        ")"
      ]
    },
    {
      "cell_type": "markdown",
      "metadata": {
        "id": "n3lbt3O8U9U0"
      },
      "source": [
        "### Visualize an image from the training dataset"
      ]
    },
    {
      "cell_type": "markdown",
      "metadata": {
        "id": "a-e3KP3AWHVk"
      },
      "source": [
        "Each image belongs to a fashion item that is given a class label.\n",
        "\n",
        "In this instance,<br/>\n",
        "**Ankle boot is represented by the class label 9.**\n",
        "\n"
      ]
    },
    {
      "cell_type": "code",
      "execution_count": 4,
      "metadata": {
        "colab": {
          "base_uri": "https://localhost:8080/"
        },
        "id": "FAuHtO2i6-S2",
        "outputId": "d9ff5ca4-aa50-468c-e3f3-ecd4ac14468c"
      },
      "outputs": [
        {
          "data": {
            "text/plain": [
              "(<PIL.Image.Image image mode=L size=28x28>, 9)"
            ]
          },
          "execution_count": 4,
          "metadata": {},
          "output_type": "execute_result"
        }
      ],
      "source": [
        "image, label = train_dataset[0]  # Access the first image and label\n",
        "image, label"
      ]
    },
    {
      "cell_type": "markdown",
      "metadata": {
        "id": "gk18PGOzWTsK"
      },
      "source": [
        "To visualize the image, it should be converted to a numpy array so that visualization library can help display the image."
      ]
    },
    {
      "cell_type": "code",
      "execution_count": 5,
      "metadata": {
        "id": "SLgOcGiRWF26"
      },
      "outputs": [],
      "source": [
        "import numpy as np\n",
        "image = np.array(image)"
      ]
    },
    {
      "cell_type": "markdown",
      "metadata": {
        "id": "kJjKpB_4WmAR"
      },
      "source": [
        "Display the image"
      ]
    },
    {
      "cell_type": "code",
      "execution_count": 6,
      "metadata": {
        "colab": {
          "base_uri": "https://localhost:8080/",
          "height": 428
        },
        "id": "MuS-PofUWh-3",
        "outputId": "e9430fbb-5844-4c65-d489-c7286e775ff2"
      },
      "outputs": [
        {
          "data": {
            "image/png": "[encoded data removed]",
            "text/plain": [
              "<Figure size 640x480 with 1 Axes>"
            ]
          },
          "metadata": {},
          "output_type": "display_data"
        }
      ],
      "source": [
        "import matplotlib.pyplot as plt\n",
        "\n",
        "plt.imshow(image, cmap='gray')\n",
        "plt.title(f\"Label: {label} : Shoe\")\n",
        "plt.axis('off')  # Turn off axes for clarity\n",
        "plt.show()"
      ]
    },
    {
      "cell_type": "markdown",
      "metadata": {
        "id": "CHPF3B1rg8Zh"
      },
      "source": [
        "## 2. Data Wrangling"
      ]
    },
    {
      "cell_type": "markdown",
      "metadata": {
        "id": "HGKMYTAlhELB"
      },
      "source": [
        "### Check the size of the training dataset"
      ]
    },
    {
      "cell_type": "code",
      "execution_count": 7,
      "metadata": {
        "colab": {
          "base_uri": "https://localhost:8080/"
        },
        "id": "2ppjGGRzfyJH",
        "outputId": "10884508-20e2-4b9f-b406-5f6a399dcf1e"
      },
      "outputs": [
        {
          "name": "stdout",
          "output_type": "stream",
          "text": [
            "The training dataset has 60000 images\n",
            "The testing dataset has 10000 images\n"
          ]
        }
      ],
      "source": [
        "num_images_train = len(train_dataset)\n",
        "num_images_test = len(test_dataset)\n",
        "print(f\"The training dataset has {num_images_train} images\")\n",
        "print(f\"The testing dataset has {num_images_test} images\")"
      ]
    },
    {
      "cell_type": "markdown",
      "metadata": {
        "id": "XKyrO7d_j0SP"
      },
      "source": [
        "### Explore the class distribution in all the fashion class labels"
      ]
    },
    {
      "cell_type": "code",
      "execution_count": 8,
      "metadata": {
        "colab": {
          "base_uri": "https://localhost:8080/",
          "height": 564
        },
        "id": "gOUNf5VLjBcK",
        "outputId": "c425fb16-704f-40fe-de3f-8a830449a50a"
      },
      "outputs": [
        {
          "data": {
            "image/png": "[encoded data removed]",
            "text/plain": [
              "<Figure size 1000x600 with 1 Axes>"
            ]
          },
          "metadata": {},
          "output_type": "display_data"
        }
      ],
      "source": [
        "# Get the labels from the dataset\n",
        "labels = np.array(train_dataset.targets)\n",
        "\n",
        "# Count the occurrences of each class label (0 to 9)\n",
        "unique_labels, counts = np.unique(labels, return_counts=True)\n",
        "\n",
        "# Plot the class distribution as a bar chart\n",
        "plt.figure(figsize=(10,6))\n",
        "plt.bar(unique_labels, counts, color='skyblue')\n",
        "plt.xlabel('Class Label')\n",
        "plt.ylabel('Frequency')\n",
        "plt.title('Class Label Distribution in Fashion MNIST')\n",
        "plt.xticks(unique_labels)  # Set x-ticks to be the class labels\n",
        "plt.show()"
      ]
    },
    {
      "cell_type": "markdown",
      "metadata": {
        "id": "jxeUlPAmcXFx"
      },
      "source": [
        "#### Insights\n",
        "- There are 6000 images in each fashion item class which makes it a well distributed dataset without any class imbalance."
      ]
    },
    {
      "cell_type": "markdown",
      "metadata": {
        "id": "_wAaaQXwRc6O"
      },
      "source": [
        "## 3. Feature Understanding & Preprocessing"
      ]
    },
    {
      "cell_type": "markdown",
      "metadata": {
        "id": "tXcAUpvge8P6"
      },
      "source": [
        "### Model Dataset creation\n",
        "The following cell converts the **images in the data directory** into a **dataframe**, where **each row represents the pixel values of a 28x28 image which will be used by the MLP model**. For the purposes of this notebook, lets assume you were given the dataframe. You may choose to ignore the below two cells.\n"
      ]
    },
    {
      "cell_type": "code",
      "execution_count": 9,
      "metadata": {
        "id": "8YifGx84cj__"
      },
      "outputs": [],
      "source": [
        "import pandas as pd\n",
        "\n",
        "\n",
        "# function to convert the fashionMNIST dataset to a dataframe\n",
        "# flattens each 28x28 image into 784 columns, plus 1 column for label => 'target'.\n",
        "\n",
        "def build_df(dataset):\n",
        "    num_samples = len(dataset)\n",
        "    images = np.zeros((num_samples, 28 * 28), dtype=np.uint8)  # 28x28 flattened\n",
        "    labels = np.zeros(num_samples, dtype=np.uint8)\n",
        "\n",
        "    # Populate arrays in a single loop\n",
        "    for i, (img_pil, label) in enumerate(dataset):\n",
        "        images[i, :] = np.array(img_pil).flatten()  # Converts a 28 x 28 image into a 784 x 1 row in the dataset\n",
        "        labels[i] = label\n",
        "\n",
        "    # Convert to DataFrame\n",
        "    df = pd.DataFrame(images)\n",
        "    df['target'] = labels\n",
        "\n",
        "    return df\n"
      ]
    },
    {
      "cell_type": "code",
      "execution_count": 10,
      "metadata": {
        "colab": {
          "base_uri": "https://localhost:8080/",
          "height": 267
        },
        "id": "uYjq9VMdf4d8",
        "outputId": "226ea39b-bfc5-4d1e-bb46-92ff79c2a9bf"
      },
      "outputs": [
        {
          "name": "stdout",
          "output_type": "stream",
          "text": [
            "df_train shape: (60000, 785)  60,0000 images for training\n",
            "df_test shape:  (10000, 785)  10,000 images for testing\n"
          ]
        },
        {
          "data": {
            "text/html": [
              "<div>\n",
              "<style scoped>\n",
              "    .dataframe tbody tr th:only-of-type {\n",
              "        vertical-align: middle;\n",
              "    }\n",
              "\n",
              "    .dataframe tbody tr th {\n",
              "        vertical-align: top;\n",
              "    }\n",
              "\n",
              "    .dataframe thead th {\n",
              "        text-align: right;\n",
              "    }\n",
              "</style>\n",
              "<table border=\"1\" class=\"dataframe\">\n",
              "  <thead>\n",
              "    <tr style=\"text-align: right;\">\n",
              "      <th></th>\n",
              "      <th>0</th>\n",
              "      <th>1</th>\n",
              "      <th>2</th>\n",
              "      <th>3</th>\n",
              "      <th>4</th>\n",
              "      <th>5</th>\n",
              "      <th>6</th>\n",
              "      <th>7</th>\n",
              "      <th>8</th>\n",
              "      <th>9</th>\n",
              "      <th>...</th>\n",
              "      <th>775</th>\n",
              "      <th>776</th>\n",
              "      <th>777</th>\n",
              "      <th>778</th>\n",
              "      <th>779</th>\n",
              "      <th>780</th>\n",
              "      <th>781</th>\n",
              "      <th>782</th>\n",
              "      <th>783</th>\n",
              "      <th>target</th>\n",
              "    </tr>\n",
              "  </thead>\n",
              "  <tbody>\n",
              "    <tr>\n",
              "      <th>0</th>\n",
              "      <td>0</td>\n",
              "      <td>0</td>\n",
              "      <td>0</td>\n",
              "      <td>0</td>\n",
              "      <td>0</td>\n",
              "      <td>0</td>\n",
              "      <td>0</td>\n",
              "      <td>0</td>\n",
              "      <td>0</td>\n",
              "      <td>0</td>\n",
              "      <td>...</td>\n",
              "      <td>0</td>\n",
              "      <td>0</td>\n",
              "      <td>0</td>\n",
              "      <td>0</td>\n",
              "      <td>0</td>\n",
              "      <td>0</td>\n",
              "      <td>0</td>\n",
              "      <td>0</td>\n",
              "      <td>0</td>\n",
              "      <td>9</td>\n",
              "    </tr>\n",
              "    <tr>\n",
              "      <th>1</th>\n",
              "      <td>0</td>\n",
              "      <td>0</td>\n",
              "      <td>0</td>\n",
              "      <td>0</td>\n",
              "      <td>0</td>\n",
              "      <td>1</td>\n",
              "      <td>0</td>\n",
              "      <td>0</td>\n",
              "      <td>0</td>\n",
              "      <td>0</td>\n",
              "      <td>...</td>\n",
              "      <td>114</td>\n",
              "      <td>130</td>\n",
              "      <td>76</td>\n",
              "      <td>0</td>\n",
              "      <td>0</td>\n",
              "      <td>0</td>\n",
              "      <td>0</td>\n",
              "      <td>0</td>\n",
              "      <td>0</td>\n",
              "      <td>0</td>\n",
              "    </tr>\n",
              "    <tr>\n",
              "      <th>2</th>\n",
              "      <td>0</td>\n",
              "      <td>0</td>\n",
              "      <td>0</td>\n",
              "      <td>0</td>\n",
              "      <td>0</td>\n",
              "      <td>0</td>\n",
              "      <td>0</td>\n",
              "      <td>0</td>\n",
              "      <td>0</td>\n",
              "      <td>22</td>\n",
              "      <td>...</td>\n",
              "      <td>0</td>\n",
              "      <td>1</td>\n",
              "      <td>0</td>\n",
              "      <td>0</td>\n",
              "      <td>0</td>\n",
              "      <td>0</td>\n",
              "      <td>0</td>\n",
              "      <td>0</td>\n",
              "      <td>0</td>\n",
              "      <td>0</td>\n",
              "    </tr>\n",
              "    <tr>\n",
              "      <th>3</th>\n",
              "      <td>0</td>\n",
              "      <td>0</td>\n",
              "      <td>0</td>\n",
              "      <td>0</td>\n",
              "      <td>0</td>\n",
              "      <td>0</td>\n",
              "      <td>0</td>\n",
              "      <td>0</td>\n",
              "      <td>33</td>\n",
              "      <td>96</td>\n",
              "      <td>...</td>\n",
              "      <td>0</td>\n",
              "      <td>0</td>\n",
              "      <td>0</td>\n",
              "      <td>0</td>\n",
              "      <td>0</td>\n",
              "      <td>0</td>\n",
              "      <td>0</td>\n",
              "      <td>0</td>\n",
              "      <td>0</td>\n",
              "      <td>3</td>\n",
              "    </tr>\n",
              "    <tr>\n",
              "      <th>4</th>\n",
              "      <td>0</td>\n",
              "      <td>0</td>\n",
              "      <td>0</td>\n",
              "      <td>0</td>\n",
              "      <td>0</td>\n",
              "      <td>0</td>\n",
              "      <td>0</td>\n",
              "      <td>0</td>\n",
              "      <td>0</td>\n",
              "      <td>0</td>\n",
              "      <td>...</td>\n",
              "      <td>0</td>\n",
              "      <td>0</td>\n",
              "      <td>0</td>\n",
              "      <td>0</td>\n",
              "      <td>0</td>\n",
              "      <td>0</td>\n",
              "      <td>0</td>\n",
              "      <td>0</td>\n",
              "      <td>0</td>\n",
              "      <td>0</td>\n",
              "    </tr>\n",
              "  </tbody>\n",
              "</table>\n",
              "<p>5 rows × 785 columns</p>\n",
              "</div>"
            ],
            "text/plain": [
              "   0  1  2  3  4  5  6  7   8   9  ...  775  776  777  778  779  780  781  \\\n",
              "0  0  0  0  0  0  0  0  0   0   0  ...    0    0    0    0    0    0    0   \n",
              "1  0  0  0  0  0  1  0  0   0   0  ...  114  130   76    0    0    0    0   \n",
              "2  0  0  0  0  0  0  0  0   0  22  ...    0    1    0    0    0    0    0   \n",
              "3  0  0  0  0  0  0  0  0  33  96  ...    0    0    0    0    0    0    0   \n",
              "4  0  0  0  0  0  0  0  0   0   0  ...    0    0    0    0    0    0    0   \n",
              "\n",
              "   782  783  target  \n",
              "0    0    0       9  \n",
              "1    0    0       0  \n",
              "2    0    0       0  \n",
              "3    0    0       3  \n",
              "4    0    0       0  \n",
              "\n",
              "[5 rows x 785 columns]"
            ]
          },
          "execution_count": 10,
          "metadata": {},
          "output_type": "execute_result"
        }
      ],
      "source": [
        "# build DataFrames for train and test dataset\n",
        "df_train = build_df(train_dataset)\n",
        "df_test = build_df(test_dataset)\n",
        "\n",
        "print(\"df_train shape:\", df_train.shape, \" 60,0000 images for training\")  # expect (60000, 785)\n",
        "print(\"df_test shape: \", df_test.shape, \" 10,000 images for testing\")   # expect (10000, 785)\n",
        "\n",
        "df_train.head()"
      ]
    },
    {
      "cell_type": "markdown",
      "metadata": {},
      "source": [
        "### **Modelling Tasks**\n",
        "#### Binary Classification\n",
        "In this task, we're going to pick any two classes from the fashion MNIST dataset and show how to use Binary Cross Entropy Loss for the binary predictions using MLP."
      ]
    },
    {
      "cell_type": "code",
      "execution_count": 11,
      "metadata": {
        "colab": {
          "base_uri": "https://localhost:8080/"
        },
        "id": "r3R984kNgep6",
        "outputId": "40c47ef3-7013-4705-db33-81041ba85d5b"
      },
      "outputs": [],
      "source": [
        "# Let's assume we only take fashion class 0 and 1 for binary classification\n",
        "binary_classes = [0, 1]\n",
        "\n",
        "# filter the training dataset on fashion class 0 and 1\n",
        "train_mask = df_train['target'].isin(binary_classes) # This gets all rows that represent fashion items that belong to class 0 or 1\n",
        "\n",
        "# Creates the dataframe that has only two fashion classes i.e 0 or 1. \n",
        "df_train_bin = df_train[train_mask].copy()\n",
        "\n",
        "# repeat for testing dataset\n",
        "test_mask = df_test['target'].isin(binary_classes)\n",
        "df_test_bin = df_test[test_mask].copy()\n",
        "\n",
        "\n",
        "\n"
      ]
    },
    {
      "cell_type": "markdown",
      "metadata": {},
      "source": [
        "#### Multi-Class Classification\n",
        "In this task, we're going to pick all the 10 classes from the fashion MNIST dataset and show how to use Cross Entropy Loss for the multi class predictions using MLP."
      ]
    },
    {
      "cell_type": "code",
      "execution_count": 12,
      "metadata": {},
      "outputs": [],
      "source": [
        "# multi-class DF: we keep all classes 0..9\n",
        "df_train_multi = df_train.copy() # We create copies so that the original df is not disturbed. It's an optional setp.\n",
        "df_test_multi = df_test.copy()"
      ]
    },
    {
      "cell_type": "markdown",
      "metadata": {},
      "source": [
        "Let's look at the shapes of the binary and multi-class datasets"
      ]
    },
    {
      "cell_type": "code",
      "execution_count": 13,
      "metadata": {},
      "outputs": [
        {
          "name": "stdout",
          "output_type": "stream",
          "text": [
            "Binary train shape: (12000, 785)\n",
            "Binary test shape:  (2000, 785)\n",
            "Multi-class train shape: (60000, 785)\n",
            "Multi-class test shape:  (10000, 785)\n"
          ]
        }
      ],
      "source": [
        "print(\"Binary train shape:\", df_train_bin.shape)\n",
        "print(\"Binary test shape: \", df_test_bin.shape)\n",
        "print(\"Multi-class train shape:\", df_train_multi.shape)\n",
        "print(\"Multi-class test shape: \", df_test_multi.shape)"
      ]
    },
    {
      "cell_type": "markdown",
      "metadata": {},
      "source": [
        "The below cell helps you convert the dataframe into **numpy arrays** because torch models **cannot understand Series datatypes (dataframes)**\n",
        "1. It uses all the 784 columns that we created by decomposing an image of size 28x28 as features (X) which the model will learn.\n",
        "2. It uses the target column to predict the fashion class (y) an image belongs to. \n",
        "\n"
      ]
    },
    {
      "cell_type": "code",
      "execution_count": 14,
      "metadata": {
        "id": "RzrW4xPoIHCO"
      },
      "outputs": [],
      "source": [
        "# convert from DataFrame to X,y arrays\n",
        "def df_to_numpy(df):\n",
        "    # separate features from target\n",
        "    X = df.drop(columns=['target']).values  # shape (N,784)\n",
        "    y = df['target'].values  # shape (N,)\n",
        "    return X, y"
      ]
    },
    {
      "cell_type": "markdown",
      "metadata": {},
      "source": [
        "#### Train Test Split \n",
        "This is an important step in model building. In the cells above, we created datasets for two tasks: Binary and Multi-class classification. For each of these tasks, we need to create a training split, which the model uses to learn, and a testing split, which the model uses to evaluate its performance."
      ]
    },
    {
      "cell_type": "code",
      "execution_count": 15,
      "metadata": {
        "colab": {
          "base_uri": "https://localhost:8080/"
        },
        "id": "9XZp8PXKf21B",
        "outputId": "19a878b7-41df-4e69-e216-39772e5ab256"
      },
      "outputs": [
        {
          "name": "stdout",
          "output_type": "stream",
          "text": [
            "Binary train: (12000, 784) (12000,)\n",
            "Multi train:  (60000, 784) (60000,)\n"
          ]
        }
      ],
      "source": [
        "X_train_bin, y_train_bin = df_to_numpy(df_train_bin)\n",
        "X_test_bin, y_test_bin = df_to_numpy(df_test_bin)\n",
        "\n",
        "# multi\n",
        "X_train_multi, y_train_multi = df_to_numpy(df_train_multi)\n",
        "X_test_multi, y_test_multi = df_to_numpy(df_test_multi)\n",
        "\n",
        "print(\"Binary train:\", X_train_bin.shape, y_train_bin.shape)\n",
        "print(\"Multi train: \", X_train_multi.shape, y_train_multi.shape)"
      ]
    },
    {
      "cell_type": "code",
      "execution_count": 16,
      "metadata": {
        "colab": {
          "base_uri": "https://localhost:8080/"
        },
        "id": "aFKwNZwEgFHS",
        "outputId": "9e960791-90f3-4985-c1dc-d9c0034d1ce2"
      },
      "outputs": [
        {
          "data": {
            "text/plain": [
              "array([[0, 0, 0, ..., 0, 0, 0],\n",
              "       [0, 0, 0, ..., 0, 0, 0],\n",
              "       [0, 0, 0, ..., 0, 0, 0],\n",
              "       ...,\n",
              "       [0, 0, 0, ..., 0, 0, 0],\n",
              "       [0, 0, 0, ..., 0, 0, 0],\n",
              "       [0, 0, 0, ..., 0, 0, 0]], dtype=uint8)"
            ]
          },
          "execution_count": 16,
          "metadata": {},
          "output_type": "execute_result"
        }
      ],
      "source": [
        "# the data passed to the model will look like this:\n",
        "X_train_bin"
      ]
    },
    {
      "cell_type": "code",
      "execution_count": 17,
      "metadata": {
        "id": "xAlGmzlfiWpO"
      },
      "outputs": [],
      "source": [
        "# to save the dataframe as a csv file, we can use:\n",
        "#df.to_csv(\"Image_Dataset.csv\")"
      ]
    },
    {
      "cell_type": "markdown",
      "metadata": {
        "id": "fzyS7xHInJKo"
      },
      "source": [
        "## 4. Model Building"
      ]
    },
    {
      "cell_type": "markdown",
      "metadata": {},
      "source": [
        "#### **Why are we creating batches ?** \n",
        "As we all know, backpropagation occurs when all the rows of a dataset are passed through the model. In the backpropagation step, the model updates the weights after each epoch. This process continues until all epochs are completed.\n",
        "\n",
        "Without batches, the model updates the weights at the end of every epoch, i.e., after the model has read all the rows in the dataset. With batches, the model processes a smaller subset of the data at a time. **This allows the model to update the weights more frequently, typically after each batch, which can lead to faster convergence.** \n",
        "\n",
        "Additionally, **using batches helps in better generalization and can prevent overfitting by providing a more varied set of updates in each epoch. It also helps in reducing memory consumption when working with large datasets that cannot fit entirely into memory.**\n",
        "\n",
        "In essence, batching improves computational efficiency and can lead to more stable and effective learning.\n"
      ]
    },
    {
      "cell_type": "code",
      "execution_count": 18,
      "metadata": {
        "id": "msvv2aPnYkg7"
      },
      "outputs": [],
      "source": [
        "# function to manually create batches\n",
        "def create_batches(X, y, batch_size=64, model=None):\n",
        "    num_samples = len(X)\n",
        "    for start in range(0, num_samples, batch_size):\n",
        "        end = start + batch_size\n",
        "        batch_X = X[start:end]\n",
        "        batch_y = y[start:end]\n",
        "        # convert to torch Tensors\n",
        "        batch_X_t = torch.tensor(batch_X, dtype=torch.float32)\n",
        "        # batch_X_t = batch_X.clone().detach().to(torch.float32)\n",
        "\n",
        "        if model==\"MultiClassMLP\":\n",
        "            batch_y_t = torch.tensor(batch_y, dtype=torch.long)\n",
        "        else:\n",
        "          batch_y_t = torch.tensor(batch_y, dtype=torch.float32) # For binary classification, the target (batch_y_t) is typically expected as a torch.float32 tensor\n",
        "        yield batch_X_t, batch_y_t"
      ]
    },
    {
      "cell_type": "markdown",
      "metadata": {},
      "source": [
        "#### Hyperparameters\n",
        "Set your hyperparameters in this cell"
      ]
    },
    {
      "cell_type": "code",
      "execution_count": 19,
      "metadata": {
        "colab": {
          "base_uri": "https://localhost:8080/"
        },
        "id": "gX5qguSzDB1l",
        "outputId": "d42f137d-785f-4a49-a07b-7b559fcbb843"
      },
      "outputs": [
        {
          "name": "stdout",
          "output_type": "stream",
          "text": [
            "Learning rate: 0.0001\n",
            "Batch size: 64\n",
            "Number of epochs: 10\n",
            "Activation function: ReLU()\n"
          ]
        }
      ],
      "source": [
        "\n",
        "import torch.nn as nn\n",
        "\n",
        "lr = 0.0001 # learning rate\n",
        "epochs = 10\n",
        "batch_size = 64\n",
        "num_classes = 10  # number of classes in FashionMNIST\n",
        "\n",
        "\n",
        "activation = nn.ReLU()\n",
        "\n",
        "print('Learning rate:', lr)\n",
        "print('Batch size:', batch_size)\n",
        "print('Number of epochs:', epochs)\n",
        "print('Activation function:', activation)"
      ]
    },
    {
      "cell_type": "code",
      "execution_count": 20,
      "metadata": {
        "colab": {
          "base_uri": "https://localhost:8080/",
          "height": 119
        },
        "collapsed": true,
        "id": "kPpwX-0JzqTq",
        "outputId": "c7e46031-55ff-4266-d034-6f279239a810"
      },
      "outputs": [
        {
          "data": {
            "text/plain": [
              "BinaryMLP(\n",
              "  (fc1): Linear(in_features=784, out_features=64, bias=True)\n",
              "  (activation): ReLU()\n",
              "  (fc2): Linear(in_features=64, out_features=1, bias=True)\n",
              "  (sigmoid): Sigmoid()\n",
              ")"
            ]
          },
          "metadata": {},
          "output_type": "display_data"
        }
      ],
      "source": [
        "\"\"\"\n",
        "    Binary MLP architecture for binary classification\n",
        "        - Input Layer : 784 neurons\n",
        "        - Activation Function : ReLU()\n",
        "        - Hidden Layer : 64 neurons\n",
        "        - Activation Function : Sigmoid()\n",
        "        - Output Layer : 1 neuron  \n",
        "        \n",
        "    - Predicts two classes  \n",
        "\"\"\"\n",
        "\n",
        "class BinaryMLP(nn.Module):\n",
        "    def __init__(self, input_size, hidden_size=64):\n",
        "        super().__init__()\n",
        "        self.fc1 = nn.Linear(input_size, hidden_size)\n",
        "        self.activation = activation\n",
        "        self.fc2 = nn.Linear(hidden_size, 1)\n",
        "        self.sigmoid = nn.Sigmoid()\n",
        "\n",
        "    def forward(self, x):\n",
        "        out = self.fc1(x)\n",
        "        out = self.activation(out)\n",
        "        out = self.fc2(out)\n",
        "        out = self.sigmoid(out)\n",
        "        return out  # shape (batch_size, 1)\n",
        "\n",
        "display(BinaryMLP(784))"
      ]
    },
    {
      "cell_type": "code",
      "execution_count": 21,
      "metadata": {
        "colab": {
          "base_uri": "https://localhost:8080/",
          "height": 102
        },
        "id": "OUpu4sfAYS1X",
        "outputId": "3de1fc49-8625-436e-f4eb-cc3cfb8f0af9"
      },
      "outputs": [
        {
          "data": {
            "text/plain": [
              "MultiClassMLP(\n",
              "  (fc1): Linear(in_features=784, out_features=128, bias=True)\n",
              "  (activation): ReLU()\n",
              "  (fc2): Linear(in_features=128, out_features=10, bias=True)\n",
              ")"
            ]
          },
          "metadata": {},
          "output_type": "display_data"
        }
      ],
      "source": [
        "\"\"\"\n",
        "    MLP architecture for binary classification\n",
        "        - Input Layer : 784 neurons\n",
        "        - Activation Function : ReLU()\n",
        "        - Hidden Layer : 64 neurons\n",
        "        - Output Layer : 10 neurons  \n",
        "        \n",
        "    - predicts 10 classes \n",
        "\"\"\"\n",
        "class MultiClassMLP(nn.Module):\n",
        "    def __init__(self, input_size, hidden_size=128, num_classes=10):\n",
        "        super().__init__()\n",
        "        self.fc1 = nn.Linear(input_size, hidden_size)\n",
        "        self.activation = activation\n",
        "        self.fc2 = nn.Linear(hidden_size, num_classes)\n",
        "\n",
        "    def forward(self, x):\n",
        "        out = self.fc1(x)\n",
        "        out = self.activation(out)\n",
        "        out = self.fc2(out)\n",
        "        return out\n",
        "\n",
        "display(MultiClassMLP(784))"
      ]
    },
    {
      "cell_type": "markdown",
      "metadata": {},
      "source": [
        "#### **What is the training loop doing?**\n",
        "\n",
        "1. **Starting Training Mode**: We tell the model that it's time to learn, so we put it into \"training mode.\"\n",
        "2. **Going Through the Data**: We go through the data many times, just like reading a book over and over until we understand it better. Each time we go through the data, it’s called an **epoch**.\n",
        "3. **Breaking the Data into Small Pieces**: Instead of reading the whole book at once, we break it into smaller pieces (called **batches**), so it’s easier for the model to learn from them one by one.\n",
        "4. **Learning from Each Small Piece**:\n",
        "   - For each small piece (or batch), we give it to the model to make a guess (this is the model's prediction).\n",
        "   - We then check how close or far off the guess was from the actual answer (this is called **loss**).\n",
        "   - The model learns from the mistake and gets a little better by adjusting itself (this is called **backpropagation**).\n",
        "5. **Saving the Model**: After each round of learning, we save what the model has learned so far. If we stop in the middle, we can start again without losing progress.\n",
        "6. **Repeat**: We do this again and again until the model gets better and better at making predictions.\n",
        "\n",
        "After going through all the pieces many times, the model is saved one last time, and we have a trained model that can make good guesses!\n"
      ]
    },
    {
      "cell_type": "code",
      "execution_count": 22,
      "metadata": {
        "id": "mO7gLQ6N4Lif"
      },
      "outputs": [],
      "source": [
        "# training loop\n",
        "def train(model, X_train_np, y_train_np, loss_fn, optimizer, batch_size=64, epochs=5):\n",
        "    model.train()\n",
        "    num_samples = len(X_train_np)\n",
        "    for epoch in range(epochs):\n",
        "        total_loss = 0.0\n",
        "        for X_batch_t, y_batch_t in create_batches(X_train_np, y_train_np, batch_size, model=model.__class__.__name__):\n",
        "            outputs = model(X_batch_t)\n",
        "            # for binary: shape (N,1), need .squeeze()\n",
        "            loss = loss_fn(outputs.squeeze(), y_batch_t)\n",
        "\n",
        "            optimizer.zero_grad()\n",
        "            loss.backward()\n",
        "            optimizer.step()\n",
        "            total_loss += loss.item() * len(X_batch_t)\n",
        "\n",
        "        avg_loss = total_loss / num_samples\n",
        "        print(f\"Epoch [{epoch+1}/{epochs}] - Loss: {avg_loss:.4f}\")\n",
        "\n",
        "\n",
        "        # save the model after every epoch (useful for longer training sessions)\n",
        "        torch.save(model.state_dict(), model.__class__.__name__ + '.pth') # saves it as the model class' name\n",
        "        print(f\"Model saved.\")                                            # example: \"MultiClassMLP.pth\"\n",
        "\n",
        "    # save the model again after the final epoch\n",
        "    torch.save(model.state_dict(), model.__class__.__name__ + '.pth')\n",
        "    print(f\"Final model saved.\")"
      ]
    },
    {
      "cell_type": "code",
      "execution_count": 23,
      "metadata": {
        "id": "QYZ9mvzTrgBw"
      },
      "outputs": [],
      "source": [
        "# if we want to load a model, we can use:\n",
        "# model = torch.load(\"model.pth\"))\n",
        "# model.eval()"
      ]
    },
    {
      "cell_type": "markdown",
      "metadata": {},
      "source": [
        "#### **Making Predictions with the Model**\n",
        "\n",
        "The `predict` function helps the model guess things based on the data we give it. Here’s how it works, step by step:\n",
        "\n",
        "1. **Get the Model Ready to Guess**:\n",
        "   - We tell the model that it’s time to make guesses, not learn new things. This is called **evaluation mode**.\n",
        "\n",
        "2. **Change the Data**:\n",
        "   - If the data we give to the model is in a special format (called a NumPy array), we change it into something the model can understand (called a tensor).\n",
        "\n",
        "3. **Don’t Keep Track of Learning**:\n",
        "   - We tell the model not to remember anything while making predictions. This saves time and makes the prediction faster.\n",
        "\n",
        "4. **Chop the Data into Pieces**:\n",
        "   - If we have a lot of data, we break it into smaller chunks (called **batches**) so the model can handle it better.\n",
        "\n",
        "5. **Let the Model Make Guesses**:\n",
        "   - For each chunk of data, the model looks at it and tries to guess the answer.\n",
        "\n",
        "6. **Pick the Best Guess**:\n",
        "   - After looking at the data, the model picks the best guess (the one with the highest score).\n",
        "\n",
        "7. **Keep All the Guesses**:\n",
        "   - We save all the guesses the model makes for later.\n",
        "\n",
        "8. **Return the Guesses**:\n",
        "   - Once all the guesses are made, we give them back as a list for us to see.\n",
        "\n",
        "This function helps the model make lots of guesses, one batch at a time, without learning anything new.\n"
      ]
    },
    {
      "cell_type": "code",
      "execution_count": 24,
      "metadata": {
        "id": "bdRFOpNO7kff"
      },
      "outputs": [],
      "source": [
        "# model inference\n",
        "def predict(model, X, batch_size):\n",
        "    model.eval()  # set the model to evaluation mode\n",
        "    predictions = []\n",
        "\n",
        "    # if X is a NumPy array, convert it to a PyTorch tensor\n",
        "    if isinstance(X, np.ndarray):\n",
        "        X = torch.tensor(X, dtype=torch.float32)\n",
        "\n",
        "    with torch.no_grad():  # disable gradient computation for inference\n",
        "        for X_batch, _ in create_batches(X, np.zeros(len(X)), batch_size, model=model):  # Use dummy labels\n",
        "            outputs = model(X_batch)  # forward pass\n",
        "            predicted_classes = torch.argmax(outputs, dim=1)  # get predicted class index\n",
        "            predictions.extend(predicted_classes.numpy())  # convert to NumPy and append\n",
        "\n",
        "    return np.array(predictions)"
      ]
    },
    {
      "cell_type": "markdown",
      "metadata": {
        "id": "06zj6Xkewt15"
      },
      "source": [
        "### Binary MLP runner\n",
        "This cells calls the train functions defined in the above cells"
      ]
    },
    {
      "cell_type": "code",
      "execution_count": 25,
      "metadata": {
        "colab": {
          "base_uri": "https://localhost:8080/"
        },
        "id": "K-1GpNkw1arn",
        "outputId": "5e1cd360-8228-41d0-cdb9-b29d4d6f57d0"
      },
      "outputs": [
        {
          "name": "stdout",
          "output_type": "stream",
          "text": [
            "Epoch [1/10] - Loss: 0.5604\n",
            "Model saved.\n",
            "Epoch [2/10] - Loss: 0.2186\n",
            "Model saved.\n",
            "Epoch [3/10] - Loss: 0.1759\n",
            "Model saved.\n",
            "Epoch [4/10] - Loss: 0.1396\n",
            "Model saved.\n",
            "Epoch [5/10] - Loss: 0.1170\n",
            "Model saved.\n",
            "Epoch [6/10] - Loss: 0.0991\n",
            "Model saved.\n",
            "Epoch [7/10] - Loss: 0.0903\n",
            "Model saved.\n",
            "Epoch [8/10] - Loss: 0.0692\n",
            "Model saved.\n",
            "Epoch [9/10] - Loss: 0.0563\n",
            "Model saved.\n",
            "Epoch [10/10] - Loss: 0.0511\n",
            "Model saved.\n",
            "Final model saved.\n"
          ]
        }
      ],
      "source": [
        "import torch.optim as optim # torch package implementing various optimization algorithms\n",
        "\n",
        "input_size = X_train_bin.shape[1]  # number of features in each sample\n",
        "binary_mlp = BinaryMLP(input_size)       # creating an object of the MLP model class\n",
        "optimizer = optim.SGD(binary_mlp.parameters(), lr=lr) # stochastic gradient descent as optimizer\n",
        "loss_fn = nn.BCELoss()\n",
        "\n",
        "\n",
        "train(binary_mlp, X_train_bin, y_train_bin, loss_fn, optimizer, batch_size=batch_size, epochs=epochs)"
      ]
    },
    {
      "cell_type": "markdown",
      "metadata": {
        "id": "DPjy1bOlwpSJ"
      },
      "source": [
        "### Multi-class MLP runner"
      ]
    },
    {
      "cell_type": "code",
      "execution_count": 26,
      "metadata": {
        "colab": {
          "base_uri": "https://localhost:8080/"
        },
        "id": "4XJyjIrBnFlv",
        "outputId": "152afb86-f969-492c-f0ee-a603d0072db8"
      },
      "outputs": [
        {
          "name": "stdout",
          "output_type": "stream",
          "text": [
            "Epoch [1/10] - Loss: 1.9317\n",
            "Model saved.\n",
            "Epoch [2/10] - Loss: 0.7552\n",
            "Model saved.\n",
            "Epoch [3/10] - Loss: 0.6068\n",
            "Model saved.\n",
            "Epoch [4/10] - Loss: 0.5446\n",
            "Model saved.\n",
            "Epoch [5/10] - Loss: 0.5076\n",
            "Model saved.\n",
            "Epoch [6/10] - Loss: 0.4812\n",
            "Model saved.\n",
            "Epoch [7/10] - Loss: 0.4612\n",
            "Model saved.\n",
            "Epoch [8/10] - Loss: 0.4454\n",
            "Model saved.\n",
            "Epoch [9/10] - Loss: 0.4324\n",
            "Model saved.\n",
            "Epoch [10/10] - Loss: 0.4213\n",
            "Model saved.\n",
            "Final model saved.\n"
          ]
        }
      ],
      "source": [
        "input_size = X_train_multi.shape[1]  # number of features in each sample\n",
        "multi_mlp = MultiClassMLP(input_size)       # creating an object of the multi-class MLP model\n",
        "optimizer = optim.SGD(multi_mlp.parameters(), lr=lr) # stochastic gradient descent as optimizer\n",
        "loss_fn = nn.CrossEntropyLoss()\n",
        "\n",
        "\n",
        "train(multi_mlp, X_train_multi, y_train_multi, loss_fn, optimizer, batch_size=batch_size, epochs=epochs)"
      ]
    },
    {
      "cell_type": "markdown",
      "metadata": {
        "id": "R5PKl6u9xyAV"
      },
      "source": [
        "## 5. Model Validation"
      ]
    },
    {
      "cell_type": "markdown",
      "metadata": {},
      "source": [
        "#### **Looking at the Model's Predictions**\n",
        "\n",
        "The `analyze_predictions` function helps us understand how well our model is doing by showing us the **correct** and **incorrect** guesses it made. Here's how it works:\n",
        "\n",
        "1. **Change the Data**:\n",
        "   - The test data (X_test) is of numpy format, and in this cell we can't add acolumns like true_label or predicted_label. So, we convert this numpy array into a Series dataframe.\n",
        "   - If the test data (X_test) is in a special format that the model can't easily read, we change it into a table (called a **DataFrame**).\n",
        "\n",
        "2. **Make Sure the Labels are Ready**:\n",
        "   - We check if the true answers (**y_test**) and the guesses (**y_pred**) are in the right format. If they’re not, we turn them into a simple list.\n",
        "\n",
        "3. **Add the Guesses to the Data**:\n",
        "   - We add the real answers (**true_label**) and the guesses (**predicted_label**) to our table, so we can compare them.\n",
        "\n",
        "4. **Find the Correct and Wrong Guesses**:\n",
        "   - We look at the table and find which guesses were correct and which ones were wrong.\n",
        "\n",
        "5. **Show Some Examples**:\n",
        "   - We pick a few examples (3 at most) of both **correct guesses** and **wrong guesses** and show them to you. This helps us see how the model is doing.\n",
        "\n",
        "6. **Print the Results**:\n",
        "   \n"
      ]
    },
    {
      "cell_type": "code",
      "execution_count": 27,
      "metadata": {
        "id": "1g7Fgebmy2ee"
      },
      "outputs": [],
      "source": [
        "def analyze_predictions(X_test, y_test, y_pred, task=\"binary\"):\n",
        "    # Convert X_test to DataFrame if it's a NumPy array or PyTorch tensor\n",
        "    if isinstance(X_test, (np.ndarray, torch.Tensor)):\n",
        "        X_test = pd.DataFrame(X_test)\n",
        "    \n",
        "    # Ensure y_test and y_pred are in the correct format\n",
        "    if isinstance(y_test, (np.ndarray, torch.Tensor)):\n",
        "        y_test = pd.Series(y_test)\n",
        "    if isinstance(y_pred, (np.ndarray, torch.Tensor)):\n",
        "        y_pred = pd.Series(y_pred)\n",
        "\n",
        "    # Add true and predicted labels to X_test\n",
        "    X_test['true_label'] = y_test\n",
        "    X_test['predicted_label'] = y_pred\n",
        "\n",
        "    # Identify correct and incorrect predictions\n",
        "    correct_preds = X_test[X_test['true_label'] == X_test['predicted_label']]\n",
        "    incorrect_preds = X_test[X_test['true_label'] != X_test['predicted_label']]\n",
        "\n",
        "    # Sample examples for correct and incorrect predictions\n",
        "    correct_examples = correct_preds.sample(n=min(3, len(correct_preds)), random_state=42)\n",
        "    incorrect_examples = incorrect_preds.sample(n=min(3, len(incorrect_preds)), random_state=42)\n",
        "\n",
        "    print(f\"Task: {task}\")\n",
        "    print(\"\\nCorrect Predictions:\")\n",
        "    print(correct_examples)\n",
        "\n",
        "    print(\"\\nIncorrect Predictions:\")\n",
        "    print(incorrect_examples)\n",
        "\n",
        "    return X_test"
      ]
    },
    {
      "cell_type": "code",
      "execution_count": 28,
      "metadata": {
        "id": "WR7hTYDSyPB1"
      },
      "outputs": [
        {
          "name": "stdout",
          "output_type": "stream",
          "text": [
            "Task: binary\n",
            "\n",
            "Correct Predictions:\n",
            "      0  1  2  3  4  5  6  7   8   9  ...  776  777  778  779  780  781  782  \\\n",
            "1009  0  0  0  0  0  0  0  0   0   0  ...  165   23    0    0    0    0    0   \n",
            "1476  0  0  0  0  0  0  0  0   3   0  ...  190   20    0    4    0    0    0   \n",
            "1479  0  0  0  0  0  0  0  0  27  62  ...   20    0    1    0    0    0    0   \n",
            "\n",
            "      783  true_label  predicted_label  \n",
            "1009    0           0                0  \n",
            "1476    0           0                0  \n",
            "1479    0           0                0  \n",
            "\n",
            "[3 rows x 786 columns]\n",
            "\n",
            "Incorrect Predictions:\n",
            "      0  1  2  3  4  5  6  7  8   9  ...  776  777  778  779  780  781  782  \\\n",
            "1078  0  0  0  0  0  0  0  0  0   0  ...    0    0    0    0    0    0    0   \n",
            "1473  0  0  0  0  0  0  0  0  0  86  ...    0    0    0    0    0    0    0   \n",
            "1488  0  0  0  0  0  0  0  0  0  93  ...    0    0    0    0    0    0    0   \n",
            "\n",
            "      783  true_label  predicted_label  \n",
            "1078    0           1                0  \n",
            "1473    0           1                0  \n",
            "1488    0           1                0  \n",
            "\n",
            "[3 rows x 786 columns]\n",
            "Task: multiclass\n",
            "\n",
            "Correct Predictions:\n",
            "      0  1  2  3  4  5  6  7   8    9  ...  776  777  778  779  780  781  782  \\\n",
            "8963  0  0  0  0  0  0  0  0  74  184  ...  205   74    0    2    0    0    0   \n",
            "696   0  0  0  0  0  0  0  2   0    0  ...    0    4  117   80   24    0    0   \n",
            "9553  0  0  0  0  0  0  0  0   0    0  ...    0    0    0    0    0    0    0   \n",
            "\n",
            "      783  true_label  predicted_label  \n",
            "8963    0           0                0  \n",
            "696     0           6                6  \n",
            "9553    0           7                7  \n",
            "\n",
            "[3 rows x 786 columns]\n",
            "\n",
            "Incorrect Predictions:\n",
            "      0  1  2  3  4  5  6  7  8  9  ...  776  777  778  779  780  781  782  \\\n",
            "9961  0  0  0  0  1  0  2  0  0  0  ...    0    0    0    0    0    0    0   \n",
            "2162  0  0  0  0  0  0  0  0  0  0  ...   22   65    4    0    0    0    0   \n",
            "9679  0  0  0  0  0  0  0  2  2  0  ...   85   52    0    0    0    0    0   \n",
            "\n",
            "      783  true_label  predicted_label  \n",
            "9961    0           6                2  \n",
            "2162    0           6                4  \n",
            "9679    0           4                6  \n",
            "\n",
            "[3 rows x 786 columns]\n"
          ]
        },
        {
          "name": "stderr",
          "output_type": "stream",
          "text": [
            "/var/folders/31/vhwm53rj4tnfvv9lgq9m3x5w0000gn/T/ipykernel_24193/4025120938.py:9: UserWarning: To copy construct from a tensor, it is recommended to use sourceTensor.clone().detach() or sourceTensor.clone().detach().requires_grad_(True), rather than torch.tensor(sourceTensor).\n",
            "  batch_X_t = torch.tensor(batch_X, dtype=torch.float32)\n"
          ]
        }
      ],
      "source": [
        "# running inference on test set\n",
        "y_pred_bin = predict(binary_mlp, X_test_bin, batch_size)\n",
        "y_pred_multi = predict(multi_mlp, X_test_multi, batch_size)\n",
        "\n",
        "# analyze binary predictions\n",
        "binary_results = analyze_predictions(X_test_bin, y_test_bin, y_pred_bin, task=\"binary\")\n",
        "\n",
        "# Analyze multi-class predictions\n",
        "multi_results = analyze_predictions(X_test_multi, y_test_multi, y_pred_multi, task=\"multiclass\")"
      ]
    },
    {
      "cell_type": "markdown",
      "metadata": {
        "id": "TeVC9VuU0fXD"
      },
      "source": [
        "## 6. Results"
      ]
    },
    {
      "cell_type": "markdown",
      "metadata": {},
      "source": [
        "Using confusion matrix to evaluate the model. "
      ]
    },
    {
      "cell_type": "code",
      "execution_count": 29,
      "metadata": {
        "id": "QVrpkQaKzxd_"
      },
      "outputs": [],
      "source": [
        "from sklearn.metrics import accuracy_score, confusion_matrix\n",
        "import torch\n",
        "\n",
        "def evaluate(model, X_test, y_test, task=\"binary\", threshold=0.5):\n",
        "    model.eval()  # set model to evaluation mode\n",
        "    with torch.no_grad():\n",
        "        # convert test features to PyTorch tensors\n",
        "        X_test_t = torch.tensor(X_test, dtype=torch.float32)\n",
        "\n",
        "        # get model outputs\n",
        "        outputs = model(X_test_t)\n",
        "\n",
        "        if task == \"binary\":\n",
        "            # for binary classification, apply threshold\n",
        "            preds = (outputs.squeeze().numpy() >= threshold).astype(int)\n",
        "        elif task == \"multiclass\":\n",
        "            # for multi-class classification, get the class with the highest score\n",
        "            preds = torch.argmax(outputs, dim=1).numpy()\n",
        "        else:\n",
        "            raise ValueError(f\"Unsupported task type: {task}. Use 'binary' or 'multiclass'.\")\n",
        "\n",
        "    # calculate accuracy and confusion matrix\n",
        "    accuracy = accuracy_score(y_test, preds)\n",
        "    cm = confusion_matrix(y_test, preds)\n",
        "\n",
        "    return accuracy, cm"
      ]
    },
    {
      "cell_type": "markdown",
      "metadata": {},
      "source": [
        "#### **Confusion Matrix**\n",
        "##### **What is a Confusion Matrix?**\n",
        "\n",
        "A **confusion matrix** is like a special table that helps us see how well our model is guessing things. Imagine you’re trying to guess if an animal is a **cat** or a **dog**.\n",
        "\n",
        "Here’s how it works:\n",
        "\n",
        "1. **Four Boxes**:\n",
        "   - The confusion matrix has four boxes (like four corners):\n",
        "     - **Top-left box**: This is for when the model **guessed cat and it was a cat**. \n",
        "     - **Top-right box**: This is for when the model **guessed cat but it was a dog**. \n",
        "     - **Bottom-left box**: This is for when the model **guessed dog but it was a cat**. \n",
        "     - **Bottom-right box**: This is for when the model **guessed dog and it was a dog**. \n",
        "\n",
        "2. **What Do These Boxes Mean?**:\n",
        "   - **True Positives (Top-left & Bottom-right)**: The model made the right guess! It got **cat when it was a cat** or **dog when it was a dog**.\n",
        "   - **False Positives (Top-right)**: The model **guessed cat when it was a dog**. Oops!\n",
        "   - **False Negatives (Bottom-left)**: The model **guessed dog when it was a cat**. Oops again!\n",
        "   - **True Negatives (Bottom-right)**: The model made the right guess again, **dog when it was a dog**.\n",
        "\n",
        "3. **Why Is It Helpful?**:\n",
        "   - The confusion matrix helps us understand **where the model is getting things wrong** and where it is doing well. It tells us how often the model is confused between **cat** and **dog**.\n",
        "\n",
        "The confusion matrix helps us make our model smarter by showing where it needs to learn better. 📊\n"
      ]
    },
    {
      "cell_type": "code",
      "execution_count": 30,
      "metadata": {
        "colab": {
          "base_uri": "https://localhost:8080/"
        },
        "id": "cV7W0BW3snmg",
        "outputId": "83bc4311-e8dd-4450-e877-b121164e8e33"
      },
      "outputs": [
        {
          "name": "stdout",
          "output_type": "stream",
          "text": [
            "\n",
            "Binary Test Accuracy: 0.984\n",
            "Binary Confusion Matrix:\n",
            "[[990  10]\n",
            " [ 22 978]]\n"
          ]
        }
      ],
      "source": [
        "# confusion Matrix for binary classification:\n",
        "# [[TN, FP],\n",
        "# [FN, TP]]\n",
        "accuracy_bin, cm_bin = evaluate(binary_mlp, X_test_bin, y_test_bin, task=\"binary\")\n",
        "print(\"\\nBinary Test Accuracy:\", accuracy_bin)\n",
        "print(\"Binary Confusion Matrix:\")\n",
        "print(cm_bin)"
      ]
    },
    {
      "cell_type": "code",
      "execution_count": 31,
      "metadata": {
        "colab": {
          "base_uri": "https://localhost:8080/",
          "height": 238
        },
        "id": "ai2-uI4vtQRc",
        "outputId": "f6140150-1174-44c1-fa54-3436976a87aa"
      },
      "outputs": [
        {
          "name": "stdout",
          "output_type": "stream",
          "text": [
            "\n",
            "Multi-Class Test Accuracy: 0.834\n",
            "Multi-Class Confusion Matrix:\n"
          ]
        },
        {
          "data": {
            "text/plain": [
              "array([[837,  11,  20,  33,  13,   2,  68,   0,  16,   0],\n",
              "       [  9, 955,   5,  21,   6,   0,   2,   0,   2,   0],\n",
              "       [ 13,   5, 699,  10, 169,   1,  95,   0,   8,   0],\n",
              "       [ 44,  15,  18, 827,  47,   2,  37,   0,  10,   0],\n",
              "       [  4,   0,  83,  33, 795,   0,  79,   0,   5,   1],\n",
              "       [  0,   0,   0,   0,   0, 907,   1,  46,  10,  36],\n",
              "       [201,   2,  84,  31, 127,   0, 524,   0,  31,   0],\n",
              "       [  0,   0,   0,   0,   0,  37,   0, 931,   4,  28],\n",
              "       [ 16,   0,   7,   4,   6,   4,  19,   7, 936,   1],\n",
              "       [  0,   0,   0,   1,   0,  15,   1,  50,   4, 929]])"
            ]
          },
          "metadata": {},
          "output_type": "display_data"
        }
      ],
      "source": [
        "# multi-Class classification\n",
        "accuracy_multi, cm_multi = evaluate(multi_mlp, X_test_multi, y_test_multi, task=\"multiclass\")\n",
        "print(\"\\nMulti-Class Test Accuracy:\", accuracy_multi)\n",
        "print(\"Multi-Class Confusion Matrix:\")\n",
        "display(cm_multi)"
      ]
    }
  ],
  "metadata": {
    "colab": {
      "collapsed_sections": [
        "ggZaP1pRjBnO"
      ],
      "provenance": []
    },
    "kernelspec": {
      "display_name": "Python 3",
      "name": "python3"
    },
    "language_info": {
      "codemirror_mode": {
        "name": "ipython",
        "version": 3
      },
      "file_extension": ".py",
      "mimetype": "text/x-python",
      "name": "python",
      "nbconvert_exporter": "python",
      "pygments_lexer": "ipython3",
      "version": "3.11.9"
    }
  },
  "nbformat": 4,
  "nbformat_minor": 0
}
