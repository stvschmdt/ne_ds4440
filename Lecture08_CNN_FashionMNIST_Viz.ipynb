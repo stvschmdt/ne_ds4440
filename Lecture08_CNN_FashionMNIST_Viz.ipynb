{
 "cells": [
  {
   "cell_type": "code",
   "execution_count": 1,
   "id": "ac70d6ec-3389-43e6-bb93-78af240f8cc4",
   "metadata": {},
   "outputs": [],
   "source": [
    "# Cell 1: Load and convert Fashion MNIST dataset to a DataFrame\n",
    "import torch\n",
    "import torch.nn as nn\n",
    "from torchvision import datasets, transforms\n",
    "import pandas as pd\n",
    "import matplotlib.pyplot as plt\n",
    "import numpy as np\n",
    "from sklearn.model_selection import train_test_split\n",
    "from torch.utils.data import Dataset, DataLoader\n",
    "from sklearn.metrics import confusion_matrix, ConfusionMatrixDisplay\n",
    "from torch.utils.data import DataLoader, TensorDataset\n",
    "from torch.utils.tensorboard import SummaryWriter\n",
    "from torchvision.utils import make_grid\n",
    "from sklearn.manifold import TSNE\n",
    "import torch.nn.functional as F"
   ]
  },
  {
   "cell_type": "markdown",
   "id": "cbe74fb9-6c45-4390-aa03-a4e82f2bb697",
   "metadata": {},
   "source": [
    "### Pretend we are NOT doing this - imagine it being you donwloading data from the internet"
   ]
  },
  {
   "cell_type": "code",
   "execution_count": 2,
   "id": "60335a3c-850c-4e7e-bca7-bb09d0784006",
   "metadata": {},
   "outputs": [],
   "source": [
    "# Download and load the Fashion MNIST dataset\n",
    "transform = transforms.ToTensor()  # Transform the data into tensors\n",
    "full_dataset = datasets.FashionMNIST(root=\"./data\", train=True, download=True, transform=transform)"
   ]
  },
  {
   "cell_type": "code",
   "execution_count": 3,
   "id": "e8c049b7-046a-46c1-af9a-f14eef3ba87a",
   "metadata": {},
   "outputs": [
    {
     "name": "stdout",
     "output_type": "stream",
     "text": [
      "Train DataFrame:\n",
      "       pixel_0  pixel_1  pixel_2  pixel_3  pixel_4  pixel_5  pixel_6  \\\n",
      "48572      0.0      0.0      0.0      0.0      0.0      0.0      0.0   \n",
      "38696      0.0      0.0      0.0      0.0      0.0      0.0      0.0   \n",
      "13611      0.0      0.0      0.0      0.0      0.0      0.0      0.0   \n",
      "35213      0.0      0.0      0.0      0.0      0.0      0.0      0.0   \n",
      "31766      0.0      0.0      0.0      0.0      0.0      0.0      0.0   \n",
      "\n",
      "        pixel_7   pixel_8   pixel_9  ...  pixel_775  pixel_776  pixel_777  \\\n",
      "48572  0.000000  0.000000  0.000000  ...   0.000000   0.000000   0.000000   \n",
      "38696  0.000000  0.000000  0.000000  ...   0.003922   0.000000   0.000000   \n",
      "13611  0.000000  0.000000  0.000000  ...   0.000000   0.000000   0.000000   \n",
      "35213  0.000000  0.000000  0.011765  ...   0.501961   0.576471   0.658824   \n",
      "31766  0.011765  0.223529  0.368627  ...   0.000000   0.000000   0.000000   \n",
      "\n",
      "       pixel_778  pixel_779  pixel_780  pixel_781  pixel_782  pixel_783  label  \n",
      "48572   0.000000   0.000000   0.000000        0.0        0.0        0.0      7  \n",
      "38696   0.000000   0.000000   0.000000        0.0        0.0        0.0      3  \n",
      "13611   0.000000   0.000000   0.000000        0.0        0.0        0.0      5  \n",
      "35213   0.505882   0.000000   0.000000        0.0        0.0        0.0      8  \n",
      "31766   0.470588   0.419608   0.109804        0.0        0.0        0.0      6  \n",
      "\n",
      "[5 rows x 785 columns]\n",
      "\n",
      "Test DataFrame:\n",
      "       pixel_0  pixel_1  pixel_2  pixel_3  pixel_4  pixel_5  pixel_6  \\\n",
      "12628      0.0      0.0      0.0      0.0      0.0      0.0      0.0   \n",
      "37730      0.0      0.0      0.0      0.0      0.0      0.0      0.0   \n",
      "39991      0.0      0.0      0.0      0.0      0.0      0.0      0.0   \n",
      "8525       0.0      0.0      0.0      0.0      0.0      0.0      0.0   \n",
      "8279       0.0      0.0      0.0      0.0      0.0      0.0      0.0   \n",
      "\n",
      "        pixel_7  pixel_8   pixel_9  ...  pixel_775  pixel_776  pixel_777  \\\n",
      "12628  0.000000      0.0  0.000000  ...        0.0   0.000000   0.000000   \n",
      "37730  0.000000      0.0  0.000000  ...        0.0   0.000000   0.000000   \n",
      "39991  0.000000      0.0  0.000000  ...        0.0   0.000000   0.000000   \n",
      "8525   0.003922      0.0  0.003922  ...        0.0   0.113725   0.533333   \n",
      "8279   0.000000      0.0  0.000000  ...        0.0   0.000000   0.000000   \n",
      "\n",
      "       pixel_778  pixel_779  pixel_780  pixel_781  pixel_782  pixel_783  label  \n",
      "12628   0.000000        0.0        0.0        0.0        0.0        0.0      8  \n",
      "37730   0.000000        0.0        0.0        0.0        0.0        0.0      8  \n",
      "39991   0.000000        0.0        0.0        0.0        0.0        0.0      7  \n",
      "8525    0.411765        0.0        0.0        0.0        0.0        0.0      4  \n",
      "8279    0.000000        0.0        0.0        0.0        0.0        0.0      8  \n",
      "\n",
      "[5 rows x 785 columns]\n"
     ]
    }
   ],
   "source": [
    "# Convert the dataset to a DataFrame\n",
    "# Each image is a 28x28 array, flatten it into a single row\n",
    "data_list = []\n",
    "for image, label in full_dataset:\n",
    "    flat_image = image.view(-1).numpy()  # Flatten the 28x28 image into a 1D array\n",
    "    data_list.append([*flat_image, label])\n",
    "\n",
    "# Create a DataFrame\n",
    "columns = [f\"pixel_{i}\" for i in range(28 * 28)] + [\"label\"]\n",
    "full_df = pd.DataFrame(data_list, columns=columns)\n",
    "\n",
    "# Split the DataFrame into train and test sets\n",
    "train_df, test_df = train_test_split(full_df, test_size=0.2, random_state=42)\n",
    "\n",
    "# Display the first few rows of each DataFrame\n",
    "print(\"Train DataFrame:\")\n",
    "print(train_df.head())\n",
    "print(\"\\nTest DataFrame:\")\n",
    "print(test_df.head())"
   ]
  },
  {
   "cell_type": "markdown",
   "id": "af516a95-6008-4f17-a255-73435ea77347",
   "metadata": {},
   "source": [
    "### Let's start here by examining the data"
   ]
  },
  {
   "cell_type": "code",
   "execution_count": 4,
   "id": "25bf2cf1-bc6a-46d6-a288-671e7b535b21",
   "metadata": {},
   "outputs": [
    {
     "data": {
      "text/html": [
       "<div>\n",
       "<style scoped>\n",
       "    .dataframe tbody tr th:only-of-type {\n",
       "        vertical-align: middle;\n",
       "    }\n",
       "\n",
       "    .dataframe tbody tr th {\n",
       "        vertical-align: top;\n",
       "    }\n",
       "\n",
       "    .dataframe thead th {\n",
       "        text-align: right;\n",
       "    }\n",
       "</style>\n",
       "<table border=\"1\" class=\"dataframe\">\n",
       "  <thead>\n",
       "    <tr style=\"text-align: right;\">\n",
       "      <th></th>\n",
       "      <th>pixel_0</th>\n",
       "      <th>pixel_1</th>\n",
       "      <th>pixel_2</th>\n",
       "      <th>pixel_3</th>\n",
       "      <th>pixel_4</th>\n",
       "      <th>pixel_5</th>\n",
       "      <th>pixel_6</th>\n",
       "      <th>pixel_7</th>\n",
       "      <th>pixel_8</th>\n",
       "      <th>pixel_9</th>\n",
       "      <th>...</th>\n",
       "      <th>pixel_775</th>\n",
       "      <th>pixel_776</th>\n",
       "      <th>pixel_777</th>\n",
       "      <th>pixel_778</th>\n",
       "      <th>pixel_779</th>\n",
       "      <th>pixel_780</th>\n",
       "      <th>pixel_781</th>\n",
       "      <th>pixel_782</th>\n",
       "      <th>pixel_783</th>\n",
       "      <th>label</th>\n",
       "    </tr>\n",
       "  </thead>\n",
       "  <tbody>\n",
       "    <tr>\n",
       "      <th>0</th>\n",
       "      <td>0.0</td>\n",
       "      <td>0.0</td>\n",
       "      <td>0.0</td>\n",
       "      <td>0.0</td>\n",
       "      <td>0.0</td>\n",
       "      <td>0.000000</td>\n",
       "      <td>0.0</td>\n",
       "      <td>0.0</td>\n",
       "      <td>0.000000</td>\n",
       "      <td>0.000000</td>\n",
       "      <td>...</td>\n",
       "      <td>0.000000</td>\n",
       "      <td>0.000000</td>\n",
       "      <td>0.000000</td>\n",
       "      <td>0.0</td>\n",
       "      <td>0.0</td>\n",
       "      <td>0.0</td>\n",
       "      <td>0.0</td>\n",
       "      <td>0.0</td>\n",
       "      <td>0.0</td>\n",
       "      <td>9</td>\n",
       "    </tr>\n",
       "    <tr>\n",
       "      <th>1</th>\n",
       "      <td>0.0</td>\n",
       "      <td>0.0</td>\n",
       "      <td>0.0</td>\n",
       "      <td>0.0</td>\n",
       "      <td>0.0</td>\n",
       "      <td>0.003922</td>\n",
       "      <td>0.0</td>\n",
       "      <td>0.0</td>\n",
       "      <td>0.000000</td>\n",
       "      <td>0.000000</td>\n",
       "      <td>...</td>\n",
       "      <td>0.447059</td>\n",
       "      <td>0.509804</td>\n",
       "      <td>0.298039</td>\n",
       "      <td>0.0</td>\n",
       "      <td>0.0</td>\n",
       "      <td>0.0</td>\n",
       "      <td>0.0</td>\n",
       "      <td>0.0</td>\n",
       "      <td>0.0</td>\n",
       "      <td>0</td>\n",
       "    </tr>\n",
       "    <tr>\n",
       "      <th>2</th>\n",
       "      <td>0.0</td>\n",
       "      <td>0.0</td>\n",
       "      <td>0.0</td>\n",
       "      <td>0.0</td>\n",
       "      <td>0.0</td>\n",
       "      <td>0.000000</td>\n",
       "      <td>0.0</td>\n",
       "      <td>0.0</td>\n",
       "      <td>0.000000</td>\n",
       "      <td>0.086275</td>\n",
       "      <td>...</td>\n",
       "      <td>0.000000</td>\n",
       "      <td>0.003922</td>\n",
       "      <td>0.000000</td>\n",
       "      <td>0.0</td>\n",
       "      <td>0.0</td>\n",
       "      <td>0.0</td>\n",
       "      <td>0.0</td>\n",
       "      <td>0.0</td>\n",
       "      <td>0.0</td>\n",
       "      <td>0</td>\n",
       "    </tr>\n",
       "    <tr>\n",
       "      <th>3</th>\n",
       "      <td>0.0</td>\n",
       "      <td>0.0</td>\n",
       "      <td>0.0</td>\n",
       "      <td>0.0</td>\n",
       "      <td>0.0</td>\n",
       "      <td>0.000000</td>\n",
       "      <td>0.0</td>\n",
       "      <td>0.0</td>\n",
       "      <td>0.129412</td>\n",
       "      <td>0.376471</td>\n",
       "      <td>...</td>\n",
       "      <td>0.000000</td>\n",
       "      <td>0.000000</td>\n",
       "      <td>0.000000</td>\n",
       "      <td>0.0</td>\n",
       "      <td>0.0</td>\n",
       "      <td>0.0</td>\n",
       "      <td>0.0</td>\n",
       "      <td>0.0</td>\n",
       "      <td>0.0</td>\n",
       "      <td>3</td>\n",
       "    </tr>\n",
       "    <tr>\n",
       "      <th>4</th>\n",
       "      <td>0.0</td>\n",
       "      <td>0.0</td>\n",
       "      <td>0.0</td>\n",
       "      <td>0.0</td>\n",
       "      <td>0.0</td>\n",
       "      <td>0.000000</td>\n",
       "      <td>0.0</td>\n",
       "      <td>0.0</td>\n",
       "      <td>0.000000</td>\n",
       "      <td>0.000000</td>\n",
       "      <td>...</td>\n",
       "      <td>0.000000</td>\n",
       "      <td>0.000000</td>\n",
       "      <td>0.000000</td>\n",
       "      <td>0.0</td>\n",
       "      <td>0.0</td>\n",
       "      <td>0.0</td>\n",
       "      <td>0.0</td>\n",
       "      <td>0.0</td>\n",
       "      <td>0.0</td>\n",
       "      <td>0</td>\n",
       "    </tr>\n",
       "  </tbody>\n",
       "</table>\n",
       "<p>5 rows × 785 columns</p>\n",
       "</div>"
      ],
      "text/plain": [
       "   pixel_0  pixel_1  pixel_2  pixel_3  pixel_4   pixel_5  pixel_6  pixel_7  \\\n",
       "0      0.0      0.0      0.0      0.0      0.0  0.000000      0.0      0.0   \n",
       "1      0.0      0.0      0.0      0.0      0.0  0.003922      0.0      0.0   \n",
       "2      0.0      0.0      0.0      0.0      0.0  0.000000      0.0      0.0   \n",
       "3      0.0      0.0      0.0      0.0      0.0  0.000000      0.0      0.0   \n",
       "4      0.0      0.0      0.0      0.0      0.0  0.000000      0.0      0.0   \n",
       "\n",
       "    pixel_8   pixel_9  ...  pixel_775  pixel_776  pixel_777  pixel_778  \\\n",
       "0  0.000000  0.000000  ...   0.000000   0.000000   0.000000        0.0   \n",
       "1  0.000000  0.000000  ...   0.447059   0.509804   0.298039        0.0   \n",
       "2  0.000000  0.086275  ...   0.000000   0.003922   0.000000        0.0   \n",
       "3  0.129412  0.376471  ...   0.000000   0.000000   0.000000        0.0   \n",
       "4  0.000000  0.000000  ...   0.000000   0.000000   0.000000        0.0   \n",
       "\n",
       "   pixel_779  pixel_780  pixel_781  pixel_782  pixel_783  label  \n",
       "0        0.0        0.0        0.0        0.0        0.0      9  \n",
       "1        0.0        0.0        0.0        0.0        0.0      0  \n",
       "2        0.0        0.0        0.0        0.0        0.0      0  \n",
       "3        0.0        0.0        0.0        0.0        0.0      3  \n",
       "4        0.0        0.0        0.0        0.0        0.0      0  \n",
       "\n",
       "[5 rows x 785 columns]"
      ]
     },
     "execution_count": 4,
     "metadata": {},
     "output_type": "execute_result"
    }
   ],
   "source": [
    "train_df = pd.DataFrame(data_list, columns=columns)\n",
    "\n",
    "# Display the first few rows of the DataFrame\n",
    "train_df.head()"
   ]
  },
  {
   "cell_type": "code",
   "execution_count": 5,
   "id": "61327d7e-6cd6-4f4e-b6a0-81d46910271d",
   "metadata": {},
   "outputs": [
    {
     "data": {
      "text/plain": [
       "((60000, 785), (12000, 785))"
      ]
     },
     "execution_count": 5,
     "metadata": {},
     "output_type": "execute_result"
    }
   ],
   "source": [
    "train_df.shape, test_df.shape"
   ]
  },
  {
   "cell_type": "code",
   "execution_count": 6,
   "id": "5309bd9e-66ba-4429-9365-5ffa30d78716",
   "metadata": {},
   "outputs": [
    {
     "data": {
      "text/plain": [
       "pixel_0      0.062745\n",
       "pixel_1      0.141176\n",
       "pixel_2      0.466667\n",
       "pixel_3      0.643137\n",
       "pixel_4      0.878431\n",
       "               ...   \n",
       "pixel_780    1.000000\n",
       "pixel_781    1.000000\n",
       "pixel_782    1.000000\n",
       "pixel_783    0.666667\n",
       "label        9.000000\n",
       "Length: 785, dtype: float64"
      ]
     },
     "execution_count": 6,
     "metadata": {},
     "output_type": "execute_result"
    }
   ],
   "source": [
    "train_df.max()"
   ]
  },
  {
   "cell_type": "markdown",
   "id": "7bc22474-77b2-463e-a431-e0698f020315",
   "metadata": {},
   "source": [
    "## Helper to visualize a row of data - nice for images"
   ]
  },
  {
   "cell_type": "code",
   "execution_count": 7,
   "id": "7a04db97-235a-49bb-b0c2-90b87fe298b4",
   "metadata": {},
   "outputs": [
    {
     "data": {
      "image/png": "[encoded data removed]",
      "text/plain": [
       "<Figure size 640x480 with 1 Axes>"
      ]
     },
     "metadata": {},
     "output_type": "display_data"
    }
   ],
   "source": [
    "# Cell 8: Function to display a greyscale image from a row\n",
    "def show_image_from_row(row, label):\n",
    "    # Reshape the row back to a 28x28 image\n",
    "    image = np.array(row).reshape(28, 28)\n",
    "    \n",
    "    # Plot the image\n",
    "    plt.imshow(image, cmap=\"gray\")\n",
    "    plt.title(f\"Label: {label}\")\n",
    "    plt.axis(\"off\")\n",
    "    plt.show()\n",
    "\n",
    "# Example: Display an image from the DataFrame\n",
    "example_row = train_df.iloc[1, :-1]  # First row (pixels only)\n",
    "example_label = train_df.iloc[1, -1]  # Corresponding label\n",
    "show_image_from_row(example_row, example_label)\n"
   ]
  },
  {
   "cell_type": "code",
   "execution_count": 8,
   "id": "00e18af8-8056-449e-99ac-83926c181296",
   "metadata": {},
   "outputs": [],
   "source": [
    "# Labels\n",
    "\n",
    "# Each training and test example is assigned to one of the following labels:\n",
    "\n",
    "# 0 T-shirt/top\n",
    "# 1 Trouser\n",
    "# 2 Pullover\n",
    "# 3 Dress\n",
    "# 4 Coat\n",
    "# 5 Sandal\n",
    "# 6 Shirt\n",
    "# 7 Sneaker\n",
    "# 8 Bag\n",
    "# 9 Ankle boot"
   ]
  },
  {
   "cell_type": "markdown",
   "id": "95f91906-d2e8-4c3c-8f6b-f9d26e8786b7",
   "metadata": {},
   "source": [
    "## Example Dataloader"
   ]
  },
  {
   "cell_type": "code",
   "execution_count": 9,
   "id": "37cc7cc7-b993-4577-8e90-46ac0404097c",
   "metadata": {},
   "outputs": [],
   "source": [
    "\n",
    "# Define a custom Dataset class\n",
    "class CustomDataset(Dataset):\n",
    "    def __init__(self, dataframe):\n",
    "        \"\"\"\n",
    "        Initialize the dataset by passing a DataFrame.\n",
    "        Args:\n",
    "            dataframe (pd.DataFrame): DataFrame with pixel data and labels.\n",
    "        \"\"\"\n",
    "        self.data = dataframe.iloc[:, :-1].values  # Features (all columns except the last)\n",
    "        self.labels = dataframe.iloc[:, -1].values  # Labels (last column)\n",
    "\n",
    "    def __len__(self):\n",
    "        \"\"\"\n",
    "        Return the total number of samples in the dataset.\n",
    "        \"\"\"\n",
    "        return len(self.labels)\n",
    "\n",
    "    def __getitem__(self, idx):\n",
    "        \"\"\"\n",
    "        Retrieve a single sample from the dataset.\n",
    "        Args:\n",
    "            idx (int): Index of the sample to retrieve.\n",
    "        Returns:\n",
    "            (torch.Tensor, torch.Tensor): Tuple of features and label.\n",
    "        \"\"\"\n",
    "        # Convert the features and label to tensors\n",
    "        features = torch.tensor(self.data[idx], dtype=torch.float32)\n",
    "        label = torch.tensor(self.labels[idx], dtype=torch.long)\n",
    "        return features, label\n",
    "\n"
   ]
  },
  {
   "cell_type": "code",
   "execution_count": 10,
   "id": "10d4ea93-1ac5-4072-a741-ed35f7344dd7",
   "metadata": {},
   "outputs": [],
   "source": [
    "# Function to split the DataFrame and create DataLoaders\n",
    "def create_train_test_dataloaders(dataframe, test_size=0.2, batch_size=64, shuffle=True):\n",
    "    \"\"\"\n",
    "    Split the DataFrame into train and test sets and create DataLoaders.\n",
    "    Args:\n",
    "        dataframe (pd.DataFrame): DataFrame containing the data.\n",
    "        test_size (float): Proportion of the data to be used as test data.\n",
    "        batch_size (int): Number of samples per batch.\n",
    "        shuffle (bool): Whether to shuffle the data.\n",
    "    Returns:\n",
    "        tuple: (train_loader, test_loader)\n",
    "    \"\"\"\n",
    "    # Split the data into train and test sets\n",
    "    train_df, test_df = train_test_split(dataframe, test_size=test_size, random_state=42)\n",
    "    \n",
    "    # Create train and test datasets\n",
    "    train_dataset = CustomDataset(train_df)\n",
    "    test_dataset = CustomDataset(test_df)\n",
    "    \n",
    "    # Create DataLoaders for train and test sets\n",
    "    train_loader = DataLoader(train_dataset, batch_size=batch_size, shuffle=shuffle)\n",
    "    test_loader = DataLoader(test_dataset, batch_size=batch_size, shuffle=False)\n",
    "    \n",
    "    return train_loader, test_loader"
   ]
  },
  {
   "cell_type": "code",
   "execution_count": 11,
   "id": "6bd4ddcf-2c38-4aef-8c48-e371c48c666b",
   "metadata": {},
   "outputs": [],
   "source": [
    "# ## command + /\n",
    "\n",
    "# # Example usage: Creating train and test DataLoaders\n",
    "# train_loader, test_loader = create_train_test_dataloaders(train_df, test_size=0.2, batch_size=32)\n",
    "\n",
    "# # Example: Check the first batch from the train DataLoader\n",
    "# for batch_idx, (features, labels) in enumerate(train_loader):\n",
    "#     print(f\"Train Batch {batch_idx + 1}\")\n",
    "#     print(\"Features shape:\", features.shape)\n",
    "#     print(\"Labels shape:\", labels.shape)\n",
    "#     break  # Display only the first batch\n",
    "\n",
    "# # Example: Check the first batch from the test DataLoader\n",
    "# for batch_idx, (features, labels) in enumerate(test_loader):\n",
    "#     print(f\"Test Batch {batch_idx + 1}\")\n",
    "#     print(\"Features shape:\", features.shape)\n",
    "#     print(\"Labels shape:\", labels.shape)\n",
    "#     break  # Display only the first batch"
   ]
  },
  {
   "cell_type": "markdown",
   "id": "3cd6666c-094c-46f6-94e3-202970a58c6c",
   "metadata": {},
   "source": [
    "## Manually Build dataloaders"
   ]
  },
  {
   "cell_type": "code",
   "execution_count": 12,
   "id": "3919e8ab-f84f-4f2b-90f0-5f148fdd7fed",
   "metadata": {},
   "outputs": [],
   "source": [
    "# # Cell 2: Create a DataLoader\n",
    "\n",
    "\n",
    "# # Convert the DataFrame back to PyTorch tensors\n",
    "# X_train = torch.tensor(train_df.iloc[:, :-1].values, dtype=torch.float32)  # All pixels\n",
    "# y_train = torch.tensor(train_df[\"label\"].values, dtype=torch.long)  # Labels\n",
    "# # Convert the DataFrame back to PyTorch tensors\n",
    "# X_test = torch.tensor(test_df.iloc[:, :-1].values, dtype=torch.float32)  # All pixels\n",
    "# y_test = torch.tensor(test_df[\"label\"].values, dtype=torch.long)  # Labels\n",
    "\n",
    "# # Create a TensorDataset\n",
    "# train_dataset = TensorDataset(X_train, y_train)\n",
    "# test_dataset = TensorDataset(X_test, y_test)\n",
    "\n",
    "# # Create a DataLoader for batching and shuffling\n",
    "# batch_size = 32  # Number of samples per batch\n",
    "# train_loader = DataLoader(train_dataset, batch_size=batch_size, shuffle=True)\n",
    "# test_loader = DataLoader(test_dataset, batch_size=batch_size, shuffle=True)\n",
    "\n"
   ]
  },
  {
   "cell_type": "code",
   "execution_count": 13,
   "id": "0e96a1bc-a339-4065-b16e-5272e39d117a",
   "metadata": {},
   "outputs": [
    {
     "name": "stdout",
     "output_type": "stream",
     "text": [
      "Image batch shape: torch.Size([32, 1, 28, 28])\n",
      "Label batch shape: torch.Size([32])\n"
     ]
    }
   ],
   "source": [
    "\n",
    "# Reshape images to 2D format [batch_size, 1, 28, 28]\n",
    "X_train = torch.tensor(train_df.iloc[:, :-1].values, dtype=torch.float32).view(-1, 1, 28, 28) / 255.0  # Normalize\n",
    "X_train = torch.tensor(train_df.iloc[:, :-1].values, dtype=torch.float32).view(-1, 1, 28, 28) / 255.0  # Normalize\n",
    "\n",
    "y_train = torch.tensor(train_df[\"label\"].values, dtype=torch.long)\n",
    "#y_train = torch.tensor(train_df[\"label\"].values, dtype=torch.long).view(-1, 1)  # Adds an extra dimension\n",
    "\n",
    "X_test = torch.tensor(test_df.iloc[:, :-1].values, dtype=torch.float32).view(-1, 1, 28, 28) / 255.0  # Normalize\n",
    "y_test = torch.tensor(test_df[\"label\"].values, dtype=torch.long)\n",
    "#y_train = torch.tensor(train_df[\"label\"].values, dtype=torch.long).view(-1, 1)  # Adds an extra dimension\n",
    "\n",
    "# Create PyTorch Datasets\n",
    "train_dataset = TensorDataset(X_train, y_train)\n",
    "test_dataset = TensorDataset(X_test, y_test)\n",
    "\n",
    "# Create DataLoaders for batching\n",
    "batch_size = 32\n",
    "train_loader = DataLoader(train_dataset, batch_size=batch_size, shuffle=True)\n",
    "test_loader = DataLoader(test_dataset, batch_size=batch_size, shuffle=False)\n",
    "\n",
    "# Print shape of a single batch to verify correctness\n",
    "sample_images, sample_labels = next(iter(train_loader))\n",
    "print(f\"Image batch shape: {sample_images.shape}\")  # Expected: [64, 1, 28, 28]\n",
    "print(f\"Label batch shape: {sample_labels.shape}\")  # Expected: [64]\n"
   ]
  },
  {
   "cell_type": "code",
   "execution_count": 14,
   "id": "5e0ed4f6-35b7-46f4-b2b0-910b04caaaf2",
   "metadata": {},
   "outputs": [
    {
     "name": "stdout",
     "output_type": "stream",
     "text": [
      "Batch size: torch.Size([32, 1, 28, 28]), Labels: torch.Size([32])\n",
      "Batch size: torch.Size([32, 1, 28, 28]), Labels: torch.Size([32])\n"
     ]
    }
   ],
   "source": [
    "# Example: Check the first batch\n",
    "for batch in train_loader:\n",
    "    images, labels = batch\n",
    "    print(f\"Batch size: {images.shape}, Labels: {labels.shape}\")\n",
    "    break\n",
    "# Example: Check the first batch\n",
    "for batch in test_loader:\n",
    "    images, labels = batch\n",
    "    print(f\"Batch size: {images.shape}, Labels: {labels.shape}\")\n",
    "    break"
   ]
  },
  {
   "cell_type": "code",
   "execution_count": null,
   "id": "977c7cbc-e0f7-42eb-895a-e5ae019453a8",
   "metadata": {},
   "outputs": [],
   "source": []
  },
  {
   "cell_type": "code",
   "execution_count": 15,
   "id": "fed96bbf-bdec-4491-b486-1567c3743339",
   "metadata": {},
   "outputs": [],
   "source": [
    "# # Cell 3: Define the neural network\n",
    "\n",
    "# # Define a feedforward network for classification\n",
    "# class SimpleNN(nn.Module):\n",
    "#     def __init__(self, input_size, hidden_size, num_classes):\n",
    "#         super(SimpleNN, self).__init__()\n",
    "#         self.fc1 = nn.Linear(input_size, hidden_size)  # First fully connected layer\n",
    "#         self.relu = nn.ReLU()\n",
    "#         self.fc2 = nn.Linear(hidden_size, num_classes)\n",
    "\n",
    "#     def forward(self, x):\n",
    "#         x = self.fc1(x)  # First layer\n",
    "#         x = self.relu(x)\n",
    "#         x = self.fc2(x)  # Output layer\n",
    "#         return x\n",
    "\n"
   ]
  },
  {
   "cell_type": "code",
   "execution_count": 16,
   "id": "1fb5692f-b529-492e-bff2-e25c302dab48",
   "metadata": {},
   "outputs": [],
   "source": [
    "\n",
    "class CustomCNN(nn.Module):\n",
    "    def __init__(self, num_classes=10, kernel_size=3, stride=1, padding=1, dropout_prob=0.5):\n",
    "        \"\"\"\n",
    "        Custom CNN with LeakyReLU to prevent dead neurons.\n",
    "        \n",
    "        Args:\n",
    "            num_classes (int): Number of output classes.\n",
    "            kernel_size (int): Size of the convolutional kernel.\n",
    "            stride (int): Stride length for convolution.\n",
    "            padding (int): Padding for convolution.\n",
    "            dropout_prob (float): Dropout probability.\n",
    "        \"\"\"\n",
    "        super(CustomCNN, self).__init__()\n",
    "\n",
    "        # Convolutional layers\n",
    "        self.conv1 = nn.Conv2d(in_channels=1, out_channels=8, kernel_size=kernel_size, stride=stride, padding=padding)\n",
    "        self.conv2 = nn.Conv2d(in_channels=8, out_channels=16, kernel_size=kernel_size, stride=stride, padding=padding)\n",
    "        \n",
    "        # Pooling and Dropout\n",
    "        self.pool = nn.MaxPool2d(kernel_size=2, stride=2)  # Reduces spatial size by half\n",
    "        self.dropout = nn.Dropout(dropout_prob)  # Regularization\n",
    "        \n",
    "        # Activation function (LeakyReLU instead of ReLU)\n",
    "        self.leaky_relu = nn.LeakyReLU(negative_slope=0.01)  # ✅ Prevents dead neurons\n",
    "\n",
    "        # Fully connected layers\n",
    "        self.fc1 = nn.Linear(16 * 7 * 7, 100)  # Bottleneck layer (Embedding Space)\n",
    "        self.fc2 = nn.Linear(100, num_classes)  # Final classification layer\n",
    "\n",
    "    def forward(self, x):\n",
    "        \"\"\"\n",
    "        Forward pass with LeakyReLU.\n",
    "        \"\"\"\n",
    "        x = self.leaky_relu(self.conv1(x))\n",
    "        x = self.pool(x)\n",
    "\n",
    "        x = self.leaky_relu(self.conv2(x))\n",
    "        x = self.pool(x)\n",
    "\n",
    "        x = x.view(x.size(0), -1)\n",
    "    \n",
    "        x = self.leaky_relu(self.fc1(x))  # Bottleneck layer\n",
    "        x = self.dropout(x)\n",
    "\n",
    "        out = self.fc2(x)  # Final classification layer\n",
    "    \n",
    "        return out  # Return only logits\n"
   ]
  },
  {
   "cell_type": "code",
   "execution_count": 17,
   "id": "3b4bb09e-03e2-4005-be42-c5e2d81c97f3",
   "metadata": {},
   "outputs": [],
   "source": [
    "# # Initialize the model\n",
    "# input_size = 784  # 784 input features (flattened image)\n",
    "# hidden_size = 256  # Number of neurons in the hidden layer\n",
    "# num_classes = 10  # 10 classes for Fashion MNIST\n"
   ]
  },
  {
   "cell_type": "code",
   "execution_count": 18,
   "id": "882d1f84-58ef-4816-981d-81a40dcf7956",
   "metadata": {},
   "outputs": [],
   "source": [
    "# model = SimpleNN(input_size, hidden_size, num_classes)\n",
    "\n",
    "# # Print the model architecture\n",
    "# print(model)"
   ]
  },
  {
   "cell_type": "code",
   "execution_count": 19,
   "id": "7ab1a026-f416-4e22-bab7-f8a5aa170c67",
   "metadata": {},
   "outputs": [
    {
     "name": "stdout",
     "output_type": "stream",
     "text": [
      "CustomCNN(\n",
      "  (conv1): Conv2d(1, 8, kernel_size=(3, 3), stride=(1, 1), padding=(1, 1))\n",
      "  (conv2): Conv2d(8, 16, kernel_size=(3, 3), stride=(1, 1), padding=(1, 1))\n",
      "  (pool): MaxPool2d(kernel_size=2, stride=2, padding=0, dilation=1, ceil_mode=False)\n",
      "  (dropout): Dropout(p=0.5, inplace=False)\n",
      "  (leaky_relu): LeakyReLU(negative_slope=0.01)\n",
      "  (fc1): Linear(in_features=784, out_features=100, bias=True)\n",
      "  (fc2): Linear(in_features=100, out_features=10, bias=True)\n",
      ")\n"
     ]
    }
   ],
   "source": [
    "# constructor: num_classes=10, kernel_size=3, stride=1, padding=1, dropout_prob=0.5\n",
    "model = CustomCNN(num_classes=10, kernel_size=3, stride=1, padding=1, dropout_prob=0.5)\n",
    "\n",
    "# Print the model architecture\n",
    "print(model)"
   ]
  },
  {
   "cell_type": "code",
   "execution_count": 20,
   "id": "e91b48df-879a-4318-b7ab-4772d77a47fb",
   "metadata": {},
   "outputs": [],
   "source": [
    "# Cell 4: Define hyperparameters\n",
    "learning_rate = 0.0005\n",
    "num_epochs = 10\n",
    "#batch_size = 64\n",
    "\n",
    "# Define the loss function and optimizer\n",
    "criterion = nn.CrossEntropyLoss()  # Cross-entropy loss for multi-class classification\n",
    "optimizer = torch.optim.Adam(model.parameters(), lr=learning_rate)\n"
   ]
  },
  {
   "cell_type": "markdown",
   "id": "4f7c6c8b-58c8-45bd-8d61-cde8ccf9fa0a",
   "metadata": {},
   "source": [
    "### for later!"
   ]
  },
  {
   "cell_type": "code",
   "execution_count": 21,
   "id": "1832696a-d277-4eac-9397-67deeb7e8ec6",
   "metadata": {},
   "outputs": [
    {
     "name": "stdout",
     "output_type": "stream",
     "text": [
      "Using mps device\n"
     ]
    }
   ],
   "source": [
    "device = (\n",
    "    \"cuda\"\n",
    "    if torch.cuda.is_available()\n",
    "    else \"mps\"\n",
    "    if torch.backends.mps.is_available()\n",
    "    else \"cpu\"\n",
    ")\n",
    "model.to(device)\n",
    "print(f\"Using {device} device\")\n"
   ]
  },
  {
   "cell_type": "markdown",
   "id": "34623666-a418-4165-99db-f899cb05ad8d",
   "metadata": {},
   "source": [
    "## Model Training"
   ]
  },
  {
   "cell_type": "code",
   "execution_count": 22,
   "id": "a7f4d01e-598e-48af-a60d-fd467cacfe41",
   "metadata": {},
   "outputs": [
    {
     "name": "stdout",
     "output_type": "stream",
     "text": [
      "Epoch [1/10], Loss: 2.1210\n",
      "Epoch [2/10], Loss: 0.7783\n",
      "Epoch [3/10], Loss: 0.6726\n",
      "Epoch [4/10], Loss: 0.6257\n",
      "Epoch [5/10], Loss: 0.5946\n",
      "Epoch [6/10], Loss: 0.5664\n",
      "Epoch [7/10], Loss: 0.5456\n",
      "Epoch [8/10], Loss: 0.5214\n",
      "Epoch [9/10], Loss: 0.5023\n",
      "Epoch [10/10], Loss: 0.4880\n"
     ]
    }
   ],
   "source": [
    "# Training the model\n",
    "for epoch in range(num_epochs):\n",
    "    model.train()  # Set the model to training mode\n",
    "    total_loss = 0\n",
    "\n",
    "    for rows, labels in train_loader:\n",
    "        # Forward pass\n",
    "        outputs = model(rows.to(device))\n",
    "        loss = criterion(outputs, labels.to(device))\n",
    "\n",
    "        # Backward pass\n",
    "        optimizer.zero_grad()  # Clear previous gradients\n",
    "        loss.backward()  # Compute gradients\n",
    "        #for name, param in model.named_parameters():\n",
    "         #   if param.grad is not None:\n",
    "          #      print(f\"{name}: Mean Grad: {param.grad.mean():.6f}\")\n",
    "        optimizer.step()  # Update weights\n",
    "        #for name, param in model.named_parameters():\n",
    "         #   if param.grad is not None:\n",
    "          #      print(f\"{name}: Mean Grad: {param.grad.mean():.6f}\")\n",
    "\n",
    "        total_loss += loss.item()\n",
    "\n",
    "    print(f\"Epoch [{epoch+1}/{num_epochs}], Loss: {total_loss/len(train_loader):.4f}\")\n"
   ]
  },
  {
   "cell_type": "markdown",
   "id": "23975eea-fb46-4886-bd99-40a1d87806b1",
   "metadata": {},
   "source": [
    "## Saving and loading a model"
   ]
  },
  {
   "cell_type": "code",
   "execution_count": 23,
   "id": "b476dab9-c164-4b55-af0a-0c1781d4468c",
   "metadata": {},
   "outputs": [],
   "source": [
    "# Save the model after training\n",
    "# torch.save(model.state_dict(), \"fashion_mnist_model.pth\")\n",
    "# print(\"Model saved as 'fashion_mnist_model.pth'\")\n"
   ]
  },
  {
   "cell_type": "code",
   "execution_count": 24,
   "id": "afe5acba-af8a-4b47-8c86-c82f85a57986",
   "metadata": {},
   "outputs": [
    {
     "name": "stdout",
     "output_type": "stream",
     "text": [
      "Model saved as 'fashion_mnist_cnn.pth'\n"
     ]
    }
   ],
   "source": [
    "torch.save(model.state_dict(), \"fashion_mnist_cnn.pth\")\n",
    "print(\"Model saved as 'fashion_mnist_cnn.pth'\")"
   ]
  },
  {
   "cell_type": "code",
   "execution_count": 25,
   "id": "f453b346-9e16-499e-b625-390fdf05c548",
   "metadata": {},
   "outputs": [],
   "source": [
    "# # Load the saved model for inference\n",
    "# model = SimpleNN(input_size, hidden_size, num_classes)  # Reinitialize the model structure\n",
    "# model.load_state_dict(torch.load(\"fashion_mnist_model.pth\"))\n",
    "# model.eval()  # Set the model to evaluation mode\n",
    "# print(\"Model loaded and ready for inference.\")\n"
   ]
  },
  {
   "cell_type": "code",
   "execution_count": 26,
   "id": "49c6f1ff-1597-4c6d-aa9b-ae2f591f7dc9",
   "metadata": {},
   "outputs": [
    {
     "name": "stdout",
     "output_type": "stream",
     "text": [
      "Model loaded and ready for inference.\n"
     ]
    }
   ],
   "source": [
    "# Load the saved model for inference\n",
    "model = CustomCNN(num_classes=10, kernel_size=3, stride=1, padding=1, dropout_prob=0.0) # Reinitialize the model structure\n",
    "model.load_state_dict(torch.load(\"fashion_mnist_cnn.pth\"))\n",
    "model.eval()  # Set the model to evaluation mode\n",
    "print(\"Model loaded and ready for inference.\")\n"
   ]
  },
  {
   "cell_type": "code",
   "execution_count": null,
   "id": "f560b056-d02f-4806-83d7-c1758ec17cb6",
   "metadata": {},
   "outputs": [],
   "source": []
  },
  {
   "cell_type": "code",
   "execution_count": 27,
   "id": "5b93f4aa-dd26-40a1-b787-bde14fdeae74",
   "metadata": {},
   "outputs": [
    {
     "name": "stdout",
     "output_type": "stream",
     "text": [
      "Accuracy: 84.34%\n"
     ]
    }
   ],
   "source": [
    "# Cell 6: Inference loop\n",
    "# Running inference\n",
    "model.eval()  # Set the model to evaluation mode (disables dropout, etc.)\n",
    "correct = 0\n",
    "total = 0\n",
    "\n",
    "with torch.no_grad():  # Disable gradient computation for efficiency\n",
    "    for images, labels in test_loader:\n",
    "        outputs = model(images)\n",
    "        _, predicted = torch.max(outputs, 1)  # Get the predicted class\n",
    "        total += labels.size(0)\n",
    "        correct += (predicted == labels).sum().item()\n",
    "\n",
    "accuracy = correct / total * 100\n",
    "print(f\"Accuracy: {accuracy:.2f}%\")\n"
   ]
  },
  {
   "cell_type": "code",
   "execution_count": null,
   "id": "ee62328d-402a-4070-9291-755c2a73909b",
   "metadata": {},
   "outputs": [],
   "source": []
  },
  {
   "cell_type": "code",
   "execution_count": 28,
   "id": "19e6d898-a518-4a8c-aec7-ba27404a59a4",
   "metadata": {},
   "outputs": [
    {
     "data": {
      "image/png": "[encoded data removed]",
      "text/plain": [
       "<Figure size 640x480 with 2 Axes>"
      ]
     },
     "metadata": {},
     "output_type": "display_data"
    }
   ],
   "source": [
    "\n",
    "# Generate predictions for the entire dataset\n",
    "all_labels = []\n",
    "all_predictions = []\n",
    "\n",
    "model.eval()\n",
    "with torch.no_grad():\n",
    "    for images, labels in test_loader:\n",
    "        outputs = model(images)\n",
    "        _, predicted = torch.max(outputs, 1)\n",
    "        all_labels.extend(labels.numpy())\n",
    "        all_predictions.extend(predicted.numpy())\n",
    "\n",
    "# Compute and plot the confusion matrix\n",
    "cm = confusion_matrix(all_labels, all_predictions)\n",
    "disp = ConfusionMatrixDisplay(confusion_matrix=cm, display_labels=list(range(10)))\n",
    "disp.plot(cmap=plt.cm.Blues)\n",
    "plt.title(\"Confusion Matrix\")\n",
    "plt.show()\n"
   ]
  },
  {
   "cell_type": "markdown",
   "id": "e79eadfc-1464-4321-9daa-a3203e84e0dc",
   "metadata": {},
   "source": [
    "### Inspect a row of data"
   ]
  },
  {
   "cell_type": "code",
   "execution_count": 29,
   "id": "ef629ac2-a678-424f-9433-b93215267a92",
   "metadata": {},
   "outputs": [
    {
     "name": "stdout",
     "output_type": "stream",
     "text": [
      "Logits: [[  265.5123    -123.63881      8.010638    64.29213    191.65605\n",
      "  -1852.9307      86.454926 -1589.3906    -384.50357  -1001.9626  ]]\n",
      "Softmax Probabilities: [[1.00000e+00 0.00000e+00 0.00000e+00 0.00000e+00 8.40697e-33 0.00000e+00\n",
      "  0.00000e+00 0.00000e+00 0.00000e+00 0.00000e+00]]\n",
      "Correct Label: 3\n",
      "Predicted Label: 0\n"
     ]
    },
    {
     "data": {
      "text/plain": [
       "0"
      ]
     },
     "execution_count": 29,
     "metadata": {},
     "output_type": "execute_result"
    }
   ],
   "source": [
    "# Helper function to run inference on a single row of data\n",
    "def run_inference_on_row(row, label, model):\n",
    "    # Convert the row into a tensor\n",
    "    row_tensor = torch.tensor(row.values, dtype=torch.float32).view(-1, 1, 28, 28)  # Add batch dimension\n",
    "    #torch.tensor(train_df.iloc[:, :-1].values, dtype=torch.float32).view(-1, 1, 28, 28) / 255.0\n",
    "\n",
    "    # Perform inference\n",
    "    with torch.no_grad():\n",
    "        logits = model(row_tensor)  # Raw logits\n",
    "        probabilities = torch.softmax(logits, dim=1)  # Apply softmax to convert logits to probabilities\n",
    "\n",
    "    # Get predicted label\n",
    "    predicted_label = torch.argmax(probabilities).item()\n",
    "\n",
    "    # Print details\n",
    "    print(\"Logits:\", logits.numpy())\n",
    "    print(\"Softmax Probabilities:\", probabilities.numpy())\n",
    "    print(\"Correct Label:\", label)\n",
    "    print(\"Predicted Label:\", predicted_label)\n",
    "\n",
    "    return predicted_label\n",
    "\n",
    "# Example: Run inference on a single row\n",
    "example_row = test_df.iloc[10, :-1]  # 10th row (pixels only)\n",
    "example_label = test_df.iloc[10, -1]  # Corresponding label\n",
    "run_inference_on_row(example_row, example_label, model)"
   ]
  },
  {
   "cell_type": "code",
   "execution_count": 30,
   "id": "2a60cd76-3af6-4882-b79e-0d6a194ef570",
   "metadata": {},
   "outputs": [],
   "source": [
    "### Display examples of correct and incorrect predictions"
   ]
  },
  {
   "cell_type": "code",
   "execution_count": 31,
   "id": "187fcc0c-4760-4832-8ee9-ee1c4b0c6bed",
   "metadata": {},
   "outputs": [],
   "source": [
    "\n",
    "def display_examples(data_df, model, correct=True, num_examples=3):\n",
    "    count = 0\n",
    "    plt.figure(figsize=(10, 5))\n",
    "\n",
    "    for idx, row in data_df.iterrows():\n",
    "        if count >= num_examples:\n",
    "            break\n",
    "\n",
    "        # Extract image and label\n",
    "        image_row = row[:-1]\n",
    "        true_label = row[-1]\n",
    "\n",
    "        # Run inference\n",
    "        predicted_label = run_inference_on_row(image_row, true_label, model)\n",
    "\n",
    "        # Check if prediction is correct\n",
    "        if (predicted_label == true_label and correct) or (predicted_label != true_label and not correct):\n",
    "            # Plot the image\n",
    "            plt.subplot(1, num_examples, count + 1)\n",
    "            image = image_row.values.reshape(28, 28)  # Reshape to 28x28\n",
    "            plt.imshow(image, cmap=\"gray\")\n",
    "            plt.title(f\"True: {true_label}, Pred: {predicted_label}\")\n",
    "            plt.axis(\"off\")\n",
    "            count += 1\n",
    "\n",
    "\n",
    "\n",
    "\n"
   ]
  },
  {
   "cell_type": "code",
   "execution_count": 32,
   "id": "7a882db3-f783-431d-b340-405764002091",
   "metadata": {},
   "outputs": [
    {
     "name": "stdout",
     "output_type": "stream",
     "text": [
      "Examples of Correct Predictions:\n",
      "Logits: [[-2.2448215e+03 -4.1073574e+03 -2.6588936e+03 -1.2827191e+03\n",
      "  -2.1869131e+03  1.2326274e+03 -2.2238921e+03  9.9855829e+02\n",
      "   1.1818310e+00  2.1667957e+03]]\n",
      "Softmax Probabilities: [[0. 0. 0. 0. 0. 0. 0. 0. 0. 1.]]\n",
      "Correct Label: 9.0\n",
      "Predicted Label: 9\n",
      "Logits: [[ 1133.7205  -1260.4954   -307.2243   -279.54544 -1348.6276  -2206.214\n",
      "    809.651   -3314.283      97.00193 -2949.575  ]]\n",
      "Softmax Probabilities: [[1. 0. 0. 0. 0. 0. 0. 0. 0. 0.]]\n",
      "Correct Label: 0.0\n",
      "Predicted Label: 0\n",
      "Logits: [[  -11.55262    671.57025    -25.867374    44.627487   403.30914\n",
      "  -1546.289     -232.1152   -1338.7604    -898.2037   -1373.4668  ]]\n",
      "Softmax Probabilities: [[0. 1. 0. 0. 0. 0. 0. 0. 0. 0.]]\n",
      "Correct Label: 0.0\n",
      "Predicted Label: 1\n",
      "Logits: [[  290.36072    394.65903     31.533707   284.39847    -72.177895\n",
      "  -1902.6302     255.7785   -2169.8606    -621.3039   -1854.4895  ]]\n",
      "Softmax Probabilities: [[0. 1. 0. 0. 0. 0. 0. 0. 0. 0.]]\n",
      "Correct Label: 3.0\n",
      "Predicted Label: 1\n",
      "Logits: [[  167.34518   538.28265  -294.17795   396.78543   191.58902 -2288.1208\n",
      "   -298.80502 -1964.6646   -795.76556 -2358.5916 ]]\n",
      "Softmax Probabilities: [[0. 1. 0. 0. 0. 0. 0. 0. 0. 0.]]\n",
      "Correct Label: 0.0\n",
      "Predicted Label: 1\n",
      "Logits: [[  149.45334   220.26549   602.1794   -218.91466   260.8098  -1735.5369\n",
      "    268.20828 -2771.3635   -306.05753 -2233.6897 ]]\n",
      "Softmax Probabilities: [[0. 0. 1. 0. 0. 0. 0. 0. 0. 0.]]\n",
      "Correct Label: 2.0\n",
      "Predicted Label: 2\n"
     ]
    },
    {
     "name": "stderr",
     "output_type": "stream",
     "text": [
      "/var/folders/83/s01xl68d2q3gdtkbr5ptq6nc0000gn/T/ipykernel_35107/3303586380.py:11: FutureWarning: Series.__getitem__ treating keys as positions is deprecated. In a future version, integer keys will always be treated as labels (consistent with DataFrame behavior). To access a value by position, use `ser.iloc[pos]`\n",
      "  true_label = row[-1]\n"
     ]
    },
    {
     "data": {
      "image/png": "[encoded data removed]",
      "text/plain": [
       "<Figure size 1000x500 with 3 Axes>"
      ]
     },
     "metadata": {},
     "output_type": "display_data"
    }
   ],
   "source": [
    "# Example: Show 3 correct predictions\n",
    "print(\"Examples of Correct Predictions:\")\n",
    "display_examples(train_df, model, correct=True, num_examples=3)\n",
    "plt.show()"
   ]
  },
  {
   "cell_type": "code",
   "execution_count": 33,
   "id": "eb4bfd43-bb28-49a7-a7bc-1d4e9a8c65a2",
   "metadata": {},
   "outputs": [
    {
     "name": "stderr",
     "output_type": "stream",
     "text": [
      "/var/folders/83/s01xl68d2q3gdtkbr5ptq6nc0000gn/T/ipykernel_35107/3303586380.py:11: FutureWarning: Series.__getitem__ treating keys as positions is deprecated. In a future version, integer keys will always be treated as labels (consistent with DataFrame behavior). To access a value by position, use `ser.iloc[pos]`\n",
      "  true_label = row[-1]\n"
     ]
    },
    {
     "name": "stdout",
     "output_type": "stream",
     "text": [
      "Examples of Incorrect Predictions:\n",
      "Logits: [[-2.2448215e+03 -4.1073574e+03 -2.6588936e+03 -1.2827191e+03\n",
      "  -2.1869131e+03  1.2326274e+03 -2.2238921e+03  9.9855829e+02\n",
      "   1.1818310e+00  2.1667957e+03]]\n",
      "Softmax Probabilities: [[0. 0. 0. 0. 0. 0. 0. 0. 0. 1.]]\n",
      "Correct Label: 9.0\n",
      "Predicted Label: 9\n",
      "Logits: [[ 1133.7205  -1260.4954   -307.2243   -279.54544 -1348.6276  -2206.214\n",
      "    809.651   -3314.283      97.00193 -2949.575  ]]\n",
      "Softmax Probabilities: [[1. 0. 0. 0. 0. 0. 0. 0. 0. 0.]]\n",
      "Correct Label: 0.0\n",
      "Predicted Label: 0\n",
      "Logits: [[  -11.55262    671.57025    -25.867374    44.627487   403.30914\n",
      "  -1546.289     -232.1152   -1338.7604    -898.2037   -1373.4668  ]]\n",
      "Softmax Probabilities: [[0. 1. 0. 0. 0. 0. 0. 0. 0. 0.]]\n",
      "Correct Label: 0.0\n",
      "Predicted Label: 1\n",
      "Logits: [[  290.36072    394.65903     31.533707   284.39847    -72.177895\n",
      "  -1902.6302     255.7785   -2169.8606    -621.3039   -1854.4895  ]]\n",
      "Softmax Probabilities: [[0. 1. 0. 0. 0. 0. 0. 0. 0. 0.]]\n",
      "Correct Label: 3.0\n",
      "Predicted Label: 1\n",
      "Logits: [[  167.34518   538.28265  -294.17795   396.78543   191.58902 -2288.1208\n",
      "   -298.80502 -1964.6646   -795.76556 -2358.5916 ]]\n",
      "Softmax Probabilities: [[0. 1. 0. 0. 0. 0. 0. 0. 0. 0.]]\n",
      "Correct Label: 0.0\n",
      "Predicted Label: 1\n"
     ]
    },
    {
     "data": {
      "image/png": "[encoded data removed]",
      "text/plain": [
       "<Figure size 1000x500 with 3 Axes>"
      ]
     },
     "metadata": {},
     "output_type": "display_data"
    }
   ],
   "source": [
    "# Example: Show 3 incorrect predictions\n",
    "print(\"Examples of Incorrect Predictions:\")\n",
    "display_examples(train_df, model, correct=False, num_examples=3)\n",
    "plt.show()"
   ]
  },
  {
   "cell_type": "code",
   "execution_count": null,
   "id": "34d5a1dd-084d-4245-84ed-a32898f82d03",
   "metadata": {},
   "outputs": [],
   "source": []
  },
  {
   "cell_type": "code",
   "execution_count": 45,
   "id": "d1b44d41-41fc-4cc6-90b3-f931f6a9c2f9",
   "metadata": {},
   "outputs": [],
   "source": [
    "import torch\n",
    "import numpy as np\n",
    "import math\n",
    "from torch.utils.tensorboard import SummaryWriter\n",
    "from torchvision.utils import make_grid\n",
    "\n",
    "def create_tensorboard_visualization(model_path, dataloader, device, log_dir=\"runs/fashion_mnist\"):\n",
    "    \"\"\"\n",
    "    Reads the trained model, creates a TensorBoard visualization of:\n",
    "    - The embedding space with labels and images\n",
    "    - Sample images\n",
    "\n",
    "    Args:\n",
    "        model_path (str): Path to the trained model file.\n",
    "        dataloader (DataLoader): DataLoader for the dataset.\n",
    "        device (torch.device): Device to load the model and data on.\n",
    "        log_dir (str): Directory where TensorBoard logs will be saved.\n",
    "\n",
    "    Returns:\n",
    "        None\n",
    "    \"\"\"\n",
    "    # Ensure `device` is a `torch.device` object\n",
    "    if isinstance(device, str):\n",
    "        device = torch.device(device)\n",
    "\n",
    "    # Load the trained model\n",
    "    model = CustomCNN(num_classes=10, kernel_size=3, stride=1, padding=1, dropout_prob=0.0)\n",
    "    model.load_state_dict(torch.load(model_path, map_location=device))\n",
    "    model.to(device)\n",
    "    model.eval()  # Set model to evaluation mode\n",
    "    \n",
    "    # Initialize TensorBoard writer\n",
    "    writer = SummaryWriter(log_dir=log_dir)\n",
    "    \n",
    "    # Store features and labels for embedding visualization\n",
    "    features_list = []\n",
    "    labels_list = []\n",
    "    images_list = []\n",
    "\n",
    "    # Collect data from the DataLoader\n",
    "    with torch.no_grad():\n",
    "        for batch_idx, (images, labels) in enumerate(dataloader):\n",
    "            images, labels = images.to(device), labels.to(device)  # Move data to device\n",
    "            \n",
    "            # Forward pass through model to extract embeddings\n",
    "            x = model.leaky_relu(model.conv1(images))\n",
    "            x = model.pool(x)\n",
    "            x = model.leaky_relu(model.conv2(x))\n",
    "            x = model.pool(x)\n",
    "            x = x.view(x.size(0), -1)  # Flatten before FC layers\n",
    "            embeddings = model.leaky_relu(model.fc1(x))  # ✅ Extract embeddings from fc1\n",
    "            \n",
    "            features_list.append(embeddings.cpu())  # Store embeddings\n",
    "            labels_list.append(labels.cpu())  # Store labels\n",
    "            images_list.append(images.cpu())  # Store images\n",
    "\n",
    "            #break  # Only process first batch for visualization\n",
    "\n",
    "    # Concatenate all features and labels\n",
    "    features = torch.cat(features_list, dim=0)\n",
    "    labels = torch.cat(labels_list, dim=0).numpy()  # ✅ Convert labels to NumPy\n",
    "    images = torch.cat(images_list, dim=0)\n",
    "\n",
    "    # Fix `label_img` shape (Move channel from (N, 1, 28, 28) → (N, 28, 28, 3))\n",
    "    label_img = images[:features.shape[0]].view(-1, 1, 28, 28).cpu().numpy()  # ✅ Ensure correct shape\n",
    "    label_img = np.transpose(label_img, (0, 2, 3, 1))  # ✅ Fix: Move channel to last dim (N, 28, 28, 1)\n",
    "    label_img = np.tile(label_img, (1, 1, 1, 3))  # ✅ Convert grayscale (1 channel) to RGB (3 channels)\n",
    "\n",
    "    # 🚀 Fix: Ensure image values are in [0, 255] range\n",
    "    label_img = np.clip(label_img * 255.0, 0, 255).astype(np.uint8)\n",
    "\n",
    "    # 🚨 Debugging prints\n",
    "    print(f\"Features Shape: {features.shape}\")  # Expected: (N, D)\n",
    "    print(f\"Labels Shape: {labels.shape}\")  # Expected: (N,)\n",
    "    print(f\"Label Image Shape: {label_img.shape}\")  # Expected: (N, 28, 28, 3)\")\n",
    "    print(f\"Label Image dtype: {label_img.dtype}\")  # Should be uint8\n",
    "    print(f\"Fixed Label Image min/max: {label_img.min()}, {label_img.max()}\")  # Should be 0, 255\n",
    "\n",
    "    # 🚀 Fix: Ensure feature and label_img shapes match\n",
    "    if features.shape[0] != label_img.shape[0]:\n",
    "        min_size = min(features.shape[0], label_img.shape[0])\n",
    "        features = features[:min_size]\n",
    "        label_img = label_img[:min_size]\n",
    "        labels = labels[:min_size]\n",
    "\n",
    "    # 🚨 TESTING: Directly call `make_sprite()` on a single image\n",
    "    from torch.utils.tensorboard._embedding import make_sprite\n",
    "    try:\n",
    "        test_sprite = np.random.randint(0, 255, (1, 28, 28, 3), dtype=np.uint8)  # Generate test image\n",
    "        make_sprite(test_sprite, \"/tmp/test_sprite.png\")  # ✅ Test Sprite\n",
    "        print(\"✅ make_sprite() worked correctly!\")\n",
    "    except Exception as e:\n",
    "        print(f\"❌ make_sprite() error: {e}\")\n",
    "\n",
    "    # 🚀 TEMPORARILY REMOVE `label_img` to see if `add_embedding()` works\n",
    "    try:\n",
    "        writer.add_embedding(\n",
    "            features,\n",
    "            metadata=labels.tolist(),  # ✅ Convert to list\n",
    "            # label_img=label_img,  # ❌ Temporarily remove this to check if TensorBoard works without it\n",
    "            global_step=0\n",
    "        )\n",
    "        print(\"✅ add_embedding() worked successfully!\")\n",
    "    except Exception as e:\n",
    "        print(f\"❌ add_embedding() error: {e}\")\n",
    "\n",
    "    # Optionally visualize some sample images in TensorBoard\n",
    "    grid = make_grid(images[:64].view(-1, 1, 28, 28), nrow=8, normalize=True)\n",
    "    writer.add_image(\"FashionMNIST Samples\", grid, global_step=0)\n",
    "    \n",
    "    # Close the writer\n",
    "    writer.close()\n",
    "    print(f\"TensorBoard logs saved to: {log_dir}\")\n"
   ]
  },
  {
   "cell_type": "code",
   "execution_count": 46,
   "id": "f7c73c35-8be9-4551-b29d-a9d8ffde641c",
   "metadata": {},
   "outputs": [
    {
     "name": "stdout",
     "output_type": "stream",
     "text": [
      "Features Shape: torch.Size([12000, 100])\n",
      "Labels Shape: (12000,)\n",
      "Label Image Shape: (12000, 28, 28, 3)\n",
      "Label Image dtype: uint8\n",
      "Fixed Label Image min/max: 0, 1\n",
      "❌ make_sprite() error: 'int' object is not callable\n",
      "✅ add_embedding() worked successfully!\n",
      "TensorBoard logs saved to: runs/fashion_mnist\n"
     ]
    }
   ],
   "source": [
    "device = torch.device(\"cpu\")  # ✅ Ensure `device` is correctly formatted\n",
    "\n",
    "create_tensorboard_visualization(\"fashion_mnist_cnn.pth\", test_loader, device)\n"
   ]
  },
  {
   "cell_type": "code",
   "execution_count": null,
   "id": "dde3e819-3036-4023-a81f-27f6c7ade9cd",
   "metadata": {},
   "outputs": [],
   "source": []
  },
  {
   "cell_type": "code",
   "execution_count": null,
   "id": "193ecdce-8b8f-4165-91a1-fc466e4d94f0",
   "metadata": {},
   "outputs": [],
   "source": []
  },
  {
   "cell_type": "code",
   "execution_count": null,
   "id": "a6b1fc0d-5cb0-4b32-969a-705be099e100",
   "metadata": {},
   "outputs": [],
   "source": []
  },
  {
   "cell_type": "code",
   "execution_count": null,
   "id": "2041449a-f6df-4f19-b7d5-9004e519f824",
   "metadata": {},
   "outputs": [],
   "source": []
  }
 ],
 "metadata": {
  "kernelspec": {
   "display_name": "Python 3 (ipykernel)",
   "language": "python",
   "name": "python3"
  },
  "language_info": {
   "codemirror_mode": {
    "name": "ipython",
    "version": 3
   },
   "file_extension": ".py",
   "mimetype": "text/x-python",
   "name": "python",
   "nbconvert_exporter": "python",
   "pygments_lexer": "ipython3",
   "version": "3.9.6"
  }
 },
 "nbformat": 4,
 "nbformat_minor": 5
}
