{
 "cells": [
  {
   "cell_type": "code",
   "execution_count": 80,
   "id": "ac70d6ec-3389-43e6-bb93-78af240f8cc4",
   "metadata": {},
   "outputs": [],
   "source": [
    "# Cell 1: Load and convert Fashion MNIST dataset to a DataFrame\n",
    "import torch\n",
    "import torch.nn as nn\n",
    "from torchvision import datasets, transforms\n",
    "import pandas as pd\n",
    "import matplotlib.pyplot as plt\n",
    "import numpy as np\n",
    "from sklearn.model_selection import train_test_split\n",
    "from torch.utils.data import Dataset, DataLoader\n",
    "from sklearn.metrics import confusion_matrix, ConfusionMatrixDisplay\n",
    "from torch.utils.data import DataLoader, TensorDataset"
   ]
  },
  {
   "cell_type": "markdown",
   "id": "cbe74fb9-6c45-4390-aa03-a4e82f2bb697",
   "metadata": {},
   "source": [
    "### Pretend this - imagine it being you donwloading data from the internet"
   ]
  },
  {
   "cell_type": "code",
   "execution_count": 81,
   "id": "60335a3c-850c-4e7e-bca7-bb09d0784006",
   "metadata": {},
   "outputs": [],
   "source": [
    "# Download and load the Fashion MNIST dataset\n",
    "transform = transforms.ToTensor()  # Transform the data into tensors\n",
    "full_dataset = datasets.FashionMNIST(root=\"./data\", train=True, download=True, transform=transform)"
   ]
  },
  {
   "cell_type": "code",
   "execution_count": 82,
   "id": "e8c049b7-046a-46c1-af9a-f14eef3ba87a",
   "metadata": {},
   "outputs": [
    {
     "name": "stdout",
     "output_type": "stream",
     "text": [
      "Train DataFrame:\n",
      "       pixel_0  pixel_1  pixel_2  pixel_3  pixel_4  pixel_5  pixel_6  \\\n",
      "48572      0.0      0.0      0.0      0.0      0.0      0.0      0.0   \n",
      "38696      0.0      0.0      0.0      0.0      0.0      0.0      0.0   \n",
      "13611      0.0      0.0      0.0      0.0      0.0      0.0      0.0   \n",
      "35213      0.0      0.0      0.0      0.0      0.0      0.0      0.0   \n",
      "31766      0.0      0.0      0.0      0.0      0.0      0.0      0.0   \n",
      "\n",
      "        pixel_7   pixel_8   pixel_9  ...  pixel_775  pixel_776  pixel_777  \\\n",
      "48572  0.000000  0.000000  0.000000  ...   0.000000   0.000000   0.000000   \n",
      "38696  0.000000  0.000000  0.000000  ...   0.003922   0.000000   0.000000   \n",
      "13611  0.000000  0.000000  0.000000  ...   0.000000   0.000000   0.000000   \n",
      "35213  0.000000  0.000000  0.011765  ...   0.501961   0.576471   0.658824   \n",
      "31766  0.011765  0.223529  0.368627  ...   0.000000   0.000000   0.000000   \n",
      "\n",
      "       pixel_778  pixel_779  pixel_780  pixel_781  pixel_782  pixel_783  label  \n",
      "48572   0.000000   0.000000   0.000000        0.0        0.0        0.0      7  \n",
      "38696   0.000000   0.000000   0.000000        0.0        0.0        0.0      3  \n",
      "13611   0.000000   0.000000   0.000000        0.0        0.0        0.0      5  \n",
      "35213   0.505882   0.000000   0.000000        0.0        0.0        0.0      8  \n",
      "31766   0.470588   0.419608   0.109804        0.0        0.0        0.0      6  \n",
      "\n",
      "[5 rows x 785 columns]\n",
      "\n",
      "Test DataFrame:\n",
      "       pixel_0  pixel_1  pixel_2  pixel_3  pixel_4  pixel_5  pixel_6  \\\n",
      "12628      0.0      0.0      0.0      0.0      0.0      0.0      0.0   \n",
      "37730      0.0      0.0      0.0      0.0      0.0      0.0      0.0   \n",
      "39991      0.0      0.0      0.0      0.0      0.0      0.0      0.0   \n",
      "8525       0.0      0.0      0.0      0.0      0.0      0.0      0.0   \n",
      "8279       0.0      0.0      0.0      0.0      0.0      0.0      0.0   \n",
      "\n",
      "        pixel_7  pixel_8   pixel_9  ...  pixel_775  pixel_776  pixel_777  \\\n",
      "12628  0.000000      0.0  0.000000  ...        0.0   0.000000   0.000000   \n",
      "37730  0.000000      0.0  0.000000  ...        0.0   0.000000   0.000000   \n",
      "39991  0.000000      0.0  0.000000  ...        0.0   0.000000   0.000000   \n",
      "8525   0.003922      0.0  0.003922  ...        0.0   0.113725   0.533333   \n",
      "8279   0.000000      0.0  0.000000  ...        0.0   0.000000   0.000000   \n",
      "\n",
      "       pixel_778  pixel_779  pixel_780  pixel_781  pixel_782  pixel_783  label  \n",
      "12628   0.000000        0.0        0.0        0.0        0.0        0.0      8  \n",
      "37730   0.000000        0.0        0.0        0.0        0.0        0.0      8  \n",
      "39991   0.000000        0.0        0.0        0.0        0.0        0.0      7  \n",
      "8525    0.411765        0.0        0.0        0.0        0.0        0.0      4  \n",
      "8279    0.000000        0.0        0.0        0.0        0.0        0.0      8  \n",
      "\n",
      "[5 rows x 785 columns]\n"
     ]
    }
   ],
   "source": [
    "# Convert the dataset to a DataFrame\n",
    "# Each image is a 28x28 array, flatten it into a single row\n",
    "data_list = []\n",
    "for image, label in full_dataset:\n",
    "    flat_image = image.view(-1).numpy()  # Flatten the 28x28 image into a 1D array\n",
    "    data_list.append([*flat_image, label])\n",
    "\n",
    "# Create a DataFrame\n",
    "columns = [f\"pixel_{i}\" for i in range(28 * 28)] + [\"label\"]\n",
    "full_df = pd.DataFrame(data_list, columns=columns)\n",
    "\n",
    "# Split the DataFrame into train and test sets\n",
    "train_df, test_df = train_test_split(full_df, test_size=0.2, random_state=42)\n",
    "\n",
    "# Display the first few rows of each DataFrame\n",
    "print(\"Train DataFrame:\")\n",
    "print(train_df.head())\n",
    "print(\"\\nTest DataFrame:\")\n",
    "print(test_df.head())"
   ]
  },
  {
   "cell_type": "markdown",
   "id": "af516a95-6008-4f17-a255-73435ea77347",
   "metadata": {},
   "source": [
    "### Let's start here by examining the data"
   ]
  },
  {
   "cell_type": "code",
   "execution_count": 83,
   "id": "25bf2cf1-bc6a-46d6-a288-671e7b535b21",
   "metadata": {},
   "outputs": [
    {
     "data": {
      "text/html": [
       "<div>\n",
       "<style scoped>\n",
       "    .dataframe tbody tr th:only-of-type {\n",
       "        vertical-align: middle;\n",
       "    }\n",
       "\n",
       "    .dataframe tbody tr th {\n",
       "        vertical-align: top;\n",
       "    }\n",
       "\n",
       "    .dataframe thead th {\n",
       "        text-align: right;\n",
       "    }\n",
       "</style>\n",
       "<table border=\"1\" class=\"dataframe\">\n",
       "  <thead>\n",
       "    <tr style=\"text-align: right;\">\n",
       "      <th></th>\n",
       "      <th>pixel_0</th>\n",
       "      <th>pixel_1</th>\n",
       "      <th>pixel_2</th>\n",
       "      <th>pixel_3</th>\n",
       "      <th>pixel_4</th>\n",
       "      <th>pixel_5</th>\n",
       "      <th>pixel_6</th>\n",
       "      <th>pixel_7</th>\n",
       "      <th>pixel_8</th>\n",
       "      <th>pixel_9</th>\n",
       "      <th>...</th>\n",
       "      <th>pixel_775</th>\n",
       "      <th>pixel_776</th>\n",
       "      <th>pixel_777</th>\n",
       "      <th>pixel_778</th>\n",
       "      <th>pixel_779</th>\n",
       "      <th>pixel_780</th>\n",
       "      <th>pixel_781</th>\n",
       "      <th>pixel_782</th>\n",
       "      <th>pixel_783</th>\n",
       "      <th>label</th>\n",
       "    </tr>\n",
       "  </thead>\n",
       "  <tbody>\n",
       "    <tr>\n",
       "      <th>0</th>\n",
       "      <td>0.0</td>\n",
       "      <td>0.0</td>\n",
       "      <td>0.0</td>\n",
       "      <td>0.0</td>\n",
       "      <td>0.0</td>\n",
       "      <td>0.000000</td>\n",
       "      <td>0.0</td>\n",
       "      <td>0.0</td>\n",
       "      <td>0.000000</td>\n",
       "      <td>0.000000</td>\n",
       "      <td>...</td>\n",
       "      <td>0.000000</td>\n",
       "      <td>0.000000</td>\n",
       "      <td>0.000000</td>\n",
       "      <td>0.0</td>\n",
       "      <td>0.0</td>\n",
       "      <td>0.0</td>\n",
       "      <td>0.0</td>\n",
       "      <td>0.0</td>\n",
       "      <td>0.0</td>\n",
       "      <td>9</td>\n",
       "    </tr>\n",
       "    <tr>\n",
       "      <th>1</th>\n",
       "      <td>0.0</td>\n",
       "      <td>0.0</td>\n",
       "      <td>0.0</td>\n",
       "      <td>0.0</td>\n",
       "      <td>0.0</td>\n",
       "      <td>0.003922</td>\n",
       "      <td>0.0</td>\n",
       "      <td>0.0</td>\n",
       "      <td>0.000000</td>\n",
       "      <td>0.000000</td>\n",
       "      <td>...</td>\n",
       "      <td>0.447059</td>\n",
       "      <td>0.509804</td>\n",
       "      <td>0.298039</td>\n",
       "      <td>0.0</td>\n",
       "      <td>0.0</td>\n",
       "      <td>0.0</td>\n",
       "      <td>0.0</td>\n",
       "      <td>0.0</td>\n",
       "      <td>0.0</td>\n",
       "      <td>0</td>\n",
       "    </tr>\n",
       "    <tr>\n",
       "      <th>2</th>\n",
       "      <td>0.0</td>\n",
       "      <td>0.0</td>\n",
       "      <td>0.0</td>\n",
       "      <td>0.0</td>\n",
       "      <td>0.0</td>\n",
       "      <td>0.000000</td>\n",
       "      <td>0.0</td>\n",
       "      <td>0.0</td>\n",
       "      <td>0.000000</td>\n",
       "      <td>0.086275</td>\n",
       "      <td>...</td>\n",
       "      <td>0.000000</td>\n",
       "      <td>0.003922</td>\n",
       "      <td>0.000000</td>\n",
       "      <td>0.0</td>\n",
       "      <td>0.0</td>\n",
       "      <td>0.0</td>\n",
       "      <td>0.0</td>\n",
       "      <td>0.0</td>\n",
       "      <td>0.0</td>\n",
       "      <td>0</td>\n",
       "    </tr>\n",
       "    <tr>\n",
       "      <th>3</th>\n",
       "      <td>0.0</td>\n",
       "      <td>0.0</td>\n",
       "      <td>0.0</td>\n",
       "      <td>0.0</td>\n",
       "      <td>0.0</td>\n",
       "      <td>0.000000</td>\n",
       "      <td>0.0</td>\n",
       "      <td>0.0</td>\n",
       "      <td>0.129412</td>\n",
       "      <td>0.376471</td>\n",
       "      <td>...</td>\n",
       "      <td>0.000000</td>\n",
       "      <td>0.000000</td>\n",
       "      <td>0.000000</td>\n",
       "      <td>0.0</td>\n",
       "      <td>0.0</td>\n",
       "      <td>0.0</td>\n",
       "      <td>0.0</td>\n",
       "      <td>0.0</td>\n",
       "      <td>0.0</td>\n",
       "      <td>3</td>\n",
       "    </tr>\n",
       "    <tr>\n",
       "      <th>4</th>\n",
       "      <td>0.0</td>\n",
       "      <td>0.0</td>\n",
       "      <td>0.0</td>\n",
       "      <td>0.0</td>\n",
       "      <td>0.0</td>\n",
       "      <td>0.000000</td>\n",
       "      <td>0.0</td>\n",
       "      <td>0.0</td>\n",
       "      <td>0.000000</td>\n",
       "      <td>0.000000</td>\n",
       "      <td>...</td>\n",
       "      <td>0.000000</td>\n",
       "      <td>0.000000</td>\n",
       "      <td>0.000000</td>\n",
       "      <td>0.0</td>\n",
       "      <td>0.0</td>\n",
       "      <td>0.0</td>\n",
       "      <td>0.0</td>\n",
       "      <td>0.0</td>\n",
       "      <td>0.0</td>\n",
       "      <td>0</td>\n",
       "    </tr>\n",
       "  </tbody>\n",
       "</table>\n",
       "<p>5 rows × 785 columns</p>\n",
       "</div>"
      ],
      "text/plain": [
       "   pixel_0  pixel_1  pixel_2  pixel_3  pixel_4   pixel_5  pixel_6  pixel_7  \\\n",
       "0      0.0      0.0      0.0      0.0      0.0  0.000000      0.0      0.0   \n",
       "1      0.0      0.0      0.0      0.0      0.0  0.003922      0.0      0.0   \n",
       "2      0.0      0.0      0.0      0.0      0.0  0.000000      0.0      0.0   \n",
       "3      0.0      0.0      0.0      0.0      0.0  0.000000      0.0      0.0   \n",
       "4      0.0      0.0      0.0      0.0      0.0  0.000000      0.0      0.0   \n",
       "\n",
       "    pixel_8   pixel_9  ...  pixel_775  pixel_776  pixel_777  pixel_778  \\\n",
       "0  0.000000  0.000000  ...   0.000000   0.000000   0.000000        0.0   \n",
       "1  0.000000  0.000000  ...   0.447059   0.509804   0.298039        0.0   \n",
       "2  0.000000  0.086275  ...   0.000000   0.003922   0.000000        0.0   \n",
       "3  0.129412  0.376471  ...   0.000000   0.000000   0.000000        0.0   \n",
       "4  0.000000  0.000000  ...   0.000000   0.000000   0.000000        0.0   \n",
       "\n",
       "   pixel_779  pixel_780  pixel_781  pixel_782  pixel_783  label  \n",
       "0        0.0        0.0        0.0        0.0        0.0      9  \n",
       "1        0.0        0.0        0.0        0.0        0.0      0  \n",
       "2        0.0        0.0        0.0        0.0        0.0      0  \n",
       "3        0.0        0.0        0.0        0.0        0.0      3  \n",
       "4        0.0        0.0        0.0        0.0        0.0      0  \n",
       "\n",
       "[5 rows x 785 columns]"
      ]
     },
     "execution_count": 83,
     "metadata": {},
     "output_type": "execute_result"
    }
   ],
   "source": [
    "train_df = pd.DataFrame(data_list, columns=columns)\n",
    "\n",
    "# Display the first few rows of the DataFrame\n",
    "train_df.head()"
   ]
  },
  {
   "cell_type": "markdown",
   "id": "7bc22474-77b2-463e-a431-e0698f020315",
   "metadata": {},
   "source": [
    "## Helper to visualize a row of data - nice for images"
   ]
  },
  {
   "cell_type": "code",
   "execution_count": 84,
   "id": "7a04db97-235a-49bb-b0c2-90b87fe298b4",
   "metadata": {},
   "outputs": [
    {
     "data": {
      "image/png": "[encoded data removed]",
      "text/plain": [
       "<Figure size 640x480 with 1 Axes>"
      ]
     },
     "metadata": {},
     "output_type": "display_data"
    }
   ],
   "source": [
    "# Cell 8: Function to display a greyscale image from a row\n",
    "def show_image_from_row(row, label):\n",
    "    # Reshape the row back to a 28x28 image\n",
    "    image = np.array(row).reshape(28, 28)\n",
    "    \n",
    "    # Plot the image\n",
    "    plt.imshow(image, cmap=\"gray\")\n",
    "    plt.title(f\"Label: {label}\")\n",
    "    plt.axis(\"off\")\n",
    "    plt.show()\n",
    "\n",
    "# Example: Display an image from the DataFrame\n",
    "example_row = train_df.iloc[0, :-1]  # First row (pixels only)\n",
    "example_label = train_df.iloc[0, -1]  # Corresponding label\n",
    "show_image_from_row(example_row, example_label)\n"
   ]
  },
  {
   "cell_type": "markdown",
   "id": "95f91906-d2e8-4c3c-8f6b-f9d26e8786b7",
   "metadata": {},
   "source": [
    "## Example Dataloader"
   ]
  },
  {
   "cell_type": "code",
   "execution_count": 85,
   "id": "37cc7cc7-b993-4577-8e90-46ac0404097c",
   "metadata": {},
   "outputs": [],
   "source": [
    "\n",
    "# Define a custom Dataset class\n",
    "class CustomDataset(Dataset):\n",
    "    def __init__(self, dataframe):\n",
    "        \"\"\"\n",
    "        Initialize the dataset by passing a DataFrame.\n",
    "        Args:\n",
    "            dataframe (pd.DataFrame): DataFrame with pixel data and labels.\n",
    "        \"\"\"\n",
    "        self.data = dataframe.iloc[:, :-1].values  # Features (all columns except the last)\n",
    "        self.labels = dataframe.iloc[:, -1].values  # Labels (last column)\n",
    "\n",
    "    def __len__(self):\n",
    "        \"\"\"\n",
    "        Return the total number of samples in the dataset.\n",
    "        \"\"\"\n",
    "        return len(self.labels)\n",
    "\n",
    "    def __getitem__(self, idx):\n",
    "        \"\"\"\n",
    "        Retrieve a single sample from the dataset.\n",
    "        Args:\n",
    "            idx (int): Index of the sample to retrieve.\n",
    "        Returns:\n",
    "            (torch.Tensor, torch.Tensor): Tuple of features and label.\n",
    "        \"\"\"\n",
    "        # Convert the features and label to tensors\n",
    "        features = torch.tensor(self.data[idx], dtype=torch.float32)\n",
    "        label = torch.tensor(self.labels[idx], dtype=torch.long)\n",
    "        return features, label\n",
    "\n"
   ]
  },
  {
   "cell_type": "code",
   "execution_count": 86,
   "id": "10d4ea93-1ac5-4072-a741-ed35f7344dd7",
   "metadata": {},
   "outputs": [],
   "source": [
    "# Function to split the DataFrame and create DataLoaders\n",
    "def create_train_test_dataloaders(dataframe, test_size=0.2, batch_size=64, shuffle=True):\n",
    "    \"\"\"\n",
    "    Split the DataFrame into train and test sets and create DataLoaders.\n",
    "    Args:\n",
    "        dataframe (pd.DataFrame): DataFrame containing the data.\n",
    "        test_size (float): Proportion of the data to be used as test data.\n",
    "        batch_size (int): Number of samples per batch.\n",
    "        shuffle (bool): Whether to shuffle the data.\n",
    "    Returns:\n",
    "        tuple: (train_loader, test_loader)\n",
    "    \"\"\"\n",
    "    # Split the data into train and test sets\n",
    "    train_df, test_df = train_test_split(dataframe, test_size=test_size, random_state=42)\n",
    "    \n",
    "    # Create train and test datasets\n",
    "    train_dataset = CustomDataset(train_df)\n",
    "    test_dataset = CustomDataset(test_df)\n",
    "    \n",
    "    # Create DataLoaders for train and test sets\n",
    "    train_loader = DataLoader(train_dataset, batch_size=batch_size, shuffle=shuffle)\n",
    "    test_loader = DataLoader(test_dataset, batch_size=batch_size, shuffle=False)\n",
    "    \n",
    "    return train_loader, test_loader"
   ]
  },
  {
   "cell_type": "code",
   "execution_count": 87,
   "id": "6bd4ddcf-2c38-4aef-8c48-e371c48c666b",
   "metadata": {},
   "outputs": [],
   "source": [
    "# ## command + /\n",
    "\n",
    "# # Example usage: Creating train and test DataLoaders\n",
    "# train_loader, test_loader = create_train_test_dataloaders(train_df, test_size=0.2, batch_size=32)\n",
    "\n",
    "# # Example: Check the first batch from the train DataLoader\n",
    "# for batch_idx, (features, labels) in enumerate(train_loader):\n",
    "#     print(f\"Train Batch {batch_idx + 1}\")\n",
    "#     print(\"Features shape:\", features.shape)\n",
    "#     print(\"Labels shape:\", labels.shape)\n",
    "#     break  # Display only the first batch\n",
    "\n",
    "# # Example: Check the first batch from the test DataLoader\n",
    "# for batch_idx, (features, labels) in enumerate(test_loader):\n",
    "#     print(f\"Test Batch {batch_idx + 1}\")\n",
    "#     print(\"Features shape:\", features.shape)\n",
    "#     print(\"Labels shape:\", labels.shape)\n",
    "#     break  # Display only the first batch"
   ]
  },
  {
   "cell_type": "markdown",
   "id": "3cd6666c-094c-46f6-94e3-202970a58c6c",
   "metadata": {},
   "source": [
    "## Manually Build dataloaders"
   ]
  },
  {
   "cell_type": "code",
   "execution_count": 88,
   "id": "3919e8ab-f84f-4f2b-90f0-5f148fdd7fed",
   "metadata": {},
   "outputs": [
    {
     "name": "stdout",
     "output_type": "stream",
     "text": [
      "Batch size: torch.Size([64, 784]), Labels: torch.Size([64])\n",
      "Batch size: torch.Size([64, 784]), Labels: torch.Size([64])\n"
     ]
    }
   ],
   "source": [
    "# Cell 2: Create a DataLoader\n",
    "\n",
    "\n",
    "# Convert the DataFrame back to PyTorch tensors\n",
    "X_train = torch.tensor(train_df.iloc[:, :-1].values, dtype=torch.float32)  # All pixels\n",
    "y_train = torch.tensor(train_df[\"label\"].values, dtype=torch.long)  # Labels\n",
    "# Convert the DataFrame back to PyTorch tensors\n",
    "X_test = torch.tensor(test_df.iloc[:, :-1].values, dtype=torch.float32)  # All pixels\n",
    "y_test = torch.tensor(test_df[\"label\"].values, dtype=torch.long)  # Labels\n",
    "\n",
    "# Create a TensorDataset\n",
    "train_dataset = TensorDataset(X_train, y_train)\n",
    "test_dataset = TensorDataset(X_test, y_test)\n",
    "\n",
    "# Create a DataLoader for batching and shuffling\n",
    "batch_size = 64  # Number of samples per batch\n",
    "train_loader = DataLoader(train_dataset, batch_size=batch_size, shuffle=True)\n",
    "test_loader = DataLoader(test_dataset, batch_size=batch_size, shuffle=True)\n",
    "\n",
    "# Example: Check the first batch\n",
    "for batch in train_loader:\n",
    "    images, labels = batch\n",
    "    print(f\"Batch size: {images.shape}, Labels: {labels.shape}\")\n",
    "    break\n",
    "# Example: Check the first batch\n",
    "for batch in test_loader:\n",
    "    images, labels = batch\n",
    "    print(f\"Batch size: {images.shape}, Labels: {labels.shape}\")\n",
    "    break"
   ]
  },
  {
   "cell_type": "code",
   "execution_count": null,
   "id": "5e0ed4f6-35b7-46f4-b2b0-910b04caaaf2",
   "metadata": {},
   "outputs": [],
   "source": []
  },
  {
   "cell_type": "code",
   "execution_count": null,
   "id": "977c7cbc-e0f7-42eb-895a-e5ae019453a8",
   "metadata": {},
   "outputs": [],
   "source": []
  },
  {
   "cell_type": "code",
   "execution_count": 89,
   "id": "fed96bbf-bdec-4491-b486-1567c3743339",
   "metadata": {},
   "outputs": [],
   "source": [
    "# Cell 3: Define the neural network\n",
    "\n",
    "# Define a feedforward network for classification\n",
    "class SimpleNN(nn.Module):\n",
    "    def __init__(self, input_size, hidden_size, num_classes):\n",
    "        super(SimpleNN, self).__init__()\n",
    "        self.fc1 = nn.Linear(input_size, hidden_size)  # First fully connected layer\n",
    "        self.relu = nn.ReLU()  # ReLU activation\n",
    "        self.fc2 = nn.Linear(hidden_size, num_classes)  # Output layer for classification\n",
    "\n",
    "    def forward(self, x):\n",
    "        x = self.fc1(x)  # First layer\n",
    "        x = self.relu(x)  # Activation\n",
    "        x = self.fc2(x)  # Output layer\n",
    "        return x\n",
    "\n",
    "# Initialize the model\n",
    "input_size = 28 * 28  # 784 input features (flattened image)\n",
    "hidden_size = 128  # Number of neurons in the hidden layer\n",
    "num_classes = 10  # 10 classes for Fashion MNIST"
   ]
  },
  {
   "cell_type": "code",
   "execution_count": 90,
   "id": "3b4bb09e-03e2-4005-be42-c5e2d81c97f3",
   "metadata": {},
   "outputs": [
    {
     "name": "stdout",
     "output_type": "stream",
     "text": [
      "SimpleNN(\n",
      "  (fc1): Linear(in_features=784, out_features=128, bias=True)\n",
      "  (relu): ReLU()\n",
      "  (fc2): Linear(in_features=128, out_features=10, bias=True)\n",
      ")\n"
     ]
    }
   ],
   "source": [
    "model = SimpleNN(input_size, hidden_size, num_classes)\n",
    "\n",
    "# Print the model architecture\n",
    "print(model)"
   ]
  },
  {
   "cell_type": "code",
   "execution_count": 91,
   "id": "e91b48df-879a-4318-b7ab-4772d77a47fb",
   "metadata": {},
   "outputs": [],
   "source": [
    "# Cell 4: Define hyperparameters\n",
    "learning_rate = 0.001\n",
    "num_epochs = 10\n",
    "batch_size = 64\n",
    "\n",
    "# Define the loss function and optimizer\n",
    "criterion = nn.CrossEntropyLoss()  # Cross-entropy loss for multi-class classification\n",
    "optimizer = torch.optim.Adam(model.parameters(), lr=learning_rate)\n"
   ]
  },
  {
   "cell_type": "markdown",
   "id": "4f7c6c8b-58c8-45bd-8d61-cde8ccf9fa0a",
   "metadata": {},
   "source": [
    "### for later!"
   ]
  },
  {
   "cell_type": "code",
   "execution_count": 111,
   "id": "1832696a-d277-4eac-9397-67deeb7e8ec6",
   "metadata": {},
   "outputs": [],
   "source": [
    "# device = (\n",
    "#     \"cuda\"\n",
    "#     if torch.cuda.is_available()\n",
    "#     else \"mps\"\n",
    "#     if torch.backends.mps.is_available()\n",
    "#     else \"cpu\"\n",
    "# )\n",
    "# model.to(\"cpu\")\n",
    "# print(f\"Using {device} device\")\n"
   ]
  },
  {
   "cell_type": "markdown",
   "id": "34623666-a418-4165-99db-f899cb05ad8d",
   "metadata": {},
   "source": [
    "## Model Training"
   ]
  },
  {
   "cell_type": "code",
   "execution_count": 110,
   "id": "a7f4d01e-598e-48af-a60d-fd467cacfe41",
   "metadata": {},
   "outputs": [
    {
     "name": "stdout",
     "output_type": "stream",
     "text": [
      "Epoch [1/10], Loss: 0.2459\n",
      "Epoch [2/10], Loss: 0.2456\n",
      "Epoch [3/10], Loss: 0.2457\n",
      "Epoch [4/10], Loss: 0.2458\n",
      "Epoch [5/10], Loss: 0.2458\n",
      "Epoch [6/10], Loss: 0.2457\n",
      "Epoch [7/10], Loss: 0.2458\n",
      "Epoch [8/10], Loss: 0.2457\n",
      "Epoch [9/10], Loss: 0.2457\n",
      "Epoch [10/10], Loss: 0.2458\n"
     ]
    }
   ],
   "source": [
    "# Training the model\n",
    "for epoch in range(num_epochs):\n",
    "    model.train()  # Set the model to training mode\n",
    "    total_loss = 0\n",
    "\n",
    "    for images, labels in train_loader:\n",
    "        # Forward pass\n",
    "        outputs = model(images)\n",
    "        loss = criterion(outputs, labels)\n",
    "\n",
    "        # Backward pass\n",
    "        optimizer.zero_grad()  # Clear previous gradients\n",
    "        loss.backward()  # Compute gradients\n",
    "        optimizer.step()  # Update weights\n",
    "\n",
    "        total_loss += loss.item()\n",
    "\n",
    "    print(f\"Epoch [{epoch+1}/{num_epochs}], Loss: {total_loss/len(train_loader):.4f}\")\n"
   ]
  },
  {
   "cell_type": "markdown",
   "id": "23975eea-fb46-4886-bd99-40a1d87806b1",
   "metadata": {},
   "source": [
    "## Saving and loading a model"
   ]
  },
  {
   "cell_type": "code",
   "execution_count": 93,
   "id": "b476dab9-c164-4b55-af0a-0c1781d4468c",
   "metadata": {},
   "outputs": [
    {
     "name": "stdout",
     "output_type": "stream",
     "text": [
      "Model saved as 'fashion_mnist_model.pth'\n"
     ]
    }
   ],
   "source": [
    "# Save the model after training\n",
    "torch.save(model.state_dict(), \"fashion_mnist_model.pth\")\n",
    "print(\"Model saved as 'fashion_mnist_model.pth'\")\n"
   ]
  },
  {
   "cell_type": "code",
   "execution_count": 94,
   "id": "49c6f1ff-1597-4c6d-aa9b-ae2f591f7dc9",
   "metadata": {},
   "outputs": [
    {
     "name": "stdout",
     "output_type": "stream",
     "text": [
      "Model loaded and ready for inference.\n"
     ]
    }
   ],
   "source": [
    "# Load the saved model for inference\n",
    "model = SimpleNN(input_size, hidden_size, num_classes)  # Reinitialize the model structure\n",
    "model.load_state_dict(torch.load(\"fashion_mnist_model.pth\"))\n",
    "model.eval()  # Set the model to evaluation mode\n",
    "print(\"Model loaded and ready for inference.\")\n"
   ]
  },
  {
   "cell_type": "code",
   "execution_count": null,
   "id": "f560b056-d02f-4806-83d7-c1758ec17cb6",
   "metadata": {},
   "outputs": [],
   "source": []
  },
  {
   "cell_type": "code",
   "execution_count": 95,
   "id": "5b93f4aa-dd26-40a1-b787-bde14fdeae74",
   "metadata": {},
   "outputs": [
    {
     "name": "stdout",
     "output_type": "stream",
     "text": [
      "Accuracy: 90.66%\n"
     ]
    }
   ],
   "source": [
    "# Cell 6: Inference loop\n",
    "# Running inference\n",
    "model.eval()  # Set the model to evaluation mode (disables dropout, etc.)\n",
    "correct = 0\n",
    "total = 0\n",
    "\n",
    "with torch.no_grad():  # Disable gradient computation for efficiency\n",
    "    for images, labels in test_loader:\n",
    "        outputs = model(images)\n",
    "        _, predicted = torch.max(outputs, 1)  # Get the predicted class\n",
    "        total += labels.size(0)\n",
    "        correct += (predicted == labels).sum().item()\n",
    "\n",
    "accuracy = correct / total * 100\n",
    "print(f\"Accuracy: {accuracy:.2f}%\")\n"
   ]
  },
  {
   "cell_type": "code",
   "execution_count": null,
   "id": "ee62328d-402a-4070-9291-755c2a73909b",
   "metadata": {},
   "outputs": [],
   "source": []
  },
  {
   "cell_type": "code",
   "execution_count": 96,
   "id": "19e6d898-a518-4a8c-aec7-ba27404a59a4",
   "metadata": {},
   "outputs": [
    {
     "data": {
      "image/png": "[encoded data removed]",
      "text/plain": [
       "<Figure size 640x480 with 2 Axes>"
      ]
     },
     "metadata": {},
     "output_type": "display_data"
    }
   ],
   "source": [
    "\n",
    "# Generate predictions for the entire dataset\n",
    "all_labels = []\n",
    "all_predictions = []\n",
    "\n",
    "model.eval()\n",
    "with torch.no_grad():\n",
    "    for images, labels in test_loader:\n",
    "        outputs = model(images)\n",
    "        _, predicted = torch.max(outputs, 1)\n",
    "        all_labels.extend(labels.numpy())\n",
    "        all_predictions.extend(predicted.numpy())\n",
    "\n",
    "# Compute and plot the confusion matrix\n",
    "cm = confusion_matrix(all_labels, all_predictions)\n",
    "disp = ConfusionMatrixDisplay(confusion_matrix=cm, display_labels=list(range(10)))\n",
    "disp.plot(cmap=plt.cm.Blues)\n",
    "plt.title(\"Confusion Matrix\")\n",
    "plt.show()\n"
   ]
  },
  {
   "cell_type": "markdown",
   "id": "e79eadfc-1464-4321-9daa-a3203e84e0dc",
   "metadata": {},
   "source": [
    "### Inspect a row of data"
   ]
  },
  {
   "cell_type": "code",
   "execution_count": 97,
   "id": "ef629ac2-a678-424f-9433-b93215267a92",
   "metadata": {},
   "outputs": [
    {
     "name": "stdout",
     "output_type": "stream",
     "text": [
      "Logits: [[  0.2859933   -5.0104938   -7.2335277    0.91814923  -6.5824194\n",
      "  -19.605906    -0.12939961 -11.387132    -7.912336    -5.1849546 ]]\n",
      "Softmax Probabilities: [[2.8146607e-01 1.4099081e-03 1.5266499e-04 5.2962422e-01 2.9276044e-04\n",
      "  6.4637384e-10 1.8579035e-01 2.3980176e-06 7.7434910e-05 1.1841960e-03]]\n",
      "Correct Label: 3\n",
      "Predicted Label: 3\n"
     ]
    },
    {
     "data": {
      "text/plain": [
       "3"
      ]
     },
     "execution_count": 97,
     "metadata": {},
     "output_type": "execute_result"
    }
   ],
   "source": [
    "# Helper function to run inference on a single row of data\n",
    "def run_inference_on_row(row, label, model):\n",
    "    # Convert the row into a tensor\n",
    "    row_tensor = torch.tensor(row.values, dtype=torch.float32).unsqueeze(0)  # Add batch dimension\n",
    "\n",
    "    # Perform inference\n",
    "    with torch.no_grad():\n",
    "        logits = model(row_tensor)  # Raw logits\n",
    "        probabilities = torch.softmax(logits, dim=1)  # Apply softmax to convert logits to probabilities\n",
    "\n",
    "    # Get predicted label\n",
    "    predicted_label = torch.argmax(probabilities).item()\n",
    "\n",
    "    # Print details\n",
    "    print(\"Logits:\", logits.numpy())\n",
    "    print(\"Softmax Probabilities:\", probabilities.numpy())\n",
    "    print(\"Correct Label:\", label)\n",
    "    print(\"Predicted Label:\", predicted_label)\n",
    "\n",
    "    return predicted_label\n",
    "\n",
    "# Example: Run inference on a single row\n",
    "example_row = test_df.iloc[10, :-1]  # 10th row (pixels only)\n",
    "example_label = test_df.iloc[10, -1]  # Corresponding label\n",
    "run_inference_on_row(example_row, example_label, model)"
   ]
  },
  {
   "cell_type": "code",
   "execution_count": 98,
   "id": "2a60cd76-3af6-4882-b79e-0d6a194ef570",
   "metadata": {},
   "outputs": [],
   "source": [
    "### Display examples of correct and incorrect predictions"
   ]
  },
  {
   "cell_type": "code",
   "execution_count": 99,
   "id": "187fcc0c-4760-4832-8ee9-ee1c4b0c6bed",
   "metadata": {},
   "outputs": [],
   "source": [
    "\n",
    "def display_examples(data_df, model, correct=True, num_examples=3):\n",
    "    count = 0\n",
    "    plt.figure(figsize=(10, 5))\n",
    "\n",
    "    for idx, row in data_df.iterrows():\n",
    "        if count >= num_examples:\n",
    "            break\n",
    "\n",
    "        # Extract image and label\n",
    "        image_row = row[:-1]\n",
    "        true_label = row[-1]\n",
    "\n",
    "        # Run inference\n",
    "        predicted_label = run_inference_on_row(image_row, true_label, model)\n",
    "\n",
    "        # Check if prediction is correct\n",
    "        if (predicted_label == true_label and correct) or (predicted_label != true_label and not correct):\n",
    "            # Plot the image\n",
    "            plt.subplot(1, num_examples, count + 1)\n",
    "            image = image_row.values.reshape(28, 28)  # Reshape to 28x28\n",
    "            plt.imshow(image, cmap=\"gray\")\n",
    "            plt.title(f\"True: {true_label}, Pred: {predicted_label}\")\n",
    "            plt.axis(\"off\")\n",
    "            count += 1\n",
    "\n",
    "\n",
    "\n",
    "\n"
   ]
  },
  {
   "cell_type": "code",
   "execution_count": 100,
   "id": "7a882db3-f783-431d-b340-405764002091",
   "metadata": {},
   "outputs": [
    {
     "name": "stdout",
     "output_type": "stream",
     "text": [
      "Examples of Correct Predictions:\n",
      "Logits: [[-15.480682  -14.565821  -24.55399   -20.642551  -22.401423   -1.4179002\n",
      "  -19.270473    3.8006167 -11.990643    9.826297 ]]\n",
      "Softmax Probabilities: [[1.01921206e-11 2.54439629e-11 1.16890007e-15 5.84108161e-14\n",
      "  1.00606525e-14 1.30512981e-05 2.30345230e-13 2.41005397e-03\n",
      "  3.34171635e-10 9.97576892e-01]]\n",
      "Correct Label: 9.0\n",
      "Predicted Label: 9\n",
      "Logits: [[ 11.1769085 -14.24843    -1.6095997  -3.6605494 -14.698705  -18.42737\n",
      "    3.8399918 -22.929718  -10.546748  -21.935478 ]]\n",
      "Softmax Probabilities: [[9.9934632e-01 9.0705100e-12 2.7964425e-06 3.5965826e-07 5.7820198e-12\n",
      "  1.3891245e-13 6.5062911e-04 1.5395561e-15 3.6749565e-10 4.1609104e-15]]\n",
      "Correct Label: 0.0\n",
      "Predicted Label: 0\n",
      "Logits: [[  1.0908067  -2.4714038  -3.9723256   0.6359618  -3.2482586 -11.146705\n",
      "    0.5984504 -12.263499  -10.3527775  -9.542503 ]]\n",
      "Softmax Probabilities: [[4.3601048e-01 1.2372246e-02 2.7580778e-03 2.7666885e-01 5.6893770e-03\n",
      "  2.1125800e-06 2.6648286e-01 6.9150514e-07 4.6731675e-06 1.0507731e-05]]\n",
      "Correct Label: 0.0\n",
      "Predicted Label: 0\n"
     ]
    },
    {
     "name": "stderr",
     "output_type": "stream",
     "text": [
      "/var/folders/83/s01xl68d2q3gdtkbr5ptq6nc0000gn/T/ipykernel_86193/3303586380.py:11: FutureWarning: Series.__getitem__ treating keys as positions is deprecated. In a future version, integer keys will always be treated as labels (consistent with DataFrame behavior). To access a value by position, use `ser.iloc[pos]`\n",
      "  true_label = row[-1]\n"
     ]
    },
    {
     "data": {
      "image/png": "[encoded data removed]",
      "text/plain": [
       "<Figure size 1000x500 with 3 Axes>"
      ]
     },
     "metadata": {},
     "output_type": "display_data"
    }
   ],
   "source": [
    "# Example: Show 3 correct predictions\n",
    "print(\"Examples of Correct Predictions:\")\n",
    "display_examples(train_df, model, correct=True, num_examples=3)\n",
    "plt.show()"
   ]
  },
  {
   "cell_type": "code",
   "execution_count": 101,
   "id": "eb4bfd43-bb28-49a7-a7bc-1d4e9a8c65a2",
   "metadata": {},
   "outputs": [
    {
     "name": "stderr",
     "output_type": "stream",
     "text": [
      "/var/folders/83/s01xl68d2q3gdtkbr5ptq6nc0000gn/T/ipykernel_86193/3303586380.py:11: FutureWarning: Series.__getitem__ treating keys as positions is deprecated. In a future version, integer keys will always be treated as labels (consistent with DataFrame behavior). To access a value by position, use `ser.iloc[pos]`\n",
      "  true_label = row[-1]\n"
     ]
    },
    {
     "name": "stdout",
     "output_type": "stream",
     "text": [
      "Examples of Incorrect Predictions:\n",
      "Logits: [[-15.480682  -14.565821  -24.55399   -20.642551  -22.401423   -1.4179002\n",
      "  -19.270473    3.8006167 -11.990643    9.826297 ]]\n",
      "Softmax Probabilities: [[1.01921206e-11 2.54439629e-11 1.16890007e-15 5.84108161e-14\n",
      "  1.00606525e-14 1.30512981e-05 2.30345230e-13 2.41005397e-03\n",
      "  3.34171635e-10 9.97576892e-01]]\n",
      "Correct Label: 9.0\n",
      "Predicted Label: 9\n",
      "Logits: [[ 11.1769085 -14.24843    -1.6095997  -3.6605494 -14.698705  -18.42737\n",
      "    3.8399918 -22.929718  -10.546748  -21.935478 ]]\n",
      "Softmax Probabilities: [[9.9934632e-01 9.0705100e-12 2.7964425e-06 3.5965826e-07 5.7820198e-12\n",
      "  1.3891245e-13 6.5062911e-04 1.5395561e-15 3.6749565e-10 4.1609104e-15]]\n",
      "Correct Label: 0.0\n",
      "Predicted Label: 0\n",
      "Logits: [[  1.0908067  -2.4714038  -3.9723256   0.6359618  -3.2482586 -11.146705\n",
      "    0.5984504 -12.263499  -10.3527775  -9.542503 ]]\n",
      "Softmax Probabilities: [[4.3601048e-01 1.2372246e-02 2.7580778e-03 2.7666885e-01 5.6893770e-03\n",
      "  2.1125800e-06 2.6648286e-01 6.9150514e-07 4.6731675e-06 1.0507731e-05]]\n",
      "Correct Label: 0.0\n",
      "Predicted Label: 0\n",
      "Logits: [[  0.3409893  -4.004083   -5.016337    4.5891557  -7.7438087 -13.414748\n",
      "    1.2324407 -12.745349   -7.9465275 -11.96421  ]]\n",
      "Softmax Probabilities: [[1.36176869e-02 1.76629183e-04 6.41868755e-05 9.52924848e-01\n",
      "  4.19682146e-06 1.44564725e-08 3.32090072e-02 2.82344121e-08\n",
      "  3.42673752e-06 6.16628029e-08]]\n",
      "Correct Label: 3.0\n",
      "Predicted Label: 3\n",
      "Logits: [[  1.3593546    0.48814273  -6.1954045    3.043786    -7.026831\n",
      "  -17.70509      1.3406967  -18.192348   -10.750383   -13.219895  ]]\n",
      "Softmax Probabilities: [[1.2836802e-01 5.3714845e-02 6.7215035e-05 6.9182479e-01 2.9267287e-05\n",
      "  6.7433292e-10 1.2599514e-01 4.1424805e-10 7.0674781e-07 5.9809338e-08]]\n",
      "Correct Label: 0.0\n",
      "Predicted Label: 3\n",
      "Logits: [[ -2.2588582  -10.935259     7.7958856   -8.522887    -0.45249602\n",
      "  -17.790594    -0.25318015 -12.981481    -9.687093   -14.210361  ]]\n",
      "Softmax Probabilities: [[4.2954558e-05 7.3265003e-09 9.9937624e-01 8.1766579e-08 2.6151849e-04\n",
      "  7.7207997e-12 3.1920100e-04 9.4674579e-10 2.5525120e-08 2.7703687e-10]]\n",
      "Correct Label: 2.0\n",
      "Predicted Label: 2\n",
      "Logits: [[-10.44166   -11.961269  -10.448487   -9.973925  -10.283936    0.8350768\n",
      "  -10.012801    4.1321115  -3.3148625   0.6792434]]\n",
      "Softmax Probabilities: [[4.3814597e-07 9.5865261e-08 4.3516479e-07 6.9944525e-07 5.1300037e-07\n",
      "  3.4597393e-02 6.7277495e-07 9.3524927e-01 5.4544100e-04 2.9605046e-02]]\n",
      "Correct Label: 7.0\n",
      "Predicted Label: 7\n",
      "Logits: [[ -4.6221557 -12.514807    4.2961445 -12.022474    6.349367  -28.792181\n",
      "    1.5495273 -17.801811   -6.8985357 -11.583236 ]]\n",
      "Softmax Probabilities: [[1.5119294e-05 5.6467284e-09 1.1290165e-01 9.2387706e-09 8.7983966e-01\n",
      "  4.8152971e-16 7.2420170e-03 2.8554862e-11 1.5520740e-06 1.4334200e-08]]\n",
      "Correct Label: 2.0\n",
      "Predicted Label: 4\n",
      "Logits: [[ -5.6104794 -12.420038  -12.246608  -12.545519  -12.862257    9.118789\n",
      "  -10.2201395  -3.3268077 -13.600213   -1.853353 ]]\n",
      "Softmax Probabilities: [[4.0100596e-07 4.4238196e-10 5.2615889e-10 3.9021308e-10 2.8427863e-10\n",
      "  9.9997854e-01 3.9920951e-09 3.9349270e-06 1.3591069e-10 1.7173161e-05]]\n",
      "Correct Label: 5.0\n",
      "Predicted Label: 5\n",
      "Logits: [[-12.594272  -19.73522   -19.062164  -21.872158  -20.499975   15.467273\n",
      "  -13.8387165  -9.857944  -13.34125    -9.025948 ]]\n",
      "Softmax Probabilities: [[6.5016878e-13 5.1493462e-16 1.0093822e-15 6.0770220e-17 2.3967520e-16\n",
      "  1.0000000e+00 1.8731433e-13 1.0032249e-11 3.0804726e-13 2.3053091e-11]]\n",
      "Correct Label: 5.0\n",
      "Predicted Label: 5\n",
      "Logits: [[  7.3150163   -7.574109    -3.5269537    0.47514096 -11.999554\n",
      "  -12.158414     4.5277762  -18.768513   -10.456594   -16.573263  ]]\n",
      "Softmax Probabilities: [[9.4101602e-01 3.2161168e-07 1.8407256e-05 1.0071101e-03 3.8493382e-09\n",
      "  3.2839274e-09 5.7958089e-02 4.4224663e-12 1.8008798e-08 3.9723662e-11]]\n",
      "Correct Label: 0.0\n",
      "Predicted Label: 0\n",
      "Logits: [[-11.067251   -8.418146  -20.575966  -15.485073  -19.56622    -1.5768505\n",
      "  -16.067556   -5.855411  -18.614273    6.840022 ]]\n",
      "Softmax Probabilities: [[1.6706018e-08 2.3624588e-07 1.2396236e-12 2.0148209e-10 3.4026493e-12\n",
      "  2.2105535e-04 1.1252992e-10 3.0644051e-06 8.8154033e-12 9.9977559e-01]]\n",
      "Correct Label: 9.0\n",
      "Predicted Label: 9\n",
      "Logits: [[ -6.1128635 -10.12558    -8.082213  -10.55101    -8.189167    5.981825\n",
      "   -6.218835   -2.8509967  -7.343935   -3.7120872]]\n",
      "Softmax Probabilities: [[5.5878836e-06 1.0105245e-07 7.7977558e-07 6.6036620e-08 7.0068086e-07\n",
      "  9.9977857e-01 5.0260246e-06 1.4583374e-04 1.6315479e-06 6.1644045e-05]]\n",
      "Correct Label: 5.0\n",
      "Predicted Label: 5\n",
      "Logits: [[ -8.469931   -10.493639    -6.8690505   -7.006095    -7.4446187\n",
      "    4.7989445   -5.3649597   -0.21515003  -1.0395299   -7.7404137 ]]\n",
      "Softmax Probabilities: [[1.7109684e-06 2.2612919e-07 8.4819394e-06 7.3956744e-06 4.7701224e-06\n",
      "  9.9046981e-01 3.8169259e-05 6.5803309e-03 2.8855200e-03 3.5486830e-06]]\n",
      "Correct Label: 5.0\n",
      "Predicted Label: 5\n",
      "Logits: [[-7.328767  -6.4930944 -8.275252  -5.6666303 -9.447469  -0.9145413\n",
      "  -7.421991   5.5178947 -4.8451285 -0.3913961]]\n",
      "Softmax Probabilities: [[2.6234179e-06 6.0505572e-06 1.0181553e-06 1.3826887e-05 3.1530212e-07\n",
      "  1.6015122e-03 2.3899047e-06 9.9563855e-01 3.1441094e-05 2.7022734e-03]]\n",
      "Correct Label: 7.0\n",
      "Predicted Label: 7\n",
      "Logits: [[-13.947926  -13.181589  -25.603237  -23.195839  -23.07142     1.9258001\n",
      "  -18.694687    3.513771  -15.109278   10.974794 ]]\n",
      "Softmax Probabilities: [[1.4993382e-11 3.2263778e-11 1.3003529e-16 1.4440514e-15 1.6353698e-15\n",
      "  1.1742785e-04 1.3013896e-13 5.7466934e-04 4.6938664e-12 9.9930787e-01]]\n",
      "Correct Label: 9.0\n",
      "Predicted Label: 9\n",
      "Logits: [[ -0.7800212  11.139047   -2.8702576  -2.6588469  -6.1015515 -15.305167\n",
      "   -2.445845  -18.093266  -11.1084    -15.30108  ]]\n",
      "Softmax Probabilities: [[6.6620901e-06 9.9999011e-01 8.2381990e-07 1.0177630e-06 3.2546090e-08\n",
      "  3.2765706e-12 1.2593671e-06 2.0163421e-13 2.1779696e-10 3.2899909e-12]]\n",
      "Correct Label: 1.0\n",
      "Predicted Label: 1\n",
      "Logits: [[  5.7233424   -9.278667    -0.16721836   0.25566128  -6.175231\n",
      "  -15.202485     3.3885536  -13.884192    -6.3623943  -13.708284  ]]\n",
      "Softmax Probabilities: [[9.0593654e-01 2.7657151e-07 2.5053003e-03 3.8239667e-03 6.1604610e-06\n",
      "  7.3982087e-10 8.7722681e-02 2.7647367e-09 5.1089164e-06 3.2964711e-09]]\n",
      "Correct Label: 0.0\n",
      "Predicted Label: 0\n",
      "Logits: [[ -3.1521773 -12.031474    3.0173364  -5.198594    1.644617  -17.144262\n",
      "    5.5836053 -17.39103    -2.501552  -16.80831  ]]\n",
      "Softmax Probabilities: [[1.4654758e-04 2.0405576e-08 7.0042945e-02 1.8933501e-05 1.7750066e-02\n",
      "  1.2282692e-10 9.1176063e-01 9.5967456e-11 2.8089344e-04 1.7186838e-10]]\n",
      "Correct Label: 6.0\n",
      "Predicted Label: 6\n",
      "Logits: [[-3.1807537  -4.1026783  -0.31496397 -1.417904    3.6253486  -7.131813\n",
      "   1.71534    -9.325704   -3.674466   -8.40139   ]]\n",
      "Softmax Probabilities: [[9.4114442e-04 3.7434284e-04 1.6529242e-02 5.4859547e-03 8.5017622e-01\n",
      "  1.8102261e-05 1.2589335e-01 2.0180812e-06 5.7443371e-04 5.0858380e-06]]\n",
      "Correct Label: 4.0\n",
      "Predicted Label: 4\n",
      "Logits: [[ -0.36908194  -6.8230247   -3.8641036    6.7097535   -7.6633897\n",
      "  -16.010025     0.37109107 -13.1473875   -6.782286    -8.760237  ]]\n",
      "Softmax Probabilities: [[8.4053620e-04 1.3232591e-06 2.5508665e-05 9.9736845e-01 5.7105615e-07\n",
      "  1.3545075e-10 1.7620143e-03 2.3714208e-09 1.3782793e-06 1.9068847e-07]]\n",
      "Correct Label: 3.0\n",
      "Predicted Label: 3\n",
      "Logits: [[ -2.743976    3.103048   -2.9483418   0.5196073  -2.6428947 -13.963531\n",
      "   -1.4181167 -14.640387  -10.732366  -14.74854  ]]\n",
      "Softmax Probabilities: [[2.6382934e-03 9.1338390e-01 2.1506425e-03 6.8973020e-02 2.9189186e-03\n",
      "  3.5377955e-08 9.9342801e-03 1.7979495e-08 8.9538423e-07 1.6136431e-08]]\n",
      "Correct Label: 1.0\n",
      "Predicted Label: 1\n",
      "Logits: [[ -4.2836986   -6.1776023   -0.21932974  -2.1022313    2.3989797\n",
      "  -14.409242    -1.5736285  -11.772716    -3.191857   -15.107511  ]]\n",
      "Softmax Probabilities: [[1.1303225e-03 1.7009456e-04 6.5816574e-02 1.0013859e-02 9.0251130e-01\n",
      "  4.5262095e-08 1.6989119e-02 6.3206738e-07 3.3680862e-03 2.2515435e-08]]\n",
      "Correct Label: 4.0\n",
      "Predicted Label: 4\n",
      "Logits: [[ -2.8128724  -6.5613594  -6.693961  -12.892794   -5.628175   -4.7289443\n",
      "   -2.9488642  -6.61762    14.345016   -4.270999 ]]\n",
      "Softmax Probabilities: [[3.5352794e-08 8.3267654e-10 7.2927031e-10 1.4817338e-12 2.1171600e-09\n",
      "  5.2033702e-09 3.0857670e-08 7.8712420e-10 1.0000000e+00 8.2256006e-09]]\n",
      "Correct Label: 8.0\n",
      "Predicted Label: 8\n",
      "Logits: [[ -6.2536016 -11.090964    5.9192524  -7.0111327   4.673892  -23.223022\n",
      "    2.4092772 -20.291002   -6.247628  -20.713028 ]]\n",
      "Softmax Probabilities: [[3.9225156e-06 3.1097461e-08 7.5887066e-01 1.8389616e-06 2.1843116e-01\n",
      "  1.6743205e-13 2.2688454e-02 3.1419468e-12 3.9460142e-06 2.0602285e-12]]\n",
      "Correct Label: 4.0\n",
      "Predicted Label: 2\n"
     ]
    },
    {
     "data": {
      "image/png": "[encoded data removed]",
      "text/plain": [
       "<Figure size 1000x500 with 3 Axes>"
      ]
     },
     "metadata": {},
     "output_type": "display_data"
    }
   ],
   "source": [
    "# Example: Show 3 incorrect predictions\n",
    "print(\"Examples of Incorrect Predictions:\")\n",
    "display_examples(train_df, model, correct=False, num_examples=3)\n",
    "plt.show()"
   ]
  },
  {
   "cell_type": "code",
   "execution_count": null,
   "id": "34d5a1dd-084d-4245-84ed-a32898f82d03",
   "metadata": {},
   "outputs": [],
   "source": []
  }
 ],
 "metadata": {
  "kernelspec": {
   "display_name": "Python 3 (ipykernel)",
   "language": "python",
   "name": "python3"
  },
  "language_info": {
   "codemirror_mode": {
    "name": "ipython",
    "version": 3
   },
   "file_extension": ".py",
   "mimetype": "text/x-python",
   "name": "python",
   "nbconvert_exporter": "python",
   "pygments_lexer": "ipython3",
   "version": "3.9.6"
  }
 },
 "nbformat": 4,
 "nbformat_minor": 5
}
